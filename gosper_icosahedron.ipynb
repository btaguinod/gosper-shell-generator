{
 "cells": [
  {
   "cell_type": "code",
   "execution_count": 45,
   "metadata": {},
   "outputs": [],
   "source": [
    "import plotly.express as px\n",
    "import plotly.graph_objs as go\n",
    "\n",
    "import numpy as np\n"
   ]
  },
  {
   "cell_type": "code",
   "execution_count": 46,
   "metadata": {},
   "outputs": [],
   "source": [
    "TRIANGLE_LENGTH = 7\n",
    "\n",
    "# triangle length must be odd so edges can connect\n",
    "assert TRIANGLE_LENGTH % 2 == 1 and TRIANGLE_LENGTH >= 5"
   ]
  },
  {
   "cell_type": "code",
   "execution_count": 47,
   "metadata": {},
   "outputs": [],
   "source": [
    "# HELPER FUNCTIONS FOR VISUALIZATION\n",
    "def show_2d_points(points, lines = []):\n",
    "    x_points = [p[0] for p in points]\n",
    "    y_points = [p[1] for p in points]\n",
    "    dot_fig = px.scatter(x=x_points, y=y_points, text=range(len(points)))\n",
    "    line_figs = []\n",
    "    for line in lines:\n",
    "        x_lines = [points[i][0] for i in line]\n",
    "        y_lines = [points[i][1] for i in line]\n",
    "        line_figs.append(px.line(x=x_lines, y=y_lines))\n",
    "    fig = go.Figure(data = sum([x.data for x in [dot_fig] + line_figs], ()))\n",
    "    fig.update_yaxes(scaleanchor='x', scaleratio=1)\n",
    "    fig.update_traces(textposition='top center')\n",
    "    fig.update_layout(\n",
    "        width=500,\n",
    "        height=500,\n",
    "    )\n",
    "\n",
    "    fig.show()\n",
    "\n",
    "def show_3d_points(points, lines = [], point_labels = True):\n",
    "    x_points = [p[0] for p in points]\n",
    "    y_points = [p[1] for p in points]\n",
    "    z_points = [p[2] for p in points]\n",
    "    dot_fig = px.scatter_3d(x=x_points, y=y_points, z=z_points)\n",
    "    if point_labels:\n",
    "        dot_fig = px.scatter_3d(x=x_points, y=y_points, z=z_points, text=range(len(points)))\n",
    "        \n",
    "    line_figs = []\n",
    "    for line in lines:\n",
    "        x_lines = [points[i][0] for i in line]\n",
    "        y_lines = [points[i][1] for i in line]\n",
    "        z_lines = [points[i][2] for i in line]\n",
    "        line_figs.append(px.line_3d(x=x_lines, y=y_lines, z=z_lines))\n",
    "    fig = go.Figure(data = sum([x.data for x in [dot_fig] + line_figs], ()))\n",
    "    marker_size = 2 if point_labels else 1\n",
    "    fig.update_traces(marker_size = marker_size)\n",
    "    \n",
    "    fig.update_layout(\n",
    "        width=750,\n",
    "        height=750,\n",
    "    )\n",
    "    fig.show()"
   ]
  },
  {
   "cell_type": "code",
   "execution_count": 48,
   "metadata": {},
   "outputs": [],
   "source": [
    "# Qingsong's Hamiltonian Path Generator\n",
    "\n",
    "# get angle of <ABC\n",
    "def get_angle(p1, base, p2):\n",
    "    p1, base, p2 = np.array(p1), np.array(base), np.array(p2)\n",
    "    a = p1 - base\n",
    "    b = p2 - base\n",
    "    return np.arccos(np.round(np.dot(a, b)/(np.linalg.norm(a)*np.linalg.norm(b)), 5))\n",
    "\n",
    "def three_points_is_straight(p1, base, p2):\n",
    "    return np.round(get_angle(p1, base, p2), 5) == np.round(np.pi, 5)\n",
    "\n",
    "def is_straight(*coords):\n",
    "    assert len(coords) >= 3\n",
    "    for i in range(len(coords) - 2):\n",
    "        if not three_points_is_straight(*coords[i:i + 3]):\n",
    "            return False\n",
    "    return True\n",
    "    \n",
    "\n",
    "class Graph:\n",
    " \n",
    "    def __init__(self, edges, n): \n",
    "        # n is the number of vertices\n",
    "        # edges is an array of tuples, e.g. [(0, 1), (0, 2)] means there is an edge between 0 and 1 and an edge between 0 and 2\n",
    "\n",
    "        \n",
    "        # A 2D array to represent all undirected edges by storing two directed edges for each edge\n",
    "        self.directed_graph = [[] for _ in range(n)]\n",
    "        self.n = n\n",
    "        for (a, b) in edges:\n",
    "            self.directed_graph[a].append(b) # a connected to b\n",
    "            self.directed_graph[b].append(a) # b connected to a\n",
    "\n",
    "def find_all_hamiltonian_paths(graph, start, end, coords, excluded_points = [], max_paths = 5): # undirected_graph\n",
    "    n = graph.n\n",
    "        \n",
    "    # keep track of visted vertices\n",
    "    visited = [False] * n\n",
    "\n",
    "    # path starts from v\n",
    "    path = [start]\n",
    "\n",
    "    # mark v as visited\n",
    "    visited[start] = True\n",
    "    \n",
    "    paths_found = 0\n",
    "    \n",
    "    def hamiltonian(v): # find next vertex to visit, starting from v\n",
    "        nonlocal paths_found\n",
    "        n = graph.n\n",
    "        paths = []\n",
    "        if paths_found >= max_paths:\n",
    "            return paths\n",
    "\n",
    "        # Hamiltonian path exists if all vertices are added to the path\n",
    "        if len(path) == n - 1 - len(excluded_points):\n",
    "            if end in graph.directed_graph[v]:# reaches end\n",
    "                paths.append(path + [end]) # note: + operator creates a copy of path\n",
    "                show_2d_points(coords, [path + [end]])\n",
    "                paths_found += 1\n",
    "            return paths\n",
    "        \n",
    "        # else\n",
    "        for next_v in graph.directed_graph[v]: # check each edge starting from v\n",
    "            if next_v == end or next_v in excluded_points:\n",
    "                continue\n",
    "            \n",
    "            pre_path_coords = [coords[i] for i in path[-3:]] + [coords[next_v]]\n",
    "\n",
    "            if len(pre_path_coords) >= 3 and is_straight(*pre_path_coords):\n",
    "                continue\n",
    "\n",
    "    \n",
    "            # if next_v is a new vertex, add next_v to path and run hamiltonian again\n",
    "            if not visited[next_v]:\n",
    "                path.append(next_v)\n",
    "                visited[next_v] = True\n",
    "                paths += hamiltonian(next_v)\n",
    "                # If a valid hamiltonian path is found, it will print the path and return\n",
    "                # If there's no valid solution, it will simply return with no printed message\n",
    "                # Then we need to explore other possible solutions using backtracking\n",
    "                # mark next_v as not visited and continue the for loop\n",
    "                visited[next_v] = False\n",
    "                path.pop()\n",
    "        \n",
    "        return paths\n",
    "\n",
    "    return hamiltonian(start)"
   ]
  },
  {
   "cell_type": "code",
   "execution_count": 49,
   "metadata": {},
   "outputs": [],
   "source": [
    "# misc helper functions\n",
    "\n",
    "def combine_edges(edges):\n",
    "    merged_this_loop = True\n",
    "    while merged_this_loop:\n",
    "        new_edges = []\n",
    "        merged_this_loop = False\n",
    "        for edge in edges:\n",
    "            found_matching = False\n",
    "            for i, new_edge in enumerate(new_edges):\n",
    "                if new_edge[0] == new_edge[-1]:\n",
    "                    continue\n",
    "                found_matching = True\n",
    "                if edge[0] == new_edge[-1]:\n",
    "                    new_edges[i] = new_edges[i] + edge[1:]\n",
    "                elif edge[-1] == new_edge[0]:\n",
    "                    new_edges[i] = edge[:-1] + new_edges[i]\n",
    "                elif edge[0] == new_edge[0]:\n",
    "                    new_edges[i] = edge[1:][::-1] + new_edges[i]\n",
    "                elif edge[-1] == new_edge[-1]:\n",
    "                    new_edges[i] = new_edges[i] + edge[:-1][::-1]\n",
    "                else:\n",
    "                    found_matching = False\n",
    "                    merged_this_loop = True\n",
    "                if found_matching == True:\n",
    "                    break\n",
    "            if not found_matching:\n",
    "                new_edges.append(edge)\n",
    "        if len(new_edges) == 1:\n",
    "            break\n",
    "        edges = [x.copy() for x in new_edges]\n",
    "    return new_edges"
   ]
  },
  {
   "cell_type": "code",
   "execution_count": 50,
   "metadata": {},
   "outputs": [
    {
     "data": {
      "application/vnd.plotly.v1+json": {
       "config": {
        "plotlyServerURL": "https://plot.ly"
       },
       "data": [
        {
         "hovertemplate": "x=%{x}<br>y=%{y}<br>text=%{text}<extra></extra>",
         "legendgroup": "",
         "marker": {
          "color": "#636efa",
          "symbol": "circle"
         },
         "mode": "markers+text",
         "name": "",
         "orientation": "v",
         "showlegend": false,
         "text": [
          0,
          1,
          2
         ],
         "textposition": "top center",
         "type": "scatter",
         "x": [
          -0.8660254037844386,
          0.8660254037844386,
          0
         ],
         "xaxis": "x",
         "y": [
          0.5,
          0.5,
          -1
         ],
         "yaxis": "y"
        }
       ],
       "layout": {
        "height": 500,
        "template": {
         "data": {
          "bar": [
           {
            "error_x": {
             "color": "#2a3f5f"
            },
            "error_y": {
             "color": "#2a3f5f"
            },
            "marker": {
             "line": {
              "color": "#E5ECF6",
              "width": 0.5
             },
             "pattern": {
              "fillmode": "overlay",
              "size": 10,
              "solidity": 0.2
             }
            },
            "type": "bar"
           }
          ],
          "barpolar": [
           {
            "marker": {
             "line": {
              "color": "#E5ECF6",
              "width": 0.5
             },
             "pattern": {
              "fillmode": "overlay",
              "size": 10,
              "solidity": 0.2
             }
            },
            "type": "barpolar"
           }
          ],
          "carpet": [
           {
            "aaxis": {
             "endlinecolor": "#2a3f5f",
             "gridcolor": "white",
             "linecolor": "white",
             "minorgridcolor": "white",
             "startlinecolor": "#2a3f5f"
            },
            "baxis": {
             "endlinecolor": "#2a3f5f",
             "gridcolor": "white",
             "linecolor": "white",
             "minorgridcolor": "white",
             "startlinecolor": "#2a3f5f"
            },
            "type": "carpet"
           }
          ],
          "choropleth": [
           {
            "colorbar": {
             "outlinewidth": 0,
             "ticks": ""
            },
            "type": "choropleth"
           }
          ],
          "contour": [
           {
            "colorbar": {
             "outlinewidth": 0,
             "ticks": ""
            },
            "colorscale": [
             [
              0,
              "#0d0887"
             ],
             [
              0.1111111111111111,
              "#46039f"
             ],
             [
              0.2222222222222222,
              "#7201a8"
             ],
             [
              0.3333333333333333,
              "#9c179e"
             ],
             [
              0.4444444444444444,
              "#bd3786"
             ],
             [
              0.5555555555555556,
              "#d8576b"
             ],
             [
              0.6666666666666666,
              "#ed7953"
             ],
             [
              0.7777777777777778,
              "#fb9f3a"
             ],
             [
              0.8888888888888888,
              "#fdca26"
             ],
             [
              1,
              "#f0f921"
             ]
            ],
            "type": "contour"
           }
          ],
          "contourcarpet": [
           {
            "colorbar": {
             "outlinewidth": 0,
             "ticks": ""
            },
            "type": "contourcarpet"
           }
          ],
          "heatmap": [
           {
            "colorbar": {
             "outlinewidth": 0,
             "ticks": ""
            },
            "colorscale": [
             [
              0,
              "#0d0887"
             ],
             [
              0.1111111111111111,
              "#46039f"
             ],
             [
              0.2222222222222222,
              "#7201a8"
             ],
             [
              0.3333333333333333,
              "#9c179e"
             ],
             [
              0.4444444444444444,
              "#bd3786"
             ],
             [
              0.5555555555555556,
              "#d8576b"
             ],
             [
              0.6666666666666666,
              "#ed7953"
             ],
             [
              0.7777777777777778,
              "#fb9f3a"
             ],
             [
              0.8888888888888888,
              "#fdca26"
             ],
             [
              1,
              "#f0f921"
             ]
            ],
            "type": "heatmap"
           }
          ],
          "heatmapgl": [
           {
            "colorbar": {
             "outlinewidth": 0,
             "ticks": ""
            },
            "colorscale": [
             [
              0,
              "#0d0887"
             ],
             [
              0.1111111111111111,
              "#46039f"
             ],
             [
              0.2222222222222222,
              "#7201a8"
             ],
             [
              0.3333333333333333,
              "#9c179e"
             ],
             [
              0.4444444444444444,
              "#bd3786"
             ],
             [
              0.5555555555555556,
              "#d8576b"
             ],
             [
              0.6666666666666666,
              "#ed7953"
             ],
             [
              0.7777777777777778,
              "#fb9f3a"
             ],
             [
              0.8888888888888888,
              "#fdca26"
             ],
             [
              1,
              "#f0f921"
             ]
            ],
            "type": "heatmapgl"
           }
          ],
          "histogram": [
           {
            "marker": {
             "pattern": {
              "fillmode": "overlay",
              "size": 10,
              "solidity": 0.2
             }
            },
            "type": "histogram"
           }
          ],
          "histogram2d": [
           {
            "colorbar": {
             "outlinewidth": 0,
             "ticks": ""
            },
            "colorscale": [
             [
              0,
              "#0d0887"
             ],
             [
              0.1111111111111111,
              "#46039f"
             ],
             [
              0.2222222222222222,
              "#7201a8"
             ],
             [
              0.3333333333333333,
              "#9c179e"
             ],
             [
              0.4444444444444444,
              "#bd3786"
             ],
             [
              0.5555555555555556,
              "#d8576b"
             ],
             [
              0.6666666666666666,
              "#ed7953"
             ],
             [
              0.7777777777777778,
              "#fb9f3a"
             ],
             [
              0.8888888888888888,
              "#fdca26"
             ],
             [
              1,
              "#f0f921"
             ]
            ],
            "type": "histogram2d"
           }
          ],
          "histogram2dcontour": [
           {
            "colorbar": {
             "outlinewidth": 0,
             "ticks": ""
            },
            "colorscale": [
             [
              0,
              "#0d0887"
             ],
             [
              0.1111111111111111,
              "#46039f"
             ],
             [
              0.2222222222222222,
              "#7201a8"
             ],
             [
              0.3333333333333333,
              "#9c179e"
             ],
             [
              0.4444444444444444,
              "#bd3786"
             ],
             [
              0.5555555555555556,
              "#d8576b"
             ],
             [
              0.6666666666666666,
              "#ed7953"
             ],
             [
              0.7777777777777778,
              "#fb9f3a"
             ],
             [
              0.8888888888888888,
              "#fdca26"
             ],
             [
              1,
              "#f0f921"
             ]
            ],
            "type": "histogram2dcontour"
           }
          ],
          "mesh3d": [
           {
            "colorbar": {
             "outlinewidth": 0,
             "ticks": ""
            },
            "type": "mesh3d"
           }
          ],
          "parcoords": [
           {
            "line": {
             "colorbar": {
              "outlinewidth": 0,
              "ticks": ""
             }
            },
            "type": "parcoords"
           }
          ],
          "pie": [
           {
            "automargin": true,
            "type": "pie"
           }
          ],
          "scatter": [
           {
            "fillpattern": {
             "fillmode": "overlay",
             "size": 10,
             "solidity": 0.2
            },
            "type": "scatter"
           }
          ],
          "scatter3d": [
           {
            "line": {
             "colorbar": {
              "outlinewidth": 0,
              "ticks": ""
             }
            },
            "marker": {
             "colorbar": {
              "outlinewidth": 0,
              "ticks": ""
             }
            },
            "type": "scatter3d"
           }
          ],
          "scattercarpet": [
           {
            "marker": {
             "colorbar": {
              "outlinewidth": 0,
              "ticks": ""
             }
            },
            "type": "scattercarpet"
           }
          ],
          "scattergeo": [
           {
            "marker": {
             "colorbar": {
              "outlinewidth": 0,
              "ticks": ""
             }
            },
            "type": "scattergeo"
           }
          ],
          "scattergl": [
           {
            "marker": {
             "colorbar": {
              "outlinewidth": 0,
              "ticks": ""
             }
            },
            "type": "scattergl"
           }
          ],
          "scattermapbox": [
           {
            "marker": {
             "colorbar": {
              "outlinewidth": 0,
              "ticks": ""
             }
            },
            "type": "scattermapbox"
           }
          ],
          "scatterpolar": [
           {
            "marker": {
             "colorbar": {
              "outlinewidth": 0,
              "ticks": ""
             }
            },
            "type": "scatterpolar"
           }
          ],
          "scatterpolargl": [
           {
            "marker": {
             "colorbar": {
              "outlinewidth": 0,
              "ticks": ""
             }
            },
            "type": "scatterpolargl"
           }
          ],
          "scatterternary": [
           {
            "marker": {
             "colorbar": {
              "outlinewidth": 0,
              "ticks": ""
             }
            },
            "type": "scatterternary"
           }
          ],
          "surface": [
           {
            "colorbar": {
             "outlinewidth": 0,
             "ticks": ""
            },
            "colorscale": [
             [
              0,
              "#0d0887"
             ],
             [
              0.1111111111111111,
              "#46039f"
             ],
             [
              0.2222222222222222,
              "#7201a8"
             ],
             [
              0.3333333333333333,
              "#9c179e"
             ],
             [
              0.4444444444444444,
              "#bd3786"
             ],
             [
              0.5555555555555556,
              "#d8576b"
             ],
             [
              0.6666666666666666,
              "#ed7953"
             ],
             [
              0.7777777777777778,
              "#fb9f3a"
             ],
             [
              0.8888888888888888,
              "#fdca26"
             ],
             [
              1,
              "#f0f921"
             ]
            ],
            "type": "surface"
           }
          ],
          "table": [
           {
            "cells": {
             "fill": {
              "color": "#EBF0F8"
             },
             "line": {
              "color": "white"
             }
            },
            "header": {
             "fill": {
              "color": "#C8D4E3"
             },
             "line": {
              "color": "white"
             }
            },
            "type": "table"
           }
          ]
         },
         "layout": {
          "annotationdefaults": {
           "arrowcolor": "#2a3f5f",
           "arrowhead": 0,
           "arrowwidth": 1
          },
          "autotypenumbers": "strict",
          "coloraxis": {
           "colorbar": {
            "outlinewidth": 0,
            "ticks": ""
           }
          },
          "colorscale": {
           "diverging": [
            [
             0,
             "#8e0152"
            ],
            [
             0.1,
             "#c51b7d"
            ],
            [
             0.2,
             "#de77ae"
            ],
            [
             0.3,
             "#f1b6da"
            ],
            [
             0.4,
             "#fde0ef"
            ],
            [
             0.5,
             "#f7f7f7"
            ],
            [
             0.6,
             "#e6f5d0"
            ],
            [
             0.7,
             "#b8e186"
            ],
            [
             0.8,
             "#7fbc41"
            ],
            [
             0.9,
             "#4d9221"
            ],
            [
             1,
             "#276419"
            ]
           ],
           "sequential": [
            [
             0,
             "#0d0887"
            ],
            [
             0.1111111111111111,
             "#46039f"
            ],
            [
             0.2222222222222222,
             "#7201a8"
            ],
            [
             0.3333333333333333,
             "#9c179e"
            ],
            [
             0.4444444444444444,
             "#bd3786"
            ],
            [
             0.5555555555555556,
             "#d8576b"
            ],
            [
             0.6666666666666666,
             "#ed7953"
            ],
            [
             0.7777777777777778,
             "#fb9f3a"
            ],
            [
             0.8888888888888888,
             "#fdca26"
            ],
            [
             1,
             "#f0f921"
            ]
           ],
           "sequentialminus": [
            [
             0,
             "#0d0887"
            ],
            [
             0.1111111111111111,
             "#46039f"
            ],
            [
             0.2222222222222222,
             "#7201a8"
            ],
            [
             0.3333333333333333,
             "#9c179e"
            ],
            [
             0.4444444444444444,
             "#bd3786"
            ],
            [
             0.5555555555555556,
             "#d8576b"
            ],
            [
             0.6666666666666666,
             "#ed7953"
            ],
            [
             0.7777777777777778,
             "#fb9f3a"
            ],
            [
             0.8888888888888888,
             "#fdca26"
            ],
            [
             1,
             "#f0f921"
            ]
           ]
          },
          "colorway": [
           "#636efa",
           "#EF553B",
           "#00cc96",
           "#ab63fa",
           "#FFA15A",
           "#19d3f3",
           "#FF6692",
           "#B6E880",
           "#FF97FF",
           "#FECB52"
          ],
          "font": {
           "color": "#2a3f5f"
          },
          "geo": {
           "bgcolor": "white",
           "lakecolor": "white",
           "landcolor": "#E5ECF6",
           "showlakes": true,
           "showland": true,
           "subunitcolor": "white"
          },
          "hoverlabel": {
           "align": "left"
          },
          "hovermode": "closest",
          "mapbox": {
           "style": "light"
          },
          "paper_bgcolor": "white",
          "plot_bgcolor": "#E5ECF6",
          "polar": {
           "angularaxis": {
            "gridcolor": "white",
            "linecolor": "white",
            "ticks": ""
           },
           "bgcolor": "#E5ECF6",
           "radialaxis": {
            "gridcolor": "white",
            "linecolor": "white",
            "ticks": ""
           }
          },
          "scene": {
           "xaxis": {
            "backgroundcolor": "#E5ECF6",
            "gridcolor": "white",
            "gridwidth": 2,
            "linecolor": "white",
            "showbackground": true,
            "ticks": "",
            "zerolinecolor": "white"
           },
           "yaxis": {
            "backgroundcolor": "#E5ECF6",
            "gridcolor": "white",
            "gridwidth": 2,
            "linecolor": "white",
            "showbackground": true,
            "ticks": "",
            "zerolinecolor": "white"
           },
           "zaxis": {
            "backgroundcolor": "#E5ECF6",
            "gridcolor": "white",
            "gridwidth": 2,
            "linecolor": "white",
            "showbackground": true,
            "ticks": "",
            "zerolinecolor": "white"
           }
          },
          "shapedefaults": {
           "line": {
            "color": "#2a3f5f"
           }
          },
          "ternary": {
           "aaxis": {
            "gridcolor": "white",
            "linecolor": "white",
            "ticks": ""
           },
           "baxis": {
            "gridcolor": "white",
            "linecolor": "white",
            "ticks": ""
           },
           "bgcolor": "#E5ECF6",
           "caxis": {
            "gridcolor": "white",
            "linecolor": "white",
            "ticks": ""
           }
          },
          "title": {
           "x": 0.05
          },
          "xaxis": {
           "automargin": true,
           "gridcolor": "white",
           "linecolor": "white",
           "ticks": "",
           "title": {
            "standoff": 15
           },
           "zerolinecolor": "white",
           "zerolinewidth": 2
          },
          "yaxis": {
           "automargin": true,
           "gridcolor": "white",
           "linecolor": "white",
           "ticks": "",
           "title": {
            "standoff": 15
           },
           "zerolinecolor": "white",
           "zerolinewidth": 2
          }
         }
        },
        "width": 500,
        "yaxis": {
         "scaleanchor": "x",
         "scaleratio": 1
        }
       }
      }
     },
     "metadata": {},
     "output_type": "display_data"
    }
   ],
   "source": [
    "# Generate Base Triangle\n",
    "top_left_point = np.array([(3**(1/2))/2, 1/2])\n",
    "top_right_point = np.array([(-3**(1/2))/2, 1/2])\n",
    "bottom_point = np.array([0, -1])\n",
    "\n",
    "base_points = [top_right_point, top_left_point, bottom_point]\n",
    "\n",
    "show_2d_points(base_points)"
   ]
  },
  {
   "cell_type": "code",
   "execution_count": 51,
   "metadata": {},
   "outputs": [
    {
     "name": "stdout",
     "output_type": "stream",
     "text": [
      "[0, 7, 35]\n",
      "{(0, 7): [1, 2, 3, 4, 5, 6], (35, 0): [33, 30, 26, 21, 15, 8], (35, 7): [34, 32, 29, 25, 20, 14]}\n"
     ]
    },
    {
     "data": {
      "application/vnd.plotly.v1+json": {
       "config": {
        "plotlyServerURL": "https://plot.ly"
       },
       "data": [
        {
         "hovertemplate": "x=%{x}<br>y=%{y}<br>text=%{text}<extra></extra>",
         "legendgroup": "",
         "marker": {
          "color": "#636efa",
          "symbol": "circle"
         },
         "mode": "markers+text",
         "name": "",
         "orientation": "v",
         "showlegend": false,
         "text": [
          0,
          1,
          2,
          3,
          4,
          5,
          6,
          7,
          8,
          9,
          10,
          11,
          12,
          13,
          14,
          15,
          16,
          17,
          18,
          19,
          20,
          21,
          22,
          23,
          24,
          25,
          26,
          27,
          28,
          29,
          30,
          31,
          32,
          33,
          34,
          35
         ],
         "textposition": "top center",
         "type": "scatter",
         "x": [
          -0.8660254037844386,
          -0.618589574131742,
          -0.37115374447904514,
          -0.12371791482634842,
          0.12371791482634831,
          0.3711537444790451,
          0.6185895741317419,
          0.8660254037844386,
          -0.7423074889580902,
          -0.49487165930539334,
          -0.24743582965269673,
          0,
          0.24743582965269673,
          0.49487165930539345,
          0.7423074889580902,
          -0.6185895741317419,
          -0.37115374447904514,
          -0.12371791482634842,
          0.12371791482634836,
          0.37115374447904514,
          0.6185895741317419,
          -0.49487165930539345,
          -0.24743582965269673,
          0,
          0.24743582965269673,
          0.49487165930539345,
          -0.3711537444790451,
          -0.12371791482634836,
          0.12371791482634836,
          0.3711537444790451,
          -0.24743582965269673,
          0,
          0.24743582965269673,
          -0.12371791482634831,
          0.12371791482634831,
          0
         ],
         "xaxis": "x",
         "y": [
          0.5,
          0.5,
          0.5,
          0.5,
          0.5,
          0.5,
          0.5,
          0.5,
          0.2857142857142857,
          0.2857142857142857,
          0.2857142857142857,
          0.2857142857142857,
          0.2857142857142857,
          0.2857142857142857,
          0.2857142857142857,
          0.07142857142857145,
          0.07142857142857145,
          0.07142857142857145,
          0.07142857142857145,
          0.07142857142857145,
          0.07142857142857145,
          -0.1428571428571428,
          -0.1428571428571428,
          -0.1428571428571428,
          -0.1428571428571428,
          -0.1428571428571428,
          -0.3571428571428571,
          -0.3571428571428571,
          -0.3571428571428571,
          -0.3571428571428571,
          -0.5714285714285714,
          -0.5714285714285714,
          -0.5714285714285714,
          -0.7857142857142856,
          -0.7857142857142856,
          -1
         ],
         "yaxis": "y"
        }
       ],
       "layout": {
        "height": 500,
        "template": {
         "data": {
          "bar": [
           {
            "error_x": {
             "color": "#2a3f5f"
            },
            "error_y": {
             "color": "#2a3f5f"
            },
            "marker": {
             "line": {
              "color": "#E5ECF6",
              "width": 0.5
             },
             "pattern": {
              "fillmode": "overlay",
              "size": 10,
              "solidity": 0.2
             }
            },
            "type": "bar"
           }
          ],
          "barpolar": [
           {
            "marker": {
             "line": {
              "color": "#E5ECF6",
              "width": 0.5
             },
             "pattern": {
              "fillmode": "overlay",
              "size": 10,
              "solidity": 0.2
             }
            },
            "type": "barpolar"
           }
          ],
          "carpet": [
           {
            "aaxis": {
             "endlinecolor": "#2a3f5f",
             "gridcolor": "white",
             "linecolor": "white",
             "minorgridcolor": "white",
             "startlinecolor": "#2a3f5f"
            },
            "baxis": {
             "endlinecolor": "#2a3f5f",
             "gridcolor": "white",
             "linecolor": "white",
             "minorgridcolor": "white",
             "startlinecolor": "#2a3f5f"
            },
            "type": "carpet"
           }
          ],
          "choropleth": [
           {
            "colorbar": {
             "outlinewidth": 0,
             "ticks": ""
            },
            "type": "choropleth"
           }
          ],
          "contour": [
           {
            "colorbar": {
             "outlinewidth": 0,
             "ticks": ""
            },
            "colorscale": [
             [
              0,
              "#0d0887"
             ],
             [
              0.1111111111111111,
              "#46039f"
             ],
             [
              0.2222222222222222,
              "#7201a8"
             ],
             [
              0.3333333333333333,
              "#9c179e"
             ],
             [
              0.4444444444444444,
              "#bd3786"
             ],
             [
              0.5555555555555556,
              "#d8576b"
             ],
             [
              0.6666666666666666,
              "#ed7953"
             ],
             [
              0.7777777777777778,
              "#fb9f3a"
             ],
             [
              0.8888888888888888,
              "#fdca26"
             ],
             [
              1,
              "#f0f921"
             ]
            ],
            "type": "contour"
           }
          ],
          "contourcarpet": [
           {
            "colorbar": {
             "outlinewidth": 0,
             "ticks": ""
            },
            "type": "contourcarpet"
           }
          ],
          "heatmap": [
           {
            "colorbar": {
             "outlinewidth": 0,
             "ticks": ""
            },
            "colorscale": [
             [
              0,
              "#0d0887"
             ],
             [
              0.1111111111111111,
              "#46039f"
             ],
             [
              0.2222222222222222,
              "#7201a8"
             ],
             [
              0.3333333333333333,
              "#9c179e"
             ],
             [
              0.4444444444444444,
              "#bd3786"
             ],
             [
              0.5555555555555556,
              "#d8576b"
             ],
             [
              0.6666666666666666,
              "#ed7953"
             ],
             [
              0.7777777777777778,
              "#fb9f3a"
             ],
             [
              0.8888888888888888,
              "#fdca26"
             ],
             [
              1,
              "#f0f921"
             ]
            ],
            "type": "heatmap"
           }
          ],
          "heatmapgl": [
           {
            "colorbar": {
             "outlinewidth": 0,
             "ticks": ""
            },
            "colorscale": [
             [
              0,
              "#0d0887"
             ],
             [
              0.1111111111111111,
              "#46039f"
             ],
             [
              0.2222222222222222,
              "#7201a8"
             ],
             [
              0.3333333333333333,
              "#9c179e"
             ],
             [
              0.4444444444444444,
              "#bd3786"
             ],
             [
              0.5555555555555556,
              "#d8576b"
             ],
             [
              0.6666666666666666,
              "#ed7953"
             ],
             [
              0.7777777777777778,
              "#fb9f3a"
             ],
             [
              0.8888888888888888,
              "#fdca26"
             ],
             [
              1,
              "#f0f921"
             ]
            ],
            "type": "heatmapgl"
           }
          ],
          "histogram": [
           {
            "marker": {
             "pattern": {
              "fillmode": "overlay",
              "size": 10,
              "solidity": 0.2
             }
            },
            "type": "histogram"
           }
          ],
          "histogram2d": [
           {
            "colorbar": {
             "outlinewidth": 0,
             "ticks": ""
            },
            "colorscale": [
             [
              0,
              "#0d0887"
             ],
             [
              0.1111111111111111,
              "#46039f"
             ],
             [
              0.2222222222222222,
              "#7201a8"
             ],
             [
              0.3333333333333333,
              "#9c179e"
             ],
             [
              0.4444444444444444,
              "#bd3786"
             ],
             [
              0.5555555555555556,
              "#d8576b"
             ],
             [
              0.6666666666666666,
              "#ed7953"
             ],
             [
              0.7777777777777778,
              "#fb9f3a"
             ],
             [
              0.8888888888888888,
              "#fdca26"
             ],
             [
              1,
              "#f0f921"
             ]
            ],
            "type": "histogram2d"
           }
          ],
          "histogram2dcontour": [
           {
            "colorbar": {
             "outlinewidth": 0,
             "ticks": ""
            },
            "colorscale": [
             [
              0,
              "#0d0887"
             ],
             [
              0.1111111111111111,
              "#46039f"
             ],
             [
              0.2222222222222222,
              "#7201a8"
             ],
             [
              0.3333333333333333,
              "#9c179e"
             ],
             [
              0.4444444444444444,
              "#bd3786"
             ],
             [
              0.5555555555555556,
              "#d8576b"
             ],
             [
              0.6666666666666666,
              "#ed7953"
             ],
             [
              0.7777777777777778,
              "#fb9f3a"
             ],
             [
              0.8888888888888888,
              "#fdca26"
             ],
             [
              1,
              "#f0f921"
             ]
            ],
            "type": "histogram2dcontour"
           }
          ],
          "mesh3d": [
           {
            "colorbar": {
             "outlinewidth": 0,
             "ticks": ""
            },
            "type": "mesh3d"
           }
          ],
          "parcoords": [
           {
            "line": {
             "colorbar": {
              "outlinewidth": 0,
              "ticks": ""
             }
            },
            "type": "parcoords"
           }
          ],
          "pie": [
           {
            "automargin": true,
            "type": "pie"
           }
          ],
          "scatter": [
           {
            "fillpattern": {
             "fillmode": "overlay",
             "size": 10,
             "solidity": 0.2
            },
            "type": "scatter"
           }
          ],
          "scatter3d": [
           {
            "line": {
             "colorbar": {
              "outlinewidth": 0,
              "ticks": ""
             }
            },
            "marker": {
             "colorbar": {
              "outlinewidth": 0,
              "ticks": ""
             }
            },
            "type": "scatter3d"
           }
          ],
          "scattercarpet": [
           {
            "marker": {
             "colorbar": {
              "outlinewidth": 0,
              "ticks": ""
             }
            },
            "type": "scattercarpet"
           }
          ],
          "scattergeo": [
           {
            "marker": {
             "colorbar": {
              "outlinewidth": 0,
              "ticks": ""
             }
            },
            "type": "scattergeo"
           }
          ],
          "scattergl": [
           {
            "marker": {
             "colorbar": {
              "outlinewidth": 0,
              "ticks": ""
             }
            },
            "type": "scattergl"
           }
          ],
          "scattermapbox": [
           {
            "marker": {
             "colorbar": {
              "outlinewidth": 0,
              "ticks": ""
             }
            },
            "type": "scattermapbox"
           }
          ],
          "scatterpolar": [
           {
            "marker": {
             "colorbar": {
              "outlinewidth": 0,
              "ticks": ""
             }
            },
            "type": "scatterpolar"
           }
          ],
          "scatterpolargl": [
           {
            "marker": {
             "colorbar": {
              "outlinewidth": 0,
              "ticks": ""
             }
            },
            "type": "scatterpolargl"
           }
          ],
          "scatterternary": [
           {
            "marker": {
             "colorbar": {
              "outlinewidth": 0,
              "ticks": ""
             }
            },
            "type": "scatterternary"
           }
          ],
          "surface": [
           {
            "colorbar": {
             "outlinewidth": 0,
             "ticks": ""
            },
            "colorscale": [
             [
              0,
              "#0d0887"
             ],
             [
              0.1111111111111111,
              "#46039f"
             ],
             [
              0.2222222222222222,
              "#7201a8"
             ],
             [
              0.3333333333333333,
              "#9c179e"
             ],
             [
              0.4444444444444444,
              "#bd3786"
             ],
             [
              0.5555555555555556,
              "#d8576b"
             ],
             [
              0.6666666666666666,
              "#ed7953"
             ],
             [
              0.7777777777777778,
              "#fb9f3a"
             ],
             [
              0.8888888888888888,
              "#fdca26"
             ],
             [
              1,
              "#f0f921"
             ]
            ],
            "type": "surface"
           }
          ],
          "table": [
           {
            "cells": {
             "fill": {
              "color": "#EBF0F8"
             },
             "line": {
              "color": "white"
             }
            },
            "header": {
             "fill": {
              "color": "#C8D4E3"
             },
             "line": {
              "color": "white"
             }
            },
            "type": "table"
           }
          ]
         },
         "layout": {
          "annotationdefaults": {
           "arrowcolor": "#2a3f5f",
           "arrowhead": 0,
           "arrowwidth": 1
          },
          "autotypenumbers": "strict",
          "coloraxis": {
           "colorbar": {
            "outlinewidth": 0,
            "ticks": ""
           }
          },
          "colorscale": {
           "diverging": [
            [
             0,
             "#8e0152"
            ],
            [
             0.1,
             "#c51b7d"
            ],
            [
             0.2,
             "#de77ae"
            ],
            [
             0.3,
             "#f1b6da"
            ],
            [
             0.4,
             "#fde0ef"
            ],
            [
             0.5,
             "#f7f7f7"
            ],
            [
             0.6,
             "#e6f5d0"
            ],
            [
             0.7,
             "#b8e186"
            ],
            [
             0.8,
             "#7fbc41"
            ],
            [
             0.9,
             "#4d9221"
            ],
            [
             1,
             "#276419"
            ]
           ],
           "sequential": [
            [
             0,
             "#0d0887"
            ],
            [
             0.1111111111111111,
             "#46039f"
            ],
            [
             0.2222222222222222,
             "#7201a8"
            ],
            [
             0.3333333333333333,
             "#9c179e"
            ],
            [
             0.4444444444444444,
             "#bd3786"
            ],
            [
             0.5555555555555556,
             "#d8576b"
            ],
            [
             0.6666666666666666,
             "#ed7953"
            ],
            [
             0.7777777777777778,
             "#fb9f3a"
            ],
            [
             0.8888888888888888,
             "#fdca26"
            ],
            [
             1,
             "#f0f921"
            ]
           ],
           "sequentialminus": [
            [
             0,
             "#0d0887"
            ],
            [
             0.1111111111111111,
             "#46039f"
            ],
            [
             0.2222222222222222,
             "#7201a8"
            ],
            [
             0.3333333333333333,
             "#9c179e"
            ],
            [
             0.4444444444444444,
             "#bd3786"
            ],
            [
             0.5555555555555556,
             "#d8576b"
            ],
            [
             0.6666666666666666,
             "#ed7953"
            ],
            [
             0.7777777777777778,
             "#fb9f3a"
            ],
            [
             0.8888888888888888,
             "#fdca26"
            ],
            [
             1,
             "#f0f921"
            ]
           ]
          },
          "colorway": [
           "#636efa",
           "#EF553B",
           "#00cc96",
           "#ab63fa",
           "#FFA15A",
           "#19d3f3",
           "#FF6692",
           "#B6E880",
           "#FF97FF",
           "#FECB52"
          ],
          "font": {
           "color": "#2a3f5f"
          },
          "geo": {
           "bgcolor": "white",
           "lakecolor": "white",
           "landcolor": "#E5ECF6",
           "showlakes": true,
           "showland": true,
           "subunitcolor": "white"
          },
          "hoverlabel": {
           "align": "left"
          },
          "hovermode": "closest",
          "mapbox": {
           "style": "light"
          },
          "paper_bgcolor": "white",
          "plot_bgcolor": "#E5ECF6",
          "polar": {
           "angularaxis": {
            "gridcolor": "white",
            "linecolor": "white",
            "ticks": ""
           },
           "bgcolor": "#E5ECF6",
           "radialaxis": {
            "gridcolor": "white",
            "linecolor": "white",
            "ticks": ""
           }
          },
          "scene": {
           "xaxis": {
            "backgroundcolor": "#E5ECF6",
            "gridcolor": "white",
            "gridwidth": 2,
            "linecolor": "white",
            "showbackground": true,
            "ticks": "",
            "zerolinecolor": "white"
           },
           "yaxis": {
            "backgroundcolor": "#E5ECF6",
            "gridcolor": "white",
            "gridwidth": 2,
            "linecolor": "white",
            "showbackground": true,
            "ticks": "",
            "zerolinecolor": "white"
           },
           "zaxis": {
            "backgroundcolor": "#E5ECF6",
            "gridcolor": "white",
            "gridwidth": 2,
            "linecolor": "white",
            "showbackground": true,
            "ticks": "",
            "zerolinecolor": "white"
           }
          },
          "shapedefaults": {
           "line": {
            "color": "#2a3f5f"
           }
          },
          "ternary": {
           "aaxis": {
            "gridcolor": "white",
            "linecolor": "white",
            "ticks": ""
           },
           "baxis": {
            "gridcolor": "white",
            "linecolor": "white",
            "ticks": ""
           },
           "bgcolor": "#E5ECF6",
           "caxis": {
            "gridcolor": "white",
            "linecolor": "white",
            "ticks": ""
           }
          },
          "title": {
           "x": 0.05
          },
          "xaxis": {
           "automargin": true,
           "gridcolor": "white",
           "linecolor": "white",
           "ticks": "",
           "title": {
            "standoff": 15
           },
           "zerolinecolor": "white",
           "zerolinewidth": 2
          },
          "yaxis": {
           "automargin": true,
           "gridcolor": "white",
           "linecolor": "white",
           "ticks": "",
           "title": {
            "standoff": 15
           },
           "zerolinecolor": "white",
           "zerolinewidth": 2
          }
         }
        },
        "width": 500,
        "yaxis": {
         "scaleanchor": "x",
         "scaleratio": 1
        }
       }
      }
     },
     "metadata": {},
     "output_type": "display_data"
    }
   ],
   "source": [
    "# Generate Points for triangle\n",
    "triangle_coords = []\n",
    "begin_points = list(zip(\n",
    "    np.linspace(top_left_point[0], bottom_point[0], TRIANGLE_LENGTH + 1),\n",
    "    np.linspace(top_left_point[1], bottom_point[1], TRIANGLE_LENGTH + 1))\n",
    ")\n",
    "end_points = list(zip(\n",
    "    np.linspace(top_right_point[0], bottom_point[0], TRIANGLE_LENGTH + 1),\n",
    "    np.linspace(top_right_point[1], bottom_point[1], TRIANGLE_LENGTH + 1))\n",
    ")\n",
    "for layer in range(TRIANGLE_LENGTH + 1):\n",
    "    begin_point = begin_points[layer]\n",
    "    end_point = end_points[layer]\n",
    "    layer_points = list(zip(\n",
    "        np.linspace(begin_point[0], end_point[0], TRIANGLE_LENGTH + 1 - layer),\n",
    "        np.linspace(begin_point[1], end_point[1], TRIANGLE_LENGTH + 1 - layer))\n",
    "    )\n",
    "    triangle_coords += layer_points[::-1]\n",
    "\n",
    "triangle_corner_points = [0, TRIANGLE_LENGTH, len(triangle_coords) - 1]\n",
    "\n",
    "print(triangle_corner_points)\n",
    "\n",
    "edge_key_1 = (triangle_corner_points[0], triangle_corner_points[1])\n",
    "edge_key_2 = (triangle_corner_points[2], triangle_corner_points[0])\n",
    "edge_key_3 = (triangle_corner_points[2], triangle_corner_points[1])\n",
    "\n",
    "triangle_edge_points = {\n",
    "    edge_key_1: [1],\n",
    "    edge_key_2: [len(triangle_coords) - 3],\n",
    "    edge_key_3: [len(triangle_coords) - 2]\n",
    "}\n",
    "\n",
    "for i in range(2, TRIANGLE_LENGTH):\n",
    "    triangle_edge_points[edge_key_1].append(i)\n",
    "    triangle_edge_points[edge_key_2].append(triangle_edge_points[edge_key_2][-1] - (i + 1))\n",
    "    triangle_edge_points[edge_key_3].append(triangle_edge_points[edge_key_3][-1] - i)\n",
    "\n",
    "print(triangle_edge_points)\n",
    "\n",
    "show_2d_points(triangle_coords)"
   ]
  },
  {
   "cell_type": "code",
   "execution_count": 52,
   "metadata": {},
   "outputs": [
    {
     "data": {
      "application/vnd.plotly.v1+json": {
       "config": {
        "plotlyServerURL": "https://plot.ly"
       },
       "data": [
        {
         "hovertemplate": "x=%{x}<br>y=%{y}<br>text=%{text}<extra></extra>",
         "legendgroup": "",
         "marker": {
          "color": "#636efa",
          "symbol": "circle"
         },
         "mode": "markers+text",
         "name": "",
         "orientation": "v",
         "showlegend": false,
         "text": [
          0,
          1,
          2,
          3,
          4,
          5,
          6,
          7,
          8,
          9,
          10,
          11,
          12,
          13,
          14,
          15,
          16,
          17,
          18,
          19,
          20,
          21,
          22,
          23,
          24,
          25,
          26,
          27,
          28,
          29,
          30,
          31,
          32,
          33,
          34,
          35
         ],
         "textposition": "top center",
         "type": "scatter",
         "x": [
          -0.8660254037844386,
          -0.618589574131742,
          -0.37115374447904514,
          -0.12371791482634842,
          0.12371791482634831,
          0.3711537444790451,
          0.6185895741317419,
          0.8660254037844386,
          -0.7423074889580902,
          -0.49487165930539334,
          -0.24743582965269673,
          0,
          0.24743582965269673,
          0.49487165930539345,
          0.7423074889580902,
          -0.6185895741317419,
          -0.37115374447904514,
          -0.12371791482634842,
          0.12371791482634836,
          0.37115374447904514,
          0.6185895741317419,
          -0.49487165930539345,
          -0.24743582965269673,
          0,
          0.24743582965269673,
          0.49487165930539345,
          -0.3711537444790451,
          -0.12371791482634836,
          0.12371791482634836,
          0.3711537444790451,
          -0.24743582965269673,
          0,
          0.24743582965269673,
          -0.12371791482634831,
          0.12371791482634831,
          0
         ],
         "xaxis": "x",
         "y": [
          0.5,
          0.5,
          0.5,
          0.5,
          0.5,
          0.5,
          0.5,
          0.5,
          0.2857142857142857,
          0.2857142857142857,
          0.2857142857142857,
          0.2857142857142857,
          0.2857142857142857,
          0.2857142857142857,
          0.2857142857142857,
          0.07142857142857145,
          0.07142857142857145,
          0.07142857142857145,
          0.07142857142857145,
          0.07142857142857145,
          0.07142857142857145,
          -0.1428571428571428,
          -0.1428571428571428,
          -0.1428571428571428,
          -0.1428571428571428,
          -0.1428571428571428,
          -0.3571428571428571,
          -0.3571428571428571,
          -0.3571428571428571,
          -0.3571428571428571,
          -0.5714285714285714,
          -0.5714285714285714,
          -0.5714285714285714,
          -0.7857142857142856,
          -0.7857142857142856,
          -1
         ],
         "yaxis": "y"
        },
        {
         "hovertemplate": "x=%{x}<br>y=%{y}<extra></extra>",
         "legendgroup": "",
         "line": {
          "color": "#636efa",
          "dash": "solid"
         },
         "marker": {
          "symbol": "circle"
         },
         "mode": "lines",
         "name": "",
         "orientation": "v",
         "showlegend": false,
         "textposition": "top center",
         "type": "scatter",
         "x": [
          -0.3711537444790451,
          -0.12371791482634836,
          -0.24743582965269673,
          -0.12371791482634831,
          0,
          0.12371791482634836,
          0,
          -0.24743582965269673,
          -0.37115374447904514,
          -0.12371791482634842,
          -0.24743582965269673,
          -0.49487165930539334,
          -0.618589574131742,
          -0.37115374447904514,
          -0.12371791482634842,
          0,
          0.24743582965269673,
          0.12371791482634836,
          0.24743582965269673,
          0.37115374447904514,
          0.49487165930539345,
          0.7423074889580902,
          0.6185895741317419,
          0.49487165930539345
         ],
         "xaxis": "x",
         "y": [
          -0.3571428571428571,
          -0.3571428571428571,
          -0.5714285714285714,
          -0.7857142857142856,
          -0.5714285714285714,
          -0.3571428571428571,
          -0.1428571428571428,
          -0.1428571428571428,
          0.07142857142857145,
          0.07142857142857145,
          0.2857142857142857,
          0.2857142857142857,
          0.5,
          0.5,
          0.5,
          0.2857142857142857,
          0.2857142857142857,
          0.07142857142857145,
          -0.1428571428571428,
          0.07142857142857145,
          0.2857142857142857,
          0.2857142857142857,
          0.07142857142857145,
          -0.1428571428571428
         ],
         "yaxis": "y"
        }
       ],
       "layout": {
        "height": 500,
        "template": {
         "data": {
          "bar": [
           {
            "error_x": {
             "color": "#2a3f5f"
            },
            "error_y": {
             "color": "#2a3f5f"
            },
            "marker": {
             "line": {
              "color": "#E5ECF6",
              "width": 0.5
             },
             "pattern": {
              "fillmode": "overlay",
              "size": 10,
              "solidity": 0.2
             }
            },
            "type": "bar"
           }
          ],
          "barpolar": [
           {
            "marker": {
             "line": {
              "color": "#E5ECF6",
              "width": 0.5
             },
             "pattern": {
              "fillmode": "overlay",
              "size": 10,
              "solidity": 0.2
             }
            },
            "type": "barpolar"
           }
          ],
          "carpet": [
           {
            "aaxis": {
             "endlinecolor": "#2a3f5f",
             "gridcolor": "white",
             "linecolor": "white",
             "minorgridcolor": "white",
             "startlinecolor": "#2a3f5f"
            },
            "baxis": {
             "endlinecolor": "#2a3f5f",
             "gridcolor": "white",
             "linecolor": "white",
             "minorgridcolor": "white",
             "startlinecolor": "#2a3f5f"
            },
            "type": "carpet"
           }
          ],
          "choropleth": [
           {
            "colorbar": {
             "outlinewidth": 0,
             "ticks": ""
            },
            "type": "choropleth"
           }
          ],
          "contour": [
           {
            "colorbar": {
             "outlinewidth": 0,
             "ticks": ""
            },
            "colorscale": [
             [
              0,
              "#0d0887"
             ],
             [
              0.1111111111111111,
              "#46039f"
             ],
             [
              0.2222222222222222,
              "#7201a8"
             ],
             [
              0.3333333333333333,
              "#9c179e"
             ],
             [
              0.4444444444444444,
              "#bd3786"
             ],
             [
              0.5555555555555556,
              "#d8576b"
             ],
             [
              0.6666666666666666,
              "#ed7953"
             ],
             [
              0.7777777777777778,
              "#fb9f3a"
             ],
             [
              0.8888888888888888,
              "#fdca26"
             ],
             [
              1,
              "#f0f921"
             ]
            ],
            "type": "contour"
           }
          ],
          "contourcarpet": [
           {
            "colorbar": {
             "outlinewidth": 0,
             "ticks": ""
            },
            "type": "contourcarpet"
           }
          ],
          "heatmap": [
           {
            "colorbar": {
             "outlinewidth": 0,
             "ticks": ""
            },
            "colorscale": [
             [
              0,
              "#0d0887"
             ],
             [
              0.1111111111111111,
              "#46039f"
             ],
             [
              0.2222222222222222,
              "#7201a8"
             ],
             [
              0.3333333333333333,
              "#9c179e"
             ],
             [
              0.4444444444444444,
              "#bd3786"
             ],
             [
              0.5555555555555556,
              "#d8576b"
             ],
             [
              0.6666666666666666,
              "#ed7953"
             ],
             [
              0.7777777777777778,
              "#fb9f3a"
             ],
             [
              0.8888888888888888,
              "#fdca26"
             ],
             [
              1,
              "#f0f921"
             ]
            ],
            "type": "heatmap"
           }
          ],
          "heatmapgl": [
           {
            "colorbar": {
             "outlinewidth": 0,
             "ticks": ""
            },
            "colorscale": [
             [
              0,
              "#0d0887"
             ],
             [
              0.1111111111111111,
              "#46039f"
             ],
             [
              0.2222222222222222,
              "#7201a8"
             ],
             [
              0.3333333333333333,
              "#9c179e"
             ],
             [
              0.4444444444444444,
              "#bd3786"
             ],
             [
              0.5555555555555556,
              "#d8576b"
             ],
             [
              0.6666666666666666,
              "#ed7953"
             ],
             [
              0.7777777777777778,
              "#fb9f3a"
             ],
             [
              0.8888888888888888,
              "#fdca26"
             ],
             [
              1,
              "#f0f921"
             ]
            ],
            "type": "heatmapgl"
           }
          ],
          "histogram": [
           {
            "marker": {
             "pattern": {
              "fillmode": "overlay",
              "size": 10,
              "solidity": 0.2
             }
            },
            "type": "histogram"
           }
          ],
          "histogram2d": [
           {
            "colorbar": {
             "outlinewidth": 0,
             "ticks": ""
            },
            "colorscale": [
             [
              0,
              "#0d0887"
             ],
             [
              0.1111111111111111,
              "#46039f"
             ],
             [
              0.2222222222222222,
              "#7201a8"
             ],
             [
              0.3333333333333333,
              "#9c179e"
             ],
             [
              0.4444444444444444,
              "#bd3786"
             ],
             [
              0.5555555555555556,
              "#d8576b"
             ],
             [
              0.6666666666666666,
              "#ed7953"
             ],
             [
              0.7777777777777778,
              "#fb9f3a"
             ],
             [
              0.8888888888888888,
              "#fdca26"
             ],
             [
              1,
              "#f0f921"
             ]
            ],
            "type": "histogram2d"
           }
          ],
          "histogram2dcontour": [
           {
            "colorbar": {
             "outlinewidth": 0,
             "ticks": ""
            },
            "colorscale": [
             [
              0,
              "#0d0887"
             ],
             [
              0.1111111111111111,
              "#46039f"
             ],
             [
              0.2222222222222222,
              "#7201a8"
             ],
             [
              0.3333333333333333,
              "#9c179e"
             ],
             [
              0.4444444444444444,
              "#bd3786"
             ],
             [
              0.5555555555555556,
              "#d8576b"
             ],
             [
              0.6666666666666666,
              "#ed7953"
             ],
             [
              0.7777777777777778,
              "#fb9f3a"
             ],
             [
              0.8888888888888888,
              "#fdca26"
             ],
             [
              1,
              "#f0f921"
             ]
            ],
            "type": "histogram2dcontour"
           }
          ],
          "mesh3d": [
           {
            "colorbar": {
             "outlinewidth": 0,
             "ticks": ""
            },
            "type": "mesh3d"
           }
          ],
          "parcoords": [
           {
            "line": {
             "colorbar": {
              "outlinewidth": 0,
              "ticks": ""
             }
            },
            "type": "parcoords"
           }
          ],
          "pie": [
           {
            "automargin": true,
            "type": "pie"
           }
          ],
          "scatter": [
           {
            "fillpattern": {
             "fillmode": "overlay",
             "size": 10,
             "solidity": 0.2
            },
            "type": "scatter"
           }
          ],
          "scatter3d": [
           {
            "line": {
             "colorbar": {
              "outlinewidth": 0,
              "ticks": ""
             }
            },
            "marker": {
             "colorbar": {
              "outlinewidth": 0,
              "ticks": ""
             }
            },
            "type": "scatter3d"
           }
          ],
          "scattercarpet": [
           {
            "marker": {
             "colorbar": {
              "outlinewidth": 0,
              "ticks": ""
             }
            },
            "type": "scattercarpet"
           }
          ],
          "scattergeo": [
           {
            "marker": {
             "colorbar": {
              "outlinewidth": 0,
              "ticks": ""
             }
            },
            "type": "scattergeo"
           }
          ],
          "scattergl": [
           {
            "marker": {
             "colorbar": {
              "outlinewidth": 0,
              "ticks": ""
             }
            },
            "type": "scattergl"
           }
          ],
          "scattermapbox": [
           {
            "marker": {
             "colorbar": {
              "outlinewidth": 0,
              "ticks": ""
             }
            },
            "type": "scattermapbox"
           }
          ],
          "scatterpolar": [
           {
            "marker": {
             "colorbar": {
              "outlinewidth": 0,
              "ticks": ""
             }
            },
            "type": "scatterpolar"
           }
          ],
          "scatterpolargl": [
           {
            "marker": {
             "colorbar": {
              "outlinewidth": 0,
              "ticks": ""
             }
            },
            "type": "scatterpolargl"
           }
          ],
          "scatterternary": [
           {
            "marker": {
             "colorbar": {
              "outlinewidth": 0,
              "ticks": ""
             }
            },
            "type": "scatterternary"
           }
          ],
          "surface": [
           {
            "colorbar": {
             "outlinewidth": 0,
             "ticks": ""
            },
            "colorscale": [
             [
              0,
              "#0d0887"
             ],
             [
              0.1111111111111111,
              "#46039f"
             ],
             [
              0.2222222222222222,
              "#7201a8"
             ],
             [
              0.3333333333333333,
              "#9c179e"
             ],
             [
              0.4444444444444444,
              "#bd3786"
             ],
             [
              0.5555555555555556,
              "#d8576b"
             ],
             [
              0.6666666666666666,
              "#ed7953"
             ],
             [
              0.7777777777777778,
              "#fb9f3a"
             ],
             [
              0.8888888888888888,
              "#fdca26"
             ],
             [
              1,
              "#f0f921"
             ]
            ],
            "type": "surface"
           }
          ],
          "table": [
           {
            "cells": {
             "fill": {
              "color": "#EBF0F8"
             },
             "line": {
              "color": "white"
             }
            },
            "header": {
             "fill": {
              "color": "#C8D4E3"
             },
             "line": {
              "color": "white"
             }
            },
            "type": "table"
           }
          ]
         },
         "layout": {
          "annotationdefaults": {
           "arrowcolor": "#2a3f5f",
           "arrowhead": 0,
           "arrowwidth": 1
          },
          "autotypenumbers": "strict",
          "coloraxis": {
           "colorbar": {
            "outlinewidth": 0,
            "ticks": ""
           }
          },
          "colorscale": {
           "diverging": [
            [
             0,
             "#8e0152"
            ],
            [
             0.1,
             "#c51b7d"
            ],
            [
             0.2,
             "#de77ae"
            ],
            [
             0.3,
             "#f1b6da"
            ],
            [
             0.4,
             "#fde0ef"
            ],
            [
             0.5,
             "#f7f7f7"
            ],
            [
             0.6,
             "#e6f5d0"
            ],
            [
             0.7,
             "#b8e186"
            ],
            [
             0.8,
             "#7fbc41"
            ],
            [
             0.9,
             "#4d9221"
            ],
            [
             1,
             "#276419"
            ]
           ],
           "sequential": [
            [
             0,
             "#0d0887"
            ],
            [
             0.1111111111111111,
             "#46039f"
            ],
            [
             0.2222222222222222,
             "#7201a8"
            ],
            [
             0.3333333333333333,
             "#9c179e"
            ],
            [
             0.4444444444444444,
             "#bd3786"
            ],
            [
             0.5555555555555556,
             "#d8576b"
            ],
            [
             0.6666666666666666,
             "#ed7953"
            ],
            [
             0.7777777777777778,
             "#fb9f3a"
            ],
            [
             0.8888888888888888,
             "#fdca26"
            ],
            [
             1,
             "#f0f921"
            ]
           ],
           "sequentialminus": [
            [
             0,
             "#0d0887"
            ],
            [
             0.1111111111111111,
             "#46039f"
            ],
            [
             0.2222222222222222,
             "#7201a8"
            ],
            [
             0.3333333333333333,
             "#9c179e"
            ],
            [
             0.4444444444444444,
             "#bd3786"
            ],
            [
             0.5555555555555556,
             "#d8576b"
            ],
            [
             0.6666666666666666,
             "#ed7953"
            ],
            [
             0.7777777777777778,
             "#fb9f3a"
            ],
            [
             0.8888888888888888,
             "#fdca26"
            ],
            [
             1,
             "#f0f921"
            ]
           ]
          },
          "colorway": [
           "#636efa",
           "#EF553B",
           "#00cc96",
           "#ab63fa",
           "#FFA15A",
           "#19d3f3",
           "#FF6692",
           "#B6E880",
           "#FF97FF",
           "#FECB52"
          ],
          "font": {
           "color": "#2a3f5f"
          },
          "geo": {
           "bgcolor": "white",
           "lakecolor": "white",
           "landcolor": "#E5ECF6",
           "showlakes": true,
           "showland": true,
           "subunitcolor": "white"
          },
          "hoverlabel": {
           "align": "left"
          },
          "hovermode": "closest",
          "mapbox": {
           "style": "light"
          },
          "paper_bgcolor": "white",
          "plot_bgcolor": "#E5ECF6",
          "polar": {
           "angularaxis": {
            "gridcolor": "white",
            "linecolor": "white",
            "ticks": ""
           },
           "bgcolor": "#E5ECF6",
           "radialaxis": {
            "gridcolor": "white",
            "linecolor": "white",
            "ticks": ""
           }
          },
          "scene": {
           "xaxis": {
            "backgroundcolor": "#E5ECF6",
            "gridcolor": "white",
            "gridwidth": 2,
            "linecolor": "white",
            "showbackground": true,
            "ticks": "",
            "zerolinecolor": "white"
           },
           "yaxis": {
            "backgroundcolor": "#E5ECF6",
            "gridcolor": "white",
            "gridwidth": 2,
            "linecolor": "white",
            "showbackground": true,
            "ticks": "",
            "zerolinecolor": "white"
           },
           "zaxis": {
            "backgroundcolor": "#E5ECF6",
            "gridcolor": "white",
            "gridwidth": 2,
            "linecolor": "white",
            "showbackground": true,
            "ticks": "",
            "zerolinecolor": "white"
           }
          },
          "shapedefaults": {
           "line": {
            "color": "#2a3f5f"
           }
          },
          "ternary": {
           "aaxis": {
            "gridcolor": "white",
            "linecolor": "white",
            "ticks": ""
           },
           "baxis": {
            "gridcolor": "white",
            "linecolor": "white",
            "ticks": ""
           },
           "bgcolor": "#E5ECF6",
           "caxis": {
            "gridcolor": "white",
            "linecolor": "white",
            "ticks": ""
           }
          },
          "title": {
           "x": 0.05
          },
          "xaxis": {
           "automargin": true,
           "gridcolor": "white",
           "linecolor": "white",
           "ticks": "",
           "title": {
            "standoff": 15
           },
           "zerolinecolor": "white",
           "zerolinewidth": 2
          },
          "yaxis": {
           "automargin": true,
           "gridcolor": "white",
           "linecolor": "white",
           "ticks": "",
           "title": {
            "standoff": 15
           },
           "zerolinecolor": "white",
           "zerolinewidth": 2
          }
         }
        },
        "width": 500,
        "yaxis": {
         "scaleanchor": "x",
         "scaleratio": 1
        }
       }
      }
     },
     "metadata": {},
     "output_type": "display_data"
    },
    {
     "data": {
      "application/vnd.plotly.v1+json": {
       "config": {
        "plotlyServerURL": "https://plot.ly"
       },
       "data": [
        {
         "hovertemplate": "x=%{x}<br>y=%{y}<br>text=%{text}<extra></extra>",
         "legendgroup": "",
         "marker": {
          "color": "#636efa",
          "symbol": "circle"
         },
         "mode": "markers+text",
         "name": "",
         "orientation": "v",
         "showlegend": false,
         "text": [
          0,
          1,
          2,
          3,
          4,
          5,
          6,
          7,
          8,
          9,
          10,
          11,
          12,
          13,
          14,
          15,
          16,
          17,
          18,
          19,
          20,
          21,
          22,
          23,
          24,
          25,
          26,
          27,
          28,
          29,
          30,
          31,
          32,
          33,
          34,
          35
         ],
         "textposition": "top center",
         "type": "scatter",
         "x": [
          -0.8660254037844386,
          -0.618589574131742,
          -0.37115374447904514,
          -0.12371791482634842,
          0.12371791482634831,
          0.3711537444790451,
          0.6185895741317419,
          0.8660254037844386,
          -0.7423074889580902,
          -0.49487165930539334,
          -0.24743582965269673,
          0,
          0.24743582965269673,
          0.49487165930539345,
          0.7423074889580902,
          -0.6185895741317419,
          -0.37115374447904514,
          -0.12371791482634842,
          0.12371791482634836,
          0.37115374447904514,
          0.6185895741317419,
          -0.49487165930539345,
          -0.24743582965269673,
          0,
          0.24743582965269673,
          0.49487165930539345,
          -0.3711537444790451,
          -0.12371791482634836,
          0.12371791482634836,
          0.3711537444790451,
          -0.24743582965269673,
          0,
          0.24743582965269673,
          -0.12371791482634831,
          0.12371791482634831,
          0
         ],
         "xaxis": "x",
         "y": [
          0.5,
          0.5,
          0.5,
          0.5,
          0.5,
          0.5,
          0.5,
          0.5,
          0.2857142857142857,
          0.2857142857142857,
          0.2857142857142857,
          0.2857142857142857,
          0.2857142857142857,
          0.2857142857142857,
          0.2857142857142857,
          0.07142857142857145,
          0.07142857142857145,
          0.07142857142857145,
          0.07142857142857145,
          0.07142857142857145,
          0.07142857142857145,
          -0.1428571428571428,
          -0.1428571428571428,
          -0.1428571428571428,
          -0.1428571428571428,
          -0.1428571428571428,
          -0.3571428571428571,
          -0.3571428571428571,
          -0.3571428571428571,
          -0.3571428571428571,
          -0.5714285714285714,
          -0.5714285714285714,
          -0.5714285714285714,
          -0.7857142857142856,
          -0.7857142857142856,
          -1
         ],
         "yaxis": "y"
        },
        {
         "hovertemplate": "x=%{x}<br>y=%{y}<extra></extra>",
         "legendgroup": "",
         "line": {
          "color": "#636efa",
          "dash": "solid"
         },
         "marker": {
          "symbol": "circle"
         },
         "mode": "lines",
         "name": "",
         "orientation": "v",
         "showlegend": false,
         "textposition": "top center",
         "type": "scatter",
         "x": [
          -0.3711537444790451,
          -0.12371791482634836,
          -0.24743582965269673,
          -0.12371791482634831,
          0,
          0.12371791482634836,
          0,
          -0.24743582965269673,
          -0.37115374447904514,
          -0.12371791482634842,
          -0.24743582965269673,
          -0.49487165930539334,
          -0.618589574131742,
          -0.37115374447904514,
          -0.12371791482634842,
          0,
          0.12371791482634836,
          0.24743582965269673,
          0.49487165930539345,
          0.7423074889580902,
          0.6185895741317419,
          0.37115374447904514,
          0.24743582965269673,
          0.49487165930539345
         ],
         "xaxis": "x",
         "y": [
          -0.3571428571428571,
          -0.3571428571428571,
          -0.5714285714285714,
          -0.7857142857142856,
          -0.5714285714285714,
          -0.3571428571428571,
          -0.1428571428571428,
          -0.1428571428571428,
          0.07142857142857145,
          0.07142857142857145,
          0.2857142857142857,
          0.2857142857142857,
          0.5,
          0.5,
          0.5,
          0.2857142857142857,
          0.07142857142857145,
          0.2857142857142857,
          0.2857142857142857,
          0.2857142857142857,
          0.07142857142857145,
          0.07142857142857145,
          -0.1428571428571428,
          -0.1428571428571428
         ],
         "yaxis": "y"
        }
       ],
       "layout": {
        "height": 500,
        "template": {
         "data": {
          "bar": [
           {
            "error_x": {
             "color": "#2a3f5f"
            },
            "error_y": {
             "color": "#2a3f5f"
            },
            "marker": {
             "line": {
              "color": "#E5ECF6",
              "width": 0.5
             },
             "pattern": {
              "fillmode": "overlay",
              "size": 10,
              "solidity": 0.2
             }
            },
            "type": "bar"
           }
          ],
          "barpolar": [
           {
            "marker": {
             "line": {
              "color": "#E5ECF6",
              "width": 0.5
             },
             "pattern": {
              "fillmode": "overlay",
              "size": 10,
              "solidity": 0.2
             }
            },
            "type": "barpolar"
           }
          ],
          "carpet": [
           {
            "aaxis": {
             "endlinecolor": "#2a3f5f",
             "gridcolor": "white",
             "linecolor": "white",
             "minorgridcolor": "white",
             "startlinecolor": "#2a3f5f"
            },
            "baxis": {
             "endlinecolor": "#2a3f5f",
             "gridcolor": "white",
             "linecolor": "white",
             "minorgridcolor": "white",
             "startlinecolor": "#2a3f5f"
            },
            "type": "carpet"
           }
          ],
          "choropleth": [
           {
            "colorbar": {
             "outlinewidth": 0,
             "ticks": ""
            },
            "type": "choropleth"
           }
          ],
          "contour": [
           {
            "colorbar": {
             "outlinewidth": 0,
             "ticks": ""
            },
            "colorscale": [
             [
              0,
              "#0d0887"
             ],
             [
              0.1111111111111111,
              "#46039f"
             ],
             [
              0.2222222222222222,
              "#7201a8"
             ],
             [
              0.3333333333333333,
              "#9c179e"
             ],
             [
              0.4444444444444444,
              "#bd3786"
             ],
             [
              0.5555555555555556,
              "#d8576b"
             ],
             [
              0.6666666666666666,
              "#ed7953"
             ],
             [
              0.7777777777777778,
              "#fb9f3a"
             ],
             [
              0.8888888888888888,
              "#fdca26"
             ],
             [
              1,
              "#f0f921"
             ]
            ],
            "type": "contour"
           }
          ],
          "contourcarpet": [
           {
            "colorbar": {
             "outlinewidth": 0,
             "ticks": ""
            },
            "type": "contourcarpet"
           }
          ],
          "heatmap": [
           {
            "colorbar": {
             "outlinewidth": 0,
             "ticks": ""
            },
            "colorscale": [
             [
              0,
              "#0d0887"
             ],
             [
              0.1111111111111111,
              "#46039f"
             ],
             [
              0.2222222222222222,
              "#7201a8"
             ],
             [
              0.3333333333333333,
              "#9c179e"
             ],
             [
              0.4444444444444444,
              "#bd3786"
             ],
             [
              0.5555555555555556,
              "#d8576b"
             ],
             [
              0.6666666666666666,
              "#ed7953"
             ],
             [
              0.7777777777777778,
              "#fb9f3a"
             ],
             [
              0.8888888888888888,
              "#fdca26"
             ],
             [
              1,
              "#f0f921"
             ]
            ],
            "type": "heatmap"
           }
          ],
          "heatmapgl": [
           {
            "colorbar": {
             "outlinewidth": 0,
             "ticks": ""
            },
            "colorscale": [
             [
              0,
              "#0d0887"
             ],
             [
              0.1111111111111111,
              "#46039f"
             ],
             [
              0.2222222222222222,
              "#7201a8"
             ],
             [
              0.3333333333333333,
              "#9c179e"
             ],
             [
              0.4444444444444444,
              "#bd3786"
             ],
             [
              0.5555555555555556,
              "#d8576b"
             ],
             [
              0.6666666666666666,
              "#ed7953"
             ],
             [
              0.7777777777777778,
              "#fb9f3a"
             ],
             [
              0.8888888888888888,
              "#fdca26"
             ],
             [
              1,
              "#f0f921"
             ]
            ],
            "type": "heatmapgl"
           }
          ],
          "histogram": [
           {
            "marker": {
             "pattern": {
              "fillmode": "overlay",
              "size": 10,
              "solidity": 0.2
             }
            },
            "type": "histogram"
           }
          ],
          "histogram2d": [
           {
            "colorbar": {
             "outlinewidth": 0,
             "ticks": ""
            },
            "colorscale": [
             [
              0,
              "#0d0887"
             ],
             [
              0.1111111111111111,
              "#46039f"
             ],
             [
              0.2222222222222222,
              "#7201a8"
             ],
             [
              0.3333333333333333,
              "#9c179e"
             ],
             [
              0.4444444444444444,
              "#bd3786"
             ],
             [
              0.5555555555555556,
              "#d8576b"
             ],
             [
              0.6666666666666666,
              "#ed7953"
             ],
             [
              0.7777777777777778,
              "#fb9f3a"
             ],
             [
              0.8888888888888888,
              "#fdca26"
             ],
             [
              1,
              "#f0f921"
             ]
            ],
            "type": "histogram2d"
           }
          ],
          "histogram2dcontour": [
           {
            "colorbar": {
             "outlinewidth": 0,
             "ticks": ""
            },
            "colorscale": [
             [
              0,
              "#0d0887"
             ],
             [
              0.1111111111111111,
              "#46039f"
             ],
             [
              0.2222222222222222,
              "#7201a8"
             ],
             [
              0.3333333333333333,
              "#9c179e"
             ],
             [
              0.4444444444444444,
              "#bd3786"
             ],
             [
              0.5555555555555556,
              "#d8576b"
             ],
             [
              0.6666666666666666,
              "#ed7953"
             ],
             [
              0.7777777777777778,
              "#fb9f3a"
             ],
             [
              0.8888888888888888,
              "#fdca26"
             ],
             [
              1,
              "#f0f921"
             ]
            ],
            "type": "histogram2dcontour"
           }
          ],
          "mesh3d": [
           {
            "colorbar": {
             "outlinewidth": 0,
             "ticks": ""
            },
            "type": "mesh3d"
           }
          ],
          "parcoords": [
           {
            "line": {
             "colorbar": {
              "outlinewidth": 0,
              "ticks": ""
             }
            },
            "type": "parcoords"
           }
          ],
          "pie": [
           {
            "automargin": true,
            "type": "pie"
           }
          ],
          "scatter": [
           {
            "fillpattern": {
             "fillmode": "overlay",
             "size": 10,
             "solidity": 0.2
            },
            "type": "scatter"
           }
          ],
          "scatter3d": [
           {
            "line": {
             "colorbar": {
              "outlinewidth": 0,
              "ticks": ""
             }
            },
            "marker": {
             "colorbar": {
              "outlinewidth": 0,
              "ticks": ""
             }
            },
            "type": "scatter3d"
           }
          ],
          "scattercarpet": [
           {
            "marker": {
             "colorbar": {
              "outlinewidth": 0,
              "ticks": ""
             }
            },
            "type": "scattercarpet"
           }
          ],
          "scattergeo": [
           {
            "marker": {
             "colorbar": {
              "outlinewidth": 0,
              "ticks": ""
             }
            },
            "type": "scattergeo"
           }
          ],
          "scattergl": [
           {
            "marker": {
             "colorbar": {
              "outlinewidth": 0,
              "ticks": ""
             }
            },
            "type": "scattergl"
           }
          ],
          "scattermapbox": [
           {
            "marker": {
             "colorbar": {
              "outlinewidth": 0,
              "ticks": ""
             }
            },
            "type": "scattermapbox"
           }
          ],
          "scatterpolar": [
           {
            "marker": {
             "colorbar": {
              "outlinewidth": 0,
              "ticks": ""
             }
            },
            "type": "scatterpolar"
           }
          ],
          "scatterpolargl": [
           {
            "marker": {
             "colorbar": {
              "outlinewidth": 0,
              "ticks": ""
             }
            },
            "type": "scatterpolargl"
           }
          ],
          "scatterternary": [
           {
            "marker": {
             "colorbar": {
              "outlinewidth": 0,
              "ticks": ""
             }
            },
            "type": "scatterternary"
           }
          ],
          "surface": [
           {
            "colorbar": {
             "outlinewidth": 0,
             "ticks": ""
            },
            "colorscale": [
             [
              0,
              "#0d0887"
             ],
             [
              0.1111111111111111,
              "#46039f"
             ],
             [
              0.2222222222222222,
              "#7201a8"
             ],
             [
              0.3333333333333333,
              "#9c179e"
             ],
             [
              0.4444444444444444,
              "#bd3786"
             ],
             [
              0.5555555555555556,
              "#d8576b"
             ],
             [
              0.6666666666666666,
              "#ed7953"
             ],
             [
              0.7777777777777778,
              "#fb9f3a"
             ],
             [
              0.8888888888888888,
              "#fdca26"
             ],
             [
              1,
              "#f0f921"
             ]
            ],
            "type": "surface"
           }
          ],
          "table": [
           {
            "cells": {
             "fill": {
              "color": "#EBF0F8"
             },
             "line": {
              "color": "white"
             }
            },
            "header": {
             "fill": {
              "color": "#C8D4E3"
             },
             "line": {
              "color": "white"
             }
            },
            "type": "table"
           }
          ]
         },
         "layout": {
          "annotationdefaults": {
           "arrowcolor": "#2a3f5f",
           "arrowhead": 0,
           "arrowwidth": 1
          },
          "autotypenumbers": "strict",
          "coloraxis": {
           "colorbar": {
            "outlinewidth": 0,
            "ticks": ""
           }
          },
          "colorscale": {
           "diverging": [
            [
             0,
             "#8e0152"
            ],
            [
             0.1,
             "#c51b7d"
            ],
            [
             0.2,
             "#de77ae"
            ],
            [
             0.3,
             "#f1b6da"
            ],
            [
             0.4,
             "#fde0ef"
            ],
            [
             0.5,
             "#f7f7f7"
            ],
            [
             0.6,
             "#e6f5d0"
            ],
            [
             0.7,
             "#b8e186"
            ],
            [
             0.8,
             "#7fbc41"
            ],
            [
             0.9,
             "#4d9221"
            ],
            [
             1,
             "#276419"
            ]
           ],
           "sequential": [
            [
             0,
             "#0d0887"
            ],
            [
             0.1111111111111111,
             "#46039f"
            ],
            [
             0.2222222222222222,
             "#7201a8"
            ],
            [
             0.3333333333333333,
             "#9c179e"
            ],
            [
             0.4444444444444444,
             "#bd3786"
            ],
            [
             0.5555555555555556,
             "#d8576b"
            ],
            [
             0.6666666666666666,
             "#ed7953"
            ],
            [
             0.7777777777777778,
             "#fb9f3a"
            ],
            [
             0.8888888888888888,
             "#fdca26"
            ],
            [
             1,
             "#f0f921"
            ]
           ],
           "sequentialminus": [
            [
             0,
             "#0d0887"
            ],
            [
             0.1111111111111111,
             "#46039f"
            ],
            [
             0.2222222222222222,
             "#7201a8"
            ],
            [
             0.3333333333333333,
             "#9c179e"
            ],
            [
             0.4444444444444444,
             "#bd3786"
            ],
            [
             0.5555555555555556,
             "#d8576b"
            ],
            [
             0.6666666666666666,
             "#ed7953"
            ],
            [
             0.7777777777777778,
             "#fb9f3a"
            ],
            [
             0.8888888888888888,
             "#fdca26"
            ],
            [
             1,
             "#f0f921"
            ]
           ]
          },
          "colorway": [
           "#636efa",
           "#EF553B",
           "#00cc96",
           "#ab63fa",
           "#FFA15A",
           "#19d3f3",
           "#FF6692",
           "#B6E880",
           "#FF97FF",
           "#FECB52"
          ],
          "font": {
           "color": "#2a3f5f"
          },
          "geo": {
           "bgcolor": "white",
           "lakecolor": "white",
           "landcolor": "#E5ECF6",
           "showlakes": true,
           "showland": true,
           "subunitcolor": "white"
          },
          "hoverlabel": {
           "align": "left"
          },
          "hovermode": "closest",
          "mapbox": {
           "style": "light"
          },
          "paper_bgcolor": "white",
          "plot_bgcolor": "#E5ECF6",
          "polar": {
           "angularaxis": {
            "gridcolor": "white",
            "linecolor": "white",
            "ticks": ""
           },
           "bgcolor": "#E5ECF6",
           "radialaxis": {
            "gridcolor": "white",
            "linecolor": "white",
            "ticks": ""
           }
          },
          "scene": {
           "xaxis": {
            "backgroundcolor": "#E5ECF6",
            "gridcolor": "white",
            "gridwidth": 2,
            "linecolor": "white",
            "showbackground": true,
            "ticks": "",
            "zerolinecolor": "white"
           },
           "yaxis": {
            "backgroundcolor": "#E5ECF6",
            "gridcolor": "white",
            "gridwidth": 2,
            "linecolor": "white",
            "showbackground": true,
            "ticks": "",
            "zerolinecolor": "white"
           },
           "zaxis": {
            "backgroundcolor": "#E5ECF6",
            "gridcolor": "white",
            "gridwidth": 2,
            "linecolor": "white",
            "showbackground": true,
            "ticks": "",
            "zerolinecolor": "white"
           }
          },
          "shapedefaults": {
           "line": {
            "color": "#2a3f5f"
           }
          },
          "ternary": {
           "aaxis": {
            "gridcolor": "white",
            "linecolor": "white",
            "ticks": ""
           },
           "baxis": {
            "gridcolor": "white",
            "linecolor": "white",
            "ticks": ""
           },
           "bgcolor": "#E5ECF6",
           "caxis": {
            "gridcolor": "white",
            "linecolor": "white",
            "ticks": ""
           }
          },
          "title": {
           "x": 0.05
          },
          "xaxis": {
           "automargin": true,
           "gridcolor": "white",
           "linecolor": "white",
           "ticks": "",
           "title": {
            "standoff": 15
           },
           "zerolinecolor": "white",
           "zerolinewidth": 2
          },
          "yaxis": {
           "automargin": true,
           "gridcolor": "white",
           "linecolor": "white",
           "ticks": "",
           "title": {
            "standoff": 15
           },
           "zerolinecolor": "white",
           "zerolinewidth": 2
          }
         }
        },
        "width": 500,
        "yaxis": {
         "scaleanchor": "x",
         "scaleratio": 1
        }
       }
      }
     },
     "metadata": {},
     "output_type": "display_data"
    },
    {
     "data": {
      "application/vnd.plotly.v1+json": {
       "config": {
        "plotlyServerURL": "https://plot.ly"
       },
       "data": [
        {
         "hovertemplate": "x=%{x}<br>y=%{y}<br>text=%{text}<extra></extra>",
         "legendgroup": "",
         "marker": {
          "color": "#636efa",
          "symbol": "circle"
         },
         "mode": "markers+text",
         "name": "",
         "orientation": "v",
         "showlegend": false,
         "text": [
          0,
          1,
          2,
          3,
          4,
          5,
          6,
          7,
          8,
          9,
          10,
          11,
          12,
          13,
          14,
          15,
          16,
          17,
          18,
          19,
          20,
          21,
          22,
          23,
          24,
          25,
          26,
          27,
          28,
          29,
          30,
          31,
          32,
          33,
          34,
          35
         ],
         "textposition": "top center",
         "type": "scatter",
         "x": [
          -0.8660254037844386,
          -0.618589574131742,
          -0.37115374447904514,
          -0.12371791482634842,
          0.12371791482634831,
          0.3711537444790451,
          0.6185895741317419,
          0.8660254037844386,
          -0.7423074889580902,
          -0.49487165930539334,
          -0.24743582965269673,
          0,
          0.24743582965269673,
          0.49487165930539345,
          0.7423074889580902,
          -0.6185895741317419,
          -0.37115374447904514,
          -0.12371791482634842,
          0.12371791482634836,
          0.37115374447904514,
          0.6185895741317419,
          -0.49487165930539345,
          -0.24743582965269673,
          0,
          0.24743582965269673,
          0.49487165930539345,
          -0.3711537444790451,
          -0.12371791482634836,
          0.12371791482634836,
          0.3711537444790451,
          -0.24743582965269673,
          0,
          0.24743582965269673,
          -0.12371791482634831,
          0.12371791482634831,
          0
         ],
         "xaxis": "x",
         "y": [
          0.5,
          0.5,
          0.5,
          0.5,
          0.5,
          0.5,
          0.5,
          0.5,
          0.2857142857142857,
          0.2857142857142857,
          0.2857142857142857,
          0.2857142857142857,
          0.2857142857142857,
          0.2857142857142857,
          0.2857142857142857,
          0.07142857142857145,
          0.07142857142857145,
          0.07142857142857145,
          0.07142857142857145,
          0.07142857142857145,
          0.07142857142857145,
          -0.1428571428571428,
          -0.1428571428571428,
          -0.1428571428571428,
          -0.1428571428571428,
          -0.1428571428571428,
          -0.3571428571428571,
          -0.3571428571428571,
          -0.3571428571428571,
          -0.3571428571428571,
          -0.5714285714285714,
          -0.5714285714285714,
          -0.5714285714285714,
          -0.7857142857142856,
          -0.7857142857142856,
          -1
         ],
         "yaxis": "y"
        },
        {
         "hovertemplate": "x=%{x}<br>y=%{y}<extra></extra>",
         "legendgroup": "",
         "line": {
          "color": "#636efa",
          "dash": "solid"
         },
         "marker": {
          "symbol": "circle"
         },
         "mode": "lines",
         "name": "",
         "orientation": "v",
         "showlegend": false,
         "textposition": "top center",
         "type": "scatter",
         "x": [
          -0.3711537444790451,
          -0.12371791482634836,
          -0.24743582965269673,
          -0.12371791482634831,
          0,
          0.12371791482634836,
          0,
          -0.24743582965269673,
          -0.37115374447904514,
          -0.24743582965269673,
          -0.49487165930539334,
          -0.618589574131742,
          -0.37115374447904514,
          -0.12371791482634842,
          0,
          -0.12371791482634842,
          0.12371791482634836,
          0.24743582965269673,
          0.37115374447904514,
          0.24743582965269673,
          0.49487165930539345,
          0.7423074889580902,
          0.6185895741317419,
          0.49487165930539345
         ],
         "xaxis": "x",
         "y": [
          -0.3571428571428571,
          -0.3571428571428571,
          -0.5714285714285714,
          -0.7857142857142856,
          -0.5714285714285714,
          -0.3571428571428571,
          -0.1428571428571428,
          -0.1428571428571428,
          0.07142857142857145,
          0.2857142857142857,
          0.2857142857142857,
          0.5,
          0.5,
          0.5,
          0.2857142857142857,
          0.07142857142857145,
          0.07142857142857145,
          -0.1428571428571428,
          0.07142857142857145,
          0.2857142857142857,
          0.2857142857142857,
          0.2857142857142857,
          0.07142857142857145,
          -0.1428571428571428
         ],
         "yaxis": "y"
        }
       ],
       "layout": {
        "height": 500,
        "template": {
         "data": {
          "bar": [
           {
            "error_x": {
             "color": "#2a3f5f"
            },
            "error_y": {
             "color": "#2a3f5f"
            },
            "marker": {
             "line": {
              "color": "#E5ECF6",
              "width": 0.5
             },
             "pattern": {
              "fillmode": "overlay",
              "size": 10,
              "solidity": 0.2
             }
            },
            "type": "bar"
           }
          ],
          "barpolar": [
           {
            "marker": {
             "line": {
              "color": "#E5ECF6",
              "width": 0.5
             },
             "pattern": {
              "fillmode": "overlay",
              "size": 10,
              "solidity": 0.2
             }
            },
            "type": "barpolar"
           }
          ],
          "carpet": [
           {
            "aaxis": {
             "endlinecolor": "#2a3f5f",
             "gridcolor": "white",
             "linecolor": "white",
             "minorgridcolor": "white",
             "startlinecolor": "#2a3f5f"
            },
            "baxis": {
             "endlinecolor": "#2a3f5f",
             "gridcolor": "white",
             "linecolor": "white",
             "minorgridcolor": "white",
             "startlinecolor": "#2a3f5f"
            },
            "type": "carpet"
           }
          ],
          "choropleth": [
           {
            "colorbar": {
             "outlinewidth": 0,
             "ticks": ""
            },
            "type": "choropleth"
           }
          ],
          "contour": [
           {
            "colorbar": {
             "outlinewidth": 0,
             "ticks": ""
            },
            "colorscale": [
             [
              0,
              "#0d0887"
             ],
             [
              0.1111111111111111,
              "#46039f"
             ],
             [
              0.2222222222222222,
              "#7201a8"
             ],
             [
              0.3333333333333333,
              "#9c179e"
             ],
             [
              0.4444444444444444,
              "#bd3786"
             ],
             [
              0.5555555555555556,
              "#d8576b"
             ],
             [
              0.6666666666666666,
              "#ed7953"
             ],
             [
              0.7777777777777778,
              "#fb9f3a"
             ],
             [
              0.8888888888888888,
              "#fdca26"
             ],
             [
              1,
              "#f0f921"
             ]
            ],
            "type": "contour"
           }
          ],
          "contourcarpet": [
           {
            "colorbar": {
             "outlinewidth": 0,
             "ticks": ""
            },
            "type": "contourcarpet"
           }
          ],
          "heatmap": [
           {
            "colorbar": {
             "outlinewidth": 0,
             "ticks": ""
            },
            "colorscale": [
             [
              0,
              "#0d0887"
             ],
             [
              0.1111111111111111,
              "#46039f"
             ],
             [
              0.2222222222222222,
              "#7201a8"
             ],
             [
              0.3333333333333333,
              "#9c179e"
             ],
             [
              0.4444444444444444,
              "#bd3786"
             ],
             [
              0.5555555555555556,
              "#d8576b"
             ],
             [
              0.6666666666666666,
              "#ed7953"
             ],
             [
              0.7777777777777778,
              "#fb9f3a"
             ],
             [
              0.8888888888888888,
              "#fdca26"
             ],
             [
              1,
              "#f0f921"
             ]
            ],
            "type": "heatmap"
           }
          ],
          "heatmapgl": [
           {
            "colorbar": {
             "outlinewidth": 0,
             "ticks": ""
            },
            "colorscale": [
             [
              0,
              "#0d0887"
             ],
             [
              0.1111111111111111,
              "#46039f"
             ],
             [
              0.2222222222222222,
              "#7201a8"
             ],
             [
              0.3333333333333333,
              "#9c179e"
             ],
             [
              0.4444444444444444,
              "#bd3786"
             ],
             [
              0.5555555555555556,
              "#d8576b"
             ],
             [
              0.6666666666666666,
              "#ed7953"
             ],
             [
              0.7777777777777778,
              "#fb9f3a"
             ],
             [
              0.8888888888888888,
              "#fdca26"
             ],
             [
              1,
              "#f0f921"
             ]
            ],
            "type": "heatmapgl"
           }
          ],
          "histogram": [
           {
            "marker": {
             "pattern": {
              "fillmode": "overlay",
              "size": 10,
              "solidity": 0.2
             }
            },
            "type": "histogram"
           }
          ],
          "histogram2d": [
           {
            "colorbar": {
             "outlinewidth": 0,
             "ticks": ""
            },
            "colorscale": [
             [
              0,
              "#0d0887"
             ],
             [
              0.1111111111111111,
              "#46039f"
             ],
             [
              0.2222222222222222,
              "#7201a8"
             ],
             [
              0.3333333333333333,
              "#9c179e"
             ],
             [
              0.4444444444444444,
              "#bd3786"
             ],
             [
              0.5555555555555556,
              "#d8576b"
             ],
             [
              0.6666666666666666,
              "#ed7953"
             ],
             [
              0.7777777777777778,
              "#fb9f3a"
             ],
             [
              0.8888888888888888,
              "#fdca26"
             ],
             [
              1,
              "#f0f921"
             ]
            ],
            "type": "histogram2d"
           }
          ],
          "histogram2dcontour": [
           {
            "colorbar": {
             "outlinewidth": 0,
             "ticks": ""
            },
            "colorscale": [
             [
              0,
              "#0d0887"
             ],
             [
              0.1111111111111111,
              "#46039f"
             ],
             [
              0.2222222222222222,
              "#7201a8"
             ],
             [
              0.3333333333333333,
              "#9c179e"
             ],
             [
              0.4444444444444444,
              "#bd3786"
             ],
             [
              0.5555555555555556,
              "#d8576b"
             ],
             [
              0.6666666666666666,
              "#ed7953"
             ],
             [
              0.7777777777777778,
              "#fb9f3a"
             ],
             [
              0.8888888888888888,
              "#fdca26"
             ],
             [
              1,
              "#f0f921"
             ]
            ],
            "type": "histogram2dcontour"
           }
          ],
          "mesh3d": [
           {
            "colorbar": {
             "outlinewidth": 0,
             "ticks": ""
            },
            "type": "mesh3d"
           }
          ],
          "parcoords": [
           {
            "line": {
             "colorbar": {
              "outlinewidth": 0,
              "ticks": ""
             }
            },
            "type": "parcoords"
           }
          ],
          "pie": [
           {
            "automargin": true,
            "type": "pie"
           }
          ],
          "scatter": [
           {
            "fillpattern": {
             "fillmode": "overlay",
             "size": 10,
             "solidity": 0.2
            },
            "type": "scatter"
           }
          ],
          "scatter3d": [
           {
            "line": {
             "colorbar": {
              "outlinewidth": 0,
              "ticks": ""
             }
            },
            "marker": {
             "colorbar": {
              "outlinewidth": 0,
              "ticks": ""
             }
            },
            "type": "scatter3d"
           }
          ],
          "scattercarpet": [
           {
            "marker": {
             "colorbar": {
              "outlinewidth": 0,
              "ticks": ""
             }
            },
            "type": "scattercarpet"
           }
          ],
          "scattergeo": [
           {
            "marker": {
             "colorbar": {
              "outlinewidth": 0,
              "ticks": ""
             }
            },
            "type": "scattergeo"
           }
          ],
          "scattergl": [
           {
            "marker": {
             "colorbar": {
              "outlinewidth": 0,
              "ticks": ""
             }
            },
            "type": "scattergl"
           }
          ],
          "scattermapbox": [
           {
            "marker": {
             "colorbar": {
              "outlinewidth": 0,
              "ticks": ""
             }
            },
            "type": "scattermapbox"
           }
          ],
          "scatterpolar": [
           {
            "marker": {
             "colorbar": {
              "outlinewidth": 0,
              "ticks": ""
             }
            },
            "type": "scatterpolar"
           }
          ],
          "scatterpolargl": [
           {
            "marker": {
             "colorbar": {
              "outlinewidth": 0,
              "ticks": ""
             }
            },
            "type": "scatterpolargl"
           }
          ],
          "scatterternary": [
           {
            "marker": {
             "colorbar": {
              "outlinewidth": 0,
              "ticks": ""
             }
            },
            "type": "scatterternary"
           }
          ],
          "surface": [
           {
            "colorbar": {
             "outlinewidth": 0,
             "ticks": ""
            },
            "colorscale": [
             [
              0,
              "#0d0887"
             ],
             [
              0.1111111111111111,
              "#46039f"
             ],
             [
              0.2222222222222222,
              "#7201a8"
             ],
             [
              0.3333333333333333,
              "#9c179e"
             ],
             [
              0.4444444444444444,
              "#bd3786"
             ],
             [
              0.5555555555555556,
              "#d8576b"
             ],
             [
              0.6666666666666666,
              "#ed7953"
             ],
             [
              0.7777777777777778,
              "#fb9f3a"
             ],
             [
              0.8888888888888888,
              "#fdca26"
             ],
             [
              1,
              "#f0f921"
             ]
            ],
            "type": "surface"
           }
          ],
          "table": [
           {
            "cells": {
             "fill": {
              "color": "#EBF0F8"
             },
             "line": {
              "color": "white"
             }
            },
            "header": {
             "fill": {
              "color": "#C8D4E3"
             },
             "line": {
              "color": "white"
             }
            },
            "type": "table"
           }
          ]
         },
         "layout": {
          "annotationdefaults": {
           "arrowcolor": "#2a3f5f",
           "arrowhead": 0,
           "arrowwidth": 1
          },
          "autotypenumbers": "strict",
          "coloraxis": {
           "colorbar": {
            "outlinewidth": 0,
            "ticks": ""
           }
          },
          "colorscale": {
           "diverging": [
            [
             0,
             "#8e0152"
            ],
            [
             0.1,
             "#c51b7d"
            ],
            [
             0.2,
             "#de77ae"
            ],
            [
             0.3,
             "#f1b6da"
            ],
            [
             0.4,
             "#fde0ef"
            ],
            [
             0.5,
             "#f7f7f7"
            ],
            [
             0.6,
             "#e6f5d0"
            ],
            [
             0.7,
             "#b8e186"
            ],
            [
             0.8,
             "#7fbc41"
            ],
            [
             0.9,
             "#4d9221"
            ],
            [
             1,
             "#276419"
            ]
           ],
           "sequential": [
            [
             0,
             "#0d0887"
            ],
            [
             0.1111111111111111,
             "#46039f"
            ],
            [
             0.2222222222222222,
             "#7201a8"
            ],
            [
             0.3333333333333333,
             "#9c179e"
            ],
            [
             0.4444444444444444,
             "#bd3786"
            ],
            [
             0.5555555555555556,
             "#d8576b"
            ],
            [
             0.6666666666666666,
             "#ed7953"
            ],
            [
             0.7777777777777778,
             "#fb9f3a"
            ],
            [
             0.8888888888888888,
             "#fdca26"
            ],
            [
             1,
             "#f0f921"
            ]
           ],
           "sequentialminus": [
            [
             0,
             "#0d0887"
            ],
            [
             0.1111111111111111,
             "#46039f"
            ],
            [
             0.2222222222222222,
             "#7201a8"
            ],
            [
             0.3333333333333333,
             "#9c179e"
            ],
            [
             0.4444444444444444,
             "#bd3786"
            ],
            [
             0.5555555555555556,
             "#d8576b"
            ],
            [
             0.6666666666666666,
             "#ed7953"
            ],
            [
             0.7777777777777778,
             "#fb9f3a"
            ],
            [
             0.8888888888888888,
             "#fdca26"
            ],
            [
             1,
             "#f0f921"
            ]
           ]
          },
          "colorway": [
           "#636efa",
           "#EF553B",
           "#00cc96",
           "#ab63fa",
           "#FFA15A",
           "#19d3f3",
           "#FF6692",
           "#B6E880",
           "#FF97FF",
           "#FECB52"
          ],
          "font": {
           "color": "#2a3f5f"
          },
          "geo": {
           "bgcolor": "white",
           "lakecolor": "white",
           "landcolor": "#E5ECF6",
           "showlakes": true,
           "showland": true,
           "subunitcolor": "white"
          },
          "hoverlabel": {
           "align": "left"
          },
          "hovermode": "closest",
          "mapbox": {
           "style": "light"
          },
          "paper_bgcolor": "white",
          "plot_bgcolor": "#E5ECF6",
          "polar": {
           "angularaxis": {
            "gridcolor": "white",
            "linecolor": "white",
            "ticks": ""
           },
           "bgcolor": "#E5ECF6",
           "radialaxis": {
            "gridcolor": "white",
            "linecolor": "white",
            "ticks": ""
           }
          },
          "scene": {
           "xaxis": {
            "backgroundcolor": "#E5ECF6",
            "gridcolor": "white",
            "gridwidth": 2,
            "linecolor": "white",
            "showbackground": true,
            "ticks": "",
            "zerolinecolor": "white"
           },
           "yaxis": {
            "backgroundcolor": "#E5ECF6",
            "gridcolor": "white",
            "gridwidth": 2,
            "linecolor": "white",
            "showbackground": true,
            "ticks": "",
            "zerolinecolor": "white"
           },
           "zaxis": {
            "backgroundcolor": "#E5ECF6",
            "gridcolor": "white",
            "gridwidth": 2,
            "linecolor": "white",
            "showbackground": true,
            "ticks": "",
            "zerolinecolor": "white"
           }
          },
          "shapedefaults": {
           "line": {
            "color": "#2a3f5f"
           }
          },
          "ternary": {
           "aaxis": {
            "gridcolor": "white",
            "linecolor": "white",
            "ticks": ""
           },
           "baxis": {
            "gridcolor": "white",
            "linecolor": "white",
            "ticks": ""
           },
           "bgcolor": "#E5ECF6",
           "caxis": {
            "gridcolor": "white",
            "linecolor": "white",
            "ticks": ""
           }
          },
          "title": {
           "x": 0.05
          },
          "xaxis": {
           "automargin": true,
           "gridcolor": "white",
           "linecolor": "white",
           "ticks": "",
           "title": {
            "standoff": 15
           },
           "zerolinecolor": "white",
           "zerolinewidth": 2
          },
          "yaxis": {
           "automargin": true,
           "gridcolor": "white",
           "linecolor": "white",
           "ticks": "",
           "title": {
            "standoff": 15
           },
           "zerolinecolor": "white",
           "zerolinewidth": 2
          }
         }
        },
        "width": 500,
        "yaxis": {
         "scaleanchor": "x",
         "scaleratio": 1
        }
       }
      }
     },
     "metadata": {},
     "output_type": "display_data"
    },
    {
     "data": {
      "application/vnd.plotly.v1+json": {
       "config": {
        "plotlyServerURL": "https://plot.ly"
       },
       "data": [
        {
         "hovertemplate": "x=%{x}<br>y=%{y}<br>text=%{text}<extra></extra>",
         "legendgroup": "",
         "marker": {
          "color": "#636efa",
          "symbol": "circle"
         },
         "mode": "markers+text",
         "name": "",
         "orientation": "v",
         "showlegend": false,
         "text": [
          0,
          1,
          2,
          3,
          4,
          5,
          6,
          7,
          8,
          9,
          10,
          11,
          12,
          13,
          14,
          15,
          16,
          17,
          18,
          19,
          20,
          21,
          22,
          23,
          24,
          25,
          26,
          27,
          28,
          29,
          30,
          31,
          32,
          33,
          34,
          35
         ],
         "textposition": "top center",
         "type": "scatter",
         "x": [
          -0.8660254037844386,
          -0.618589574131742,
          -0.37115374447904514,
          -0.12371791482634842,
          0.12371791482634831,
          0.3711537444790451,
          0.6185895741317419,
          0.8660254037844386,
          -0.7423074889580902,
          -0.49487165930539334,
          -0.24743582965269673,
          0,
          0.24743582965269673,
          0.49487165930539345,
          0.7423074889580902,
          -0.6185895741317419,
          -0.37115374447904514,
          -0.12371791482634842,
          0.12371791482634836,
          0.37115374447904514,
          0.6185895741317419,
          -0.49487165930539345,
          -0.24743582965269673,
          0,
          0.24743582965269673,
          0.49487165930539345,
          -0.3711537444790451,
          -0.12371791482634836,
          0.12371791482634836,
          0.3711537444790451,
          -0.24743582965269673,
          0,
          0.24743582965269673,
          -0.12371791482634831,
          0.12371791482634831,
          0
         ],
         "xaxis": "x",
         "y": [
          0.5,
          0.5,
          0.5,
          0.5,
          0.5,
          0.5,
          0.5,
          0.5,
          0.2857142857142857,
          0.2857142857142857,
          0.2857142857142857,
          0.2857142857142857,
          0.2857142857142857,
          0.2857142857142857,
          0.2857142857142857,
          0.07142857142857145,
          0.07142857142857145,
          0.07142857142857145,
          0.07142857142857145,
          0.07142857142857145,
          0.07142857142857145,
          -0.1428571428571428,
          -0.1428571428571428,
          -0.1428571428571428,
          -0.1428571428571428,
          -0.1428571428571428,
          -0.3571428571428571,
          -0.3571428571428571,
          -0.3571428571428571,
          -0.3571428571428571,
          -0.5714285714285714,
          -0.5714285714285714,
          -0.5714285714285714,
          -0.7857142857142856,
          -0.7857142857142856,
          -1
         ],
         "yaxis": "y"
        },
        {
         "hovertemplate": "x=%{x}<br>y=%{y}<extra></extra>",
         "legendgroup": "",
         "line": {
          "color": "#636efa",
          "dash": "solid"
         },
         "marker": {
          "symbol": "circle"
         },
         "mode": "lines",
         "name": "",
         "orientation": "v",
         "showlegend": false,
         "textposition": "top center",
         "type": "scatter",
         "x": [
          -0.3711537444790451,
          -0.12371791482634836,
          -0.24743582965269673,
          -0.12371791482634831,
          0,
          0.12371791482634836,
          0,
          -0.24743582965269673,
          -0.37115374447904514,
          -0.24743582965269673,
          -0.49487165930539334,
          -0.618589574131742,
          -0.37115374447904514,
          -0.12371791482634842,
          0,
          -0.12371791482634842,
          0.12371791482634836,
          0.24743582965269673,
          0.49487165930539345,
          0.7423074889580902,
          0.6185895741317419,
          0.37115374447904514,
          0.24743582965269673,
          0.49487165930539345
         ],
         "xaxis": "x",
         "y": [
          -0.3571428571428571,
          -0.3571428571428571,
          -0.5714285714285714,
          -0.7857142857142856,
          -0.5714285714285714,
          -0.3571428571428571,
          -0.1428571428571428,
          -0.1428571428571428,
          0.07142857142857145,
          0.2857142857142857,
          0.2857142857142857,
          0.5,
          0.5,
          0.5,
          0.2857142857142857,
          0.07142857142857145,
          0.07142857142857145,
          0.2857142857142857,
          0.2857142857142857,
          0.2857142857142857,
          0.07142857142857145,
          0.07142857142857145,
          -0.1428571428571428,
          -0.1428571428571428
         ],
         "yaxis": "y"
        }
       ],
       "layout": {
        "height": 500,
        "template": {
         "data": {
          "bar": [
           {
            "error_x": {
             "color": "#2a3f5f"
            },
            "error_y": {
             "color": "#2a3f5f"
            },
            "marker": {
             "line": {
              "color": "#E5ECF6",
              "width": 0.5
             },
             "pattern": {
              "fillmode": "overlay",
              "size": 10,
              "solidity": 0.2
             }
            },
            "type": "bar"
           }
          ],
          "barpolar": [
           {
            "marker": {
             "line": {
              "color": "#E5ECF6",
              "width": 0.5
             },
             "pattern": {
              "fillmode": "overlay",
              "size": 10,
              "solidity": 0.2
             }
            },
            "type": "barpolar"
           }
          ],
          "carpet": [
           {
            "aaxis": {
             "endlinecolor": "#2a3f5f",
             "gridcolor": "white",
             "linecolor": "white",
             "minorgridcolor": "white",
             "startlinecolor": "#2a3f5f"
            },
            "baxis": {
             "endlinecolor": "#2a3f5f",
             "gridcolor": "white",
             "linecolor": "white",
             "minorgridcolor": "white",
             "startlinecolor": "#2a3f5f"
            },
            "type": "carpet"
           }
          ],
          "choropleth": [
           {
            "colorbar": {
             "outlinewidth": 0,
             "ticks": ""
            },
            "type": "choropleth"
           }
          ],
          "contour": [
           {
            "colorbar": {
             "outlinewidth": 0,
             "ticks": ""
            },
            "colorscale": [
             [
              0,
              "#0d0887"
             ],
             [
              0.1111111111111111,
              "#46039f"
             ],
             [
              0.2222222222222222,
              "#7201a8"
             ],
             [
              0.3333333333333333,
              "#9c179e"
             ],
             [
              0.4444444444444444,
              "#bd3786"
             ],
             [
              0.5555555555555556,
              "#d8576b"
             ],
             [
              0.6666666666666666,
              "#ed7953"
             ],
             [
              0.7777777777777778,
              "#fb9f3a"
             ],
             [
              0.8888888888888888,
              "#fdca26"
             ],
             [
              1,
              "#f0f921"
             ]
            ],
            "type": "contour"
           }
          ],
          "contourcarpet": [
           {
            "colorbar": {
             "outlinewidth": 0,
             "ticks": ""
            },
            "type": "contourcarpet"
           }
          ],
          "heatmap": [
           {
            "colorbar": {
             "outlinewidth": 0,
             "ticks": ""
            },
            "colorscale": [
             [
              0,
              "#0d0887"
             ],
             [
              0.1111111111111111,
              "#46039f"
             ],
             [
              0.2222222222222222,
              "#7201a8"
             ],
             [
              0.3333333333333333,
              "#9c179e"
             ],
             [
              0.4444444444444444,
              "#bd3786"
             ],
             [
              0.5555555555555556,
              "#d8576b"
             ],
             [
              0.6666666666666666,
              "#ed7953"
             ],
             [
              0.7777777777777778,
              "#fb9f3a"
             ],
             [
              0.8888888888888888,
              "#fdca26"
             ],
             [
              1,
              "#f0f921"
             ]
            ],
            "type": "heatmap"
           }
          ],
          "heatmapgl": [
           {
            "colorbar": {
             "outlinewidth": 0,
             "ticks": ""
            },
            "colorscale": [
             [
              0,
              "#0d0887"
             ],
             [
              0.1111111111111111,
              "#46039f"
             ],
             [
              0.2222222222222222,
              "#7201a8"
             ],
             [
              0.3333333333333333,
              "#9c179e"
             ],
             [
              0.4444444444444444,
              "#bd3786"
             ],
             [
              0.5555555555555556,
              "#d8576b"
             ],
             [
              0.6666666666666666,
              "#ed7953"
             ],
             [
              0.7777777777777778,
              "#fb9f3a"
             ],
             [
              0.8888888888888888,
              "#fdca26"
             ],
             [
              1,
              "#f0f921"
             ]
            ],
            "type": "heatmapgl"
           }
          ],
          "histogram": [
           {
            "marker": {
             "pattern": {
              "fillmode": "overlay",
              "size": 10,
              "solidity": 0.2
             }
            },
            "type": "histogram"
           }
          ],
          "histogram2d": [
           {
            "colorbar": {
             "outlinewidth": 0,
             "ticks": ""
            },
            "colorscale": [
             [
              0,
              "#0d0887"
             ],
             [
              0.1111111111111111,
              "#46039f"
             ],
             [
              0.2222222222222222,
              "#7201a8"
             ],
             [
              0.3333333333333333,
              "#9c179e"
             ],
             [
              0.4444444444444444,
              "#bd3786"
             ],
             [
              0.5555555555555556,
              "#d8576b"
             ],
             [
              0.6666666666666666,
              "#ed7953"
             ],
             [
              0.7777777777777778,
              "#fb9f3a"
             ],
             [
              0.8888888888888888,
              "#fdca26"
             ],
             [
              1,
              "#f0f921"
             ]
            ],
            "type": "histogram2d"
           }
          ],
          "histogram2dcontour": [
           {
            "colorbar": {
             "outlinewidth": 0,
             "ticks": ""
            },
            "colorscale": [
             [
              0,
              "#0d0887"
             ],
             [
              0.1111111111111111,
              "#46039f"
             ],
             [
              0.2222222222222222,
              "#7201a8"
             ],
             [
              0.3333333333333333,
              "#9c179e"
             ],
             [
              0.4444444444444444,
              "#bd3786"
             ],
             [
              0.5555555555555556,
              "#d8576b"
             ],
             [
              0.6666666666666666,
              "#ed7953"
             ],
             [
              0.7777777777777778,
              "#fb9f3a"
             ],
             [
              0.8888888888888888,
              "#fdca26"
             ],
             [
              1,
              "#f0f921"
             ]
            ],
            "type": "histogram2dcontour"
           }
          ],
          "mesh3d": [
           {
            "colorbar": {
             "outlinewidth": 0,
             "ticks": ""
            },
            "type": "mesh3d"
           }
          ],
          "parcoords": [
           {
            "line": {
             "colorbar": {
              "outlinewidth": 0,
              "ticks": ""
             }
            },
            "type": "parcoords"
           }
          ],
          "pie": [
           {
            "automargin": true,
            "type": "pie"
           }
          ],
          "scatter": [
           {
            "fillpattern": {
             "fillmode": "overlay",
             "size": 10,
             "solidity": 0.2
            },
            "type": "scatter"
           }
          ],
          "scatter3d": [
           {
            "line": {
             "colorbar": {
              "outlinewidth": 0,
              "ticks": ""
             }
            },
            "marker": {
             "colorbar": {
              "outlinewidth": 0,
              "ticks": ""
             }
            },
            "type": "scatter3d"
           }
          ],
          "scattercarpet": [
           {
            "marker": {
             "colorbar": {
              "outlinewidth": 0,
              "ticks": ""
             }
            },
            "type": "scattercarpet"
           }
          ],
          "scattergeo": [
           {
            "marker": {
             "colorbar": {
              "outlinewidth": 0,
              "ticks": ""
             }
            },
            "type": "scattergeo"
           }
          ],
          "scattergl": [
           {
            "marker": {
             "colorbar": {
              "outlinewidth": 0,
              "ticks": ""
             }
            },
            "type": "scattergl"
           }
          ],
          "scattermapbox": [
           {
            "marker": {
             "colorbar": {
              "outlinewidth": 0,
              "ticks": ""
             }
            },
            "type": "scattermapbox"
           }
          ],
          "scatterpolar": [
           {
            "marker": {
             "colorbar": {
              "outlinewidth": 0,
              "ticks": ""
             }
            },
            "type": "scatterpolar"
           }
          ],
          "scatterpolargl": [
           {
            "marker": {
             "colorbar": {
              "outlinewidth": 0,
              "ticks": ""
             }
            },
            "type": "scatterpolargl"
           }
          ],
          "scatterternary": [
           {
            "marker": {
             "colorbar": {
              "outlinewidth": 0,
              "ticks": ""
             }
            },
            "type": "scatterternary"
           }
          ],
          "surface": [
           {
            "colorbar": {
             "outlinewidth": 0,
             "ticks": ""
            },
            "colorscale": [
             [
              0,
              "#0d0887"
             ],
             [
              0.1111111111111111,
              "#46039f"
             ],
             [
              0.2222222222222222,
              "#7201a8"
             ],
             [
              0.3333333333333333,
              "#9c179e"
             ],
             [
              0.4444444444444444,
              "#bd3786"
             ],
             [
              0.5555555555555556,
              "#d8576b"
             ],
             [
              0.6666666666666666,
              "#ed7953"
             ],
             [
              0.7777777777777778,
              "#fb9f3a"
             ],
             [
              0.8888888888888888,
              "#fdca26"
             ],
             [
              1,
              "#f0f921"
             ]
            ],
            "type": "surface"
           }
          ],
          "table": [
           {
            "cells": {
             "fill": {
              "color": "#EBF0F8"
             },
             "line": {
              "color": "white"
             }
            },
            "header": {
             "fill": {
              "color": "#C8D4E3"
             },
             "line": {
              "color": "white"
             }
            },
            "type": "table"
           }
          ]
         },
         "layout": {
          "annotationdefaults": {
           "arrowcolor": "#2a3f5f",
           "arrowhead": 0,
           "arrowwidth": 1
          },
          "autotypenumbers": "strict",
          "coloraxis": {
           "colorbar": {
            "outlinewidth": 0,
            "ticks": ""
           }
          },
          "colorscale": {
           "diverging": [
            [
             0,
             "#8e0152"
            ],
            [
             0.1,
             "#c51b7d"
            ],
            [
             0.2,
             "#de77ae"
            ],
            [
             0.3,
             "#f1b6da"
            ],
            [
             0.4,
             "#fde0ef"
            ],
            [
             0.5,
             "#f7f7f7"
            ],
            [
             0.6,
             "#e6f5d0"
            ],
            [
             0.7,
             "#b8e186"
            ],
            [
             0.8,
             "#7fbc41"
            ],
            [
             0.9,
             "#4d9221"
            ],
            [
             1,
             "#276419"
            ]
           ],
           "sequential": [
            [
             0,
             "#0d0887"
            ],
            [
             0.1111111111111111,
             "#46039f"
            ],
            [
             0.2222222222222222,
             "#7201a8"
            ],
            [
             0.3333333333333333,
             "#9c179e"
            ],
            [
             0.4444444444444444,
             "#bd3786"
            ],
            [
             0.5555555555555556,
             "#d8576b"
            ],
            [
             0.6666666666666666,
             "#ed7953"
            ],
            [
             0.7777777777777778,
             "#fb9f3a"
            ],
            [
             0.8888888888888888,
             "#fdca26"
            ],
            [
             1,
             "#f0f921"
            ]
           ],
           "sequentialminus": [
            [
             0,
             "#0d0887"
            ],
            [
             0.1111111111111111,
             "#46039f"
            ],
            [
             0.2222222222222222,
             "#7201a8"
            ],
            [
             0.3333333333333333,
             "#9c179e"
            ],
            [
             0.4444444444444444,
             "#bd3786"
            ],
            [
             0.5555555555555556,
             "#d8576b"
            ],
            [
             0.6666666666666666,
             "#ed7953"
            ],
            [
             0.7777777777777778,
             "#fb9f3a"
            ],
            [
             0.8888888888888888,
             "#fdca26"
            ],
            [
             1,
             "#f0f921"
            ]
           ]
          },
          "colorway": [
           "#636efa",
           "#EF553B",
           "#00cc96",
           "#ab63fa",
           "#FFA15A",
           "#19d3f3",
           "#FF6692",
           "#B6E880",
           "#FF97FF",
           "#FECB52"
          ],
          "font": {
           "color": "#2a3f5f"
          },
          "geo": {
           "bgcolor": "white",
           "lakecolor": "white",
           "landcolor": "#E5ECF6",
           "showlakes": true,
           "showland": true,
           "subunitcolor": "white"
          },
          "hoverlabel": {
           "align": "left"
          },
          "hovermode": "closest",
          "mapbox": {
           "style": "light"
          },
          "paper_bgcolor": "white",
          "plot_bgcolor": "#E5ECF6",
          "polar": {
           "angularaxis": {
            "gridcolor": "white",
            "linecolor": "white",
            "ticks": ""
           },
           "bgcolor": "#E5ECF6",
           "radialaxis": {
            "gridcolor": "white",
            "linecolor": "white",
            "ticks": ""
           }
          },
          "scene": {
           "xaxis": {
            "backgroundcolor": "#E5ECF6",
            "gridcolor": "white",
            "gridwidth": 2,
            "linecolor": "white",
            "showbackground": true,
            "ticks": "",
            "zerolinecolor": "white"
           },
           "yaxis": {
            "backgroundcolor": "#E5ECF6",
            "gridcolor": "white",
            "gridwidth": 2,
            "linecolor": "white",
            "showbackground": true,
            "ticks": "",
            "zerolinecolor": "white"
           },
           "zaxis": {
            "backgroundcolor": "#E5ECF6",
            "gridcolor": "white",
            "gridwidth": 2,
            "linecolor": "white",
            "showbackground": true,
            "ticks": "",
            "zerolinecolor": "white"
           }
          },
          "shapedefaults": {
           "line": {
            "color": "#2a3f5f"
           }
          },
          "ternary": {
           "aaxis": {
            "gridcolor": "white",
            "linecolor": "white",
            "ticks": ""
           },
           "baxis": {
            "gridcolor": "white",
            "linecolor": "white",
            "ticks": ""
           },
           "bgcolor": "#E5ECF6",
           "caxis": {
            "gridcolor": "white",
            "linecolor": "white",
            "ticks": ""
           }
          },
          "title": {
           "x": 0.05
          },
          "xaxis": {
           "automargin": true,
           "gridcolor": "white",
           "linecolor": "white",
           "ticks": "",
           "title": {
            "standoff": 15
           },
           "zerolinecolor": "white",
           "zerolinewidth": 2
          },
          "yaxis": {
           "automargin": true,
           "gridcolor": "white",
           "linecolor": "white",
           "ticks": "",
           "title": {
            "standoff": 15
           },
           "zerolinecolor": "white",
           "zerolinewidth": 2
          }
         }
        },
        "width": 500,
        "yaxis": {
         "scaleanchor": "x",
         "scaleratio": 1
        }
       }
      }
     },
     "metadata": {},
     "output_type": "display_data"
    },
    {
     "data": {
      "application/vnd.plotly.v1+json": {
       "config": {
        "plotlyServerURL": "https://plot.ly"
       },
       "data": [
        {
         "hovertemplate": "x=%{x}<br>y=%{y}<br>text=%{text}<extra></extra>",
         "legendgroup": "",
         "marker": {
          "color": "#636efa",
          "symbol": "circle"
         },
         "mode": "markers+text",
         "name": "",
         "orientation": "v",
         "showlegend": false,
         "text": [
          0,
          1,
          2,
          3,
          4,
          5,
          6,
          7,
          8,
          9,
          10,
          11,
          12,
          13,
          14,
          15,
          16,
          17,
          18,
          19,
          20,
          21,
          22,
          23,
          24,
          25,
          26,
          27,
          28,
          29,
          30,
          31,
          32,
          33,
          34,
          35
         ],
         "textposition": "top center",
         "type": "scatter",
         "x": [
          -0.8660254037844386,
          -0.618589574131742,
          -0.37115374447904514,
          -0.12371791482634842,
          0.12371791482634831,
          0.3711537444790451,
          0.6185895741317419,
          0.8660254037844386,
          -0.7423074889580902,
          -0.49487165930539334,
          -0.24743582965269673,
          0,
          0.24743582965269673,
          0.49487165930539345,
          0.7423074889580902,
          -0.6185895741317419,
          -0.37115374447904514,
          -0.12371791482634842,
          0.12371791482634836,
          0.37115374447904514,
          0.6185895741317419,
          -0.49487165930539345,
          -0.24743582965269673,
          0,
          0.24743582965269673,
          0.49487165930539345,
          -0.3711537444790451,
          -0.12371791482634836,
          0.12371791482634836,
          0.3711537444790451,
          -0.24743582965269673,
          0,
          0.24743582965269673,
          -0.12371791482634831,
          0.12371791482634831,
          0
         ],
         "xaxis": "x",
         "y": [
          0.5,
          0.5,
          0.5,
          0.5,
          0.5,
          0.5,
          0.5,
          0.5,
          0.2857142857142857,
          0.2857142857142857,
          0.2857142857142857,
          0.2857142857142857,
          0.2857142857142857,
          0.2857142857142857,
          0.2857142857142857,
          0.07142857142857145,
          0.07142857142857145,
          0.07142857142857145,
          0.07142857142857145,
          0.07142857142857145,
          0.07142857142857145,
          -0.1428571428571428,
          -0.1428571428571428,
          -0.1428571428571428,
          -0.1428571428571428,
          -0.1428571428571428,
          -0.3571428571428571,
          -0.3571428571428571,
          -0.3571428571428571,
          -0.3571428571428571,
          -0.5714285714285714,
          -0.5714285714285714,
          -0.5714285714285714,
          -0.7857142857142856,
          -0.7857142857142856,
          -1
         ],
         "yaxis": "y"
        },
        {
         "hovertemplate": "x=%{x}<br>y=%{y}<extra></extra>",
         "legendgroup": "",
         "line": {
          "color": "#636efa",
          "dash": "solid"
         },
         "marker": {
          "symbol": "circle"
         },
         "mode": "lines",
         "name": "",
         "orientation": "v",
         "showlegend": false,
         "textposition": "top center",
         "type": "scatter",
         "x": [
          -0.3711537444790451,
          -0.12371791482634836,
          -0.24743582965269673,
          -0.12371791482634831,
          0,
          0.12371791482634836,
          0,
          -0.24743582965269673,
          -0.12371791482634842,
          -0.37115374447904514,
          -0.49487165930539334,
          -0.618589574131742,
          -0.37115374447904514,
          -0.12371791482634842,
          -0.24743582965269673,
          0,
          0.24743582965269673,
          0.12371791482634836,
          0.24743582965269673,
          0.37115374447904514,
          0.49487165930539345,
          0.7423074889580902,
          0.6185895741317419,
          0.49487165930539345
         ],
         "xaxis": "x",
         "y": [
          -0.3571428571428571,
          -0.3571428571428571,
          -0.5714285714285714,
          -0.7857142857142856,
          -0.5714285714285714,
          -0.3571428571428571,
          -0.1428571428571428,
          -0.1428571428571428,
          0.07142857142857145,
          0.07142857142857145,
          0.2857142857142857,
          0.5,
          0.5,
          0.5,
          0.2857142857142857,
          0.2857142857142857,
          0.2857142857142857,
          0.07142857142857145,
          -0.1428571428571428,
          0.07142857142857145,
          0.2857142857142857,
          0.2857142857142857,
          0.07142857142857145,
          -0.1428571428571428
         ],
         "yaxis": "y"
        }
       ],
       "layout": {
        "height": 500,
        "template": {
         "data": {
          "bar": [
           {
            "error_x": {
             "color": "#2a3f5f"
            },
            "error_y": {
             "color": "#2a3f5f"
            },
            "marker": {
             "line": {
              "color": "#E5ECF6",
              "width": 0.5
             },
             "pattern": {
              "fillmode": "overlay",
              "size": 10,
              "solidity": 0.2
             }
            },
            "type": "bar"
           }
          ],
          "barpolar": [
           {
            "marker": {
             "line": {
              "color": "#E5ECF6",
              "width": 0.5
             },
             "pattern": {
              "fillmode": "overlay",
              "size": 10,
              "solidity": 0.2
             }
            },
            "type": "barpolar"
           }
          ],
          "carpet": [
           {
            "aaxis": {
             "endlinecolor": "#2a3f5f",
             "gridcolor": "white",
             "linecolor": "white",
             "minorgridcolor": "white",
             "startlinecolor": "#2a3f5f"
            },
            "baxis": {
             "endlinecolor": "#2a3f5f",
             "gridcolor": "white",
             "linecolor": "white",
             "minorgridcolor": "white",
             "startlinecolor": "#2a3f5f"
            },
            "type": "carpet"
           }
          ],
          "choropleth": [
           {
            "colorbar": {
             "outlinewidth": 0,
             "ticks": ""
            },
            "type": "choropleth"
           }
          ],
          "contour": [
           {
            "colorbar": {
             "outlinewidth": 0,
             "ticks": ""
            },
            "colorscale": [
             [
              0,
              "#0d0887"
             ],
             [
              0.1111111111111111,
              "#46039f"
             ],
             [
              0.2222222222222222,
              "#7201a8"
             ],
             [
              0.3333333333333333,
              "#9c179e"
             ],
             [
              0.4444444444444444,
              "#bd3786"
             ],
             [
              0.5555555555555556,
              "#d8576b"
             ],
             [
              0.6666666666666666,
              "#ed7953"
             ],
             [
              0.7777777777777778,
              "#fb9f3a"
             ],
             [
              0.8888888888888888,
              "#fdca26"
             ],
             [
              1,
              "#f0f921"
             ]
            ],
            "type": "contour"
           }
          ],
          "contourcarpet": [
           {
            "colorbar": {
             "outlinewidth": 0,
             "ticks": ""
            },
            "type": "contourcarpet"
           }
          ],
          "heatmap": [
           {
            "colorbar": {
             "outlinewidth": 0,
             "ticks": ""
            },
            "colorscale": [
             [
              0,
              "#0d0887"
             ],
             [
              0.1111111111111111,
              "#46039f"
             ],
             [
              0.2222222222222222,
              "#7201a8"
             ],
             [
              0.3333333333333333,
              "#9c179e"
             ],
             [
              0.4444444444444444,
              "#bd3786"
             ],
             [
              0.5555555555555556,
              "#d8576b"
             ],
             [
              0.6666666666666666,
              "#ed7953"
             ],
             [
              0.7777777777777778,
              "#fb9f3a"
             ],
             [
              0.8888888888888888,
              "#fdca26"
             ],
             [
              1,
              "#f0f921"
             ]
            ],
            "type": "heatmap"
           }
          ],
          "heatmapgl": [
           {
            "colorbar": {
             "outlinewidth": 0,
             "ticks": ""
            },
            "colorscale": [
             [
              0,
              "#0d0887"
             ],
             [
              0.1111111111111111,
              "#46039f"
             ],
             [
              0.2222222222222222,
              "#7201a8"
             ],
             [
              0.3333333333333333,
              "#9c179e"
             ],
             [
              0.4444444444444444,
              "#bd3786"
             ],
             [
              0.5555555555555556,
              "#d8576b"
             ],
             [
              0.6666666666666666,
              "#ed7953"
             ],
             [
              0.7777777777777778,
              "#fb9f3a"
             ],
             [
              0.8888888888888888,
              "#fdca26"
             ],
             [
              1,
              "#f0f921"
             ]
            ],
            "type": "heatmapgl"
           }
          ],
          "histogram": [
           {
            "marker": {
             "pattern": {
              "fillmode": "overlay",
              "size": 10,
              "solidity": 0.2
             }
            },
            "type": "histogram"
           }
          ],
          "histogram2d": [
           {
            "colorbar": {
             "outlinewidth": 0,
             "ticks": ""
            },
            "colorscale": [
             [
              0,
              "#0d0887"
             ],
             [
              0.1111111111111111,
              "#46039f"
             ],
             [
              0.2222222222222222,
              "#7201a8"
             ],
             [
              0.3333333333333333,
              "#9c179e"
             ],
             [
              0.4444444444444444,
              "#bd3786"
             ],
             [
              0.5555555555555556,
              "#d8576b"
             ],
             [
              0.6666666666666666,
              "#ed7953"
             ],
             [
              0.7777777777777778,
              "#fb9f3a"
             ],
             [
              0.8888888888888888,
              "#fdca26"
             ],
             [
              1,
              "#f0f921"
             ]
            ],
            "type": "histogram2d"
           }
          ],
          "histogram2dcontour": [
           {
            "colorbar": {
             "outlinewidth": 0,
             "ticks": ""
            },
            "colorscale": [
             [
              0,
              "#0d0887"
             ],
             [
              0.1111111111111111,
              "#46039f"
             ],
             [
              0.2222222222222222,
              "#7201a8"
             ],
             [
              0.3333333333333333,
              "#9c179e"
             ],
             [
              0.4444444444444444,
              "#bd3786"
             ],
             [
              0.5555555555555556,
              "#d8576b"
             ],
             [
              0.6666666666666666,
              "#ed7953"
             ],
             [
              0.7777777777777778,
              "#fb9f3a"
             ],
             [
              0.8888888888888888,
              "#fdca26"
             ],
             [
              1,
              "#f0f921"
             ]
            ],
            "type": "histogram2dcontour"
           }
          ],
          "mesh3d": [
           {
            "colorbar": {
             "outlinewidth": 0,
             "ticks": ""
            },
            "type": "mesh3d"
           }
          ],
          "parcoords": [
           {
            "line": {
             "colorbar": {
              "outlinewidth": 0,
              "ticks": ""
             }
            },
            "type": "parcoords"
           }
          ],
          "pie": [
           {
            "automargin": true,
            "type": "pie"
           }
          ],
          "scatter": [
           {
            "fillpattern": {
             "fillmode": "overlay",
             "size": 10,
             "solidity": 0.2
            },
            "type": "scatter"
           }
          ],
          "scatter3d": [
           {
            "line": {
             "colorbar": {
              "outlinewidth": 0,
              "ticks": ""
             }
            },
            "marker": {
             "colorbar": {
              "outlinewidth": 0,
              "ticks": ""
             }
            },
            "type": "scatter3d"
           }
          ],
          "scattercarpet": [
           {
            "marker": {
             "colorbar": {
              "outlinewidth": 0,
              "ticks": ""
             }
            },
            "type": "scattercarpet"
           }
          ],
          "scattergeo": [
           {
            "marker": {
             "colorbar": {
              "outlinewidth": 0,
              "ticks": ""
             }
            },
            "type": "scattergeo"
           }
          ],
          "scattergl": [
           {
            "marker": {
             "colorbar": {
              "outlinewidth": 0,
              "ticks": ""
             }
            },
            "type": "scattergl"
           }
          ],
          "scattermapbox": [
           {
            "marker": {
             "colorbar": {
              "outlinewidth": 0,
              "ticks": ""
             }
            },
            "type": "scattermapbox"
           }
          ],
          "scatterpolar": [
           {
            "marker": {
             "colorbar": {
              "outlinewidth": 0,
              "ticks": ""
             }
            },
            "type": "scatterpolar"
           }
          ],
          "scatterpolargl": [
           {
            "marker": {
             "colorbar": {
              "outlinewidth": 0,
              "ticks": ""
             }
            },
            "type": "scatterpolargl"
           }
          ],
          "scatterternary": [
           {
            "marker": {
             "colorbar": {
              "outlinewidth": 0,
              "ticks": ""
             }
            },
            "type": "scatterternary"
           }
          ],
          "surface": [
           {
            "colorbar": {
             "outlinewidth": 0,
             "ticks": ""
            },
            "colorscale": [
             [
              0,
              "#0d0887"
             ],
             [
              0.1111111111111111,
              "#46039f"
             ],
             [
              0.2222222222222222,
              "#7201a8"
             ],
             [
              0.3333333333333333,
              "#9c179e"
             ],
             [
              0.4444444444444444,
              "#bd3786"
             ],
             [
              0.5555555555555556,
              "#d8576b"
             ],
             [
              0.6666666666666666,
              "#ed7953"
             ],
             [
              0.7777777777777778,
              "#fb9f3a"
             ],
             [
              0.8888888888888888,
              "#fdca26"
             ],
             [
              1,
              "#f0f921"
             ]
            ],
            "type": "surface"
           }
          ],
          "table": [
           {
            "cells": {
             "fill": {
              "color": "#EBF0F8"
             },
             "line": {
              "color": "white"
             }
            },
            "header": {
             "fill": {
              "color": "#C8D4E3"
             },
             "line": {
              "color": "white"
             }
            },
            "type": "table"
           }
          ]
         },
         "layout": {
          "annotationdefaults": {
           "arrowcolor": "#2a3f5f",
           "arrowhead": 0,
           "arrowwidth": 1
          },
          "autotypenumbers": "strict",
          "coloraxis": {
           "colorbar": {
            "outlinewidth": 0,
            "ticks": ""
           }
          },
          "colorscale": {
           "diverging": [
            [
             0,
             "#8e0152"
            ],
            [
             0.1,
             "#c51b7d"
            ],
            [
             0.2,
             "#de77ae"
            ],
            [
             0.3,
             "#f1b6da"
            ],
            [
             0.4,
             "#fde0ef"
            ],
            [
             0.5,
             "#f7f7f7"
            ],
            [
             0.6,
             "#e6f5d0"
            ],
            [
             0.7,
             "#b8e186"
            ],
            [
             0.8,
             "#7fbc41"
            ],
            [
             0.9,
             "#4d9221"
            ],
            [
             1,
             "#276419"
            ]
           ],
           "sequential": [
            [
             0,
             "#0d0887"
            ],
            [
             0.1111111111111111,
             "#46039f"
            ],
            [
             0.2222222222222222,
             "#7201a8"
            ],
            [
             0.3333333333333333,
             "#9c179e"
            ],
            [
             0.4444444444444444,
             "#bd3786"
            ],
            [
             0.5555555555555556,
             "#d8576b"
            ],
            [
             0.6666666666666666,
             "#ed7953"
            ],
            [
             0.7777777777777778,
             "#fb9f3a"
            ],
            [
             0.8888888888888888,
             "#fdca26"
            ],
            [
             1,
             "#f0f921"
            ]
           ],
           "sequentialminus": [
            [
             0,
             "#0d0887"
            ],
            [
             0.1111111111111111,
             "#46039f"
            ],
            [
             0.2222222222222222,
             "#7201a8"
            ],
            [
             0.3333333333333333,
             "#9c179e"
            ],
            [
             0.4444444444444444,
             "#bd3786"
            ],
            [
             0.5555555555555556,
             "#d8576b"
            ],
            [
             0.6666666666666666,
             "#ed7953"
            ],
            [
             0.7777777777777778,
             "#fb9f3a"
            ],
            [
             0.8888888888888888,
             "#fdca26"
            ],
            [
             1,
             "#f0f921"
            ]
           ]
          },
          "colorway": [
           "#636efa",
           "#EF553B",
           "#00cc96",
           "#ab63fa",
           "#FFA15A",
           "#19d3f3",
           "#FF6692",
           "#B6E880",
           "#FF97FF",
           "#FECB52"
          ],
          "font": {
           "color": "#2a3f5f"
          },
          "geo": {
           "bgcolor": "white",
           "lakecolor": "white",
           "landcolor": "#E5ECF6",
           "showlakes": true,
           "showland": true,
           "subunitcolor": "white"
          },
          "hoverlabel": {
           "align": "left"
          },
          "hovermode": "closest",
          "mapbox": {
           "style": "light"
          },
          "paper_bgcolor": "white",
          "plot_bgcolor": "#E5ECF6",
          "polar": {
           "angularaxis": {
            "gridcolor": "white",
            "linecolor": "white",
            "ticks": ""
           },
           "bgcolor": "#E5ECF6",
           "radialaxis": {
            "gridcolor": "white",
            "linecolor": "white",
            "ticks": ""
           }
          },
          "scene": {
           "xaxis": {
            "backgroundcolor": "#E5ECF6",
            "gridcolor": "white",
            "gridwidth": 2,
            "linecolor": "white",
            "showbackground": true,
            "ticks": "",
            "zerolinecolor": "white"
           },
           "yaxis": {
            "backgroundcolor": "#E5ECF6",
            "gridcolor": "white",
            "gridwidth": 2,
            "linecolor": "white",
            "showbackground": true,
            "ticks": "",
            "zerolinecolor": "white"
           },
           "zaxis": {
            "backgroundcolor": "#E5ECF6",
            "gridcolor": "white",
            "gridwidth": 2,
            "linecolor": "white",
            "showbackground": true,
            "ticks": "",
            "zerolinecolor": "white"
           }
          },
          "shapedefaults": {
           "line": {
            "color": "#2a3f5f"
           }
          },
          "ternary": {
           "aaxis": {
            "gridcolor": "white",
            "linecolor": "white",
            "ticks": ""
           },
           "baxis": {
            "gridcolor": "white",
            "linecolor": "white",
            "ticks": ""
           },
           "bgcolor": "#E5ECF6",
           "caxis": {
            "gridcolor": "white",
            "linecolor": "white",
            "ticks": ""
           }
          },
          "title": {
           "x": 0.05
          },
          "xaxis": {
           "automargin": true,
           "gridcolor": "white",
           "linecolor": "white",
           "ticks": "",
           "title": {
            "standoff": 15
           },
           "zerolinecolor": "white",
           "zerolinewidth": 2
          },
          "yaxis": {
           "automargin": true,
           "gridcolor": "white",
           "linecolor": "white",
           "ticks": "",
           "title": {
            "standoff": 15
           },
           "zerolinecolor": "white",
           "zerolinewidth": 2
          }
         }
        },
        "width": 500,
        "yaxis": {
         "scaleanchor": "x",
         "scaleratio": 1
        }
       }
      }
     },
     "metadata": {},
     "output_type": "display_data"
    },
    {
     "data": {
      "application/vnd.plotly.v1+json": {
       "config": {
        "plotlyServerURL": "https://plot.ly"
       },
       "data": [
        {
         "hovertemplate": "x=%{x}<br>y=%{y}<br>text=%{text}<extra></extra>",
         "legendgroup": "",
         "marker": {
          "color": "#636efa",
          "symbol": "circle"
         },
         "mode": "markers+text",
         "name": "",
         "orientation": "v",
         "showlegend": false,
         "text": [
          0,
          1,
          2,
          3,
          4,
          5,
          6,
          7,
          8,
          9,
          10,
          11,
          12,
          13,
          14,
          15,
          16,
          17,
          18,
          19,
          20,
          21,
          22,
          23,
          24,
          25,
          26,
          27,
          28,
          29,
          30,
          31,
          32,
          33,
          34,
          35
         ],
         "textposition": "top center",
         "type": "scatter",
         "x": [
          -0.8660254037844386,
          -0.618589574131742,
          -0.37115374447904514,
          -0.12371791482634842,
          0.12371791482634831,
          0.3711537444790451,
          0.6185895741317419,
          0.8660254037844386,
          -0.7423074889580902,
          -0.49487165930539334,
          -0.24743582965269673,
          0,
          0.24743582965269673,
          0.49487165930539345,
          0.7423074889580902,
          -0.6185895741317419,
          -0.37115374447904514,
          -0.12371791482634842,
          0.12371791482634836,
          0.37115374447904514,
          0.6185895741317419,
          -0.49487165930539345,
          -0.24743582965269673,
          0,
          0.24743582965269673,
          0.49487165930539345,
          -0.3711537444790451,
          -0.12371791482634836,
          0.12371791482634836,
          0.3711537444790451,
          -0.24743582965269673,
          0,
          0.24743582965269673,
          -0.12371791482634831,
          0.12371791482634831,
          0
         ],
         "xaxis": "x",
         "y": [
          0.5,
          0.5,
          0.5,
          0.5,
          0.5,
          0.5,
          0.5,
          0.5,
          0.2857142857142857,
          0.2857142857142857,
          0.2857142857142857,
          0.2857142857142857,
          0.2857142857142857,
          0.2857142857142857,
          0.2857142857142857,
          0.07142857142857145,
          0.07142857142857145,
          0.07142857142857145,
          0.07142857142857145,
          0.07142857142857145,
          0.07142857142857145,
          -0.1428571428571428,
          -0.1428571428571428,
          -0.1428571428571428,
          -0.1428571428571428,
          -0.1428571428571428,
          -0.3571428571428571,
          -0.3571428571428571,
          -0.3571428571428571,
          -0.3571428571428571,
          -0.5714285714285714,
          -0.5714285714285714,
          -0.5714285714285714,
          -0.7857142857142856,
          -0.7857142857142856,
          -1
         ],
         "yaxis": "y"
        },
        {
         "hovertemplate": "x=%{x}<br>y=%{y}<extra></extra>",
         "legendgroup": "",
         "line": {
          "color": "#636efa",
          "dash": "solid"
         },
         "marker": {
          "symbol": "circle"
         },
         "mode": "lines",
         "name": "",
         "orientation": "v",
         "showlegend": false,
         "textposition": "top center",
         "type": "scatter",
         "x": [
          -0.3711537444790451,
          -0.12371791482634836,
          -0.24743582965269673,
          -0.12371791482634831,
          0,
          0.12371791482634836,
          0,
          -0.24743582965269673,
          -0.12371791482634842,
          -0.37115374447904514,
          -0.49487165930539334,
          -0.618589574131742,
          -0.37115374447904514,
          -0.12371791482634842,
          -0.24743582965269673,
          0,
          0.12371791482634836,
          0.24743582965269673,
          0.37115374447904514,
          0.24743582965269673,
          0.49487165930539345,
          0.7423074889580902,
          0.6185895741317419,
          0.49487165930539345
         ],
         "xaxis": "x",
         "y": [
          -0.3571428571428571,
          -0.3571428571428571,
          -0.5714285714285714,
          -0.7857142857142856,
          -0.5714285714285714,
          -0.3571428571428571,
          -0.1428571428571428,
          -0.1428571428571428,
          0.07142857142857145,
          0.07142857142857145,
          0.2857142857142857,
          0.5,
          0.5,
          0.5,
          0.2857142857142857,
          0.2857142857142857,
          0.07142857142857145,
          -0.1428571428571428,
          0.07142857142857145,
          0.2857142857142857,
          0.2857142857142857,
          0.2857142857142857,
          0.07142857142857145,
          -0.1428571428571428
         ],
         "yaxis": "y"
        }
       ],
       "layout": {
        "height": 500,
        "template": {
         "data": {
          "bar": [
           {
            "error_x": {
             "color": "#2a3f5f"
            },
            "error_y": {
             "color": "#2a3f5f"
            },
            "marker": {
             "line": {
              "color": "#E5ECF6",
              "width": 0.5
             },
             "pattern": {
              "fillmode": "overlay",
              "size": 10,
              "solidity": 0.2
             }
            },
            "type": "bar"
           }
          ],
          "barpolar": [
           {
            "marker": {
             "line": {
              "color": "#E5ECF6",
              "width": 0.5
             },
             "pattern": {
              "fillmode": "overlay",
              "size": 10,
              "solidity": 0.2
             }
            },
            "type": "barpolar"
           }
          ],
          "carpet": [
           {
            "aaxis": {
             "endlinecolor": "#2a3f5f",
             "gridcolor": "white",
             "linecolor": "white",
             "minorgridcolor": "white",
             "startlinecolor": "#2a3f5f"
            },
            "baxis": {
             "endlinecolor": "#2a3f5f",
             "gridcolor": "white",
             "linecolor": "white",
             "minorgridcolor": "white",
             "startlinecolor": "#2a3f5f"
            },
            "type": "carpet"
           }
          ],
          "choropleth": [
           {
            "colorbar": {
             "outlinewidth": 0,
             "ticks": ""
            },
            "type": "choropleth"
           }
          ],
          "contour": [
           {
            "colorbar": {
             "outlinewidth": 0,
             "ticks": ""
            },
            "colorscale": [
             [
              0,
              "#0d0887"
             ],
             [
              0.1111111111111111,
              "#46039f"
             ],
             [
              0.2222222222222222,
              "#7201a8"
             ],
             [
              0.3333333333333333,
              "#9c179e"
             ],
             [
              0.4444444444444444,
              "#bd3786"
             ],
             [
              0.5555555555555556,
              "#d8576b"
             ],
             [
              0.6666666666666666,
              "#ed7953"
             ],
             [
              0.7777777777777778,
              "#fb9f3a"
             ],
             [
              0.8888888888888888,
              "#fdca26"
             ],
             [
              1,
              "#f0f921"
             ]
            ],
            "type": "contour"
           }
          ],
          "contourcarpet": [
           {
            "colorbar": {
             "outlinewidth": 0,
             "ticks": ""
            },
            "type": "contourcarpet"
           }
          ],
          "heatmap": [
           {
            "colorbar": {
             "outlinewidth": 0,
             "ticks": ""
            },
            "colorscale": [
             [
              0,
              "#0d0887"
             ],
             [
              0.1111111111111111,
              "#46039f"
             ],
             [
              0.2222222222222222,
              "#7201a8"
             ],
             [
              0.3333333333333333,
              "#9c179e"
             ],
             [
              0.4444444444444444,
              "#bd3786"
             ],
             [
              0.5555555555555556,
              "#d8576b"
             ],
             [
              0.6666666666666666,
              "#ed7953"
             ],
             [
              0.7777777777777778,
              "#fb9f3a"
             ],
             [
              0.8888888888888888,
              "#fdca26"
             ],
             [
              1,
              "#f0f921"
             ]
            ],
            "type": "heatmap"
           }
          ],
          "heatmapgl": [
           {
            "colorbar": {
             "outlinewidth": 0,
             "ticks": ""
            },
            "colorscale": [
             [
              0,
              "#0d0887"
             ],
             [
              0.1111111111111111,
              "#46039f"
             ],
             [
              0.2222222222222222,
              "#7201a8"
             ],
             [
              0.3333333333333333,
              "#9c179e"
             ],
             [
              0.4444444444444444,
              "#bd3786"
             ],
             [
              0.5555555555555556,
              "#d8576b"
             ],
             [
              0.6666666666666666,
              "#ed7953"
             ],
             [
              0.7777777777777778,
              "#fb9f3a"
             ],
             [
              0.8888888888888888,
              "#fdca26"
             ],
             [
              1,
              "#f0f921"
             ]
            ],
            "type": "heatmapgl"
           }
          ],
          "histogram": [
           {
            "marker": {
             "pattern": {
              "fillmode": "overlay",
              "size": 10,
              "solidity": 0.2
             }
            },
            "type": "histogram"
           }
          ],
          "histogram2d": [
           {
            "colorbar": {
             "outlinewidth": 0,
             "ticks": ""
            },
            "colorscale": [
             [
              0,
              "#0d0887"
             ],
             [
              0.1111111111111111,
              "#46039f"
             ],
             [
              0.2222222222222222,
              "#7201a8"
             ],
             [
              0.3333333333333333,
              "#9c179e"
             ],
             [
              0.4444444444444444,
              "#bd3786"
             ],
             [
              0.5555555555555556,
              "#d8576b"
             ],
             [
              0.6666666666666666,
              "#ed7953"
             ],
             [
              0.7777777777777778,
              "#fb9f3a"
             ],
             [
              0.8888888888888888,
              "#fdca26"
             ],
             [
              1,
              "#f0f921"
             ]
            ],
            "type": "histogram2d"
           }
          ],
          "histogram2dcontour": [
           {
            "colorbar": {
             "outlinewidth": 0,
             "ticks": ""
            },
            "colorscale": [
             [
              0,
              "#0d0887"
             ],
             [
              0.1111111111111111,
              "#46039f"
             ],
             [
              0.2222222222222222,
              "#7201a8"
             ],
             [
              0.3333333333333333,
              "#9c179e"
             ],
             [
              0.4444444444444444,
              "#bd3786"
             ],
             [
              0.5555555555555556,
              "#d8576b"
             ],
             [
              0.6666666666666666,
              "#ed7953"
             ],
             [
              0.7777777777777778,
              "#fb9f3a"
             ],
             [
              0.8888888888888888,
              "#fdca26"
             ],
             [
              1,
              "#f0f921"
             ]
            ],
            "type": "histogram2dcontour"
           }
          ],
          "mesh3d": [
           {
            "colorbar": {
             "outlinewidth": 0,
             "ticks": ""
            },
            "type": "mesh3d"
           }
          ],
          "parcoords": [
           {
            "line": {
             "colorbar": {
              "outlinewidth": 0,
              "ticks": ""
             }
            },
            "type": "parcoords"
           }
          ],
          "pie": [
           {
            "automargin": true,
            "type": "pie"
           }
          ],
          "scatter": [
           {
            "fillpattern": {
             "fillmode": "overlay",
             "size": 10,
             "solidity": 0.2
            },
            "type": "scatter"
           }
          ],
          "scatter3d": [
           {
            "line": {
             "colorbar": {
              "outlinewidth": 0,
              "ticks": ""
             }
            },
            "marker": {
             "colorbar": {
              "outlinewidth": 0,
              "ticks": ""
             }
            },
            "type": "scatter3d"
           }
          ],
          "scattercarpet": [
           {
            "marker": {
             "colorbar": {
              "outlinewidth": 0,
              "ticks": ""
             }
            },
            "type": "scattercarpet"
           }
          ],
          "scattergeo": [
           {
            "marker": {
             "colorbar": {
              "outlinewidth": 0,
              "ticks": ""
             }
            },
            "type": "scattergeo"
           }
          ],
          "scattergl": [
           {
            "marker": {
             "colorbar": {
              "outlinewidth": 0,
              "ticks": ""
             }
            },
            "type": "scattergl"
           }
          ],
          "scattermapbox": [
           {
            "marker": {
             "colorbar": {
              "outlinewidth": 0,
              "ticks": ""
             }
            },
            "type": "scattermapbox"
           }
          ],
          "scatterpolar": [
           {
            "marker": {
             "colorbar": {
              "outlinewidth": 0,
              "ticks": ""
             }
            },
            "type": "scatterpolar"
           }
          ],
          "scatterpolargl": [
           {
            "marker": {
             "colorbar": {
              "outlinewidth": 0,
              "ticks": ""
             }
            },
            "type": "scatterpolargl"
           }
          ],
          "scatterternary": [
           {
            "marker": {
             "colorbar": {
              "outlinewidth": 0,
              "ticks": ""
             }
            },
            "type": "scatterternary"
           }
          ],
          "surface": [
           {
            "colorbar": {
             "outlinewidth": 0,
             "ticks": ""
            },
            "colorscale": [
             [
              0,
              "#0d0887"
             ],
             [
              0.1111111111111111,
              "#46039f"
             ],
             [
              0.2222222222222222,
              "#7201a8"
             ],
             [
              0.3333333333333333,
              "#9c179e"
             ],
             [
              0.4444444444444444,
              "#bd3786"
             ],
             [
              0.5555555555555556,
              "#d8576b"
             ],
             [
              0.6666666666666666,
              "#ed7953"
             ],
             [
              0.7777777777777778,
              "#fb9f3a"
             ],
             [
              0.8888888888888888,
              "#fdca26"
             ],
             [
              1,
              "#f0f921"
             ]
            ],
            "type": "surface"
           }
          ],
          "table": [
           {
            "cells": {
             "fill": {
              "color": "#EBF0F8"
             },
             "line": {
              "color": "white"
             }
            },
            "header": {
             "fill": {
              "color": "#C8D4E3"
             },
             "line": {
              "color": "white"
             }
            },
            "type": "table"
           }
          ]
         },
         "layout": {
          "annotationdefaults": {
           "arrowcolor": "#2a3f5f",
           "arrowhead": 0,
           "arrowwidth": 1
          },
          "autotypenumbers": "strict",
          "coloraxis": {
           "colorbar": {
            "outlinewidth": 0,
            "ticks": ""
           }
          },
          "colorscale": {
           "diverging": [
            [
             0,
             "#8e0152"
            ],
            [
             0.1,
             "#c51b7d"
            ],
            [
             0.2,
             "#de77ae"
            ],
            [
             0.3,
             "#f1b6da"
            ],
            [
             0.4,
             "#fde0ef"
            ],
            [
             0.5,
             "#f7f7f7"
            ],
            [
             0.6,
             "#e6f5d0"
            ],
            [
             0.7,
             "#b8e186"
            ],
            [
             0.8,
             "#7fbc41"
            ],
            [
             0.9,
             "#4d9221"
            ],
            [
             1,
             "#276419"
            ]
           ],
           "sequential": [
            [
             0,
             "#0d0887"
            ],
            [
             0.1111111111111111,
             "#46039f"
            ],
            [
             0.2222222222222222,
             "#7201a8"
            ],
            [
             0.3333333333333333,
             "#9c179e"
            ],
            [
             0.4444444444444444,
             "#bd3786"
            ],
            [
             0.5555555555555556,
             "#d8576b"
            ],
            [
             0.6666666666666666,
             "#ed7953"
            ],
            [
             0.7777777777777778,
             "#fb9f3a"
            ],
            [
             0.8888888888888888,
             "#fdca26"
            ],
            [
             1,
             "#f0f921"
            ]
           ],
           "sequentialminus": [
            [
             0,
             "#0d0887"
            ],
            [
             0.1111111111111111,
             "#46039f"
            ],
            [
             0.2222222222222222,
             "#7201a8"
            ],
            [
             0.3333333333333333,
             "#9c179e"
            ],
            [
             0.4444444444444444,
             "#bd3786"
            ],
            [
             0.5555555555555556,
             "#d8576b"
            ],
            [
             0.6666666666666666,
             "#ed7953"
            ],
            [
             0.7777777777777778,
             "#fb9f3a"
            ],
            [
             0.8888888888888888,
             "#fdca26"
            ],
            [
             1,
             "#f0f921"
            ]
           ]
          },
          "colorway": [
           "#636efa",
           "#EF553B",
           "#00cc96",
           "#ab63fa",
           "#FFA15A",
           "#19d3f3",
           "#FF6692",
           "#B6E880",
           "#FF97FF",
           "#FECB52"
          ],
          "font": {
           "color": "#2a3f5f"
          },
          "geo": {
           "bgcolor": "white",
           "lakecolor": "white",
           "landcolor": "#E5ECF6",
           "showlakes": true,
           "showland": true,
           "subunitcolor": "white"
          },
          "hoverlabel": {
           "align": "left"
          },
          "hovermode": "closest",
          "mapbox": {
           "style": "light"
          },
          "paper_bgcolor": "white",
          "plot_bgcolor": "#E5ECF6",
          "polar": {
           "angularaxis": {
            "gridcolor": "white",
            "linecolor": "white",
            "ticks": ""
           },
           "bgcolor": "#E5ECF6",
           "radialaxis": {
            "gridcolor": "white",
            "linecolor": "white",
            "ticks": ""
           }
          },
          "scene": {
           "xaxis": {
            "backgroundcolor": "#E5ECF6",
            "gridcolor": "white",
            "gridwidth": 2,
            "linecolor": "white",
            "showbackground": true,
            "ticks": "",
            "zerolinecolor": "white"
           },
           "yaxis": {
            "backgroundcolor": "#E5ECF6",
            "gridcolor": "white",
            "gridwidth": 2,
            "linecolor": "white",
            "showbackground": true,
            "ticks": "",
            "zerolinecolor": "white"
           },
           "zaxis": {
            "backgroundcolor": "#E5ECF6",
            "gridcolor": "white",
            "gridwidth": 2,
            "linecolor": "white",
            "showbackground": true,
            "ticks": "",
            "zerolinecolor": "white"
           }
          },
          "shapedefaults": {
           "line": {
            "color": "#2a3f5f"
           }
          },
          "ternary": {
           "aaxis": {
            "gridcolor": "white",
            "linecolor": "white",
            "ticks": ""
           },
           "baxis": {
            "gridcolor": "white",
            "linecolor": "white",
            "ticks": ""
           },
           "bgcolor": "#E5ECF6",
           "caxis": {
            "gridcolor": "white",
            "linecolor": "white",
            "ticks": ""
           }
          },
          "title": {
           "x": 0.05
          },
          "xaxis": {
           "automargin": true,
           "gridcolor": "white",
           "linecolor": "white",
           "ticks": "",
           "title": {
            "standoff": 15
           },
           "zerolinecolor": "white",
           "zerolinewidth": 2
          },
          "yaxis": {
           "automargin": true,
           "gridcolor": "white",
           "linecolor": "white",
           "ticks": "",
           "title": {
            "standoff": 15
           },
           "zerolinecolor": "white",
           "zerolinewidth": 2
          }
         }
        },
        "width": 500,
        "yaxis": {
         "scaleanchor": "x",
         "scaleratio": 1
        }
       }
      }
     },
     "metadata": {},
     "output_type": "display_data"
    },
    {
     "data": {
      "application/vnd.plotly.v1+json": {
       "config": {
        "plotlyServerURL": "https://plot.ly"
       },
       "data": [
        {
         "hovertemplate": "x=%{x}<br>y=%{y}<br>text=%{text}<extra></extra>",
         "legendgroup": "",
         "marker": {
          "color": "#636efa",
          "symbol": "circle"
         },
         "mode": "markers+text",
         "name": "",
         "orientation": "v",
         "showlegend": false,
         "text": [
          0,
          1,
          2,
          3,
          4,
          5,
          6,
          7,
          8,
          9,
          10,
          11,
          12,
          13,
          14,
          15,
          16,
          17,
          18,
          19,
          20,
          21,
          22,
          23,
          24,
          25,
          26,
          27,
          28,
          29,
          30,
          31,
          32,
          33,
          34,
          35
         ],
         "textposition": "top center",
         "type": "scatter",
         "x": [
          -0.8660254037844386,
          -0.618589574131742,
          -0.37115374447904514,
          -0.12371791482634842,
          0.12371791482634831,
          0.3711537444790451,
          0.6185895741317419,
          0.8660254037844386,
          -0.7423074889580902,
          -0.49487165930539334,
          -0.24743582965269673,
          0,
          0.24743582965269673,
          0.49487165930539345,
          0.7423074889580902,
          -0.6185895741317419,
          -0.37115374447904514,
          -0.12371791482634842,
          0.12371791482634836,
          0.37115374447904514,
          0.6185895741317419,
          -0.49487165930539345,
          -0.24743582965269673,
          0,
          0.24743582965269673,
          0.49487165930539345,
          -0.3711537444790451,
          -0.12371791482634836,
          0.12371791482634836,
          0.3711537444790451,
          -0.24743582965269673,
          0,
          0.24743582965269673,
          -0.12371791482634831,
          0.12371791482634831,
          0
         ],
         "xaxis": "x",
         "y": [
          0.5,
          0.5,
          0.5,
          0.5,
          0.5,
          0.5,
          0.5,
          0.5,
          0.2857142857142857,
          0.2857142857142857,
          0.2857142857142857,
          0.2857142857142857,
          0.2857142857142857,
          0.2857142857142857,
          0.2857142857142857,
          0.07142857142857145,
          0.07142857142857145,
          0.07142857142857145,
          0.07142857142857145,
          0.07142857142857145,
          0.07142857142857145,
          -0.1428571428571428,
          -0.1428571428571428,
          -0.1428571428571428,
          -0.1428571428571428,
          -0.1428571428571428,
          -0.3571428571428571,
          -0.3571428571428571,
          -0.3571428571428571,
          -0.3571428571428571,
          -0.5714285714285714,
          -0.5714285714285714,
          -0.5714285714285714,
          -0.7857142857142856,
          -0.7857142857142856,
          -1
         ],
         "yaxis": "y"
        },
        {
         "hovertemplate": "x=%{x}<br>y=%{y}<extra></extra>",
         "legendgroup": "",
         "line": {
          "color": "#636efa",
          "dash": "solid"
         },
         "marker": {
          "symbol": "circle"
         },
         "mode": "lines",
         "name": "",
         "orientation": "v",
         "showlegend": false,
         "textposition": "top center",
         "type": "scatter",
         "x": [
          -0.3711537444790451,
          -0.12371791482634836,
          -0.24743582965269673,
          -0.12371791482634831,
          0,
          0.12371791482634836,
          0,
          -0.24743582965269673,
          -0.12371791482634842,
          -0.37115374447904514,
          -0.49487165930539334,
          -0.618589574131742,
          -0.37115374447904514,
          -0.12371791482634842,
          -0.24743582965269673,
          0,
          0.12371791482634836,
          0.24743582965269673,
          0.49487165930539345,
          0.7423074889580902,
          0.6185895741317419,
          0.37115374447904514,
          0.24743582965269673,
          0.49487165930539345
         ],
         "xaxis": "x",
         "y": [
          -0.3571428571428571,
          -0.3571428571428571,
          -0.5714285714285714,
          -0.7857142857142856,
          -0.5714285714285714,
          -0.3571428571428571,
          -0.1428571428571428,
          -0.1428571428571428,
          0.07142857142857145,
          0.07142857142857145,
          0.2857142857142857,
          0.5,
          0.5,
          0.5,
          0.2857142857142857,
          0.2857142857142857,
          0.07142857142857145,
          0.2857142857142857,
          0.2857142857142857,
          0.2857142857142857,
          0.07142857142857145,
          0.07142857142857145,
          -0.1428571428571428,
          -0.1428571428571428
         ],
         "yaxis": "y"
        }
       ],
       "layout": {
        "height": 500,
        "template": {
         "data": {
          "bar": [
           {
            "error_x": {
             "color": "#2a3f5f"
            },
            "error_y": {
             "color": "#2a3f5f"
            },
            "marker": {
             "line": {
              "color": "#E5ECF6",
              "width": 0.5
             },
             "pattern": {
              "fillmode": "overlay",
              "size": 10,
              "solidity": 0.2
             }
            },
            "type": "bar"
           }
          ],
          "barpolar": [
           {
            "marker": {
             "line": {
              "color": "#E5ECF6",
              "width": 0.5
             },
             "pattern": {
              "fillmode": "overlay",
              "size": 10,
              "solidity": 0.2
             }
            },
            "type": "barpolar"
           }
          ],
          "carpet": [
           {
            "aaxis": {
             "endlinecolor": "#2a3f5f",
             "gridcolor": "white",
             "linecolor": "white",
             "minorgridcolor": "white",
             "startlinecolor": "#2a3f5f"
            },
            "baxis": {
             "endlinecolor": "#2a3f5f",
             "gridcolor": "white",
             "linecolor": "white",
             "minorgridcolor": "white",
             "startlinecolor": "#2a3f5f"
            },
            "type": "carpet"
           }
          ],
          "choropleth": [
           {
            "colorbar": {
             "outlinewidth": 0,
             "ticks": ""
            },
            "type": "choropleth"
           }
          ],
          "contour": [
           {
            "colorbar": {
             "outlinewidth": 0,
             "ticks": ""
            },
            "colorscale": [
             [
              0,
              "#0d0887"
             ],
             [
              0.1111111111111111,
              "#46039f"
             ],
             [
              0.2222222222222222,
              "#7201a8"
             ],
             [
              0.3333333333333333,
              "#9c179e"
             ],
             [
              0.4444444444444444,
              "#bd3786"
             ],
             [
              0.5555555555555556,
              "#d8576b"
             ],
             [
              0.6666666666666666,
              "#ed7953"
             ],
             [
              0.7777777777777778,
              "#fb9f3a"
             ],
             [
              0.8888888888888888,
              "#fdca26"
             ],
             [
              1,
              "#f0f921"
             ]
            ],
            "type": "contour"
           }
          ],
          "contourcarpet": [
           {
            "colorbar": {
             "outlinewidth": 0,
             "ticks": ""
            },
            "type": "contourcarpet"
           }
          ],
          "heatmap": [
           {
            "colorbar": {
             "outlinewidth": 0,
             "ticks": ""
            },
            "colorscale": [
             [
              0,
              "#0d0887"
             ],
             [
              0.1111111111111111,
              "#46039f"
             ],
             [
              0.2222222222222222,
              "#7201a8"
             ],
             [
              0.3333333333333333,
              "#9c179e"
             ],
             [
              0.4444444444444444,
              "#bd3786"
             ],
             [
              0.5555555555555556,
              "#d8576b"
             ],
             [
              0.6666666666666666,
              "#ed7953"
             ],
             [
              0.7777777777777778,
              "#fb9f3a"
             ],
             [
              0.8888888888888888,
              "#fdca26"
             ],
             [
              1,
              "#f0f921"
             ]
            ],
            "type": "heatmap"
           }
          ],
          "heatmapgl": [
           {
            "colorbar": {
             "outlinewidth": 0,
             "ticks": ""
            },
            "colorscale": [
             [
              0,
              "#0d0887"
             ],
             [
              0.1111111111111111,
              "#46039f"
             ],
             [
              0.2222222222222222,
              "#7201a8"
             ],
             [
              0.3333333333333333,
              "#9c179e"
             ],
             [
              0.4444444444444444,
              "#bd3786"
             ],
             [
              0.5555555555555556,
              "#d8576b"
             ],
             [
              0.6666666666666666,
              "#ed7953"
             ],
             [
              0.7777777777777778,
              "#fb9f3a"
             ],
             [
              0.8888888888888888,
              "#fdca26"
             ],
             [
              1,
              "#f0f921"
             ]
            ],
            "type": "heatmapgl"
           }
          ],
          "histogram": [
           {
            "marker": {
             "pattern": {
              "fillmode": "overlay",
              "size": 10,
              "solidity": 0.2
             }
            },
            "type": "histogram"
           }
          ],
          "histogram2d": [
           {
            "colorbar": {
             "outlinewidth": 0,
             "ticks": ""
            },
            "colorscale": [
             [
              0,
              "#0d0887"
             ],
             [
              0.1111111111111111,
              "#46039f"
             ],
             [
              0.2222222222222222,
              "#7201a8"
             ],
             [
              0.3333333333333333,
              "#9c179e"
             ],
             [
              0.4444444444444444,
              "#bd3786"
             ],
             [
              0.5555555555555556,
              "#d8576b"
             ],
             [
              0.6666666666666666,
              "#ed7953"
             ],
             [
              0.7777777777777778,
              "#fb9f3a"
             ],
             [
              0.8888888888888888,
              "#fdca26"
             ],
             [
              1,
              "#f0f921"
             ]
            ],
            "type": "histogram2d"
           }
          ],
          "histogram2dcontour": [
           {
            "colorbar": {
             "outlinewidth": 0,
             "ticks": ""
            },
            "colorscale": [
             [
              0,
              "#0d0887"
             ],
             [
              0.1111111111111111,
              "#46039f"
             ],
             [
              0.2222222222222222,
              "#7201a8"
             ],
             [
              0.3333333333333333,
              "#9c179e"
             ],
             [
              0.4444444444444444,
              "#bd3786"
             ],
             [
              0.5555555555555556,
              "#d8576b"
             ],
             [
              0.6666666666666666,
              "#ed7953"
             ],
             [
              0.7777777777777778,
              "#fb9f3a"
             ],
             [
              0.8888888888888888,
              "#fdca26"
             ],
             [
              1,
              "#f0f921"
             ]
            ],
            "type": "histogram2dcontour"
           }
          ],
          "mesh3d": [
           {
            "colorbar": {
             "outlinewidth": 0,
             "ticks": ""
            },
            "type": "mesh3d"
           }
          ],
          "parcoords": [
           {
            "line": {
             "colorbar": {
              "outlinewidth": 0,
              "ticks": ""
             }
            },
            "type": "parcoords"
           }
          ],
          "pie": [
           {
            "automargin": true,
            "type": "pie"
           }
          ],
          "scatter": [
           {
            "fillpattern": {
             "fillmode": "overlay",
             "size": 10,
             "solidity": 0.2
            },
            "type": "scatter"
           }
          ],
          "scatter3d": [
           {
            "line": {
             "colorbar": {
              "outlinewidth": 0,
              "ticks": ""
             }
            },
            "marker": {
             "colorbar": {
              "outlinewidth": 0,
              "ticks": ""
             }
            },
            "type": "scatter3d"
           }
          ],
          "scattercarpet": [
           {
            "marker": {
             "colorbar": {
              "outlinewidth": 0,
              "ticks": ""
             }
            },
            "type": "scattercarpet"
           }
          ],
          "scattergeo": [
           {
            "marker": {
             "colorbar": {
              "outlinewidth": 0,
              "ticks": ""
             }
            },
            "type": "scattergeo"
           }
          ],
          "scattergl": [
           {
            "marker": {
             "colorbar": {
              "outlinewidth": 0,
              "ticks": ""
             }
            },
            "type": "scattergl"
           }
          ],
          "scattermapbox": [
           {
            "marker": {
             "colorbar": {
              "outlinewidth": 0,
              "ticks": ""
             }
            },
            "type": "scattermapbox"
           }
          ],
          "scatterpolar": [
           {
            "marker": {
             "colorbar": {
              "outlinewidth": 0,
              "ticks": ""
             }
            },
            "type": "scatterpolar"
           }
          ],
          "scatterpolargl": [
           {
            "marker": {
             "colorbar": {
              "outlinewidth": 0,
              "ticks": ""
             }
            },
            "type": "scatterpolargl"
           }
          ],
          "scatterternary": [
           {
            "marker": {
             "colorbar": {
              "outlinewidth": 0,
              "ticks": ""
             }
            },
            "type": "scatterternary"
           }
          ],
          "surface": [
           {
            "colorbar": {
             "outlinewidth": 0,
             "ticks": ""
            },
            "colorscale": [
             [
              0,
              "#0d0887"
             ],
             [
              0.1111111111111111,
              "#46039f"
             ],
             [
              0.2222222222222222,
              "#7201a8"
             ],
             [
              0.3333333333333333,
              "#9c179e"
             ],
             [
              0.4444444444444444,
              "#bd3786"
             ],
             [
              0.5555555555555556,
              "#d8576b"
             ],
             [
              0.6666666666666666,
              "#ed7953"
             ],
             [
              0.7777777777777778,
              "#fb9f3a"
             ],
             [
              0.8888888888888888,
              "#fdca26"
             ],
             [
              1,
              "#f0f921"
             ]
            ],
            "type": "surface"
           }
          ],
          "table": [
           {
            "cells": {
             "fill": {
              "color": "#EBF0F8"
             },
             "line": {
              "color": "white"
             }
            },
            "header": {
             "fill": {
              "color": "#C8D4E3"
             },
             "line": {
              "color": "white"
             }
            },
            "type": "table"
           }
          ]
         },
         "layout": {
          "annotationdefaults": {
           "arrowcolor": "#2a3f5f",
           "arrowhead": 0,
           "arrowwidth": 1
          },
          "autotypenumbers": "strict",
          "coloraxis": {
           "colorbar": {
            "outlinewidth": 0,
            "ticks": ""
           }
          },
          "colorscale": {
           "diverging": [
            [
             0,
             "#8e0152"
            ],
            [
             0.1,
             "#c51b7d"
            ],
            [
             0.2,
             "#de77ae"
            ],
            [
             0.3,
             "#f1b6da"
            ],
            [
             0.4,
             "#fde0ef"
            ],
            [
             0.5,
             "#f7f7f7"
            ],
            [
             0.6,
             "#e6f5d0"
            ],
            [
             0.7,
             "#b8e186"
            ],
            [
             0.8,
             "#7fbc41"
            ],
            [
             0.9,
             "#4d9221"
            ],
            [
             1,
             "#276419"
            ]
           ],
           "sequential": [
            [
             0,
             "#0d0887"
            ],
            [
             0.1111111111111111,
             "#46039f"
            ],
            [
             0.2222222222222222,
             "#7201a8"
            ],
            [
             0.3333333333333333,
             "#9c179e"
            ],
            [
             0.4444444444444444,
             "#bd3786"
            ],
            [
             0.5555555555555556,
             "#d8576b"
            ],
            [
             0.6666666666666666,
             "#ed7953"
            ],
            [
             0.7777777777777778,
             "#fb9f3a"
            ],
            [
             0.8888888888888888,
             "#fdca26"
            ],
            [
             1,
             "#f0f921"
            ]
           ],
           "sequentialminus": [
            [
             0,
             "#0d0887"
            ],
            [
             0.1111111111111111,
             "#46039f"
            ],
            [
             0.2222222222222222,
             "#7201a8"
            ],
            [
             0.3333333333333333,
             "#9c179e"
            ],
            [
             0.4444444444444444,
             "#bd3786"
            ],
            [
             0.5555555555555556,
             "#d8576b"
            ],
            [
             0.6666666666666666,
             "#ed7953"
            ],
            [
             0.7777777777777778,
             "#fb9f3a"
            ],
            [
             0.8888888888888888,
             "#fdca26"
            ],
            [
             1,
             "#f0f921"
            ]
           ]
          },
          "colorway": [
           "#636efa",
           "#EF553B",
           "#00cc96",
           "#ab63fa",
           "#FFA15A",
           "#19d3f3",
           "#FF6692",
           "#B6E880",
           "#FF97FF",
           "#FECB52"
          ],
          "font": {
           "color": "#2a3f5f"
          },
          "geo": {
           "bgcolor": "white",
           "lakecolor": "white",
           "landcolor": "#E5ECF6",
           "showlakes": true,
           "showland": true,
           "subunitcolor": "white"
          },
          "hoverlabel": {
           "align": "left"
          },
          "hovermode": "closest",
          "mapbox": {
           "style": "light"
          },
          "paper_bgcolor": "white",
          "plot_bgcolor": "#E5ECF6",
          "polar": {
           "angularaxis": {
            "gridcolor": "white",
            "linecolor": "white",
            "ticks": ""
           },
           "bgcolor": "#E5ECF6",
           "radialaxis": {
            "gridcolor": "white",
            "linecolor": "white",
            "ticks": ""
           }
          },
          "scene": {
           "xaxis": {
            "backgroundcolor": "#E5ECF6",
            "gridcolor": "white",
            "gridwidth": 2,
            "linecolor": "white",
            "showbackground": true,
            "ticks": "",
            "zerolinecolor": "white"
           },
           "yaxis": {
            "backgroundcolor": "#E5ECF6",
            "gridcolor": "white",
            "gridwidth": 2,
            "linecolor": "white",
            "showbackground": true,
            "ticks": "",
            "zerolinecolor": "white"
           },
           "zaxis": {
            "backgroundcolor": "#E5ECF6",
            "gridcolor": "white",
            "gridwidth": 2,
            "linecolor": "white",
            "showbackground": true,
            "ticks": "",
            "zerolinecolor": "white"
           }
          },
          "shapedefaults": {
           "line": {
            "color": "#2a3f5f"
           }
          },
          "ternary": {
           "aaxis": {
            "gridcolor": "white",
            "linecolor": "white",
            "ticks": ""
           },
           "baxis": {
            "gridcolor": "white",
            "linecolor": "white",
            "ticks": ""
           },
           "bgcolor": "#E5ECF6",
           "caxis": {
            "gridcolor": "white",
            "linecolor": "white",
            "ticks": ""
           }
          },
          "title": {
           "x": 0.05
          },
          "xaxis": {
           "automargin": true,
           "gridcolor": "white",
           "linecolor": "white",
           "ticks": "",
           "title": {
            "standoff": 15
           },
           "zerolinecolor": "white",
           "zerolinewidth": 2
          },
          "yaxis": {
           "automargin": true,
           "gridcolor": "white",
           "linecolor": "white",
           "ticks": "",
           "title": {
            "standoff": 15
           },
           "zerolinecolor": "white",
           "zerolinewidth": 2
          }
         }
        },
        "width": 500,
        "yaxis": {
         "scaleanchor": "x",
         "scaleratio": 1
        }
       }
      }
     },
     "metadata": {},
     "output_type": "display_data"
    },
    {
     "data": {
      "application/vnd.plotly.v1+json": {
       "config": {
        "plotlyServerURL": "https://plot.ly"
       },
       "data": [
        {
         "hovertemplate": "x=%{x}<br>y=%{y}<br>text=%{text}<extra></extra>",
         "legendgroup": "",
         "marker": {
          "color": "#636efa",
          "symbol": "circle"
         },
         "mode": "markers+text",
         "name": "",
         "orientation": "v",
         "showlegend": false,
         "text": [
          0,
          1,
          2,
          3,
          4,
          5,
          6,
          7,
          8,
          9,
          10,
          11,
          12,
          13,
          14,
          15,
          16,
          17,
          18,
          19,
          20,
          21,
          22,
          23,
          24,
          25,
          26,
          27,
          28,
          29,
          30,
          31,
          32,
          33,
          34,
          35
         ],
         "textposition": "top center",
         "type": "scatter",
         "x": [
          -0.8660254037844386,
          -0.618589574131742,
          -0.37115374447904514,
          -0.12371791482634842,
          0.12371791482634831,
          0.3711537444790451,
          0.6185895741317419,
          0.8660254037844386,
          -0.7423074889580902,
          -0.49487165930539334,
          -0.24743582965269673,
          0,
          0.24743582965269673,
          0.49487165930539345,
          0.7423074889580902,
          -0.6185895741317419,
          -0.37115374447904514,
          -0.12371791482634842,
          0.12371791482634836,
          0.37115374447904514,
          0.6185895741317419,
          -0.49487165930539345,
          -0.24743582965269673,
          0,
          0.24743582965269673,
          0.49487165930539345,
          -0.3711537444790451,
          -0.12371791482634836,
          0.12371791482634836,
          0.3711537444790451,
          -0.24743582965269673,
          0,
          0.24743582965269673,
          -0.12371791482634831,
          0.12371791482634831,
          0
         ],
         "xaxis": "x",
         "y": [
          0.5,
          0.5,
          0.5,
          0.5,
          0.5,
          0.5,
          0.5,
          0.5,
          0.2857142857142857,
          0.2857142857142857,
          0.2857142857142857,
          0.2857142857142857,
          0.2857142857142857,
          0.2857142857142857,
          0.2857142857142857,
          0.07142857142857145,
          0.07142857142857145,
          0.07142857142857145,
          0.07142857142857145,
          0.07142857142857145,
          0.07142857142857145,
          -0.1428571428571428,
          -0.1428571428571428,
          -0.1428571428571428,
          -0.1428571428571428,
          -0.1428571428571428,
          -0.3571428571428571,
          -0.3571428571428571,
          -0.3571428571428571,
          -0.3571428571428571,
          -0.5714285714285714,
          -0.5714285714285714,
          -0.5714285714285714,
          -0.7857142857142856,
          -0.7857142857142856,
          -1
         ],
         "yaxis": "y"
        },
        {
         "hovertemplate": "x=%{x}<br>y=%{y}<extra></extra>",
         "legendgroup": "",
         "line": {
          "color": "#636efa",
          "dash": "solid"
         },
         "marker": {
          "symbol": "circle"
         },
         "mode": "lines",
         "name": "",
         "orientation": "v",
         "showlegend": false,
         "textposition": "top center",
         "type": "scatter",
         "x": [
          -0.3711537444790451,
          -0.12371791482634836,
          -0.24743582965269673,
          -0.12371791482634831,
          0,
          0.12371791482634836,
          0,
          -0.24743582965269673,
          -0.12371791482634842,
          -0.37115374447904514,
          -0.49487165930539334,
          -0.618589574131742,
          -0.37115374447904514,
          -0.24743582965269673,
          -0.12371791482634842,
          0,
          0.24743582965269673,
          0.12371791482634836,
          0.24743582965269673,
          0.37115374447904514,
          0.49487165930539345,
          0.7423074889580902,
          0.6185895741317419,
          0.49487165930539345
         ],
         "xaxis": "x",
         "y": [
          -0.3571428571428571,
          -0.3571428571428571,
          -0.5714285714285714,
          -0.7857142857142856,
          -0.5714285714285714,
          -0.3571428571428571,
          -0.1428571428571428,
          -0.1428571428571428,
          0.07142857142857145,
          0.07142857142857145,
          0.2857142857142857,
          0.5,
          0.5,
          0.2857142857142857,
          0.5,
          0.2857142857142857,
          0.2857142857142857,
          0.07142857142857145,
          -0.1428571428571428,
          0.07142857142857145,
          0.2857142857142857,
          0.2857142857142857,
          0.07142857142857145,
          -0.1428571428571428
         ],
         "yaxis": "y"
        }
       ],
       "layout": {
        "height": 500,
        "template": {
         "data": {
          "bar": [
           {
            "error_x": {
             "color": "#2a3f5f"
            },
            "error_y": {
             "color": "#2a3f5f"
            },
            "marker": {
             "line": {
              "color": "#E5ECF6",
              "width": 0.5
             },
             "pattern": {
              "fillmode": "overlay",
              "size": 10,
              "solidity": 0.2
             }
            },
            "type": "bar"
           }
          ],
          "barpolar": [
           {
            "marker": {
             "line": {
              "color": "#E5ECF6",
              "width": 0.5
             },
             "pattern": {
              "fillmode": "overlay",
              "size": 10,
              "solidity": 0.2
             }
            },
            "type": "barpolar"
           }
          ],
          "carpet": [
           {
            "aaxis": {
             "endlinecolor": "#2a3f5f",
             "gridcolor": "white",
             "linecolor": "white",
             "minorgridcolor": "white",
             "startlinecolor": "#2a3f5f"
            },
            "baxis": {
             "endlinecolor": "#2a3f5f",
             "gridcolor": "white",
             "linecolor": "white",
             "minorgridcolor": "white",
             "startlinecolor": "#2a3f5f"
            },
            "type": "carpet"
           }
          ],
          "choropleth": [
           {
            "colorbar": {
             "outlinewidth": 0,
             "ticks": ""
            },
            "type": "choropleth"
           }
          ],
          "contour": [
           {
            "colorbar": {
             "outlinewidth": 0,
             "ticks": ""
            },
            "colorscale": [
             [
              0,
              "#0d0887"
             ],
             [
              0.1111111111111111,
              "#46039f"
             ],
             [
              0.2222222222222222,
              "#7201a8"
             ],
             [
              0.3333333333333333,
              "#9c179e"
             ],
             [
              0.4444444444444444,
              "#bd3786"
             ],
             [
              0.5555555555555556,
              "#d8576b"
             ],
             [
              0.6666666666666666,
              "#ed7953"
             ],
             [
              0.7777777777777778,
              "#fb9f3a"
             ],
             [
              0.8888888888888888,
              "#fdca26"
             ],
             [
              1,
              "#f0f921"
             ]
            ],
            "type": "contour"
           }
          ],
          "contourcarpet": [
           {
            "colorbar": {
             "outlinewidth": 0,
             "ticks": ""
            },
            "type": "contourcarpet"
           }
          ],
          "heatmap": [
           {
            "colorbar": {
             "outlinewidth": 0,
             "ticks": ""
            },
            "colorscale": [
             [
              0,
              "#0d0887"
             ],
             [
              0.1111111111111111,
              "#46039f"
             ],
             [
              0.2222222222222222,
              "#7201a8"
             ],
             [
              0.3333333333333333,
              "#9c179e"
             ],
             [
              0.4444444444444444,
              "#bd3786"
             ],
             [
              0.5555555555555556,
              "#d8576b"
             ],
             [
              0.6666666666666666,
              "#ed7953"
             ],
             [
              0.7777777777777778,
              "#fb9f3a"
             ],
             [
              0.8888888888888888,
              "#fdca26"
             ],
             [
              1,
              "#f0f921"
             ]
            ],
            "type": "heatmap"
           }
          ],
          "heatmapgl": [
           {
            "colorbar": {
             "outlinewidth": 0,
             "ticks": ""
            },
            "colorscale": [
             [
              0,
              "#0d0887"
             ],
             [
              0.1111111111111111,
              "#46039f"
             ],
             [
              0.2222222222222222,
              "#7201a8"
             ],
             [
              0.3333333333333333,
              "#9c179e"
             ],
             [
              0.4444444444444444,
              "#bd3786"
             ],
             [
              0.5555555555555556,
              "#d8576b"
             ],
             [
              0.6666666666666666,
              "#ed7953"
             ],
             [
              0.7777777777777778,
              "#fb9f3a"
             ],
             [
              0.8888888888888888,
              "#fdca26"
             ],
             [
              1,
              "#f0f921"
             ]
            ],
            "type": "heatmapgl"
           }
          ],
          "histogram": [
           {
            "marker": {
             "pattern": {
              "fillmode": "overlay",
              "size": 10,
              "solidity": 0.2
             }
            },
            "type": "histogram"
           }
          ],
          "histogram2d": [
           {
            "colorbar": {
             "outlinewidth": 0,
             "ticks": ""
            },
            "colorscale": [
             [
              0,
              "#0d0887"
             ],
             [
              0.1111111111111111,
              "#46039f"
             ],
             [
              0.2222222222222222,
              "#7201a8"
             ],
             [
              0.3333333333333333,
              "#9c179e"
             ],
             [
              0.4444444444444444,
              "#bd3786"
             ],
             [
              0.5555555555555556,
              "#d8576b"
             ],
             [
              0.6666666666666666,
              "#ed7953"
             ],
             [
              0.7777777777777778,
              "#fb9f3a"
             ],
             [
              0.8888888888888888,
              "#fdca26"
             ],
             [
              1,
              "#f0f921"
             ]
            ],
            "type": "histogram2d"
           }
          ],
          "histogram2dcontour": [
           {
            "colorbar": {
             "outlinewidth": 0,
             "ticks": ""
            },
            "colorscale": [
             [
              0,
              "#0d0887"
             ],
             [
              0.1111111111111111,
              "#46039f"
             ],
             [
              0.2222222222222222,
              "#7201a8"
             ],
             [
              0.3333333333333333,
              "#9c179e"
             ],
             [
              0.4444444444444444,
              "#bd3786"
             ],
             [
              0.5555555555555556,
              "#d8576b"
             ],
             [
              0.6666666666666666,
              "#ed7953"
             ],
             [
              0.7777777777777778,
              "#fb9f3a"
             ],
             [
              0.8888888888888888,
              "#fdca26"
             ],
             [
              1,
              "#f0f921"
             ]
            ],
            "type": "histogram2dcontour"
           }
          ],
          "mesh3d": [
           {
            "colorbar": {
             "outlinewidth": 0,
             "ticks": ""
            },
            "type": "mesh3d"
           }
          ],
          "parcoords": [
           {
            "line": {
             "colorbar": {
              "outlinewidth": 0,
              "ticks": ""
             }
            },
            "type": "parcoords"
           }
          ],
          "pie": [
           {
            "automargin": true,
            "type": "pie"
           }
          ],
          "scatter": [
           {
            "fillpattern": {
             "fillmode": "overlay",
             "size": 10,
             "solidity": 0.2
            },
            "type": "scatter"
           }
          ],
          "scatter3d": [
           {
            "line": {
             "colorbar": {
              "outlinewidth": 0,
              "ticks": ""
             }
            },
            "marker": {
             "colorbar": {
              "outlinewidth": 0,
              "ticks": ""
             }
            },
            "type": "scatter3d"
           }
          ],
          "scattercarpet": [
           {
            "marker": {
             "colorbar": {
              "outlinewidth": 0,
              "ticks": ""
             }
            },
            "type": "scattercarpet"
           }
          ],
          "scattergeo": [
           {
            "marker": {
             "colorbar": {
              "outlinewidth": 0,
              "ticks": ""
             }
            },
            "type": "scattergeo"
           }
          ],
          "scattergl": [
           {
            "marker": {
             "colorbar": {
              "outlinewidth": 0,
              "ticks": ""
             }
            },
            "type": "scattergl"
           }
          ],
          "scattermapbox": [
           {
            "marker": {
             "colorbar": {
              "outlinewidth": 0,
              "ticks": ""
             }
            },
            "type": "scattermapbox"
           }
          ],
          "scatterpolar": [
           {
            "marker": {
             "colorbar": {
              "outlinewidth": 0,
              "ticks": ""
             }
            },
            "type": "scatterpolar"
           }
          ],
          "scatterpolargl": [
           {
            "marker": {
             "colorbar": {
              "outlinewidth": 0,
              "ticks": ""
             }
            },
            "type": "scatterpolargl"
           }
          ],
          "scatterternary": [
           {
            "marker": {
             "colorbar": {
              "outlinewidth": 0,
              "ticks": ""
             }
            },
            "type": "scatterternary"
           }
          ],
          "surface": [
           {
            "colorbar": {
             "outlinewidth": 0,
             "ticks": ""
            },
            "colorscale": [
             [
              0,
              "#0d0887"
             ],
             [
              0.1111111111111111,
              "#46039f"
             ],
             [
              0.2222222222222222,
              "#7201a8"
             ],
             [
              0.3333333333333333,
              "#9c179e"
             ],
             [
              0.4444444444444444,
              "#bd3786"
             ],
             [
              0.5555555555555556,
              "#d8576b"
             ],
             [
              0.6666666666666666,
              "#ed7953"
             ],
             [
              0.7777777777777778,
              "#fb9f3a"
             ],
             [
              0.8888888888888888,
              "#fdca26"
             ],
             [
              1,
              "#f0f921"
             ]
            ],
            "type": "surface"
           }
          ],
          "table": [
           {
            "cells": {
             "fill": {
              "color": "#EBF0F8"
             },
             "line": {
              "color": "white"
             }
            },
            "header": {
             "fill": {
              "color": "#C8D4E3"
             },
             "line": {
              "color": "white"
             }
            },
            "type": "table"
           }
          ]
         },
         "layout": {
          "annotationdefaults": {
           "arrowcolor": "#2a3f5f",
           "arrowhead": 0,
           "arrowwidth": 1
          },
          "autotypenumbers": "strict",
          "coloraxis": {
           "colorbar": {
            "outlinewidth": 0,
            "ticks": ""
           }
          },
          "colorscale": {
           "diverging": [
            [
             0,
             "#8e0152"
            ],
            [
             0.1,
             "#c51b7d"
            ],
            [
             0.2,
             "#de77ae"
            ],
            [
             0.3,
             "#f1b6da"
            ],
            [
             0.4,
             "#fde0ef"
            ],
            [
             0.5,
             "#f7f7f7"
            ],
            [
             0.6,
             "#e6f5d0"
            ],
            [
             0.7,
             "#b8e186"
            ],
            [
             0.8,
             "#7fbc41"
            ],
            [
             0.9,
             "#4d9221"
            ],
            [
             1,
             "#276419"
            ]
           ],
           "sequential": [
            [
             0,
             "#0d0887"
            ],
            [
             0.1111111111111111,
             "#46039f"
            ],
            [
             0.2222222222222222,
             "#7201a8"
            ],
            [
             0.3333333333333333,
             "#9c179e"
            ],
            [
             0.4444444444444444,
             "#bd3786"
            ],
            [
             0.5555555555555556,
             "#d8576b"
            ],
            [
             0.6666666666666666,
             "#ed7953"
            ],
            [
             0.7777777777777778,
             "#fb9f3a"
            ],
            [
             0.8888888888888888,
             "#fdca26"
            ],
            [
             1,
             "#f0f921"
            ]
           ],
           "sequentialminus": [
            [
             0,
             "#0d0887"
            ],
            [
             0.1111111111111111,
             "#46039f"
            ],
            [
             0.2222222222222222,
             "#7201a8"
            ],
            [
             0.3333333333333333,
             "#9c179e"
            ],
            [
             0.4444444444444444,
             "#bd3786"
            ],
            [
             0.5555555555555556,
             "#d8576b"
            ],
            [
             0.6666666666666666,
             "#ed7953"
            ],
            [
             0.7777777777777778,
             "#fb9f3a"
            ],
            [
             0.8888888888888888,
             "#fdca26"
            ],
            [
             1,
             "#f0f921"
            ]
           ]
          },
          "colorway": [
           "#636efa",
           "#EF553B",
           "#00cc96",
           "#ab63fa",
           "#FFA15A",
           "#19d3f3",
           "#FF6692",
           "#B6E880",
           "#FF97FF",
           "#FECB52"
          ],
          "font": {
           "color": "#2a3f5f"
          },
          "geo": {
           "bgcolor": "white",
           "lakecolor": "white",
           "landcolor": "#E5ECF6",
           "showlakes": true,
           "showland": true,
           "subunitcolor": "white"
          },
          "hoverlabel": {
           "align": "left"
          },
          "hovermode": "closest",
          "mapbox": {
           "style": "light"
          },
          "paper_bgcolor": "white",
          "plot_bgcolor": "#E5ECF6",
          "polar": {
           "angularaxis": {
            "gridcolor": "white",
            "linecolor": "white",
            "ticks": ""
           },
           "bgcolor": "#E5ECF6",
           "radialaxis": {
            "gridcolor": "white",
            "linecolor": "white",
            "ticks": ""
           }
          },
          "scene": {
           "xaxis": {
            "backgroundcolor": "#E5ECF6",
            "gridcolor": "white",
            "gridwidth": 2,
            "linecolor": "white",
            "showbackground": true,
            "ticks": "",
            "zerolinecolor": "white"
           },
           "yaxis": {
            "backgroundcolor": "#E5ECF6",
            "gridcolor": "white",
            "gridwidth": 2,
            "linecolor": "white",
            "showbackground": true,
            "ticks": "",
            "zerolinecolor": "white"
           },
           "zaxis": {
            "backgroundcolor": "#E5ECF6",
            "gridcolor": "white",
            "gridwidth": 2,
            "linecolor": "white",
            "showbackground": true,
            "ticks": "",
            "zerolinecolor": "white"
           }
          },
          "shapedefaults": {
           "line": {
            "color": "#2a3f5f"
           }
          },
          "ternary": {
           "aaxis": {
            "gridcolor": "white",
            "linecolor": "white",
            "ticks": ""
           },
           "baxis": {
            "gridcolor": "white",
            "linecolor": "white",
            "ticks": ""
           },
           "bgcolor": "#E5ECF6",
           "caxis": {
            "gridcolor": "white",
            "linecolor": "white",
            "ticks": ""
           }
          },
          "title": {
           "x": 0.05
          },
          "xaxis": {
           "automargin": true,
           "gridcolor": "white",
           "linecolor": "white",
           "ticks": "",
           "title": {
            "standoff": 15
           },
           "zerolinecolor": "white",
           "zerolinewidth": 2
          },
          "yaxis": {
           "automargin": true,
           "gridcolor": "white",
           "linecolor": "white",
           "ticks": "",
           "title": {
            "standoff": 15
           },
           "zerolinecolor": "white",
           "zerolinewidth": 2
          }
         }
        },
        "width": 500,
        "yaxis": {
         "scaleanchor": "x",
         "scaleratio": 1
        }
       }
      }
     },
     "metadata": {},
     "output_type": "display_data"
    },
    {
     "data": {
      "application/vnd.plotly.v1+json": {
       "config": {
        "plotlyServerURL": "https://plot.ly"
       },
       "data": [
        {
         "hovertemplate": "x=%{x}<br>y=%{y}<br>text=%{text}<extra></extra>",
         "legendgroup": "",
         "marker": {
          "color": "#636efa",
          "symbol": "circle"
         },
         "mode": "markers+text",
         "name": "",
         "orientation": "v",
         "showlegend": false,
         "text": [
          0,
          1,
          2,
          3,
          4,
          5,
          6,
          7,
          8,
          9,
          10,
          11,
          12,
          13,
          14,
          15,
          16,
          17,
          18,
          19,
          20,
          21,
          22,
          23,
          24,
          25,
          26,
          27,
          28,
          29,
          30,
          31,
          32,
          33,
          34,
          35
         ],
         "textposition": "top center",
         "type": "scatter",
         "x": [
          -0.8660254037844386,
          -0.618589574131742,
          -0.37115374447904514,
          -0.12371791482634842,
          0.12371791482634831,
          0.3711537444790451,
          0.6185895741317419,
          0.8660254037844386,
          -0.7423074889580902,
          -0.49487165930539334,
          -0.24743582965269673,
          0,
          0.24743582965269673,
          0.49487165930539345,
          0.7423074889580902,
          -0.6185895741317419,
          -0.37115374447904514,
          -0.12371791482634842,
          0.12371791482634836,
          0.37115374447904514,
          0.6185895741317419,
          -0.49487165930539345,
          -0.24743582965269673,
          0,
          0.24743582965269673,
          0.49487165930539345,
          -0.3711537444790451,
          -0.12371791482634836,
          0.12371791482634836,
          0.3711537444790451,
          -0.24743582965269673,
          0,
          0.24743582965269673,
          -0.12371791482634831,
          0.12371791482634831,
          0
         ],
         "xaxis": "x",
         "y": [
          0.5,
          0.5,
          0.5,
          0.5,
          0.5,
          0.5,
          0.5,
          0.5,
          0.2857142857142857,
          0.2857142857142857,
          0.2857142857142857,
          0.2857142857142857,
          0.2857142857142857,
          0.2857142857142857,
          0.2857142857142857,
          0.07142857142857145,
          0.07142857142857145,
          0.07142857142857145,
          0.07142857142857145,
          0.07142857142857145,
          0.07142857142857145,
          -0.1428571428571428,
          -0.1428571428571428,
          -0.1428571428571428,
          -0.1428571428571428,
          -0.1428571428571428,
          -0.3571428571428571,
          -0.3571428571428571,
          -0.3571428571428571,
          -0.3571428571428571,
          -0.5714285714285714,
          -0.5714285714285714,
          -0.5714285714285714,
          -0.7857142857142856,
          -0.7857142857142856,
          -1
         ],
         "yaxis": "y"
        },
        {
         "hovertemplate": "x=%{x}<br>y=%{y}<extra></extra>",
         "legendgroup": "",
         "line": {
          "color": "#636efa",
          "dash": "solid"
         },
         "marker": {
          "symbol": "circle"
         },
         "mode": "lines",
         "name": "",
         "orientation": "v",
         "showlegend": false,
         "textposition": "top center",
         "type": "scatter",
         "x": [
          -0.3711537444790451,
          -0.12371791482634836,
          -0.24743582965269673,
          -0.12371791482634831,
          0,
          0.12371791482634836,
          0,
          -0.24743582965269673,
          -0.12371791482634842,
          -0.37115374447904514,
          -0.49487165930539334,
          -0.618589574131742,
          -0.37115374447904514,
          -0.24743582965269673,
          -0.12371791482634842,
          0,
          0.12371791482634836,
          0.24743582965269673,
          0.49487165930539345,
          0.7423074889580902,
          0.6185895741317419,
          0.37115374447904514,
          0.24743582965269673,
          0.49487165930539345
         ],
         "xaxis": "x",
         "y": [
          -0.3571428571428571,
          -0.3571428571428571,
          -0.5714285714285714,
          -0.7857142857142856,
          -0.5714285714285714,
          -0.3571428571428571,
          -0.1428571428571428,
          -0.1428571428571428,
          0.07142857142857145,
          0.07142857142857145,
          0.2857142857142857,
          0.5,
          0.5,
          0.2857142857142857,
          0.5,
          0.2857142857142857,
          0.07142857142857145,
          0.2857142857142857,
          0.2857142857142857,
          0.2857142857142857,
          0.07142857142857145,
          0.07142857142857145,
          -0.1428571428571428,
          -0.1428571428571428
         ],
         "yaxis": "y"
        }
       ],
       "layout": {
        "height": 500,
        "template": {
         "data": {
          "bar": [
           {
            "error_x": {
             "color": "#2a3f5f"
            },
            "error_y": {
             "color": "#2a3f5f"
            },
            "marker": {
             "line": {
              "color": "#E5ECF6",
              "width": 0.5
             },
             "pattern": {
              "fillmode": "overlay",
              "size": 10,
              "solidity": 0.2
             }
            },
            "type": "bar"
           }
          ],
          "barpolar": [
           {
            "marker": {
             "line": {
              "color": "#E5ECF6",
              "width": 0.5
             },
             "pattern": {
              "fillmode": "overlay",
              "size": 10,
              "solidity": 0.2
             }
            },
            "type": "barpolar"
           }
          ],
          "carpet": [
           {
            "aaxis": {
             "endlinecolor": "#2a3f5f",
             "gridcolor": "white",
             "linecolor": "white",
             "minorgridcolor": "white",
             "startlinecolor": "#2a3f5f"
            },
            "baxis": {
             "endlinecolor": "#2a3f5f",
             "gridcolor": "white",
             "linecolor": "white",
             "minorgridcolor": "white",
             "startlinecolor": "#2a3f5f"
            },
            "type": "carpet"
           }
          ],
          "choropleth": [
           {
            "colorbar": {
             "outlinewidth": 0,
             "ticks": ""
            },
            "type": "choropleth"
           }
          ],
          "contour": [
           {
            "colorbar": {
             "outlinewidth": 0,
             "ticks": ""
            },
            "colorscale": [
             [
              0,
              "#0d0887"
             ],
             [
              0.1111111111111111,
              "#46039f"
             ],
             [
              0.2222222222222222,
              "#7201a8"
             ],
             [
              0.3333333333333333,
              "#9c179e"
             ],
             [
              0.4444444444444444,
              "#bd3786"
             ],
             [
              0.5555555555555556,
              "#d8576b"
             ],
             [
              0.6666666666666666,
              "#ed7953"
             ],
             [
              0.7777777777777778,
              "#fb9f3a"
             ],
             [
              0.8888888888888888,
              "#fdca26"
             ],
             [
              1,
              "#f0f921"
             ]
            ],
            "type": "contour"
           }
          ],
          "contourcarpet": [
           {
            "colorbar": {
             "outlinewidth": 0,
             "ticks": ""
            },
            "type": "contourcarpet"
           }
          ],
          "heatmap": [
           {
            "colorbar": {
             "outlinewidth": 0,
             "ticks": ""
            },
            "colorscale": [
             [
              0,
              "#0d0887"
             ],
             [
              0.1111111111111111,
              "#46039f"
             ],
             [
              0.2222222222222222,
              "#7201a8"
             ],
             [
              0.3333333333333333,
              "#9c179e"
             ],
             [
              0.4444444444444444,
              "#bd3786"
             ],
             [
              0.5555555555555556,
              "#d8576b"
             ],
             [
              0.6666666666666666,
              "#ed7953"
             ],
             [
              0.7777777777777778,
              "#fb9f3a"
             ],
             [
              0.8888888888888888,
              "#fdca26"
             ],
             [
              1,
              "#f0f921"
             ]
            ],
            "type": "heatmap"
           }
          ],
          "heatmapgl": [
           {
            "colorbar": {
             "outlinewidth": 0,
             "ticks": ""
            },
            "colorscale": [
             [
              0,
              "#0d0887"
             ],
             [
              0.1111111111111111,
              "#46039f"
             ],
             [
              0.2222222222222222,
              "#7201a8"
             ],
             [
              0.3333333333333333,
              "#9c179e"
             ],
             [
              0.4444444444444444,
              "#bd3786"
             ],
             [
              0.5555555555555556,
              "#d8576b"
             ],
             [
              0.6666666666666666,
              "#ed7953"
             ],
             [
              0.7777777777777778,
              "#fb9f3a"
             ],
             [
              0.8888888888888888,
              "#fdca26"
             ],
             [
              1,
              "#f0f921"
             ]
            ],
            "type": "heatmapgl"
           }
          ],
          "histogram": [
           {
            "marker": {
             "pattern": {
              "fillmode": "overlay",
              "size": 10,
              "solidity": 0.2
             }
            },
            "type": "histogram"
           }
          ],
          "histogram2d": [
           {
            "colorbar": {
             "outlinewidth": 0,
             "ticks": ""
            },
            "colorscale": [
             [
              0,
              "#0d0887"
             ],
             [
              0.1111111111111111,
              "#46039f"
             ],
             [
              0.2222222222222222,
              "#7201a8"
             ],
             [
              0.3333333333333333,
              "#9c179e"
             ],
             [
              0.4444444444444444,
              "#bd3786"
             ],
             [
              0.5555555555555556,
              "#d8576b"
             ],
             [
              0.6666666666666666,
              "#ed7953"
             ],
             [
              0.7777777777777778,
              "#fb9f3a"
             ],
             [
              0.8888888888888888,
              "#fdca26"
             ],
             [
              1,
              "#f0f921"
             ]
            ],
            "type": "histogram2d"
           }
          ],
          "histogram2dcontour": [
           {
            "colorbar": {
             "outlinewidth": 0,
             "ticks": ""
            },
            "colorscale": [
             [
              0,
              "#0d0887"
             ],
             [
              0.1111111111111111,
              "#46039f"
             ],
             [
              0.2222222222222222,
              "#7201a8"
             ],
             [
              0.3333333333333333,
              "#9c179e"
             ],
             [
              0.4444444444444444,
              "#bd3786"
             ],
             [
              0.5555555555555556,
              "#d8576b"
             ],
             [
              0.6666666666666666,
              "#ed7953"
             ],
             [
              0.7777777777777778,
              "#fb9f3a"
             ],
             [
              0.8888888888888888,
              "#fdca26"
             ],
             [
              1,
              "#f0f921"
             ]
            ],
            "type": "histogram2dcontour"
           }
          ],
          "mesh3d": [
           {
            "colorbar": {
             "outlinewidth": 0,
             "ticks": ""
            },
            "type": "mesh3d"
           }
          ],
          "parcoords": [
           {
            "line": {
             "colorbar": {
              "outlinewidth": 0,
              "ticks": ""
             }
            },
            "type": "parcoords"
           }
          ],
          "pie": [
           {
            "automargin": true,
            "type": "pie"
           }
          ],
          "scatter": [
           {
            "fillpattern": {
             "fillmode": "overlay",
             "size": 10,
             "solidity": 0.2
            },
            "type": "scatter"
           }
          ],
          "scatter3d": [
           {
            "line": {
             "colorbar": {
              "outlinewidth": 0,
              "ticks": ""
             }
            },
            "marker": {
             "colorbar": {
              "outlinewidth": 0,
              "ticks": ""
             }
            },
            "type": "scatter3d"
           }
          ],
          "scattercarpet": [
           {
            "marker": {
             "colorbar": {
              "outlinewidth": 0,
              "ticks": ""
             }
            },
            "type": "scattercarpet"
           }
          ],
          "scattergeo": [
           {
            "marker": {
             "colorbar": {
              "outlinewidth": 0,
              "ticks": ""
             }
            },
            "type": "scattergeo"
           }
          ],
          "scattergl": [
           {
            "marker": {
             "colorbar": {
              "outlinewidth": 0,
              "ticks": ""
             }
            },
            "type": "scattergl"
           }
          ],
          "scattermapbox": [
           {
            "marker": {
             "colorbar": {
              "outlinewidth": 0,
              "ticks": ""
             }
            },
            "type": "scattermapbox"
           }
          ],
          "scatterpolar": [
           {
            "marker": {
             "colorbar": {
              "outlinewidth": 0,
              "ticks": ""
             }
            },
            "type": "scatterpolar"
           }
          ],
          "scatterpolargl": [
           {
            "marker": {
             "colorbar": {
              "outlinewidth": 0,
              "ticks": ""
             }
            },
            "type": "scatterpolargl"
           }
          ],
          "scatterternary": [
           {
            "marker": {
             "colorbar": {
              "outlinewidth": 0,
              "ticks": ""
             }
            },
            "type": "scatterternary"
           }
          ],
          "surface": [
           {
            "colorbar": {
             "outlinewidth": 0,
             "ticks": ""
            },
            "colorscale": [
             [
              0,
              "#0d0887"
             ],
             [
              0.1111111111111111,
              "#46039f"
             ],
             [
              0.2222222222222222,
              "#7201a8"
             ],
             [
              0.3333333333333333,
              "#9c179e"
             ],
             [
              0.4444444444444444,
              "#bd3786"
             ],
             [
              0.5555555555555556,
              "#d8576b"
             ],
             [
              0.6666666666666666,
              "#ed7953"
             ],
             [
              0.7777777777777778,
              "#fb9f3a"
             ],
             [
              0.8888888888888888,
              "#fdca26"
             ],
             [
              1,
              "#f0f921"
             ]
            ],
            "type": "surface"
           }
          ],
          "table": [
           {
            "cells": {
             "fill": {
              "color": "#EBF0F8"
             },
             "line": {
              "color": "white"
             }
            },
            "header": {
             "fill": {
              "color": "#C8D4E3"
             },
             "line": {
              "color": "white"
             }
            },
            "type": "table"
           }
          ]
         },
         "layout": {
          "annotationdefaults": {
           "arrowcolor": "#2a3f5f",
           "arrowhead": 0,
           "arrowwidth": 1
          },
          "autotypenumbers": "strict",
          "coloraxis": {
           "colorbar": {
            "outlinewidth": 0,
            "ticks": ""
           }
          },
          "colorscale": {
           "diverging": [
            [
             0,
             "#8e0152"
            ],
            [
             0.1,
             "#c51b7d"
            ],
            [
             0.2,
             "#de77ae"
            ],
            [
             0.3,
             "#f1b6da"
            ],
            [
             0.4,
             "#fde0ef"
            ],
            [
             0.5,
             "#f7f7f7"
            ],
            [
             0.6,
             "#e6f5d0"
            ],
            [
             0.7,
             "#b8e186"
            ],
            [
             0.8,
             "#7fbc41"
            ],
            [
             0.9,
             "#4d9221"
            ],
            [
             1,
             "#276419"
            ]
           ],
           "sequential": [
            [
             0,
             "#0d0887"
            ],
            [
             0.1111111111111111,
             "#46039f"
            ],
            [
             0.2222222222222222,
             "#7201a8"
            ],
            [
             0.3333333333333333,
             "#9c179e"
            ],
            [
             0.4444444444444444,
             "#bd3786"
            ],
            [
             0.5555555555555556,
             "#d8576b"
            ],
            [
             0.6666666666666666,
             "#ed7953"
            ],
            [
             0.7777777777777778,
             "#fb9f3a"
            ],
            [
             0.8888888888888888,
             "#fdca26"
            ],
            [
             1,
             "#f0f921"
            ]
           ],
           "sequentialminus": [
            [
             0,
             "#0d0887"
            ],
            [
             0.1111111111111111,
             "#46039f"
            ],
            [
             0.2222222222222222,
             "#7201a8"
            ],
            [
             0.3333333333333333,
             "#9c179e"
            ],
            [
             0.4444444444444444,
             "#bd3786"
            ],
            [
             0.5555555555555556,
             "#d8576b"
            ],
            [
             0.6666666666666666,
             "#ed7953"
            ],
            [
             0.7777777777777778,
             "#fb9f3a"
            ],
            [
             0.8888888888888888,
             "#fdca26"
            ],
            [
             1,
             "#f0f921"
            ]
           ]
          },
          "colorway": [
           "#636efa",
           "#EF553B",
           "#00cc96",
           "#ab63fa",
           "#FFA15A",
           "#19d3f3",
           "#FF6692",
           "#B6E880",
           "#FF97FF",
           "#FECB52"
          ],
          "font": {
           "color": "#2a3f5f"
          },
          "geo": {
           "bgcolor": "white",
           "lakecolor": "white",
           "landcolor": "#E5ECF6",
           "showlakes": true,
           "showland": true,
           "subunitcolor": "white"
          },
          "hoverlabel": {
           "align": "left"
          },
          "hovermode": "closest",
          "mapbox": {
           "style": "light"
          },
          "paper_bgcolor": "white",
          "plot_bgcolor": "#E5ECF6",
          "polar": {
           "angularaxis": {
            "gridcolor": "white",
            "linecolor": "white",
            "ticks": ""
           },
           "bgcolor": "#E5ECF6",
           "radialaxis": {
            "gridcolor": "white",
            "linecolor": "white",
            "ticks": ""
           }
          },
          "scene": {
           "xaxis": {
            "backgroundcolor": "#E5ECF6",
            "gridcolor": "white",
            "gridwidth": 2,
            "linecolor": "white",
            "showbackground": true,
            "ticks": "",
            "zerolinecolor": "white"
           },
           "yaxis": {
            "backgroundcolor": "#E5ECF6",
            "gridcolor": "white",
            "gridwidth": 2,
            "linecolor": "white",
            "showbackground": true,
            "ticks": "",
            "zerolinecolor": "white"
           },
           "zaxis": {
            "backgroundcolor": "#E5ECF6",
            "gridcolor": "white",
            "gridwidth": 2,
            "linecolor": "white",
            "showbackground": true,
            "ticks": "",
            "zerolinecolor": "white"
           }
          },
          "shapedefaults": {
           "line": {
            "color": "#2a3f5f"
           }
          },
          "ternary": {
           "aaxis": {
            "gridcolor": "white",
            "linecolor": "white",
            "ticks": ""
           },
           "baxis": {
            "gridcolor": "white",
            "linecolor": "white",
            "ticks": ""
           },
           "bgcolor": "#E5ECF6",
           "caxis": {
            "gridcolor": "white",
            "linecolor": "white",
            "ticks": ""
           }
          },
          "title": {
           "x": 0.05
          },
          "xaxis": {
           "automargin": true,
           "gridcolor": "white",
           "linecolor": "white",
           "ticks": "",
           "title": {
            "standoff": 15
           },
           "zerolinecolor": "white",
           "zerolinewidth": 2
          },
          "yaxis": {
           "automargin": true,
           "gridcolor": "white",
           "linecolor": "white",
           "ticks": "",
           "title": {
            "standoff": 15
           },
           "zerolinecolor": "white",
           "zerolinewidth": 2
          }
         }
        },
        "width": 500,
        "yaxis": {
         "scaleanchor": "x",
         "scaleratio": 1
        }
       }
      }
     },
     "metadata": {},
     "output_type": "display_data"
    },
    {
     "data": {
      "application/vnd.plotly.v1+json": {
       "config": {
        "plotlyServerURL": "https://plot.ly"
       },
       "data": [
        {
         "hovertemplate": "x=%{x}<br>y=%{y}<br>text=%{text}<extra></extra>",
         "legendgroup": "",
         "marker": {
          "color": "#636efa",
          "symbol": "circle"
         },
         "mode": "markers+text",
         "name": "",
         "orientation": "v",
         "showlegend": false,
         "text": [
          0,
          1,
          2,
          3,
          4,
          5,
          6,
          7,
          8,
          9,
          10,
          11,
          12,
          13,
          14,
          15,
          16,
          17,
          18,
          19,
          20,
          21,
          22,
          23,
          24,
          25,
          26,
          27,
          28,
          29,
          30,
          31,
          32,
          33,
          34,
          35
         ],
         "textposition": "top center",
         "type": "scatter",
         "x": [
          -0.8660254037844386,
          -0.618589574131742,
          -0.37115374447904514,
          -0.12371791482634842,
          0.12371791482634831,
          0.3711537444790451,
          0.6185895741317419,
          0.8660254037844386,
          -0.7423074889580902,
          -0.49487165930539334,
          -0.24743582965269673,
          0,
          0.24743582965269673,
          0.49487165930539345,
          0.7423074889580902,
          -0.6185895741317419,
          -0.37115374447904514,
          -0.12371791482634842,
          0.12371791482634836,
          0.37115374447904514,
          0.6185895741317419,
          -0.49487165930539345,
          -0.24743582965269673,
          0,
          0.24743582965269673,
          0.49487165930539345,
          -0.3711537444790451,
          -0.12371791482634836,
          0.12371791482634836,
          0.3711537444790451,
          -0.24743582965269673,
          0,
          0.24743582965269673,
          -0.12371791482634831,
          0.12371791482634831,
          0
         ],
         "xaxis": "x",
         "y": [
          0.5,
          0.5,
          0.5,
          0.5,
          0.5,
          0.5,
          0.5,
          0.5,
          0.2857142857142857,
          0.2857142857142857,
          0.2857142857142857,
          0.2857142857142857,
          0.2857142857142857,
          0.2857142857142857,
          0.2857142857142857,
          0.07142857142857145,
          0.07142857142857145,
          0.07142857142857145,
          0.07142857142857145,
          0.07142857142857145,
          0.07142857142857145,
          -0.1428571428571428,
          -0.1428571428571428,
          -0.1428571428571428,
          -0.1428571428571428,
          -0.1428571428571428,
          -0.3571428571428571,
          -0.3571428571428571,
          -0.3571428571428571,
          -0.3571428571428571,
          -0.5714285714285714,
          -0.5714285714285714,
          -0.5714285714285714,
          -0.7857142857142856,
          -0.7857142857142856,
          -1
         ],
         "yaxis": "y"
        },
        {
         "hovertemplate": "x=%{x}<br>y=%{y}<extra></extra>",
         "legendgroup": "",
         "line": {
          "color": "#636efa",
          "dash": "solid"
         },
         "marker": {
          "symbol": "circle"
         },
         "mode": "lines",
         "name": "",
         "orientation": "v",
         "showlegend": false,
         "textposition": "top center",
         "type": "scatter",
         "x": [
          -0.3711537444790451,
          -0.12371791482634836,
          -0.24743582965269673,
          -0.12371791482634831,
          0,
          0.12371791482634836,
          0,
          -0.24743582965269673,
          -0.12371791482634842,
          -0.37115374447904514,
          -0.24743582965269673,
          -0.49487165930539334,
          -0.618589574131742,
          -0.37115374447904514,
          -0.12371791482634842,
          0,
          0.24743582965269673,
          0.12371791482634836,
          0.24743582965269673,
          0.37115374447904514,
          0.49487165930539345,
          0.7423074889580902,
          0.6185895741317419,
          0.49487165930539345
         ],
         "xaxis": "x",
         "y": [
          -0.3571428571428571,
          -0.3571428571428571,
          -0.5714285714285714,
          -0.7857142857142856,
          -0.5714285714285714,
          -0.3571428571428571,
          -0.1428571428571428,
          -0.1428571428571428,
          0.07142857142857145,
          0.07142857142857145,
          0.2857142857142857,
          0.2857142857142857,
          0.5,
          0.5,
          0.5,
          0.2857142857142857,
          0.2857142857142857,
          0.07142857142857145,
          -0.1428571428571428,
          0.07142857142857145,
          0.2857142857142857,
          0.2857142857142857,
          0.07142857142857145,
          -0.1428571428571428
         ],
         "yaxis": "y"
        }
       ],
       "layout": {
        "height": 500,
        "template": {
         "data": {
          "bar": [
           {
            "error_x": {
             "color": "#2a3f5f"
            },
            "error_y": {
             "color": "#2a3f5f"
            },
            "marker": {
             "line": {
              "color": "#E5ECF6",
              "width": 0.5
             },
             "pattern": {
              "fillmode": "overlay",
              "size": 10,
              "solidity": 0.2
             }
            },
            "type": "bar"
           }
          ],
          "barpolar": [
           {
            "marker": {
             "line": {
              "color": "#E5ECF6",
              "width": 0.5
             },
             "pattern": {
              "fillmode": "overlay",
              "size": 10,
              "solidity": 0.2
             }
            },
            "type": "barpolar"
           }
          ],
          "carpet": [
           {
            "aaxis": {
             "endlinecolor": "#2a3f5f",
             "gridcolor": "white",
             "linecolor": "white",
             "minorgridcolor": "white",
             "startlinecolor": "#2a3f5f"
            },
            "baxis": {
             "endlinecolor": "#2a3f5f",
             "gridcolor": "white",
             "linecolor": "white",
             "minorgridcolor": "white",
             "startlinecolor": "#2a3f5f"
            },
            "type": "carpet"
           }
          ],
          "choropleth": [
           {
            "colorbar": {
             "outlinewidth": 0,
             "ticks": ""
            },
            "type": "choropleth"
           }
          ],
          "contour": [
           {
            "colorbar": {
             "outlinewidth": 0,
             "ticks": ""
            },
            "colorscale": [
             [
              0,
              "#0d0887"
             ],
             [
              0.1111111111111111,
              "#46039f"
             ],
             [
              0.2222222222222222,
              "#7201a8"
             ],
             [
              0.3333333333333333,
              "#9c179e"
             ],
             [
              0.4444444444444444,
              "#bd3786"
             ],
             [
              0.5555555555555556,
              "#d8576b"
             ],
             [
              0.6666666666666666,
              "#ed7953"
             ],
             [
              0.7777777777777778,
              "#fb9f3a"
             ],
             [
              0.8888888888888888,
              "#fdca26"
             ],
             [
              1,
              "#f0f921"
             ]
            ],
            "type": "contour"
           }
          ],
          "contourcarpet": [
           {
            "colorbar": {
             "outlinewidth": 0,
             "ticks": ""
            },
            "type": "contourcarpet"
           }
          ],
          "heatmap": [
           {
            "colorbar": {
             "outlinewidth": 0,
             "ticks": ""
            },
            "colorscale": [
             [
              0,
              "#0d0887"
             ],
             [
              0.1111111111111111,
              "#46039f"
             ],
             [
              0.2222222222222222,
              "#7201a8"
             ],
             [
              0.3333333333333333,
              "#9c179e"
             ],
             [
              0.4444444444444444,
              "#bd3786"
             ],
             [
              0.5555555555555556,
              "#d8576b"
             ],
             [
              0.6666666666666666,
              "#ed7953"
             ],
             [
              0.7777777777777778,
              "#fb9f3a"
             ],
             [
              0.8888888888888888,
              "#fdca26"
             ],
             [
              1,
              "#f0f921"
             ]
            ],
            "type": "heatmap"
           }
          ],
          "heatmapgl": [
           {
            "colorbar": {
             "outlinewidth": 0,
             "ticks": ""
            },
            "colorscale": [
             [
              0,
              "#0d0887"
             ],
             [
              0.1111111111111111,
              "#46039f"
             ],
             [
              0.2222222222222222,
              "#7201a8"
             ],
             [
              0.3333333333333333,
              "#9c179e"
             ],
             [
              0.4444444444444444,
              "#bd3786"
             ],
             [
              0.5555555555555556,
              "#d8576b"
             ],
             [
              0.6666666666666666,
              "#ed7953"
             ],
             [
              0.7777777777777778,
              "#fb9f3a"
             ],
             [
              0.8888888888888888,
              "#fdca26"
             ],
             [
              1,
              "#f0f921"
             ]
            ],
            "type": "heatmapgl"
           }
          ],
          "histogram": [
           {
            "marker": {
             "pattern": {
              "fillmode": "overlay",
              "size": 10,
              "solidity": 0.2
             }
            },
            "type": "histogram"
           }
          ],
          "histogram2d": [
           {
            "colorbar": {
             "outlinewidth": 0,
             "ticks": ""
            },
            "colorscale": [
             [
              0,
              "#0d0887"
             ],
             [
              0.1111111111111111,
              "#46039f"
             ],
             [
              0.2222222222222222,
              "#7201a8"
             ],
             [
              0.3333333333333333,
              "#9c179e"
             ],
             [
              0.4444444444444444,
              "#bd3786"
             ],
             [
              0.5555555555555556,
              "#d8576b"
             ],
             [
              0.6666666666666666,
              "#ed7953"
             ],
             [
              0.7777777777777778,
              "#fb9f3a"
             ],
             [
              0.8888888888888888,
              "#fdca26"
             ],
             [
              1,
              "#f0f921"
             ]
            ],
            "type": "histogram2d"
           }
          ],
          "histogram2dcontour": [
           {
            "colorbar": {
             "outlinewidth": 0,
             "ticks": ""
            },
            "colorscale": [
             [
              0,
              "#0d0887"
             ],
             [
              0.1111111111111111,
              "#46039f"
             ],
             [
              0.2222222222222222,
              "#7201a8"
             ],
             [
              0.3333333333333333,
              "#9c179e"
             ],
             [
              0.4444444444444444,
              "#bd3786"
             ],
             [
              0.5555555555555556,
              "#d8576b"
             ],
             [
              0.6666666666666666,
              "#ed7953"
             ],
             [
              0.7777777777777778,
              "#fb9f3a"
             ],
             [
              0.8888888888888888,
              "#fdca26"
             ],
             [
              1,
              "#f0f921"
             ]
            ],
            "type": "histogram2dcontour"
           }
          ],
          "mesh3d": [
           {
            "colorbar": {
             "outlinewidth": 0,
             "ticks": ""
            },
            "type": "mesh3d"
           }
          ],
          "parcoords": [
           {
            "line": {
             "colorbar": {
              "outlinewidth": 0,
              "ticks": ""
             }
            },
            "type": "parcoords"
           }
          ],
          "pie": [
           {
            "automargin": true,
            "type": "pie"
           }
          ],
          "scatter": [
           {
            "fillpattern": {
             "fillmode": "overlay",
             "size": 10,
             "solidity": 0.2
            },
            "type": "scatter"
           }
          ],
          "scatter3d": [
           {
            "line": {
             "colorbar": {
              "outlinewidth": 0,
              "ticks": ""
             }
            },
            "marker": {
             "colorbar": {
              "outlinewidth": 0,
              "ticks": ""
             }
            },
            "type": "scatter3d"
           }
          ],
          "scattercarpet": [
           {
            "marker": {
             "colorbar": {
              "outlinewidth": 0,
              "ticks": ""
             }
            },
            "type": "scattercarpet"
           }
          ],
          "scattergeo": [
           {
            "marker": {
             "colorbar": {
              "outlinewidth": 0,
              "ticks": ""
             }
            },
            "type": "scattergeo"
           }
          ],
          "scattergl": [
           {
            "marker": {
             "colorbar": {
              "outlinewidth": 0,
              "ticks": ""
             }
            },
            "type": "scattergl"
           }
          ],
          "scattermapbox": [
           {
            "marker": {
             "colorbar": {
              "outlinewidth": 0,
              "ticks": ""
             }
            },
            "type": "scattermapbox"
           }
          ],
          "scatterpolar": [
           {
            "marker": {
             "colorbar": {
              "outlinewidth": 0,
              "ticks": ""
             }
            },
            "type": "scatterpolar"
           }
          ],
          "scatterpolargl": [
           {
            "marker": {
             "colorbar": {
              "outlinewidth": 0,
              "ticks": ""
             }
            },
            "type": "scatterpolargl"
           }
          ],
          "scatterternary": [
           {
            "marker": {
             "colorbar": {
              "outlinewidth": 0,
              "ticks": ""
             }
            },
            "type": "scatterternary"
           }
          ],
          "surface": [
           {
            "colorbar": {
             "outlinewidth": 0,
             "ticks": ""
            },
            "colorscale": [
             [
              0,
              "#0d0887"
             ],
             [
              0.1111111111111111,
              "#46039f"
             ],
             [
              0.2222222222222222,
              "#7201a8"
             ],
             [
              0.3333333333333333,
              "#9c179e"
             ],
             [
              0.4444444444444444,
              "#bd3786"
             ],
             [
              0.5555555555555556,
              "#d8576b"
             ],
             [
              0.6666666666666666,
              "#ed7953"
             ],
             [
              0.7777777777777778,
              "#fb9f3a"
             ],
             [
              0.8888888888888888,
              "#fdca26"
             ],
             [
              1,
              "#f0f921"
             ]
            ],
            "type": "surface"
           }
          ],
          "table": [
           {
            "cells": {
             "fill": {
              "color": "#EBF0F8"
             },
             "line": {
              "color": "white"
             }
            },
            "header": {
             "fill": {
              "color": "#C8D4E3"
             },
             "line": {
              "color": "white"
             }
            },
            "type": "table"
           }
          ]
         },
         "layout": {
          "annotationdefaults": {
           "arrowcolor": "#2a3f5f",
           "arrowhead": 0,
           "arrowwidth": 1
          },
          "autotypenumbers": "strict",
          "coloraxis": {
           "colorbar": {
            "outlinewidth": 0,
            "ticks": ""
           }
          },
          "colorscale": {
           "diverging": [
            [
             0,
             "#8e0152"
            ],
            [
             0.1,
             "#c51b7d"
            ],
            [
             0.2,
             "#de77ae"
            ],
            [
             0.3,
             "#f1b6da"
            ],
            [
             0.4,
             "#fde0ef"
            ],
            [
             0.5,
             "#f7f7f7"
            ],
            [
             0.6,
             "#e6f5d0"
            ],
            [
             0.7,
             "#b8e186"
            ],
            [
             0.8,
             "#7fbc41"
            ],
            [
             0.9,
             "#4d9221"
            ],
            [
             1,
             "#276419"
            ]
           ],
           "sequential": [
            [
             0,
             "#0d0887"
            ],
            [
             0.1111111111111111,
             "#46039f"
            ],
            [
             0.2222222222222222,
             "#7201a8"
            ],
            [
             0.3333333333333333,
             "#9c179e"
            ],
            [
             0.4444444444444444,
             "#bd3786"
            ],
            [
             0.5555555555555556,
             "#d8576b"
            ],
            [
             0.6666666666666666,
             "#ed7953"
            ],
            [
             0.7777777777777778,
             "#fb9f3a"
            ],
            [
             0.8888888888888888,
             "#fdca26"
            ],
            [
             1,
             "#f0f921"
            ]
           ],
           "sequentialminus": [
            [
             0,
             "#0d0887"
            ],
            [
             0.1111111111111111,
             "#46039f"
            ],
            [
             0.2222222222222222,
             "#7201a8"
            ],
            [
             0.3333333333333333,
             "#9c179e"
            ],
            [
             0.4444444444444444,
             "#bd3786"
            ],
            [
             0.5555555555555556,
             "#d8576b"
            ],
            [
             0.6666666666666666,
             "#ed7953"
            ],
            [
             0.7777777777777778,
             "#fb9f3a"
            ],
            [
             0.8888888888888888,
             "#fdca26"
            ],
            [
             1,
             "#f0f921"
            ]
           ]
          },
          "colorway": [
           "#636efa",
           "#EF553B",
           "#00cc96",
           "#ab63fa",
           "#FFA15A",
           "#19d3f3",
           "#FF6692",
           "#B6E880",
           "#FF97FF",
           "#FECB52"
          ],
          "font": {
           "color": "#2a3f5f"
          },
          "geo": {
           "bgcolor": "white",
           "lakecolor": "white",
           "landcolor": "#E5ECF6",
           "showlakes": true,
           "showland": true,
           "subunitcolor": "white"
          },
          "hoverlabel": {
           "align": "left"
          },
          "hovermode": "closest",
          "mapbox": {
           "style": "light"
          },
          "paper_bgcolor": "white",
          "plot_bgcolor": "#E5ECF6",
          "polar": {
           "angularaxis": {
            "gridcolor": "white",
            "linecolor": "white",
            "ticks": ""
           },
           "bgcolor": "#E5ECF6",
           "radialaxis": {
            "gridcolor": "white",
            "linecolor": "white",
            "ticks": ""
           }
          },
          "scene": {
           "xaxis": {
            "backgroundcolor": "#E5ECF6",
            "gridcolor": "white",
            "gridwidth": 2,
            "linecolor": "white",
            "showbackground": true,
            "ticks": "",
            "zerolinecolor": "white"
           },
           "yaxis": {
            "backgroundcolor": "#E5ECF6",
            "gridcolor": "white",
            "gridwidth": 2,
            "linecolor": "white",
            "showbackground": true,
            "ticks": "",
            "zerolinecolor": "white"
           },
           "zaxis": {
            "backgroundcolor": "#E5ECF6",
            "gridcolor": "white",
            "gridwidth": 2,
            "linecolor": "white",
            "showbackground": true,
            "ticks": "",
            "zerolinecolor": "white"
           }
          },
          "shapedefaults": {
           "line": {
            "color": "#2a3f5f"
           }
          },
          "ternary": {
           "aaxis": {
            "gridcolor": "white",
            "linecolor": "white",
            "ticks": ""
           },
           "baxis": {
            "gridcolor": "white",
            "linecolor": "white",
            "ticks": ""
           },
           "bgcolor": "#E5ECF6",
           "caxis": {
            "gridcolor": "white",
            "linecolor": "white",
            "ticks": ""
           }
          },
          "title": {
           "x": 0.05
          },
          "xaxis": {
           "automargin": true,
           "gridcolor": "white",
           "linecolor": "white",
           "ticks": "",
           "title": {
            "standoff": 15
           },
           "zerolinecolor": "white",
           "zerolinewidth": 2
          },
          "yaxis": {
           "automargin": true,
           "gridcolor": "white",
           "linecolor": "white",
           "ticks": "",
           "title": {
            "standoff": 15
           },
           "zerolinecolor": "white",
           "zerolinewidth": 2
          }
         }
        },
        "width": 500,
        "yaxis": {
         "scaleanchor": "x",
         "scaleratio": 1
        }
       }
      }
     },
     "metadata": {},
     "output_type": "display_data"
    }
   ],
   "source": [
    "# Generate Edges for triangle\n",
    "\n",
    "import itertools\n",
    "\n",
    "# 5 sided triangle\n",
    "CHOSEN_EDGES = [[11, 15], [15, 18], [16, 18], [13, 16], [12, 13], [1, 7], [7, 12], [1, 2], [2, 8], [8, 9], [9, 10], [10, 14], [14, 17]]\n",
    "\n",
    "# 9 sided triangle\n",
    "# CHOSEN_EDGES = [[40, 34], [34, 28], [28, 35], [35, 29], [29, 21], [21, 20], [20, 19], [19, 10], [10, 11], [11, 12], [12, 3], [3, 4], [4, 13], [13, 22], [22, 14], [14, 15], [15, 16], [16, 7], [7, 8], [8, 17], [17, 25], [25, 33], [33, 32], [32, 38], [38, 31], [31, 24], [24, 23], [23, 30], [30, 37], [37, 42], [42, 36], [36, 41], [41, 45], [45, 46], [46, 50], [50, 53], [53, 51], [51, 47], [47, 43], [43, 44], [44, 39]]\n",
    "\n",
    "def get_neighbors(coords, side_length):\n",
    "    edges = set()\n",
    "    def distance(a, b):\n",
    "        return ((a[0] - b[0])**2 + (a[1] - b[1])**2)**0.5\n",
    "    neighbor_distance = distance(coords[0], coords[-1])/side_length\n",
    "    for i, coord_1 in enumerate(coords):\n",
    "        for j, coord_2 in enumerate(coords):\n",
    "            if distance(coord_1, coord_2) < neighbor_distance*1.1 and i != j:\n",
    "                edges.add(frozenset([i, j]))\n",
    "    return [list(edge) for edge in edges]\n",
    "\n",
    "def find_gosper_paths(coords, corner_points, edge_points, side_length):\n",
    "\n",
    "    corner_points = sorted(corner_points)\n",
    "    neighbors = get_neighbors(coords, side_length)\n",
    "    graph = Graph(neighbors, len(coords))\n",
    "\n",
    "    edge_point_count = side_length - 1\n",
    "\n",
    "    top_edge = edge_points[corner_points[0], corner_points[1]]\n",
    "    left_edge = edge_points[corner_points[2], corner_points[0]]\n",
    "    right_edge = edge_points[corner_points[2], corner_points[1]][::-1] # reverse to align w/ left edge\n",
    "    \n",
    "    # Create permutations of patterns of edge points to exclude\n",
    "    exclude_patterns = list(itertools.product([False, True], repeat = edge_point_count//2))\n",
    "\n",
    "    # Calculate combinations of points that need to be excluded\n",
    "    exclude_point_groups = []\n",
    "    for top_exclude_pattern in exclude_patterns:\n",
    "        for side_exclude_pattern in exclude_patterns:\n",
    "            exclude_point_group = []\n",
    "            for i, exclude in enumerate(top_exclude_pattern):\n",
    "                point_to_exclude = i if exclude else edge_point_count - 1 - i\n",
    "                exclude_point_group.append(top_edge[point_to_exclude])\n",
    "            for i, exclude in enumerate(side_exclude_pattern):\n",
    "                point_to_exclude = i if exclude else edge_point_count - 1 - i\n",
    "                exclude_point_group.append(left_edge[point_to_exclude])\n",
    "                exclude_point_group.append(right_edge[point_to_exclude])\n",
    "            exclude_point_groups.append(exclude_point_group)\n",
    "\n",
    "    # Calculate edges that triangles will share\n",
    "    begin_shared_edge = left_edge[edge_point_count//2-1: edge_point_count//2+1]\n",
    "    end_shared_edge = right_edge[edge_point_count//2-1: edge_point_count//2+1]\n",
    "    all_paths = []\n",
    "    max_paths = 10\n",
    "    for exclude_point_group in exclude_point_groups:\n",
    "        begin_point = begin_shared_edge[0] if begin_shared_edge[1] in exclude_point_group else begin_shared_edge[1]\n",
    "        end_point = end_shared_edge[0] if end_shared_edge[1] in exclude_point_group else end_shared_edge[1]\n",
    "        paths = find_all_hamiltonian_paths(graph, begin_point, end_point, coords, corner_points + exclude_point_group, max_paths)\n",
    "        full_paths = [[path] + [begin_shared_edge, end_shared_edge] for path in paths]\n",
    "        all_paths += full_paths\n",
    "        if len(all_paths) >= max_paths:\n",
    "            break\n",
    "    return all_paths\n",
    "\n",
    "paths = find_gosper_paths(triangle_coords, triangle_corner_points, triangle_edge_points, TRIANGLE_LENGTH)"
   ]
  },
  {
   "cell_type": "code",
   "execution_count": 58,
   "metadata": {},
   "outputs": [
    {
     "data": {
      "application/vnd.plotly.v1+json": {
       "config": {
        "plotlyServerURL": "https://plot.ly"
       },
       "data": [
        {
         "hovertemplate": "x=%{x}<br>y=%{y}<br>text=%{text}<extra></extra>",
         "legendgroup": "",
         "marker": {
          "color": "#636efa",
          "symbol": "circle"
         },
         "mode": "markers+text",
         "name": "",
         "orientation": "v",
         "showlegend": false,
         "text": [
          0,
          1,
          2,
          3,
          4,
          5,
          6,
          7,
          8,
          9,
          10,
          11,
          12,
          13,
          14,
          15,
          16,
          17,
          18,
          19,
          20,
          21,
          22,
          23,
          24,
          25,
          26,
          27,
          28,
          29,
          30,
          31,
          32,
          33,
          34,
          35
         ],
         "textposition": "top center",
         "type": "scatter",
         "x": [
          -0.8660254037844386,
          -0.618589574131742,
          -0.37115374447904514,
          -0.12371791482634842,
          0.12371791482634831,
          0.3711537444790451,
          0.6185895741317419,
          0.8660254037844386,
          -0.7423074889580902,
          -0.49487165930539334,
          -0.24743582965269673,
          0,
          0.24743582965269673,
          0.49487165930539345,
          0.7423074889580902,
          -0.6185895741317419,
          -0.37115374447904514,
          -0.12371791482634842,
          0.12371791482634836,
          0.37115374447904514,
          0.6185895741317419,
          -0.49487165930539345,
          -0.24743582965269673,
          0,
          0.24743582965269673,
          0.49487165930539345,
          -0.3711537444790451,
          -0.12371791482634836,
          0.12371791482634836,
          0.3711537444790451,
          -0.24743582965269673,
          0,
          0.24743582965269673,
          -0.12371791482634831,
          0.12371791482634831,
          0
         ],
         "xaxis": "x",
         "y": [
          0.5,
          0.5,
          0.5,
          0.5,
          0.5,
          0.5,
          0.5,
          0.5,
          0.2857142857142857,
          0.2857142857142857,
          0.2857142857142857,
          0.2857142857142857,
          0.2857142857142857,
          0.2857142857142857,
          0.2857142857142857,
          0.07142857142857145,
          0.07142857142857145,
          0.07142857142857145,
          0.07142857142857145,
          0.07142857142857145,
          0.07142857142857145,
          -0.1428571428571428,
          -0.1428571428571428,
          -0.1428571428571428,
          -0.1428571428571428,
          -0.1428571428571428,
          -0.3571428571428571,
          -0.3571428571428571,
          -0.3571428571428571,
          -0.3571428571428571,
          -0.5714285714285714,
          -0.5714285714285714,
          -0.5714285714285714,
          -0.7857142857142856,
          -0.7857142857142856,
          -1
         ],
         "yaxis": "y"
        },
        {
         "hovertemplate": "x=%{x}<br>y=%{y}<extra></extra>",
         "legendgroup": "",
         "line": {
          "color": "#636efa",
          "dash": "solid"
         },
         "marker": {
          "symbol": "circle"
         },
         "mode": "lines",
         "name": "",
         "orientation": "v",
         "showlegend": false,
         "textposition": "top center",
         "type": "scatter",
         "x": [
          -0.3711537444790451,
          -0.12371791482634836,
          -0.24743582965269673,
          -0.12371791482634831,
          0,
          0.12371791482634836,
          0,
          -0.24743582965269673,
          -0.37115374447904514,
          -0.24743582965269673,
          -0.49487165930539334,
          -0.618589574131742,
          -0.37115374447904514,
          -0.12371791482634842,
          0,
          -0.12371791482634842,
          0.12371791482634836,
          0.24743582965269673,
          0.37115374447904514,
          0.24743582965269673,
          0.49487165930539345,
          0.7423074889580902,
          0.6185895741317419,
          0.49487165930539345
         ],
         "xaxis": "x",
         "y": [
          -0.3571428571428571,
          -0.3571428571428571,
          -0.5714285714285714,
          -0.7857142857142856,
          -0.5714285714285714,
          -0.3571428571428571,
          -0.1428571428571428,
          -0.1428571428571428,
          0.07142857142857145,
          0.2857142857142857,
          0.2857142857142857,
          0.5,
          0.5,
          0.5,
          0.2857142857142857,
          0.07142857142857145,
          0.07142857142857145,
          -0.1428571428571428,
          0.07142857142857145,
          0.2857142857142857,
          0.2857142857142857,
          0.2857142857142857,
          0.07142857142857145,
          -0.1428571428571428
         ],
         "yaxis": "y"
        },
        {
         "hovertemplate": "x=%{x}<br>y=%{y}<extra></extra>",
         "legendgroup": "",
         "line": {
          "color": "#636efa",
          "dash": "solid"
         },
         "marker": {
          "symbol": "circle"
         },
         "mode": "lines",
         "name": "",
         "orientation": "v",
         "showlegend": false,
         "textposition": "top center",
         "type": "scatter",
         "x": [
          -0.3711537444790451,
          -0.49487165930539345
         ],
         "xaxis": "x",
         "y": [
          -0.3571428571428571,
          -0.1428571428571428
         ],
         "yaxis": "y"
        },
        {
         "hovertemplate": "x=%{x}<br>y=%{y}<extra></extra>",
         "legendgroup": "",
         "line": {
          "color": "#636efa",
          "dash": "solid"
         },
         "marker": {
          "symbol": "circle"
         },
         "mode": "lines",
         "name": "",
         "orientation": "v",
         "showlegend": false,
         "textposition": "top center",
         "type": "scatter",
         "x": [
          0.49487165930539345,
          0.3711537444790451
         ],
         "xaxis": "x",
         "y": [
          -0.1428571428571428,
          -0.3571428571428571
         ],
         "yaxis": "y"
        }
       ],
       "layout": {
        "height": 500,
        "template": {
         "data": {
          "bar": [
           {
            "error_x": {
             "color": "#2a3f5f"
            },
            "error_y": {
             "color": "#2a3f5f"
            },
            "marker": {
             "line": {
              "color": "#E5ECF6",
              "width": 0.5
             },
             "pattern": {
              "fillmode": "overlay",
              "size": 10,
              "solidity": 0.2
             }
            },
            "type": "bar"
           }
          ],
          "barpolar": [
           {
            "marker": {
             "line": {
              "color": "#E5ECF6",
              "width": 0.5
             },
             "pattern": {
              "fillmode": "overlay",
              "size": 10,
              "solidity": 0.2
             }
            },
            "type": "barpolar"
           }
          ],
          "carpet": [
           {
            "aaxis": {
             "endlinecolor": "#2a3f5f",
             "gridcolor": "white",
             "linecolor": "white",
             "minorgridcolor": "white",
             "startlinecolor": "#2a3f5f"
            },
            "baxis": {
             "endlinecolor": "#2a3f5f",
             "gridcolor": "white",
             "linecolor": "white",
             "minorgridcolor": "white",
             "startlinecolor": "#2a3f5f"
            },
            "type": "carpet"
           }
          ],
          "choropleth": [
           {
            "colorbar": {
             "outlinewidth": 0,
             "ticks": ""
            },
            "type": "choropleth"
           }
          ],
          "contour": [
           {
            "colorbar": {
             "outlinewidth": 0,
             "ticks": ""
            },
            "colorscale": [
             [
              0,
              "#0d0887"
             ],
             [
              0.1111111111111111,
              "#46039f"
             ],
             [
              0.2222222222222222,
              "#7201a8"
             ],
             [
              0.3333333333333333,
              "#9c179e"
             ],
             [
              0.4444444444444444,
              "#bd3786"
             ],
             [
              0.5555555555555556,
              "#d8576b"
             ],
             [
              0.6666666666666666,
              "#ed7953"
             ],
             [
              0.7777777777777778,
              "#fb9f3a"
             ],
             [
              0.8888888888888888,
              "#fdca26"
             ],
             [
              1,
              "#f0f921"
             ]
            ],
            "type": "contour"
           }
          ],
          "contourcarpet": [
           {
            "colorbar": {
             "outlinewidth": 0,
             "ticks": ""
            },
            "type": "contourcarpet"
           }
          ],
          "heatmap": [
           {
            "colorbar": {
             "outlinewidth": 0,
             "ticks": ""
            },
            "colorscale": [
             [
              0,
              "#0d0887"
             ],
             [
              0.1111111111111111,
              "#46039f"
             ],
             [
              0.2222222222222222,
              "#7201a8"
             ],
             [
              0.3333333333333333,
              "#9c179e"
             ],
             [
              0.4444444444444444,
              "#bd3786"
             ],
             [
              0.5555555555555556,
              "#d8576b"
             ],
             [
              0.6666666666666666,
              "#ed7953"
             ],
             [
              0.7777777777777778,
              "#fb9f3a"
             ],
             [
              0.8888888888888888,
              "#fdca26"
             ],
             [
              1,
              "#f0f921"
             ]
            ],
            "type": "heatmap"
           }
          ],
          "heatmapgl": [
           {
            "colorbar": {
             "outlinewidth": 0,
             "ticks": ""
            },
            "colorscale": [
             [
              0,
              "#0d0887"
             ],
             [
              0.1111111111111111,
              "#46039f"
             ],
             [
              0.2222222222222222,
              "#7201a8"
             ],
             [
              0.3333333333333333,
              "#9c179e"
             ],
             [
              0.4444444444444444,
              "#bd3786"
             ],
             [
              0.5555555555555556,
              "#d8576b"
             ],
             [
              0.6666666666666666,
              "#ed7953"
             ],
             [
              0.7777777777777778,
              "#fb9f3a"
             ],
             [
              0.8888888888888888,
              "#fdca26"
             ],
             [
              1,
              "#f0f921"
             ]
            ],
            "type": "heatmapgl"
           }
          ],
          "histogram": [
           {
            "marker": {
             "pattern": {
              "fillmode": "overlay",
              "size": 10,
              "solidity": 0.2
             }
            },
            "type": "histogram"
           }
          ],
          "histogram2d": [
           {
            "colorbar": {
             "outlinewidth": 0,
             "ticks": ""
            },
            "colorscale": [
             [
              0,
              "#0d0887"
             ],
             [
              0.1111111111111111,
              "#46039f"
             ],
             [
              0.2222222222222222,
              "#7201a8"
             ],
             [
              0.3333333333333333,
              "#9c179e"
             ],
             [
              0.4444444444444444,
              "#bd3786"
             ],
             [
              0.5555555555555556,
              "#d8576b"
             ],
             [
              0.6666666666666666,
              "#ed7953"
             ],
             [
              0.7777777777777778,
              "#fb9f3a"
             ],
             [
              0.8888888888888888,
              "#fdca26"
             ],
             [
              1,
              "#f0f921"
             ]
            ],
            "type": "histogram2d"
           }
          ],
          "histogram2dcontour": [
           {
            "colorbar": {
             "outlinewidth": 0,
             "ticks": ""
            },
            "colorscale": [
             [
              0,
              "#0d0887"
             ],
             [
              0.1111111111111111,
              "#46039f"
             ],
             [
              0.2222222222222222,
              "#7201a8"
             ],
             [
              0.3333333333333333,
              "#9c179e"
             ],
             [
              0.4444444444444444,
              "#bd3786"
             ],
             [
              0.5555555555555556,
              "#d8576b"
             ],
             [
              0.6666666666666666,
              "#ed7953"
             ],
             [
              0.7777777777777778,
              "#fb9f3a"
             ],
             [
              0.8888888888888888,
              "#fdca26"
             ],
             [
              1,
              "#f0f921"
             ]
            ],
            "type": "histogram2dcontour"
           }
          ],
          "mesh3d": [
           {
            "colorbar": {
             "outlinewidth": 0,
             "ticks": ""
            },
            "type": "mesh3d"
           }
          ],
          "parcoords": [
           {
            "line": {
             "colorbar": {
              "outlinewidth": 0,
              "ticks": ""
             }
            },
            "type": "parcoords"
           }
          ],
          "pie": [
           {
            "automargin": true,
            "type": "pie"
           }
          ],
          "scatter": [
           {
            "fillpattern": {
             "fillmode": "overlay",
             "size": 10,
             "solidity": 0.2
            },
            "type": "scatter"
           }
          ],
          "scatter3d": [
           {
            "line": {
             "colorbar": {
              "outlinewidth": 0,
              "ticks": ""
             }
            },
            "marker": {
             "colorbar": {
              "outlinewidth": 0,
              "ticks": ""
             }
            },
            "type": "scatter3d"
           }
          ],
          "scattercarpet": [
           {
            "marker": {
             "colorbar": {
              "outlinewidth": 0,
              "ticks": ""
             }
            },
            "type": "scattercarpet"
           }
          ],
          "scattergeo": [
           {
            "marker": {
             "colorbar": {
              "outlinewidth": 0,
              "ticks": ""
             }
            },
            "type": "scattergeo"
           }
          ],
          "scattergl": [
           {
            "marker": {
             "colorbar": {
              "outlinewidth": 0,
              "ticks": ""
             }
            },
            "type": "scattergl"
           }
          ],
          "scattermapbox": [
           {
            "marker": {
             "colorbar": {
              "outlinewidth": 0,
              "ticks": ""
             }
            },
            "type": "scattermapbox"
           }
          ],
          "scatterpolar": [
           {
            "marker": {
             "colorbar": {
              "outlinewidth": 0,
              "ticks": ""
             }
            },
            "type": "scatterpolar"
           }
          ],
          "scatterpolargl": [
           {
            "marker": {
             "colorbar": {
              "outlinewidth": 0,
              "ticks": ""
             }
            },
            "type": "scatterpolargl"
           }
          ],
          "scatterternary": [
           {
            "marker": {
             "colorbar": {
              "outlinewidth": 0,
              "ticks": ""
             }
            },
            "type": "scatterternary"
           }
          ],
          "surface": [
           {
            "colorbar": {
             "outlinewidth": 0,
             "ticks": ""
            },
            "colorscale": [
             [
              0,
              "#0d0887"
             ],
             [
              0.1111111111111111,
              "#46039f"
             ],
             [
              0.2222222222222222,
              "#7201a8"
             ],
             [
              0.3333333333333333,
              "#9c179e"
             ],
             [
              0.4444444444444444,
              "#bd3786"
             ],
             [
              0.5555555555555556,
              "#d8576b"
             ],
             [
              0.6666666666666666,
              "#ed7953"
             ],
             [
              0.7777777777777778,
              "#fb9f3a"
             ],
             [
              0.8888888888888888,
              "#fdca26"
             ],
             [
              1,
              "#f0f921"
             ]
            ],
            "type": "surface"
           }
          ],
          "table": [
           {
            "cells": {
             "fill": {
              "color": "#EBF0F8"
             },
             "line": {
              "color": "white"
             }
            },
            "header": {
             "fill": {
              "color": "#C8D4E3"
             },
             "line": {
              "color": "white"
             }
            },
            "type": "table"
           }
          ]
         },
         "layout": {
          "annotationdefaults": {
           "arrowcolor": "#2a3f5f",
           "arrowhead": 0,
           "arrowwidth": 1
          },
          "autotypenumbers": "strict",
          "coloraxis": {
           "colorbar": {
            "outlinewidth": 0,
            "ticks": ""
           }
          },
          "colorscale": {
           "diverging": [
            [
             0,
             "#8e0152"
            ],
            [
             0.1,
             "#c51b7d"
            ],
            [
             0.2,
             "#de77ae"
            ],
            [
             0.3,
             "#f1b6da"
            ],
            [
             0.4,
             "#fde0ef"
            ],
            [
             0.5,
             "#f7f7f7"
            ],
            [
             0.6,
             "#e6f5d0"
            ],
            [
             0.7,
             "#b8e186"
            ],
            [
             0.8,
             "#7fbc41"
            ],
            [
             0.9,
             "#4d9221"
            ],
            [
             1,
             "#276419"
            ]
           ],
           "sequential": [
            [
             0,
             "#0d0887"
            ],
            [
             0.1111111111111111,
             "#46039f"
            ],
            [
             0.2222222222222222,
             "#7201a8"
            ],
            [
             0.3333333333333333,
             "#9c179e"
            ],
            [
             0.4444444444444444,
             "#bd3786"
            ],
            [
             0.5555555555555556,
             "#d8576b"
            ],
            [
             0.6666666666666666,
             "#ed7953"
            ],
            [
             0.7777777777777778,
             "#fb9f3a"
            ],
            [
             0.8888888888888888,
             "#fdca26"
            ],
            [
             1,
             "#f0f921"
            ]
           ],
           "sequentialminus": [
            [
             0,
             "#0d0887"
            ],
            [
             0.1111111111111111,
             "#46039f"
            ],
            [
             0.2222222222222222,
             "#7201a8"
            ],
            [
             0.3333333333333333,
             "#9c179e"
            ],
            [
             0.4444444444444444,
             "#bd3786"
            ],
            [
             0.5555555555555556,
             "#d8576b"
            ],
            [
             0.6666666666666666,
             "#ed7953"
            ],
            [
             0.7777777777777778,
             "#fb9f3a"
            ],
            [
             0.8888888888888888,
             "#fdca26"
            ],
            [
             1,
             "#f0f921"
            ]
           ]
          },
          "colorway": [
           "#636efa",
           "#EF553B",
           "#00cc96",
           "#ab63fa",
           "#FFA15A",
           "#19d3f3",
           "#FF6692",
           "#B6E880",
           "#FF97FF",
           "#FECB52"
          ],
          "font": {
           "color": "#2a3f5f"
          },
          "geo": {
           "bgcolor": "white",
           "lakecolor": "white",
           "landcolor": "#E5ECF6",
           "showlakes": true,
           "showland": true,
           "subunitcolor": "white"
          },
          "hoverlabel": {
           "align": "left"
          },
          "hovermode": "closest",
          "mapbox": {
           "style": "light"
          },
          "paper_bgcolor": "white",
          "plot_bgcolor": "#E5ECF6",
          "polar": {
           "angularaxis": {
            "gridcolor": "white",
            "linecolor": "white",
            "ticks": ""
           },
           "bgcolor": "#E5ECF6",
           "radialaxis": {
            "gridcolor": "white",
            "linecolor": "white",
            "ticks": ""
           }
          },
          "scene": {
           "xaxis": {
            "backgroundcolor": "#E5ECF6",
            "gridcolor": "white",
            "gridwidth": 2,
            "linecolor": "white",
            "showbackground": true,
            "ticks": "",
            "zerolinecolor": "white"
           },
           "yaxis": {
            "backgroundcolor": "#E5ECF6",
            "gridcolor": "white",
            "gridwidth": 2,
            "linecolor": "white",
            "showbackground": true,
            "ticks": "",
            "zerolinecolor": "white"
           },
           "zaxis": {
            "backgroundcolor": "#E5ECF6",
            "gridcolor": "white",
            "gridwidth": 2,
            "linecolor": "white",
            "showbackground": true,
            "ticks": "",
            "zerolinecolor": "white"
           }
          },
          "shapedefaults": {
           "line": {
            "color": "#2a3f5f"
           }
          },
          "ternary": {
           "aaxis": {
            "gridcolor": "white",
            "linecolor": "white",
            "ticks": ""
           },
           "baxis": {
            "gridcolor": "white",
            "linecolor": "white",
            "ticks": ""
           },
           "bgcolor": "#E5ECF6",
           "caxis": {
            "gridcolor": "white",
            "linecolor": "white",
            "ticks": ""
           }
          },
          "title": {
           "x": 0.05
          },
          "xaxis": {
           "automargin": true,
           "gridcolor": "white",
           "linecolor": "white",
           "ticks": "",
           "title": {
            "standoff": 15
           },
           "zerolinecolor": "white",
           "zerolinewidth": 2
          },
          "yaxis": {
           "automargin": true,
           "gridcolor": "white",
           "linecolor": "white",
           "ticks": "",
           "title": {
            "standoff": 15
           },
           "zerolinecolor": "white",
           "zerolinewidth": 2
          }
         }
        },
        "width": 500,
        "yaxis": {
         "scaleanchor": "x",
         "scaleratio": 1
        }
       }
      }
     },
     "metadata": {},
     "output_type": "display_data"
    }
   ],
   "source": [
    "# Choose edge pattern for icosahedron\n",
    "\n",
    "show_2d_points(triangle_coords, CHOSEN_EDGES)\n",
    "CHOSEN_EDGES = paths[2]"
   ]
  },
  {
   "cell_type": "code",
   "execution_count": 54,
   "metadata": {},
   "outputs": [],
   "source": [
    "# Get Base icosahedron\n",
    "\n",
    "def icosphere_base():\n",
    "    # verts for icosahedron\n",
    "    r = (1.0 + np.sqrt(5.0)) / 2.0;\n",
    "    verts = np.array([[-1.0, r, 0.0],[ 1.0, r, 0.0],[-1.0, -r, 0.0],\n",
    "                      [1.0, -r, 0.0],[0.0, -1.0, r],[0.0, 1.0, r],\n",
    "                      [0.0, -1.0, -r],[0.0, 1.0, -r],[r, 0.0, -1.0],\n",
    "                      [r, 0.0, 1.0],[ -r, 0.0, -1.0],[-r, 0.0, 1.0]]);\n",
    "    # rescale the size to radius of 0.5\n",
    "    verts /= np.linalg.norm(verts[0])\n",
    "\n",
    "    verts = list(verts)\n",
    "    \n",
    "    faces = [[5, 4, 11], [4, 2, 11], [10, 11, 2], [2, 6, 10], \n",
    "             [7, 10, 6], [6, 8, 7], [1, 7, 8], [9, 1, 8],\n",
    "             [3, 9, 8], [8, 6, 3], [6, 2, 3], [2, 4, 3], \n",
    "             [9, 3, 4], [4, 5, 9], [1, 9, 5], [5, 0, 1], \n",
    "             [7, 1, 0], [10, 7, 0], [11, 10, 0], [0, 5, 11]]\n",
    "                \n",
    "    return np.array(verts), faces"
   ]
  },
  {
   "cell_type": "code",
   "execution_count": 55,
   "metadata": {},
   "outputs": [
    {
     "name": "stdout",
     "output_type": "stream",
     "text": [
      "det(R) < R, reflection detected!, correcting for it ...\n",
      "det(R) < R, reflection detected!, correcting for it ...\n",
      "det(R) < R, reflection detected!, correcting for it ...\n",
      "det(R) < R, reflection detected!, correcting for it ...\n",
      "det(R) < R, reflection detected!, correcting for it ...\n",
      "det(R) < R, reflection detected!, correcting for it ...\n",
      "det(R) < R, reflection detected!, correcting for it ...\n",
      "det(R) < R, reflection detected!, correcting for it ...\n",
      "det(R) < R, reflection detected!, correcting for it ...\n",
      "det(R) < R, reflection detected!, correcting for it ...\n"
     ]
    }
   ],
   "source": [
    "# Find Transformation Matrices\n",
    "\n",
    "# use a scalar to scale \n",
    "# http://nghiaho.com/?page_id=671\n",
    "def rigid_transform_3D(A, B):\n",
    "    assert A.shape == B.shape\n",
    "\n",
    "    num_rows, num_cols = A.shape\n",
    "    if num_rows != 3:\n",
    "        raise Exception(f\"matrix A is not 3xN, it is {num_rows}x{num_cols}\")\n",
    "\n",
    "    num_rows, num_cols = B.shape\n",
    "    if num_rows != 3:\n",
    "        raise Exception(f\"matrix B is not 3xN, it is {num_rows}x{num_cols}\")\n",
    "\n",
    "    # find mean column wise\n",
    "    centroid_B = np.mean(B, axis=1)\n",
    "\n",
    "    # ensure centroids are 3x1\n",
    "    centroid_B = centroid_B.reshape(-1, 1)\n",
    "\n",
    "    # subtract mean\n",
    "    Am = A\n",
    "    Bm = B - centroid_B\n",
    "\n",
    "    H = Am @ np.transpose(Bm)\n",
    "\n",
    "    # find rotation\n",
    "    U, S, Vt = np.linalg.svd(H)\n",
    "    R = Vt.T @ U.T\n",
    "\n",
    "    # special reflection case\n",
    "    if np.linalg.det(R) < 0:\n",
    "        print(\"det(R) < R, reflection detected!, correcting for it ...\")\n",
    "        Vt[2,:] *= -1\n",
    "        R = Vt.T @ U.T\n",
    "\n",
    "    t = centroid_B\n",
    "\n",
    "    return R, t\n",
    "\n",
    "triangle_mat = np.array(base_points)\n",
    "triangle_mat = np.hstack([triangle_mat, np.zeros((3, 1))])\n",
    "\n",
    "icosphere_coords, icosphere_faces = icosphere_base()\n",
    "\n",
    "transformation_mats_list = []\n",
    "\n",
    "for face in icosphere_faces:\n",
    "    icosphere_mat = np.array([icosphere_coords[i] for i in face])\n",
    "    rotation_mat, translation_mat = rigid_transform_3D(triangle_mat.T, icosphere_mat.T)\n",
    "    scale_factor = np.linalg.norm(icosphere_mat[0] - np.mean(icosphere_mat, axis=0))\n",
    "    transformation_mats_list.append({\n",
    "        'rotation_mat': rotation_mat,\n",
    "        'translation_mat': translation_mat,\n",
    "        'scale_factor': scale_factor\n",
    "    })\n",
    "\n",
    "def apply_transform(mat, tf_mats):\n",
    "    rotated = tf_mats['rotation_mat'] @ np.array(mat).T\n",
    "    scaled = rotated * tf_mats['scale_factor']\n",
    "    translated = scaled + np.tile(tf_mats['translation_mat'], (1, mat.shape[0])) \n",
    "    return translated.T"
   ]
  },
  {
   "cell_type": "code",
   "execution_count": 56,
   "metadata": {},
   "outputs": [
    {
     "data": {
      "application/vnd.plotly.v1+json": {
       "config": {
        "plotlyServerURL": "https://plot.ly"
       },
       "data": [
        {
         "hovertemplate": "x=%{x}<br>y=%{y}<br>z=%{z}<extra></extra>",
         "legendgroup": "",
         "marker": {
          "color": "#636efa",
          "size": 1,
          "symbol": "circle"
         },
         "mode": "markers",
         "name": "",
         "scene": "scene",
         "showlegend": false,
         "type": "scatter3d",
         "x": [
          -0.5257311121191336,
          0.5257311121191336,
          -0.5257311121191336,
          0.5257311121191336,
          0,
          0,
          0,
          0,
          0.85065080835204,
          0.85065080835204,
          -0.85065080835204,
          -0.85065080835204,
          0,
          0,
          0,
          0,
          0,
          0,
          -0.7291292643017484,
          -0.6076077202514572,
          -0.4860861762011657,
          -0.36456463215087426,
          -0.24304308810058287,
          -0.12152154405029147,
          -0.7291292643017484,
          -0.6076077202514572,
          -0.4860861762011657,
          -0.36456463215087426,
          -0.24304308810058287,
          -0.12152154405029147,
          -0.12152154405029147,
          -0.12152154405029147,
          -0.12152154405029147,
          -0.12152154405029147,
          -0.12152154405029147,
          -0.24304308810058287,
          -0.24304308810058287,
          -0.24304308810058287,
          -0.24304308810058287,
          -0.36456463215087426,
          -0.36456463215087426,
          -0.36456463215087426,
          -0.4860861762011657,
          -0.4860861762011657,
          -0.6076077202514572,
          -0.07510444458844767,
          -0.15020888917689534,
          -0.22531333376534296,
          -0.3004177783537906,
          -0.37552222294223825,
          -0.4506266675306859,
          -0.8042337088901961,
          -0.7578166094283525,
          -0.7113995099665087,
          -0.6649824105046649,
          -0.6185653110428211,
          -0.5721482115809773,
          -0.19662598863873915,
          -0.27173043322718676,
          -0.3468348778156344,
          -0.42193932240408205,
          -0.4970437669925297,
          -0.3181475326890305,
          -0.3932519772774781,
          -0.4683564218659258,
          -0.5434608664543734,
          -0.43966907673932193,
          -0.5147735213277695,
          -0.5898779659162172,
          -0.5611906207896133,
          -0.636295065378061,
          -0.6827121648399048,
          -0.8506508083520401,
          -0.8506508083520401,
          -0.8506508083520401,
          -0.8506508083520401,
          -0.8506508083520401,
          -0.8506508083520401,
          -0.5721482115809774,
          -0.6185653110428212,
          -0.664982410504665,
          -0.7113995099665088,
          -0.7578166094283525,
          -0.8042337088901963,
          -0.8042337088901963,
          -0.8042337088901963,
          -0.8042337088901963,
          -0.8042337088901963,
          -0.8042337088901963,
          -0.7578166094283525,
          -0.7578166094283525,
          -0.7578166094283525,
          -0.7578166094283525,
          -0.7113995099665088,
          -0.7113995099665088,
          -0.7113995099665088,
          -0.664982410504665,
          -0.664982410504665,
          -0.6185653110428212,
          -0.450626667530686,
          -0.3755222229422383,
          -0.3004177783537907,
          -0.225313333765343,
          -0.15020888917689534,
          -0.07510444458844773,
          -0.7291292643017485,
          -0.6076077202514572,
          -0.4860861762011657,
          -0.36456463215087426,
          -0.24304308810058287,
          -0.12152154405029147,
          -0.49704376699252967,
          -0.42193932240408205,
          -0.3468348778156344,
          -0.27173043322718676,
          -0.1966259886387391,
          -0.5434608664543734,
          -0.46835642186592585,
          -0.3932519772774782,
          -0.3181475326890305,
          -0.5898779659162172,
          -0.5147735213277695,
          -0.43966907673932193,
          -0.636295065378061,
          -0.5611906207896133,
          -0.6827121648399048,
          -0.12152154405029145,
          -0.24304308810058287,
          -0.36456463215087426,
          -0.4860861762011657,
          -0.607607720251457,
          -0.7291292643017484,
          -1.6653345369377348e-16,
          -1.1102230246251565e-16,
          -1.1102230246251565e-16,
          -1.1102230246251565e-16,
          -5.551115123125783e-17,
          -1.1102230246251565e-16,
          -0.12152154405029153,
          -0.2430430881005829,
          -0.36456463215087426,
          -0.4860861762011657,
          -0.607607720251457,
          -0.12152154405029147,
          -0.24304308810058287,
          -0.3645646321508743,
          -0.4860861762011657,
          -0.1215215440502915,
          -0.2430430881005829,
          -0.3645646321508743,
          -0.1215215440502915,
          -0.2430430881005829,
          -0.1215215440502915,
          0.12152154405029145,
          0.24304308810058287,
          0.3645646321508743,
          0.4860861762011657,
          0.6076077202514572,
          0.7291292643017486,
          0.12152154405029145,
          0.24304308810058284,
          0.3645646321508743,
          0.4860861762011657,
          0.6076077202514572,
          0.7291292643017484,
          0.12152154405029153,
          0.2430430881005829,
          0.3645646321508743,
          0.4860861762011657,
          0.6076077202514572,
          0.12152154405029145,
          0.24304308810058287,
          0.3645646321508743,
          0.4860861762011657,
          0.1215215440502915,
          0.2430430881005829,
          0.3645646321508743,
          0.12152154405029147,
          0.24304308810058287,
          0.12152154405029147,
          0.450626667530686,
          0.3755222229422383,
          0.3004177783537907,
          0.225313333765343,
          0.15020888917689534,
          0.07510444458844773,
          0.8042337088901961,
          0.7578166094283525,
          0.7113995099665087,
          0.6649824105046649,
          0.6185653110428211,
          0.5721482115809773,
          0.49704376699252967,
          0.42193932240408205,
          0.3468348778156344,
          0.27173043322718676,
          0.1966259886387391,
          0.5434608664543734,
          0.46835642186592585,
          0.3932519772774782,
          0.3181475326890305,
          0.5898779659162172,
          0.5147735213277695,
          0.43966907673932193,
          0.636295065378061,
          0.5611906207896133,
          0.6827121648399048,
          0.8042337088901963,
          0.7578166094283525,
          0.7113995099665088,
          0.664982410504665,
          0.6185653110428212,
          0.5721482115809775,
          0.85065080835204,
          0.8506508083520401,
          0.8506508083520401,
          0.85065080835204,
          0.8506508083520401,
          0.8506508083520401,
          0.8042337088901963,
          0.7578166094283525,
          0.7113995099665088,
          0.664982410504665,
          0.6185653110428212,
          0.8042337088901963,
          0.7578166094283525,
          0.7113995099665088,
          0.664982410504665,
          0.8042337088901963,
          0.7578166094283525,
          0.7113995099665088,
          0.8042337088901963,
          0.7578166094283525,
          0.8042337088901963,
          0.5721482115809774,
          0.6185653110428212,
          0.664982410504665,
          0.7113995099665087,
          0.7578166094283525,
          0.8042337088901963,
          0.8042337088901963,
          0.7578166094283525,
          0.7113995099665088,
          0.664982410504665,
          0.6185653110428212,
          0.5721482115809775,
          0.6185653110428213,
          0.664982410504665,
          0.7113995099665088,
          0.7578166094283525,
          0.8042337088901963,
          0.664982410504665,
          0.7113995099665087,
          0.7578166094283525,
          0.8042337088901963,
          0.7113995099665088,
          0.7578166094283525,
          0.8042337088901963,
          0.7578166094283525,
          0.8042337088901963,
          0.8042337088901963,
          0.45062666753068603,
          0.3755222229422383,
          0.3004177783537907,
          0.22531333376534296,
          0.1502088891768953,
          0.07510444458844767,
          0.6827121648399048,
          0.5611906207896133,
          0.43966907673932193,
          0.3181475326890305,
          0.1966259886387391,
          0.636295065378061,
          0.5147735213277697,
          0.3932519772774782,
          0.2717304332271867,
          0.5898779659162172,
          0.46835642186592585,
          0.3468348778156344,
          0.5434608664543735,
          0.42193932240408205,
          0.4970437669925297,
          0.37552222294223825,
          0.225313333765343,
          0.07510444458844769,
          -0.07510444458844762,
          -0.22531333376534293,
          -0.3755222229422382,
          -1.0238606577256802e-16,
          -0.07510444458844769,
          -0.15020888917689532,
          -0.22531333376534293,
          -0.3004177783537906,
          0.0751044445884476,
          -1.4914453287152606e-17,
          -0.07510444458844766,
          -0.1502088891768953,
          0.15020888917689523,
          0.07510444458844763,
          5.159738419860958e-18,
          0.22531333376534293,
          0.15020888917689532,
          0.30041777835379063,
          0.45062666753068586,
          0.37552222294223825,
          0.3004177783537906,
          0.22531333376534288,
          0.15020888917689523,
          0.07510444458844755,
          -0.3004177783537905,
          -0.22531333376534293,
          -0.15020888917689532,
          -0.07510444458844769,
          -6.868735538336709e-17,
          -0.1502088891768953,
          -0.07510444458844767,
          -3.176380848175307e-17,
          0.0751044445884476,
          5.159738419860958e-18,
          0.07510444458844763,
          0.15020888917689523,
          0.15020888917689532,
          0.22531333376534293,
          0.30041777835379063,
          0.12152154405029153,
          0.24304308810058292,
          0.3645646321508743,
          0.48608617620116573,
          0.6076077202514572,
          0.7291292643017485,
          0.6827121648399047,
          0.636295065378061,
          0.5898779659162172,
          0.5434608664543734,
          0.49704376699252967,
          0.5611906207896133,
          0.5147735213277697,
          0.46835642186592585,
          0.42193932240408205,
          0.439669076739322,
          0.3932519772774782,
          0.34683487781563443,
          0.31814753268903057,
          0.2717304332271868,
          0.19662598863873915,
          0.7291292643017484,
          0.6076077202514572,
          0.4860861762011657,
          0.36456463215087426,
          0.24304308810058287,
          0.12152154405029147,
          0.12152154405029147,
          0.12152154405029147,
          0.12152154405029147,
          0.12152154405029147,
          0.12152154405029147,
          0.24304308810058287,
          0.24304308810058287,
          0.24304308810058287,
          0.24304308810058287,
          0.36456463215087426,
          0.36456463215087426,
          0.36456463215087426,
          0.4860861762011657,
          0.4860861762011657,
          0.6076077202514572,
          0.07510444458844778,
          0.1502088891768954,
          0.22531333376534302,
          0.3004177783537907,
          0.37552222294223825,
          0.4506266675306859,
          0.4970437669925297,
          0.5434608664543734,
          0.5898779659162172,
          0.636295065378061,
          0.6827121648399048,
          0.42193932240408205,
          0.4683564218659258,
          0.5147735213277695,
          0.5611906207896133,
          0.34683487781563443,
          0.3932519772774782,
          0.439669076739322,
          0.2717304332271868,
          0.31814753268903057,
          0.19662598863873915,
          -0.07510444458844769,
          -0.15020888917689537,
          -0.225313333765343,
          -0.30041777835379063,
          -0.37552222294223825,
          -0.45062666753068586,
          0.37552222294223825,
          0.225313333765343,
          0.07510444458844769,
          -0.07510444458844762,
          -0.22531333376534293,
          -0.3755222229422382,
          -1.0238606577256802e-16,
          -0.07510444458844769,
          -0.15020888917689532,
          -0.22531333376534293,
          -0.3004177783537906,
          0.0751044445884476,
          -1.4914453287152606e-17,
          -0.07510444458844766,
          -0.1502088891768953,
          0.15020888917689523,
          0.07510444458844763,
          5.159738419860958e-18,
          0.22531333376534293,
          0.15020888917689532,
          0.30041777835379063,
          -0.45062666753068586,
          -0.37552222294223825,
          -0.3004177783537906,
          -0.22531333376534288,
          -0.15020888917689523,
          -0.07510444458844755,
          1.0238606577256802e-16,
          0.07510444458844769,
          0.15020888917689532,
          0.22531333376534293,
          0.3004177783537906,
          -0.0751044445884476,
          1.4914453287152606e-17,
          0.07510444458844766,
          0.1502088891768953,
          -0.15020888917689523,
          -0.07510444458844763,
          -5.159738419860958e-18,
          -0.22531333376534293,
          -0.15020888917689532,
          -0.30041777835379063,
          -0.5721482115809774,
          -0.6185653110428212,
          -0.6649824105046649,
          -0.7113995099665087,
          -0.7578166094283525,
          -0.8042337088901962,
          -0.6827121648399048,
          -0.5611906207896133,
          -0.43966907673932193,
          -0.3181475326890305,
          -0.1966259886387391,
          -0.636295065378061,
          -0.5147735213277697,
          -0.3932519772774782,
          -0.2717304332271867,
          -0.5898779659162172,
          -0.46835642186592585,
          -0.3468348778156344,
          -0.5434608664543735,
          -0.42193932240408205,
          -0.4970437669925297,
          -0.5721482115809774,
          -0.6185653110428212,
          -0.664982410504665,
          -0.7113995099665088,
          -0.7578166094283525,
          -0.8042337088901963,
          -0.8042337088901963,
          -0.8042337088901963,
          -0.8042337088901963,
          -0.8042337088901963,
          -0.8042337088901963,
          -0.7578166094283525,
          -0.7578166094283525,
          -0.7578166094283525,
          -0.7578166094283525,
          -0.7113995099665088,
          -0.7113995099665088,
          -0.7113995099665088,
          -0.664982410504665,
          -0.664982410504665,
          -0.6185653110428212,
          -0.49704376699252967,
          -0.42193932240408205,
          -0.3468348778156344,
          -0.27173043322718676,
          -0.1966259886387391,
          -0.5434608664543734,
          -0.46835642186592585,
          -0.3932519772774782,
          -0.3181475326890305,
          -0.5898779659162172,
          -0.5147735213277695,
          -0.43966907673932193,
          -0.636295065378061,
          -0.5611906207896133,
          -0.6827121648399048
         ],
         "y": [
          0.7366852097826346,
          0.7366852097826346,
          -0.7366852097826346,
          -0.7366852097826346,
          -0.029971094478994757,
          0.8806219028310347,
          -0.8806219028310347,
          0.029971094478994757,
          -0.26286555605956674,
          0.26286555605956674,
          -0.26286555605956674,
          0.26286555605956674,
          0.750537188929602,
          0.6204524750281691,
          0.4903677611267364,
          0.36028304722530363,
          0.23019833332387085,
          0.10011361942243809,
          0.351116462741205,
          0.4393673694228433,
          0.5276182761044816,
          0.6158691827861199,
          0.7041200894677582,
          0.7923709961493964,
          0.2210317488397723,
          0.1791979416199778,
          0.13736413440018333,
          0.0955303271803888,
          0.05369651996059428,
          0.011862712740799818,
          0.6622862822479636,
          0.5322015683465309,
          0.4021168544450981,
          0.2720321405436653,
          0.14194742664223253,
          0.5740353755663253,
          0.4439506616648926,
          0.31386594776345983,
          0.18378123386202702,
          0.4857844688846871,
          0.35569975498325435,
          0.2256150410818216,
          0.39753356220304886,
          0.2674488483016161,
          0.30928265552141054,
          -0.130930253808086,
          -0.2318894131371775,
          -0.332848572466269,
          -0.4338077317953603,
          -0.5347668911244516,
          -0.635726050453543,
          0.12007258951068078,
          -0.022720377038205085,
          -0.165513343587091,
          -0.30830631013597687,
          -0.4510992766848628,
          -0.5938922432337486,
          -0.08909644658829173,
          -0.190055605917383,
          -0.2910147652464744,
          -0.39197392457556585,
          -0.4929330839046572,
          -0.04726263936849715,
          -0.14822179869758859,
          -0.24918095802667992,
          -0.3501401173557714,
          -0.005428832148702744,
          -0.1063879914777941,
          -0.2073471508068855,
          0.03640497507109175,
          -0.06455418425799955,
          0.0782387822908863,
          -0.18776111147111915,
          -0.11265666688267148,
          -0.037552222294223836,
          0.0375522222942238,
          0.11265666688267147,
          0.18776111147111912,
          -0.6689966878221962,
          -0.6013081658617582,
          -0.5336196439013198,
          -0.46593112194088154,
          -0.3982425999804433,
          -0.3305540780200051,
          -0.2554496334315574,
          -0.1803451888431098,
          -0.10524074425466214,
          -0.030136299666214485,
          0.044968144922233166,
          -0.3231381553919957,
          -0.24803371080354802,
          -0.17292926621510035,
          -0.09782482162665271,
          -0.3908266773524339,
          -0.31572223276398625,
          -0.2406177881755386,
          -0.45851519931287216,
          -0.3834107547244245,
          -0.5262037212733105,
          -0.7572475945038345,
          -0.7778099792250346,
          -0.7983723639462346,
          -0.8189347486674347,
          -0.8394971333886346,
          -0.8600595181098345,
          -0.3511164627412051,
          -0.4393673694228433,
          -0.5276182761044816,
          -0.6158691827861199,
          -0.7041200894677582,
          -0.7923709961493963,
          -0.6895590725433963,
          -0.7101214572645963,
          -0.7306838419857963,
          -0.7512462267069963,
          -0.7718086114281963,
          -0.6218705505829581,
          -0.642432935304158,
          -0.6629953200253581,
          -0.6835577047465581,
          -0.5541820286225199,
          -0.5747444133437198,
          -0.5953067980649199,
          -0.4864935066620816,
          -0.5070558913832816,
          -0.4188049847016434,
          -0.011862712740799818,
          -0.05369651996059434,
          -0.09553032718038874,
          -0.13736413440018333,
          -0.17919794161997785,
          -0.22103174883977234,
          -0.7505371889296019,
          -0.620452475028169,
          -0.4903677611267363,
          -0.3602830472253036,
          -0.2301983333238708,
          -0.10011361942243809,
          -0.1419474266422326,
          -0.18378123386202708,
          -0.22561504108182162,
          -0.2674488483016161,
          -0.3092826555214106,
          -0.2720321405436653,
          -0.3138659477634598,
          -0.35569975498325435,
          -0.39753356220304886,
          -0.4021168544450981,
          -0.44395066166489255,
          -0.48578446888468707,
          -0.5322015683465309,
          -0.5740353755663253,
          -0.6622862822479636,
          -0.7923709961493964,
          -0.7041200894677582,
          -0.6158691827861199,
          -0.5276182761044816,
          -0.43936736942284343,
          -0.3511164627412051,
          -0.011862712740799874,
          -0.05369651996059434,
          -0.09553032718038885,
          -0.13736413440018336,
          -0.17919794161997787,
          -0.22103174883977236,
          -0.6622862822479636,
          -0.5740353755663253,
          -0.4857844688846871,
          -0.39753356220304886,
          -0.30928265552141065,
          -0.5322015683465309,
          -0.4439506616648926,
          -0.3556997549832544,
          -0.2674488483016161,
          -0.40211685444509815,
          -0.31386594776345983,
          -0.22561504108182162,
          -0.27203214054366537,
          -0.18378123386202708,
          -0.14194742664223253,
          0.635726050453543,
          0.5347668911244516,
          0.43380773179536036,
          0.332848572466269,
          0.2318894131371775,
          0.13093025380808607,
          -0.12007258951068078,
          0.022720377038205085,
          0.165513343587091,
          0.30830631013597687,
          0.4510992766848628,
          0.5938922432337486,
          0.4929330839046572,
          0.39197392457556585,
          0.2910147652464744,
          0.190055605917383,
          0.08909644658829173,
          0.3501401173557714,
          0.24918095802667992,
          0.14822179869758859,
          0.04726263936849715,
          0.2073471508068855,
          0.1063879914777941,
          0.005428832148702744,
          0.06455418425799955,
          -0.03640497507109175,
          -0.0782387822908863,
          0.330554078020005,
          0.3982425999804433,
          0.4659311219408816,
          0.5336196439013199,
          0.6013081658617582,
          0.6689966878221965,
          -0.18776111147111904,
          -0.11265666688267138,
          -0.037552222294223746,
          0.03755222229422392,
          0.11265666688267152,
          0.18776111147111915,
          0.2554496334315574,
          0.3231381553919957,
          0.390826677352434,
          0.45851519931287216,
          0.5262037212733105,
          0.18034518884310977,
          0.24803371080354802,
          0.3157222327639863,
          0.3834107547244245,
          0.10524074425466215,
          0.1729292662151004,
          0.24061778817553867,
          0.030136299666214485,
          0.09782482162665275,
          -0.044968144922233166,
          -0.5938922432337488,
          -0.4510992766848628,
          -0.3083063101359768,
          -0.16551334358709102,
          -0.022720377038205085,
          0.12007258951068082,
          -0.3305540780200051,
          -0.3982425999804433,
          -0.4659311219408816,
          -0.5336196439013198,
          -0.6013081658617582,
          -0.6689966878221962,
          -0.5262037212733104,
          -0.3834107547244245,
          -0.24061778817553867,
          -0.09782482162665275,
          0.044968144922233166,
          -0.45851519931287216,
          -0.3157222327639863,
          -0.17292926621510038,
          -0.030136299666214457,
          -0.3908266773524339,
          -0.24803371080354802,
          -0.10524074425466215,
          -0.3231381553919957,
          -0.1803451888431098,
          -0.2554496334315574,
          -0.7572475945038344,
          -0.7778099792250346,
          -0.7983723639462346,
          -0.8189347486674347,
          -0.8394971333886347,
          -0.8600595181098347,
          -0.4188049847016434,
          -0.5070558913832816,
          -0.5953067980649198,
          -0.6835577047465581,
          -0.7718086114281965,
          -0.4864935066620815,
          -0.5747444133437198,
          -0.6629953200253581,
          -0.7512462267069964,
          -0.5541820286225198,
          -0.642432935304158,
          -0.7306838419857963,
          -0.621870550582958,
          -0.7101214572645963,
          -0.6895590725433963,
          -0.7366852097826346,
          -0.7366852097826346,
          -0.7366852097826346,
          -0.7366852097826346,
          -0.7366852097826346,
          -0.7366852097826346,
          -0.8394971333886349,
          -0.8189347486674348,
          -0.7983723639462347,
          -0.7778099792250347,
          -0.7572475945038347,
          -0.8189347486674348,
          -0.7983723639462347,
          -0.7778099792250347,
          -0.7572475945038347,
          -0.7983723639462347,
          -0.7778099792250347,
          -0.7572475945038347,
          -0.7778099792250347,
          -0.7572475945038347,
          -0.7572475945038347,
          -0.6357260504535432,
          -0.5347668911244519,
          -0.4338077317953604,
          -0.33284857246626903,
          -0.23188941313717762,
          -0.13093025380808623,
          -0.6357260504535432,
          -0.5347668911244517,
          -0.4338077317953604,
          -0.33284857246626903,
          -0.23188941313717773,
          -0.6357260504535432,
          -0.5347668911244519,
          -0.4338077317953604,
          -0.33284857246626903,
          -0.6357260504535432,
          -0.5347668911244517,
          -0.4338077317953604,
          -0.6357260504535432,
          -0.5347668911244517,
          -0.6357260504535432,
          0.011862712740799596,
          0.053696519960594116,
          0.09553032718038858,
          0.13736413440018316,
          0.1791979416199777,
          0.22103174883977217,
          0.07823878229088624,
          -0.06455418425799955,
          -0.20734715080688543,
          -0.35014011735577133,
          -0.4929330839046571,
          0.03640497507109186,
          -0.10638799147779404,
          -0.24918095802667992,
          -0.39197392457556585,
          -0.005428832148702689,
          -0.14822179869758859,
          -0.2910147652464744,
          -0.04726263936849726,
          -0.1900556059173831,
          -0.08909644658829173,
          0.351116462741205,
          0.4393673694228433,
          0.5276182761044816,
          0.6158691827861199,
          0.7041200894677582,
          0.7923709961493964,
          0.1419474266422326,
          0.2720321405436653,
          0.4021168544450981,
          0.5322015683465309,
          0.6622862822479637,
          0.18378123386202702,
          0.3138659477634598,
          0.4439506616648926,
          0.5740353755663253,
          0.2256150410818216,
          0.35569975498325435,
          0.4857844688846871,
          0.2674488483016161,
          0.39753356220304886,
          0.30928265552141054,
          0.8600595181098346,
          0.8394971333886346,
          0.8189347486674347,
          0.7983723639462346,
          0.7778099792250346,
          0.7572475945038346,
          0.6895590725433962,
          0.6218705505829581,
          0.5541820286225199,
          0.4864935066620816,
          0.4188049847016433,
          0.7101214572645964,
          0.642432935304158,
          0.5747444133437198,
          0.5070558913832814,
          0.7306838419857963,
          0.6629953200253581,
          0.5953067980649198,
          0.7512462267069964,
          0.6835577047465581,
          0.7718086114281963,
          0.8600595181098349,
          0.839497133388635,
          0.8189347486674348,
          0.7983723639462347,
          0.7778099792250347,
          0.7572475945038347,
          0.7366852097826346,
          0.7366852097826346,
          0.7366852097826346,
          0.7366852097826346,
          0.7366852097826346,
          0.7366852097826346,
          0.8394971333886349,
          0.8189347486674348,
          0.7983723639462347,
          0.7778099792250347,
          0.7572475945038347,
          0.8189347486674348,
          0.7983723639462347,
          0.7778099792250347,
          0.7572475945038347,
          0.7983723639462347,
          0.7778099792250347,
          0.7572475945038347,
          0.7778099792250347,
          0.7572475945038347,
          0.7572475945038347,
          0.6357260504535432,
          0.5347668911244519,
          0.4338077317953604,
          0.33284857246626903,
          0.23188941313717762,
          0.13093025380808623,
          0.23188941313717773,
          0.33284857246626903,
          0.4338077317953604,
          0.5347668911244517,
          0.6357260504535432,
          0.33284857246626903,
          0.4338077317953603,
          0.5347668911244517,
          0.6357260504535432,
          0.4338077317953604,
          0.5347668911244517,
          0.6357260504535432,
          0.5347668911244517,
          0.6357260504535432,
          0.6357260504535432,
          0.5938922432337488,
          0.4510992766848629,
          0.30830631013597687,
          0.16551334358709088,
          0.022720377038204946,
          -0.12007258951068094,
          -0.0782387822908864,
          -0.036404975071091916,
          0.005428832148702578,
          0.04726263936849715,
          0.08909644658829168,
          0.06455418425799947,
          0.10638799147779401,
          0.14822179869758853,
          0.1900556059173831,
          0.20734715080688546,
          0.24918095802667992,
          0.2910147652464744,
          0.3501401173557714,
          0.3919739245755659,
          0.4929330839046574,
          0.6689966878221962,
          0.6013081658617582,
          0.5336196439013198,
          0.46593112194088154,
          0.3982425999804433,
          0.3305540780200051,
          0.2554496334315574,
          0.1803451888431098,
          0.10524074425466214,
          0.030136299666214485,
          -0.044968144922233166,
          0.3231381553919957,
          0.24803371080354802,
          0.17292926621510035,
          0.09782482162665271,
          0.3908266773524339,
          0.31572223276398625,
          0.2406177881755386,
          0.45851519931287216,
          0.3834107547244245,
          0.5262037212733105,
          0.6895590725433963,
          0.7101214572645963,
          0.7306838419857963,
          0.7512462267069963,
          0.7718086114281963,
          0.6218705505829581,
          0.642432935304158,
          0.6629953200253581,
          0.6835577047465581,
          0.5541820286225199,
          0.5747444133437198,
          0.5953067980649199,
          0.4864935066620816,
          0.5070558913832816,
          0.4188049847016434
         ],
         "z": [
          -0.42532540417601994,
          -0.42532540417601994,
          0.42532540417601994,
          0.42532540417601994,
          0.9995507658422014,
          0.4738196537230679,
          -0.4738196537230679,
          -0.9995507658422014,
          -0.4552964986550147,
          0.4552964986550147,
          -0.4552964986550147,
          0.4552964986550147,
          0.5489240983115156,
          0.6240285428999632,
          0.6991329874884109,
          0.7742374320768585,
          0.8493418766653061,
          0.9244463212537538,
          0.4579426636647366,
          0.4605888286744585,
          0.4632349936841804,
          0.46588115869390234,
          0.4685273237036241,
          0.471173488713346,
          0.5330471082531842,
          0.6107977178513538,
          0.6885483274495233,
          0.7662989370476929,
          0.8440495466458624,
          0.9218001562440319,
          0.5462779333017937,
          0.6213823778902413,
          0.696486822478689,
          0.7715912670671367,
          0.8466957116555842,
          0.5436317682920717,
          0.6187362128805194,
          0.6938406574689671,
          0.7689451020574147,
          0.54098560328235,
          0.6160900478707976,
          0.6911944924592452,
          0.5383394382726281,
          0.6134438828610757,
          0.5356932732629062,
          0.9175185713184612,
          0.8354863767947209,
          0.7534541822709807,
          0.6714219877472406,
          0.5893897932235004,
          0.5073575986997602,
          0.4510149137294441,
          0.4467333288038734,
          0.4424517438783027,
          0.43817015895273204,
          0.4338885740271613,
          0.4296069891015906,
          0.8397679617202916,
          0.7577357671965513,
          0.6757035726728112,
          0.593671378149071,
          0.5116391836253308,
          0.7620173521221221,
          0.6799851575983819,
          0.5979529630746416,
          0.5159207685509015,
          0.6842667425239526,
          0.6022345480002124,
          0.5202023534764721,
          0.606516132925783,
          0.5244839384020429,
          0.5287655233276136,
          -0.325211784753582,
          -0.19512707085214917,
          -0.0650423569507164,
          0.06504235695071635,
          0.19512707085214914,
          0.3252117847535819,
          0.2995222752001578,
          0.17371914622429574,
          0.04791601724843367,
          -0.07788711172742845,
          -0.20369024070329053,
          -0.32949336967915255,
          -0.19940865577771977,
          -0.06932394187628704,
          0.06076077202514573,
          0.1908454859265785,
          0.3209301998280113,
          -0.07360552680185775,
          0.05647918709957501,
          0.1865639010010078,
          0.31664861490244056,
          0.05219760217400433,
          0.1822823160754371,
          0.3123670299768699,
          0.17800073114986642,
          0.3080854450512992,
          0.3038038601257285,
          0.2968761101904359,
          0.16842681620485195,
          0.03997752221926805,
          -0.08847177176631593,
          -0.21692106575189996,
          -0.3453703597374839,
          -0.45794266366473646,
          -0.4605888286744584,
          -0.46323499368418025,
          -0.4658811586939022,
          -0.4685273237036241,
          -0.47117348871334586,
          0.17107298121457376,
          0.0426236872289899,
          -0.08582560675659409,
          -0.21427490074217806,
          -0.34272419472776194,
          0.045269852238711744,
          -0.08317944174687224,
          -0.21162873573245608,
          -0.34007802971804013,
          -0.08053327673715026,
          -0.20898257072273424,
          -0.33743186470831815,
          -0.2063364057130124,
          -0.3347856996985963,
          -0.33213953468887447,
          -0.9218001562440319,
          -0.8440495466458623,
          -0.7662989370476928,
          -0.6885483274495233,
          -0.6107977178513538,
          -0.5330471082531844,
          -0.5489240983115156,
          -0.6240285428999631,
          -0.6991329874884108,
          -0.7742374320768585,
          -0.8493418766653061,
          -0.9244463212537537,
          -0.8466957116555841,
          -0.7689451020574147,
          -0.6911944924592452,
          -0.6134438828610757,
          -0.5356932732629063,
          -0.7715912670671367,
          -0.6938406574689671,
          -0.6160900478707976,
          -0.5383394382726281,
          -0.696486822478689,
          -0.6187362128805195,
          -0.54098560328235,
          -0.6213823778902413,
          -0.5436317682920718,
          -0.5462779333017937,
          -0.471173488713346,
          -0.4685273237036241,
          -0.46588115869390223,
          -0.4632349936841804,
          -0.4605888286744586,
          -0.4579426636647367,
          -0.9218001562440319,
          -0.8440495466458623,
          -0.7662989370476929,
          -0.6885483274495233,
          -0.6107977178513538,
          -0.5330471082531844,
          -0.5462779333017936,
          -0.5436317682920718,
          -0.54098560328235,
          -0.5383394382726281,
          -0.5356932732629063,
          -0.6213823778902413,
          -0.6187362128805194,
          -0.6160900478707976,
          -0.6134438828610757,
          -0.696486822478689,
          -0.6938406574689671,
          -0.6911944924592452,
          -0.7715912670671367,
          -0.7689451020574147,
          -0.8466957116555842,
          -0.50735759869976,
          -0.5893897932235003,
          -0.6714219877472405,
          -0.7534541822709807,
          -0.8354863767947209,
          -0.917518571318461,
          -0.4510149137294441,
          -0.4467333288038734,
          -0.4424517438783027,
          -0.43817015895273204,
          -0.4338885740271613,
          -0.4296069891015906,
          -0.5116391836253308,
          -0.593671378149071,
          -0.6757035726728112,
          -0.7577357671965513,
          -0.8397679617202916,
          -0.5159207685509015,
          -0.5979529630746416,
          -0.6799851575983819,
          -0.7620173521221221,
          -0.5202023534764721,
          -0.6022345480002124,
          -0.6842667425239526,
          -0.5244839384020429,
          -0.606516132925783,
          -0.5287655233276136,
          0.32949336967915266,
          0.20369024070329053,
          0.07788711172742849,
          -0.04791601724843359,
          -0.1737191462242957,
          -0.2995222752001578,
          -0.325211784753582,
          -0.19512707085214923,
          -0.06504235695071646,
          0.06504235695071633,
          0.19512707085214911,
          0.32521178475358187,
          0.19940865577771974,
          0.07360552680185771,
          -0.052197602174004355,
          -0.1780007311498664,
          -0.30380386012572846,
          0.06932394187628706,
          -0.05647918709957501,
          -0.1822823160754371,
          -0.3080854450512992,
          -0.06076077202514574,
          -0.1865639010010078,
          -0.3123670299768699,
          -0.1908454859265785,
          -0.31664861490244056,
          -0.3209301998280113,
          0.4296069891015907,
          0.43388857402716136,
          0.438170158952732,
          0.44245174387830266,
          0.4467333288038734,
          0.4510149137294441,
          -0.32949336967915255,
          -0.20369024070329053,
          -0.07788711172742842,
          0.04791601724843369,
          0.17371914622429577,
          0.2995222752001578,
          0.3038038601257285,
          0.3080854450512992,
          0.3123670299768699,
          0.31664861490244056,
          0.3209301998280113,
          0.17800073114986645,
          0.18228231607543713,
          0.18656390100100784,
          0.1908454859265785,
          0.05219760217400438,
          0.05647918709957506,
          0.06076077202514575,
          -0.07360552680185771,
          -0.06932394187628704,
          -0.19940865577771982,
          0.296876110190436,
          0.16842681620485214,
          0.03997752221926809,
          -0.08847177176631593,
          -0.2169210657518999,
          -0.3453703597374839,
          -0.3321395346888746,
          -0.33478569969859645,
          -0.3374318647083183,
          -0.34007802971804013,
          -0.342724194727762,
          -0.20633640571301248,
          -0.20898257072273432,
          -0.21162873573245622,
          -0.214274900742178,
          -0.08053327673715031,
          -0.08317944174687224,
          -0.08582560675659409,
          0.04526985223871179,
          0.04262368722898999,
          0.17107298121457398,
          0.42532540417601994,
          0.42532540417602,
          0.42532540417602,
          0.42532540417601994,
          0.42532540417602,
          0.42532540417601994,
          -0.21692106575189984,
          -0.08847177176631597,
          0.03997752221926806,
          0.168426816204852,
          0.29687611019043597,
          -0.08847177176631597,
          0.03997752221926795,
          0.16842681620485198,
          0.296876110190436,
          0.03997752221926806,
          0.16842681620485198,
          0.29687611019043597,
          0.168426816204852,
          0.296876110190436,
          0.296876110190436,
          0.5073575986997602,
          0.5893897932235004,
          0.6714219877472406,
          0.7534541822709808,
          0.835486376794721,
          0.9175185713184613,
          0.5073575986997603,
          0.5893897932235004,
          0.6714219877472406,
          0.7534541822709808,
          0.835486376794721,
          0.5073575986997602,
          0.5893897932235004,
          0.6714219877472406,
          0.7534541822709808,
          0.5073575986997602,
          0.5893897932235004,
          0.6714219877472406,
          0.5073575986997602,
          0.5893897932235004,
          0.5073575986997602,
          0.9218001562440318,
          0.8440495466458622,
          0.7662989370476927,
          0.6885483274495232,
          0.6107977178513537,
          0.5330471082531841,
          0.5287655233276135,
          0.5244839384020429,
          0.5202023534764723,
          0.5159207685509015,
          0.5116391836253309,
          0.606516132925783,
          0.6022345480002124,
          0.5979529630746416,
          0.5936713781490711,
          0.6842667425239526,
          0.6799851575983819,
          0.6757035726728112,
          0.7620173521221221,
          0.7577357671965514,
          0.8397679617202916,
          0.4579426636647366,
          0.4605888286744585,
          0.4632349936841804,
          0.46588115869390234,
          0.4685273237036241,
          0.471173488713346,
          0.8466957116555842,
          0.7715912670671367,
          0.696486822478689,
          0.6213823778902413,
          0.5462779333017936,
          0.7689451020574147,
          0.6938406574689671,
          0.6187362128805194,
          0.5436317682920717,
          0.6911944924592452,
          0.6160900478707976,
          0.54098560328235,
          0.6134438828610757,
          0.5383394382726281,
          0.5356932732629062,
          0.34537035973748376,
          0.21692106575189982,
          0.08847177176631593,
          -0.039977522219268,
          -0.1684268162048519,
          -0.2968761101904357,
          -0.17107298121457362,
          -0.045269852238711696,
          0.08053327673715034,
          0.2063364057130124,
          0.3321395346888744,
          -0.04262368722898985,
          0.08317944174687224,
          0.20898257072273424,
          0.33478569969859634,
          0.08582560675659409,
          0.21162873573245608,
          0.3374318647083182,
          0.214274900742178,
          0.34007802971804,
          0.34272419472776194,
          0.3453703597374841,
          0.21692106575190004,
          0.08847177176631597,
          -0.03997752221926795,
          -0.16842681620485198,
          -0.296876110190436,
          -0.42532540417601994,
          -0.42532540417602,
          -0.42532540417602,
          -0.42532540417601994,
          -0.42532540417602,
          -0.42532540417601994,
          0.21692106575189984,
          0.08847177176631597,
          -0.03997752221926806,
          -0.168426816204852,
          -0.29687611019043597,
          0.08847177176631597,
          -0.03997752221926795,
          -0.16842681620485198,
          -0.296876110190436,
          -0.03997752221926806,
          -0.16842681620485198,
          -0.29687611019043597,
          -0.168426816204852,
          -0.296876110190436,
          -0.296876110190436,
          -0.5073575986997602,
          -0.5893897932235004,
          -0.6714219877472406,
          -0.7534541822709808,
          -0.835486376794721,
          -0.9175185713184613,
          -0.835486376794721,
          -0.7534541822709808,
          -0.6714219877472406,
          -0.5893897932235004,
          -0.5073575986997602,
          -0.7534541822709808,
          -0.6714219877472406,
          -0.5893897932235004,
          -0.5073575986997602,
          -0.6714219877472406,
          -0.5893897932235004,
          -0.5073575986997602,
          -0.5893897932235004,
          -0.5073575986997602,
          -0.5073575986997602,
          -0.42960698910159045,
          -0.43388857402716124,
          -0.4381701589527319,
          -0.44245174387830266,
          -0.44673332880387334,
          -0.45101491372944413,
          -0.5287655233276136,
          -0.6065161329257831,
          -0.6842667425239527,
          -0.7620173521221221,
          -0.8397679617202917,
          -0.5244839384020429,
          -0.6022345480002124,
          -0.679985157598382,
          -0.7577357671965514,
          -0.5202023534764721,
          -0.5979529630746416,
          -0.6757035726728112,
          -0.5159207685509014,
          -0.5936713781490709,
          -0.5116391836253308,
          -0.2995222752001578,
          -0.17371914622429574,
          -0.04791601724843367,
          0.07788711172742845,
          0.20369024070329053,
          0.32949336967915255,
          0.19940865577771977,
          0.06932394187628704,
          -0.06076077202514573,
          -0.1908454859265785,
          -0.3209301998280113,
          0.07360552680185775,
          -0.05647918709957501,
          -0.1865639010010078,
          -0.31664861490244056,
          -0.05219760217400433,
          -0.1822823160754371,
          -0.3123670299768699,
          -0.17800073114986642,
          -0.3080854450512992,
          -0.3038038601257285,
          -0.17107298121457376,
          -0.0426236872289899,
          0.08582560675659409,
          0.21427490074217806,
          0.34272419472776194,
          -0.045269852238711744,
          0.08317944174687224,
          0.21162873573245608,
          0.34007802971804013,
          0.08053327673715026,
          0.20898257072273424,
          0.33743186470831815,
          0.2063364057130124,
          0.3347856996985963,
          0.33213953468887447
         ]
        },
        {
         "hovertemplate": "x=%{x}<br>y=%{y}<br>z=%{z}<extra></extra>",
         "legendgroup": "",
         "line": {
          "color": "#636efa",
          "dash": "solid"
         },
         "marker": {
          "size": 1,
          "symbol": "circle"
         },
         "mode": "lines",
         "name": "",
         "scene": "scene",
         "showlegend": false,
         "type": "scatter3d",
         "x": [
          -0.36456463215087426,
          -0.4860861762011657,
          -0.4860861762011657,
          -0.6076077202514572,
          -0.7291292643017484,
          -0.6076077202514572,
          -0.4860861762011657,
          -0.36456463215087426,
          -0.36456463215087426,
          -0.24304308810058287,
          -0.12152154405029147,
          -0.12152154405029147,
          0,
          0,
          0,
          -0.12152154405029147,
          -0.24304308810058287,
          -0.24304308810058287,
          -0.36456463215087426,
          -0.24304308810058287,
          -0.12152154405029147,
          -0.12152154405029147,
          -0.12152154405029147,
          -0.24304308810058287,
          -0.36456463215087426,
          -0.4860861762011657,
          -0.5611906207896133,
          -0.6076077202514572,
          -0.7291292643017484,
          -0.6827121648399048,
          -0.636295065378061,
          -0.5147735213277695,
          -0.43966907673932193,
          -0.3181475326890305,
          -0.27173043322718676,
          -0.19662598863873915,
          -0.07510444458844767,
          -0.15020888917689534,
          -0.22531333376534296,
          -0.3468348778156344,
          -0.3932519772774781,
          -0.4683564218659258,
          -0.5898779659162172,
          -0.5434608664543734,
          -0.42193932240408205,
          -0.4970437669925297,
          -0.5721482115809773,
          -0.6185653110428211,
          -0.6649824105046649,
          -0.7113995099665087,
          -0.7578166094283525,
          -0.8042337088901961,
          -0.8042337088901963,
          -0.8042337088901963,
          -0.7578166094283525,
          -0.7113995099665088,
          -0.7578166094283525,
          -0.7578166094283525,
          -0.8042337088901963,
          -0.8506508083520401,
          -0.8506508083520401,
          -0.8506508083520401,
          -0.8042337088901963,
          -0.8042337088901963,
          -0.7578166094283525,
          -0.7113995099665088,
          -0.7113995099665088,
          -0.664982410504665,
          -0.6185653110428212,
          -0.5721482115809774,
          -0.6185653110428212,
          -0.664982410504665,
          -0.664982410504665,
          -0.7113995099665088,
          -0.636295065378061,
          -0.7578166094283525,
          -0.8042337088901963,
          -0.6827121648399048,
          -0.5611906207896133,
          -0.5147735213277695,
          -0.5898779659162172,
          -0.5434608664543734,
          -0.42193932240408205,
          -0.49704376699252967,
          -0.450626667530686,
          -0.3755222229422383,
          -0.3004177783537907,
          -0.3468348778156344,
          -0.46835642186592585,
          -0.3932519772774782,
          -0.43966907673932193,
          -0.3181475326890305,
          -0.27173043322718676,
          -0.1966259886387391,
          -0.12152154405029147,
          -0.24304308810058287,
          -0.36456463215087426,
          -0.4860861762011657,
          -0.6076077202514572,
          -0.7291292643017485,
          -0.607607720251457,
          -0.4860861762011657,
          -0.4860861762011657,
          -0.3645646321508743,
          -0.3645646321508743,
          -0.24304308810058287,
          -0.36456463215087426,
          -0.36456463215087426,
          -0.24304308810058287,
          -0.12152154405029145,
          -0.12152154405029153,
          -0.2430430881005829,
          -0.12152154405029147,
          -0.1215215440502915,
          -0.2430430881005829,
          -0.2430430881005829,
          -0.1215215440502915,
          -1.6653345369377348e-16,
          -1.1102230246251565e-16,
          -0.1215215440502915,
          -1.1102230246251565e-16,
          -1.1102230246251565e-16,
          0.12152154405029147,
          -5.551115123125783e-17,
          -1.1102230246251565e-16,
          0.12152154405029147,
          0.24304308810058287,
          0.2430430881005829,
          0.1215215440502915,
          0.12152154405029145,
          0.2430430881005829,
          0.12152154405029153,
          0.12152154405029145,
          0.24304308810058287,
          0.3645646321508743,
          0.3645646321508743,
          0.24304308810058287,
          0.3645646321508743,
          0.3645646321508743,
          0.4860861762011657,
          0.4860861762011657,
          0.6076077202514572,
          0.7291292643017484,
          0.6076077202514572,
          0.4860861762011657,
          0.3645646321508743,
          0.24304308810058284,
          0.12152154405029145,
          0.1966259886387391,
          0.27173043322718676,
          0.3181475326890305,
          0.43966907673932193,
          0.3932519772774782,
          0.46835642186592585,
          0.3468348778156344,
          0.3004177783537907,
          0.3755222229422383,
          0.450626667530686,
          0.49704376699252967,
          0.42193932240408205,
          0.5434608664543734,
          0.5898779659162172,
          0.5147735213277695,
          0.5611906207896133,
          0.6827121648399048,
          0.8042337088901961,
          0.7578166094283525,
          0.636295065378061,
          0.7113995099665087,
          0.6649824105046649,
          0.6185653110428211,
          0.5721482115809773,
          0.6185653110428212,
          0.664982410504665,
          0.664982410504665,
          0.7113995099665088,
          0.7113995099665088,
          0.7578166094283525,
          0.7113995099665088,
          0.7113995099665088,
          0.7578166094283525,
          0.8042337088901963,
          0.8042337088901963,
          0.7578166094283525,
          0.8042337088901963,
          0.8042337088901963,
          0.7578166094283525,
          0.7578166094283525,
          0.8042337088901963,
          0.85065080835204,
          0.8506508083520401,
          0.8042337088901963,
          0.8506508083520401,
          0.85065080835204,
          0.8506508083520401,
          0.8506508083520401,
          0.8042337088901963,
          0.7578166094283525,
          0.8042337088901963,
          0.8042337088901963,
          0.7578166094283525,
          0.7113995099665087,
          0.7113995099665088,
          0.664982410504665,
          0.6185653110428212,
          0.5721482115809774,
          0.6185653110428213,
          0.664982410504665,
          0.664982410504665,
          0.7113995099665088,
          0.7578166094283525,
          0.8042337088901963,
          0.8042337088901963,
          0.8042337088901963,
          0.7578166094283525,
          0.7578166094283525,
          0.7113995099665088,
          0.664982410504665,
          0.5434608664543735,
          0.6185653110428212,
          0.5721482115809775,
          0.4970437669925297,
          0.42193932240408205,
          0.46835642186592585,
          0.5898779659162172,
          0.636295065378061,
          0.5611906207896133,
          0.6827121648399048,
          0.7291292643017486,
          0.6076077202514572,
          0.4860861762011657,
          0.43966907673932193,
          0.5147735213277697,
          0.3932519772774782,
          0.3468348778156344,
          0.2717304332271867,
          0.3181475326890305,
          0.1966259886387391,
          0.07510444458844767,
          0.1502088891768953,
          0.22531333376534296,
          0.3004177783537907,
          0.22531333376534293,
          0.3755222229422383,
          0.45062666753068603,
          0.30041777835379063,
          0.15020888917689532,
          0.07510444458844763,
          0.15020888917689523,
          0.0751044445884476,
          -0.07510444458844769,
          -1.0238606577256802e-16,
          -0.07510444458844773,
          -0.15020888917689534,
          -0.225313333765343,
          -0.15020888917689532,
          -1.4914453287152606e-17,
          -0.07510444458844766,
          5.159738419860958e-18,
          -0.1502088891768953,
          -0.22531333376534293,
          -0.3004177783537906,
          -0.3755222229422382,
          -0.22531333376534293,
          -0.07510444458844762,
          0.07510444458844769,
          0.15020888917689532,
          0.225313333765343,
          0.37552222294223825,
          0.30041777835379063,
          0.22531333376534293,
          0.07510444458844763,
          5.159738419860958e-18,
          -0.1502088891768953,
          -0.22531333376534293,
          -0.3004177783537905,
          -0.4506266675306859,
          -0.37552222294223825,
          -0.3004177783537906,
          -0.15020888917689532,
          -0.07510444458844767,
          -3.176380848175307e-17,
          0.15020888917689523,
          0.0751044445884476,
          -0.07510444458844769,
          -6.868735538336709e-17,
          0.07510444458844755,
          0.15020888917689523,
          0.22531333376534288,
          0.3004177783537906,
          0.37552222294223825,
          0.45062666753068586,
          0.49704376699252967,
          0.5434608664543734,
          0.42193932240408205,
          0.34683487781563443,
          0.46835642186592585,
          0.5147735213277697,
          0.5898779659162172,
          0.7113995099665087,
          0.7578166094283525,
          0.8042337088901963,
          0.6827121648399047,
          0.636295065378061,
          0.5611906207896133,
          0.439669076739322,
          0.3932519772774782,
          0.2717304332271868,
          0.19662598863873915,
          0.12152154405029153,
          0.24304308810058292,
          0.31814753268903057,
          0.3645646321508743,
          0.48608617620116573,
          0.4860861762011657,
          0.6076077202514572,
          0.7291292643017485,
          0.6076077202514572,
          0.4860861762011657,
          0.36456463215087426,
          0.36456463215087426,
          0.24304308810058287,
          0.12152154405029147,
          0.12152154405029147,
          0,
          0,
          0,
          0.12152154405029147,
          0.24304308810058287,
          0.24304308810058287,
          0.36456463215087426,
          0.24304308810058287,
          0.12152154405029147,
          0.12152154405029147,
          0.12152154405029147,
          0.24304308810058287,
          0.36456463215087426,
          0.4860861762011657,
          0.6076077202514572,
          0.7291292643017484,
          0.6827121648399048,
          0.636295065378061,
          0.5611906207896133,
          0.439669076739322,
          0.5147735213277695,
          0.4683564218659258,
          0.5898779659162172,
          0.664982410504665,
          0.6185653110428212,
          0.5721482115809775,
          0.4970437669925297,
          0.5434608664543734,
          0.42193932240408205,
          0.34683487781563443,
          0.3932519772774782,
          0.31814753268903057,
          0.19662598863873915,
          0.07510444458844778,
          0.1502088891768954,
          0.2717304332271868,
          0.22531333376534302,
          0.3004177783537907,
          0.22531333376534293,
          0.37552222294223825,
          0.4506266675306859,
          0.30041777835379063,
          0.15020888917689532,
          0.07510444458844763,
          0.15020888917689523,
          0.0751044445884476,
          -0.07510444458844769,
          -1.0238606577256802e-16,
          -0.07510444458844769,
          -0.15020888917689537,
          -0.225313333765343,
          -0.15020888917689532,
          -1.4914453287152606e-17,
          -0.07510444458844766,
          5.159738419860958e-18,
          -0.1502088891768953,
          -0.22531333376534293,
          -0.3004177783537906,
          -0.3755222229422382,
          -0.22531333376534293,
          -0.07510444458844762,
          0.07510444458844769,
          0.225313333765343,
          0.37552222294223825,
          0.3004177783537906,
          0.22531333376534293,
          0.1502088891768953,
          -5.159738419860958e-18,
          0.07510444458844766,
          1.4914453287152606e-17,
          0.15020888917689532,
          0.225313333765343,
          0.15020888917689534,
          0.07510444458844773,
          1.0238606577256802e-16,
          0.07510444458844769,
          -0.0751044445884476,
          -0.15020888917689523,
          -0.07510444458844763,
          -0.15020888917689532,
          -0.30041777835379063,
          -0.45062666753068586,
          -0.37552222294223825,
          -0.22531333376534293,
          -0.3004177783537906,
          -0.22531333376534288,
          -0.15020888917689523,
          -0.07510444458844755,
          -0.1966259886387391,
          -0.3181475326890305,
          -0.2717304332271867,
          -0.3468348778156344,
          -0.3932519772774782,
          -0.5147735213277697,
          -0.43966907673932193,
          -0.4860861762011657,
          -0.607607720251457,
          -0.7291292643017484,
          -0.6827121648399048,
          -0.5611906207896133,
          -0.636295065378061,
          -0.5898779659162172,
          -0.46835642186592585,
          -0.42193932240408205,
          -0.4970437669925297,
          -0.5721482115809774,
          -0.6185653110428212,
          -0.5434608664543735,
          -0.6649824105046649,
          -0.7113995099665087,
          -0.7578166094283525,
          -0.8042337088901962,
          -0.8042337088901963,
          -0.8042337088901963,
          -0.7578166094283525,
          -0.7113995099665088,
          -0.7578166094283525,
          -0.7578166094283525,
          -0.8042337088901963,
          -0.8506508083520401,
          -0.8506508083520401,
          -0.8506508083520401,
          -0.8042337088901963,
          -0.8042337088901963,
          -0.7578166094283525,
          -0.7113995099665088,
          -0.7113995099665088,
          -0.664982410504665,
          -0.6185653110428212,
          -0.5721482115809774,
          -0.6185653110428212,
          -0.664982410504665,
          -0.664982410504665,
          -0.7113995099665088,
          -0.636295065378061,
          -0.7578166094283525,
          -0.8042337088901963,
          -0.6827121648399048,
          -0.5611906207896133,
          -0.5147735213277695,
          -0.5898779659162172,
          -0.5434608664543734,
          -0.42193932240408205,
          -0.49704376699252967,
          -0.45062666753068586,
          -0.37552222294223825,
          -0.30041777835379063,
          -0.3468348778156344,
          -0.46835642186592585,
          -0.3932519772774782,
          -0.43966907673932193,
          -0.3181475326890305,
          -0.27173043322718676,
          -0.1966259886387391,
          -0.12152154405029147,
          -0.24304308810058287,
          -0.36456463215087426
         ],
         "y": [
          0.6158691827861199,
          0.5276182761044816,
          0.39753356220304886,
          0.4393673694228433,
          0.351116462741205,
          0.30928265552141054,
          0.2674488483016161,
          0.35569975498325435,
          0.4857844688846871,
          0.5740353755663253,
          0.5322015683465309,
          0.6622862822479636,
          0.750537188929602,
          0.6204524750281691,
          0.4903677611267364,
          0.4021168544450981,
          0.4439506616648926,
          0.31386594776345983,
          0.2256150410818216,
          0.18378123386202702,
          0.2720321405436653,
          0.14194742664223253,
          0.011862712740799818,
          0.05369651996059428,
          0.0955303271803888,
          0.13736413440018333,
          0.03640497507109175,
          0.1791979416199778,
          0.2210317488397723,
          0.0782387822908863,
          -0.06455418425799955,
          -0.1063879914777941,
          -0.005428832148702744,
          -0.04726263936849715,
          -0.190055605917383,
          -0.08909644658829173,
          -0.130930253808086,
          -0.2318894131371775,
          -0.332848572466269,
          -0.2910147652464744,
          -0.14822179869758859,
          -0.24918095802667992,
          -0.2073471508068855,
          -0.3501401173557714,
          -0.39197392457556585,
          -0.4929330839046572,
          -0.5938922432337486,
          -0.4510992766848628,
          -0.30830631013597687,
          -0.165513343587091,
          -0.022720377038205085,
          0.12007258951068078,
          0.044968144922233166,
          -0.030136299666214485,
          -0.09782482162665271,
          -0.2406177881755386,
          -0.17292926621510035,
          -0.24803371080354802,
          -0.10524074425466214,
          -0.037552222294223836,
          -0.11265666688267148,
          -0.18776111147111915,
          -0.2554496334315574,
          -0.1803451888431098,
          -0.3231381553919957,
          -0.3908266773524339,
          -0.31572223276398625,
          -0.3834107547244245,
          -0.5262037212733105,
          -0.6689966878221962,
          -0.6013081658617582,
          -0.45851519931287216,
          -0.5336196439013198,
          -0.46593112194088154,
          -0.4864935066620816,
          -0.3982425999804433,
          -0.3305540780200051,
          -0.4188049847016434,
          -0.5070558913832816,
          -0.5747444133437198,
          -0.5541820286225199,
          -0.6218705505829581,
          -0.7101214572645963,
          -0.6895590725433963,
          -0.7572475945038345,
          -0.7778099792250346,
          -0.7983723639462346,
          -0.7306838419857963,
          -0.642432935304158,
          -0.6629953200253581,
          -0.5953067980649199,
          -0.6835577047465581,
          -0.7512462267069963,
          -0.7718086114281963,
          -0.7923709961493963,
          -0.7041200894677582,
          -0.6158691827861199,
          -0.5276182761044816,
          -0.4393673694228433,
          -0.3511164627412051,
          -0.3092826555214106,
          -0.2674488483016161,
          -0.39753356220304886,
          -0.48578446888468707,
          -0.35569975498325435,
          -0.3138659477634598,
          -0.22561504108182162,
          -0.09553032718038874,
          -0.05369651996059434,
          -0.011862712740799818,
          -0.1419474266422326,
          -0.18378123386202708,
          -0.2720321405436653,
          -0.4021168544450981,
          -0.44395066166489255,
          -0.5740353755663253,
          -0.6622862822479636,
          -0.7505371889296019,
          -0.620452475028169,
          -0.5322015683465309,
          -0.4903677611267363,
          -0.3602830472253036,
          -0.27203214054366537,
          -0.2301983333238708,
          -0.10011361942243809,
          -0.14194742664223253,
          -0.18378123386202708,
          -0.31386594776345983,
          -0.40211685444509815,
          -0.5322015683465309,
          -0.5740353755663253,
          -0.6622862822479636,
          -0.7923709961493964,
          -0.7041200894677582,
          -0.6158691827861199,
          -0.4857844688846871,
          -0.4439506616648926,
          -0.3556997549832544,
          -0.22561504108182162,
          -0.2674488483016161,
          -0.39753356220304886,
          -0.30928265552141065,
          -0.22103174883977236,
          -0.17919794161997787,
          -0.13736413440018336,
          -0.09553032718038885,
          -0.05369651996059434,
          -0.011862712740799874,
          0.08909644658829173,
          0.190055605917383,
          0.04726263936849715,
          0.005428832148702744,
          0.14822179869758859,
          0.24918095802667992,
          0.2910147652464744,
          0.43380773179536036,
          0.5347668911244516,
          0.635726050453543,
          0.4929330839046572,
          0.39197392457556585,
          0.3501401173557714,
          0.2073471508068855,
          0.1063879914777941,
          -0.03640497507109175,
          -0.0782387822908863,
          -0.12007258951068078,
          0.022720377038205085,
          0.06455418425799955,
          0.165513343587091,
          0.30830631013597687,
          0.4510992766848628,
          0.5938922432337486,
          0.5262037212733105,
          0.45851519931287216,
          0.3834107547244245,
          0.24061778817553867,
          0.3157222327639863,
          0.24803371080354802,
          0.390826677352434,
          0.4659311219408816,
          0.3982425999804433,
          0.330554078020005,
          0.2554496334315574,
          0.3231381553919957,
          0.18034518884310977,
          0.10524074425466215,
          0.1729292662151004,
          0.09782482162665275,
          -0.044968144922233166,
          -0.18776111147111904,
          -0.11265666688267138,
          0.030136299666214485,
          -0.037552222294223746,
          0.03755222229422392,
          0.11265666688267152,
          0.18776111147111915,
          0.044968144922233166,
          -0.09782482162665275,
          -0.030136299666214457,
          -0.10524074425466215,
          -0.17292926621510038,
          -0.3157222327639863,
          -0.24061778817553867,
          -0.3083063101359768,
          -0.4510992766848628,
          -0.5938922432337488,
          -0.5262037212733104,
          -0.3834107547244245,
          -0.45851519931287216,
          -0.3908266773524339,
          -0.24803371080354802,
          -0.1803451888431098,
          -0.2554496334315574,
          -0.3305540780200051,
          -0.3982425999804433,
          -0.3231381553919957,
          -0.4659311219408816,
          -0.5336196439013198,
          -0.621870550582958,
          -0.6013081658617582,
          -0.6689966878221962,
          -0.6895590725433963,
          -0.7101214572645963,
          -0.642432935304158,
          -0.5541820286225198,
          -0.4864935066620815,
          -0.5070558913832816,
          -0.4188049847016434,
          -0.3511164627412051,
          -0.43936736942284343,
          -0.5276182761044816,
          -0.5953067980649198,
          -0.5747444133437198,
          -0.6629953200253581,
          -0.7306838419857963,
          -0.7512462267069964,
          -0.6835577047465581,
          -0.7718086114281965,
          -0.8600595181098347,
          -0.8394971333886347,
          -0.8189347486674347,
          -0.7983723639462346,
          -0.7778099792250347,
          -0.7778099792250346,
          -0.7572475945038344,
          -0.7572475945038347,
          -0.7572475945038347,
          -0.7778099792250347,
          -0.7983723639462347,
          -0.8189347486674348,
          -0.8189347486674348,
          -0.8394971333886349,
          -0.8600595181098345,
          -0.8394971333886346,
          -0.8189347486674347,
          -0.7983723639462347,
          -0.7983723639462347,
          -0.7778099792250347,
          -0.7572475945038347,
          -0.7572475945038347,
          -0.7778099792250347,
          -0.7572475945038347,
          -0.7366852097826346,
          -0.7366852097826346,
          -0.7366852097826346,
          -0.7366852097826346,
          -0.6357260504535432,
          -0.7366852097826346,
          -0.7366852097826346,
          -0.6357260504535432,
          -0.5347668911244517,
          -0.5347668911244517,
          -0.6357260504535432,
          -0.6357260504535432,
          -0.5347668911244517,
          -0.6357260504535432,
          -0.635726050453543,
          -0.5347668911244516,
          -0.4338077317953603,
          -0.4338077317953604,
          -0.5347668911244519,
          -0.4338077317953604,
          -0.4338077317953604,
          -0.33284857246626903,
          -0.33284857246626903,
          -0.23188941313717773,
          -0.13093025380808623,
          -0.23188941313717762,
          -0.33284857246626903,
          -0.4338077317953604,
          -0.5347668911244519,
          -0.6357260504535432,
          -0.4929330839046571,
          -0.35014011735577133,
          -0.39197392457556585,
          -0.2910147652464744,
          -0.24918095802667992,
          -0.10638799147779404,
          -0.20734715080688543,
          -0.16551334358709102,
          -0.022720377038205085,
          0.12007258951068082,
          0.07823878229088624,
          -0.06455418425799955,
          0.03640497507109186,
          -0.005428832148702689,
          -0.14822179869758859,
          -0.1900556059173831,
          -0.08909644658829173,
          0.011862712740799596,
          0.053696519960594116,
          -0.04726263936849726,
          0.09553032718038858,
          0.13736413440018316,
          0.2674488483016161,
          0.1791979416199777,
          0.22103174883977217,
          0.30928265552141054,
          0.39753356220304886,
          0.35569975498325435,
          0.2256150410818216,
          0.18378123386202702,
          0.2720321405436653,
          0.1419474266422326,
          0.10011361942243809,
          0.23019833332387085,
          0.36028304722530363,
          0.4021168544450981,
          0.3138659477634598,
          0.4439506616648926,
          0.4857844688846871,
          0.5740353755663253,
          0.5322015683465309,
          0.6622862822479637,
          0.7923709961493964,
          0.7041200894677582,
          0.6158691827861199,
          0.5276182761044816,
          0.4393673694228433,
          0.351116462741205,
          0.4188049847016433,
          0.4864935066620816,
          0.5070558913832814,
          0.5953067980649198,
          0.5747444133437198,
          0.642432935304158,
          0.5541820286225199,
          0.5336196439013199,
          0.6013081658617582,
          0.6689966878221965,
          0.6895590725433962,
          0.6218705505829581,
          0.7101214572645964,
          0.7306838419857963,
          0.6629953200253581,
          0.6835577047465581,
          0.7718086114281963,
          0.8600595181098346,
          0.8394971333886346,
          0.7512462267069964,
          0.8189347486674347,
          0.7983723639462346,
          0.7778099792250347,
          0.7778099792250346,
          0.7572475945038346,
          0.7572475945038347,
          0.7572475945038347,
          0.7778099792250347,
          0.7983723639462347,
          0.8189347486674348,
          0.8189347486674348,
          0.8394971333886349,
          0.8600595181098349,
          0.839497133388635,
          0.8189347486674348,
          0.7983723639462347,
          0.7983723639462347,
          0.7778099792250347,
          0.7572475945038347,
          0.7572475945038347,
          0.7778099792250347,
          0.7572475945038347,
          0.7366852097826346,
          0.7366852097826346,
          0.7366852097826346,
          0.7366852097826346,
          0.7366852097826346,
          0.7366852097826346,
          0.6357260504535432,
          0.5347668911244517,
          0.6357260504535432,
          0.6357260504535432,
          0.5347668911244517,
          0.4338077317953603,
          0.4338077317953604,
          0.332848572466269,
          0.2318894131371775,
          0.13093025380808607,
          0.23188941313717773,
          0.33284857246626903,
          0.33284857246626903,
          0.4338077317953604,
          0.5347668911244517,
          0.6357260504535432,
          0.6357260504535432,
          0.6357260504535432,
          0.5347668911244519,
          0.5347668911244517,
          0.4338077317953604,
          0.33284857246626903,
          0.23188941313717762,
          0.13093025380808623,
          0.08909644658829168,
          0.04726263936849715,
          0.1900556059173831,
          0.2910147652464744,
          0.14822179869758853,
          0.10638799147779401,
          0.005428832148702578,
          -0.13736413440018333,
          -0.17919794161997785,
          -0.22103174883977234,
          -0.0782387822908864,
          -0.036404975071091916,
          0.06455418425799947,
          0.20734715080688546,
          0.24918095802667992,
          0.3919739245755659,
          0.4929330839046574,
          0.5938922432337488,
          0.4510992766848629,
          0.3501401173557714,
          0.30830631013597687,
          0.16551334358709088,
          0.022720377038204946,
          -0.12007258951068094,
          -0.044968144922233166,
          0.030136299666214485,
          0.09782482162665271,
          0.2406177881755386,
          0.17292926621510035,
          0.24803371080354802,
          0.10524074425466214,
          0.0375522222942238,
          0.11265666688267147,
          0.18776111147111912,
          0.2554496334315574,
          0.1803451888431098,
          0.3231381553919957,
          0.3908266773524339,
          0.31572223276398625,
          0.3834107547244245,
          0.5262037212733105,
          0.6689966878221962,
          0.6013081658617582,
          0.45851519931287216,
          0.5336196439013198,
          0.46593112194088154,
          0.4864935066620816,
          0.3982425999804433,
          0.3305540780200051,
          0.4188049847016434,
          0.5070558913832816,
          0.5747444133437198,
          0.5541820286225199,
          0.6218705505829581,
          0.7101214572645963,
          0.6895590725433963,
          0.7572475945038347,
          0.7778099792250347,
          0.7983723639462347,
          0.7306838419857963,
          0.642432935304158,
          0.6629953200253581,
          0.5953067980649199,
          0.6835577047465581,
          0.7512462267069963,
          0.7718086114281963,
          0.7923709961493964,
          0.7041200894677582,
          0.6158691827861199
         ],
         "z": [
          0.46588115869390234,
          0.4632349936841804,
          0.5383394382726281,
          0.4605888286744585,
          0.4579426636647366,
          0.5356932732629062,
          0.6134438828610757,
          0.6160900478707976,
          0.54098560328235,
          0.5436317682920717,
          0.6213823778902413,
          0.5462779333017937,
          0.5489240983115156,
          0.6240285428999632,
          0.6991329874884109,
          0.696486822478689,
          0.6187362128805194,
          0.6938406574689671,
          0.6911944924592452,
          0.7689451020574147,
          0.7715912670671367,
          0.8466957116555842,
          0.9218001562440319,
          0.8440495466458624,
          0.7662989370476929,
          0.6885483274495233,
          0.606516132925783,
          0.6107977178513538,
          0.5330471082531842,
          0.5287655233276136,
          0.5244839384020429,
          0.6022345480002124,
          0.6842667425239526,
          0.7620173521221221,
          0.7577357671965513,
          0.8397679617202916,
          0.9175185713184612,
          0.8354863767947209,
          0.7534541822709807,
          0.6757035726728112,
          0.6799851575983819,
          0.5979529630746416,
          0.5202023534764721,
          0.5159207685509015,
          0.593671378149071,
          0.5116391836253308,
          0.4296069891015906,
          0.4338885740271613,
          0.43817015895273204,
          0.4424517438783027,
          0.4467333288038734,
          0.4510149137294441,
          0.3209301998280113,
          0.1908454859265785,
          0.31664861490244056,
          0.3123670299768699,
          0.1865639010010078,
          0.05647918709957501,
          0.06076077202514573,
          -0.0650423569507164,
          -0.19512707085214917,
          -0.325211784753582,
          -0.19940865577771977,
          -0.06932394187628704,
          -0.07360552680185775,
          0.05219760217400433,
          0.1822823160754371,
          0.3080854450512992,
          0.3038038601257285,
          0.2995222752001578,
          0.17371914622429574,
          0.17800073114986642,
          0.04791601724843367,
          -0.07788711172742845,
          -0.2063364057130124,
          -0.20369024070329053,
          -0.32949336967915255,
          -0.33213953468887447,
          -0.3347856996985963,
          -0.20898257072273424,
          -0.08053327673715026,
          0.045269852238711744,
          0.0426236872289899,
          0.17107298121457376,
          0.2968761101904359,
          0.16842681620485195,
          0.03997752221926805,
          -0.08582560675659409,
          -0.08317944174687224,
          -0.21162873573245608,
          -0.33743186470831815,
          -0.34007802971804013,
          -0.21427490074217806,
          -0.34272419472776194,
          -0.47117348871334586,
          -0.4685273237036241,
          -0.4658811586939022,
          -0.46323499368418025,
          -0.4605888286744584,
          -0.45794266366473646,
          -0.5356932732629063,
          -0.6134438828610757,
          -0.5383394382726281,
          -0.54098560328235,
          -0.6160900478707976,
          -0.6938406574689671,
          -0.6911944924592452,
          -0.7662989370476928,
          -0.8440495466458623,
          -0.9218001562440319,
          -0.8466957116555841,
          -0.7689451020574147,
          -0.7715912670671367,
          -0.696486822478689,
          -0.6187362128805195,
          -0.5436317682920718,
          -0.5462779333017937,
          -0.5489240983115156,
          -0.6240285428999631,
          -0.6213823778902413,
          -0.6991329874884108,
          -0.7742374320768585,
          -0.7715912670671367,
          -0.8493418766653061,
          -0.9244463212537537,
          -0.8466957116555842,
          -0.7689451020574147,
          -0.6938406574689671,
          -0.696486822478689,
          -0.6213823778902413,
          -0.5436317682920718,
          -0.5462779333017936,
          -0.471173488713346,
          -0.4685273237036241,
          -0.46588115869390223,
          -0.54098560328235,
          -0.6187362128805194,
          -0.6160900478707976,
          -0.6911944924592452,
          -0.6134438828610757,
          -0.5383394382726281,
          -0.5356932732629063,
          -0.5330471082531844,
          -0.6107977178513538,
          -0.6885483274495233,
          -0.7662989370476929,
          -0.8440495466458623,
          -0.9218001562440319,
          -0.8397679617202916,
          -0.7577357671965513,
          -0.7620173521221221,
          -0.6842667425239526,
          -0.6799851575983819,
          -0.5979529630746416,
          -0.6757035726728112,
          -0.6714219877472405,
          -0.5893897932235003,
          -0.50735759869976,
          -0.5116391836253308,
          -0.593671378149071,
          -0.5159207685509015,
          -0.5202023534764721,
          -0.6022345480002124,
          -0.606516132925783,
          -0.5287655233276136,
          -0.4510149137294441,
          -0.4467333288038734,
          -0.5244839384020429,
          -0.4424517438783027,
          -0.43817015895273204,
          -0.4338885740271613,
          -0.4296069891015906,
          -0.30380386012572846,
          -0.1780007311498664,
          -0.3080854450512992,
          -0.3123670299768699,
          -0.1822823160754371,
          -0.05647918709957501,
          -0.052197602174004355,
          0.07788711172742849,
          0.20369024070329053,
          0.32949336967915266,
          0.19940865577771974,
          0.07360552680185771,
          0.06932394187628706,
          -0.06076077202514574,
          -0.1865639010010078,
          -0.31664861490244056,
          -0.3209301998280113,
          -0.325211784753582,
          -0.19512707085214923,
          -0.1908454859265785,
          -0.06504235695071646,
          0.06504235695071633,
          0.19512707085214911,
          0.32521178475358187,
          0.3209301998280113,
          0.31664861490244056,
          0.1908454859265785,
          0.06076077202514575,
          0.18656390100100784,
          0.18228231607543713,
          0.3123670299768699,
          0.438170158952732,
          0.43388857402716136,
          0.4296069891015907,
          0.3038038601257285,
          0.3080854450512992,
          0.17800073114986645,
          0.05219760217400438,
          0.05647918709957506,
          -0.06932394187628704,
          -0.19940865577771982,
          -0.32949336967915255,
          -0.20369024070329053,
          -0.07360552680185771,
          -0.07788711172742842,
          0.04791601724843369,
          0.04526985223871179,
          0.17371914622429577,
          0.2995222752001578,
          0.17107298121457398,
          0.04262368722898999,
          -0.08317944174687224,
          -0.08053327673715031,
          -0.20633640571301248,
          -0.33478569969859645,
          -0.3321395346888746,
          -0.4579426636647367,
          -0.4605888286744586,
          -0.4632349936841804,
          -0.3374318647083183,
          -0.20898257072273432,
          -0.21162873573245622,
          -0.08582560675659409,
          -0.214274900742178,
          -0.34007802971804013,
          -0.342724194727762,
          -0.3453703597374839,
          -0.2169210657518999,
          -0.08847177176631593,
          0.03997752221926809,
          0.168426816204852,
          0.16842681620485214,
          0.296876110190436,
          0.296876110190436,
          0.296876110190436,
          0.16842681620485198,
          0.03997752221926806,
          -0.08847177176631597,
          -0.08847177176631597,
          -0.21692106575189984,
          -0.3453703597374839,
          -0.21692106575189996,
          -0.08847177176631593,
          0.03997752221926806,
          0.03997752221926795,
          0.16842681620485198,
          0.29687611019043597,
          0.296876110190436,
          0.168426816204852,
          0.29687611019043597,
          0.42532540417601994,
          0.42532540417602,
          0.42532540417601994,
          0.42532540417602,
          0.5073575986997602,
          0.42532540417602,
          0.42532540417601994,
          0.5073575986997602,
          0.5893897932235004,
          0.5893897932235004,
          0.5073575986997602,
          0.5073575986997602,
          0.5893897932235004,
          0.5073575986997603,
          0.5073575986997602,
          0.5893897932235004,
          0.6714219877472406,
          0.6714219877472406,
          0.5893897932235004,
          0.6714219877472406,
          0.6714219877472406,
          0.7534541822709808,
          0.7534541822709808,
          0.835486376794721,
          0.9175185713184613,
          0.835486376794721,
          0.7534541822709808,
          0.6714219877472406,
          0.5893897932235004,
          0.5073575986997602,
          0.5116391836253309,
          0.5159207685509015,
          0.5936713781490711,
          0.6757035726728112,
          0.5979529630746416,
          0.6022345480002124,
          0.5202023534764723,
          0.44245174387830266,
          0.4467333288038734,
          0.4510149137294441,
          0.5287655233276135,
          0.5244839384020429,
          0.606516132925783,
          0.6842667425239526,
          0.6799851575983819,
          0.7577357671965514,
          0.8397679617202916,
          0.9218001562440318,
          0.8440495466458622,
          0.7620173521221221,
          0.7662989370476927,
          0.6885483274495232,
          0.6134438828610757,
          0.6107977178513537,
          0.5330471082531841,
          0.5356932732629062,
          0.5383394382726281,
          0.6160900478707976,
          0.6911944924592452,
          0.7689451020574147,
          0.7715912670671367,
          0.8466957116555842,
          0.9244463212537538,
          0.8493418766653061,
          0.7742374320768585,
          0.696486822478689,
          0.6938406574689671,
          0.6187362128805194,
          0.54098560328235,
          0.5436317682920717,
          0.6213823778902413,
          0.5462779333017936,
          0.471173488713346,
          0.4685273237036241,
          0.46588115869390234,
          0.4632349936841804,
          0.4605888286744585,
          0.4579426636647366,
          0.3321395346888744,
          0.2063364057130124,
          0.33478569969859634,
          0.3374318647083182,
          0.20898257072273424,
          0.08317944174687224,
          0.08053327673715034,
          -0.04791601724843359,
          -0.1737191462242957,
          -0.2995222752001578,
          -0.17107298121457362,
          -0.045269852238711696,
          -0.04262368722898985,
          0.08582560675659409,
          0.21162873573245608,
          0.34007802971804,
          0.34272419472776194,
          0.34537035973748376,
          0.21692106575189982,
          0.214274900742178,
          0.08847177176631593,
          -0.039977522219268,
          -0.168426816204852,
          -0.1684268162048519,
          -0.2968761101904357,
          -0.296876110190436,
          -0.296876110190436,
          -0.16842681620485198,
          -0.03997752221926806,
          0.08847177176631597,
          0.08847177176631597,
          0.21692106575189984,
          0.3453703597374841,
          0.21692106575190004,
          0.08847177176631597,
          -0.03997752221926806,
          -0.03997752221926795,
          -0.16842681620485198,
          -0.29687611019043597,
          -0.296876110190436,
          -0.168426816204852,
          -0.29687611019043597,
          -0.42532540417601994,
          -0.42532540417602,
          -0.42532540417601994,
          -0.42532540417602,
          -0.42532540417602,
          -0.42532540417601994,
          -0.5073575986997602,
          -0.5893897932235004,
          -0.5073575986997602,
          -0.5073575986997602,
          -0.5893897932235004,
          -0.6714219877472406,
          -0.6714219877472406,
          -0.7534541822709807,
          -0.8354863767947209,
          -0.917518571318461,
          -0.835486376794721,
          -0.7534541822709808,
          -0.7534541822709808,
          -0.6714219877472406,
          -0.5893897932235004,
          -0.5073575986997602,
          -0.5073575986997602,
          -0.5073575986997602,
          -0.5893897932235004,
          -0.5893897932235004,
          -0.6714219877472406,
          -0.7534541822709808,
          -0.835486376794721,
          -0.9175185713184613,
          -0.8397679617202917,
          -0.7620173521221221,
          -0.7577357671965514,
          -0.6757035726728112,
          -0.679985157598382,
          -0.6022345480002124,
          -0.6842667425239527,
          -0.6885483274495233,
          -0.6107977178513538,
          -0.5330471082531844,
          -0.5287655233276136,
          -0.6065161329257831,
          -0.5244839384020429,
          -0.5202023534764721,
          -0.5979529630746416,
          -0.5936713781490709,
          -0.5116391836253308,
          -0.42960698910159045,
          -0.43388857402716124,
          -0.5159207685509014,
          -0.4381701589527319,
          -0.44245174387830266,
          -0.44673332880387334,
          -0.45101491372944413,
          -0.3209301998280113,
          -0.1908454859265785,
          -0.31664861490244056,
          -0.3123670299768699,
          -0.1865639010010078,
          -0.05647918709957501,
          -0.06076077202514573,
          0.06504235695071635,
          0.19512707085214914,
          0.3252117847535819,
          0.19940865577771977,
          0.06932394187628704,
          0.07360552680185775,
          -0.05219760217400433,
          -0.1822823160754371,
          -0.3080854450512992,
          -0.3038038601257285,
          -0.2995222752001578,
          -0.17371914622429574,
          -0.17800073114986642,
          -0.04791601724843367,
          0.07788711172742845,
          0.2063364057130124,
          0.20369024070329053,
          0.32949336967915255,
          0.33213953468887447,
          0.3347856996985963,
          0.20898257072273424,
          0.08053327673715026,
          -0.045269852238711744,
          -0.0426236872289899,
          -0.17107298121457376,
          -0.296876110190436,
          -0.16842681620485198,
          -0.03997752221926795,
          0.08582560675659409,
          0.08317944174687224,
          0.21162873573245608,
          0.33743186470831815,
          0.34007802971804013,
          0.21427490074217806,
          0.34272419472776194,
          0.471173488713346,
          0.4685273237036241,
          0.46588115869390234
         ]
        }
       ],
       "layout": {
        "height": 750,
        "template": {
         "data": {
          "bar": [
           {
            "error_x": {
             "color": "#2a3f5f"
            },
            "error_y": {
             "color": "#2a3f5f"
            },
            "marker": {
             "line": {
              "color": "#E5ECF6",
              "width": 0.5
             },
             "pattern": {
              "fillmode": "overlay",
              "size": 10,
              "solidity": 0.2
             }
            },
            "type": "bar"
           }
          ],
          "barpolar": [
           {
            "marker": {
             "line": {
              "color": "#E5ECF6",
              "width": 0.5
             },
             "pattern": {
              "fillmode": "overlay",
              "size": 10,
              "solidity": 0.2
             }
            },
            "type": "barpolar"
           }
          ],
          "carpet": [
           {
            "aaxis": {
             "endlinecolor": "#2a3f5f",
             "gridcolor": "white",
             "linecolor": "white",
             "minorgridcolor": "white",
             "startlinecolor": "#2a3f5f"
            },
            "baxis": {
             "endlinecolor": "#2a3f5f",
             "gridcolor": "white",
             "linecolor": "white",
             "minorgridcolor": "white",
             "startlinecolor": "#2a3f5f"
            },
            "type": "carpet"
           }
          ],
          "choropleth": [
           {
            "colorbar": {
             "outlinewidth": 0,
             "ticks": ""
            },
            "type": "choropleth"
           }
          ],
          "contour": [
           {
            "colorbar": {
             "outlinewidth": 0,
             "ticks": ""
            },
            "colorscale": [
             [
              0,
              "#0d0887"
             ],
             [
              0.1111111111111111,
              "#46039f"
             ],
             [
              0.2222222222222222,
              "#7201a8"
             ],
             [
              0.3333333333333333,
              "#9c179e"
             ],
             [
              0.4444444444444444,
              "#bd3786"
             ],
             [
              0.5555555555555556,
              "#d8576b"
             ],
             [
              0.6666666666666666,
              "#ed7953"
             ],
             [
              0.7777777777777778,
              "#fb9f3a"
             ],
             [
              0.8888888888888888,
              "#fdca26"
             ],
             [
              1,
              "#f0f921"
             ]
            ],
            "type": "contour"
           }
          ],
          "contourcarpet": [
           {
            "colorbar": {
             "outlinewidth": 0,
             "ticks": ""
            },
            "type": "contourcarpet"
           }
          ],
          "heatmap": [
           {
            "colorbar": {
             "outlinewidth": 0,
             "ticks": ""
            },
            "colorscale": [
             [
              0,
              "#0d0887"
             ],
             [
              0.1111111111111111,
              "#46039f"
             ],
             [
              0.2222222222222222,
              "#7201a8"
             ],
             [
              0.3333333333333333,
              "#9c179e"
             ],
             [
              0.4444444444444444,
              "#bd3786"
             ],
             [
              0.5555555555555556,
              "#d8576b"
             ],
             [
              0.6666666666666666,
              "#ed7953"
             ],
             [
              0.7777777777777778,
              "#fb9f3a"
             ],
             [
              0.8888888888888888,
              "#fdca26"
             ],
             [
              1,
              "#f0f921"
             ]
            ],
            "type": "heatmap"
           }
          ],
          "heatmapgl": [
           {
            "colorbar": {
             "outlinewidth": 0,
             "ticks": ""
            },
            "colorscale": [
             [
              0,
              "#0d0887"
             ],
             [
              0.1111111111111111,
              "#46039f"
             ],
             [
              0.2222222222222222,
              "#7201a8"
             ],
             [
              0.3333333333333333,
              "#9c179e"
             ],
             [
              0.4444444444444444,
              "#bd3786"
             ],
             [
              0.5555555555555556,
              "#d8576b"
             ],
             [
              0.6666666666666666,
              "#ed7953"
             ],
             [
              0.7777777777777778,
              "#fb9f3a"
             ],
             [
              0.8888888888888888,
              "#fdca26"
             ],
             [
              1,
              "#f0f921"
             ]
            ],
            "type": "heatmapgl"
           }
          ],
          "histogram": [
           {
            "marker": {
             "pattern": {
              "fillmode": "overlay",
              "size": 10,
              "solidity": 0.2
             }
            },
            "type": "histogram"
           }
          ],
          "histogram2d": [
           {
            "colorbar": {
             "outlinewidth": 0,
             "ticks": ""
            },
            "colorscale": [
             [
              0,
              "#0d0887"
             ],
             [
              0.1111111111111111,
              "#46039f"
             ],
             [
              0.2222222222222222,
              "#7201a8"
             ],
             [
              0.3333333333333333,
              "#9c179e"
             ],
             [
              0.4444444444444444,
              "#bd3786"
             ],
             [
              0.5555555555555556,
              "#d8576b"
             ],
             [
              0.6666666666666666,
              "#ed7953"
             ],
             [
              0.7777777777777778,
              "#fb9f3a"
             ],
             [
              0.8888888888888888,
              "#fdca26"
             ],
             [
              1,
              "#f0f921"
             ]
            ],
            "type": "histogram2d"
           }
          ],
          "histogram2dcontour": [
           {
            "colorbar": {
             "outlinewidth": 0,
             "ticks": ""
            },
            "colorscale": [
             [
              0,
              "#0d0887"
             ],
             [
              0.1111111111111111,
              "#46039f"
             ],
             [
              0.2222222222222222,
              "#7201a8"
             ],
             [
              0.3333333333333333,
              "#9c179e"
             ],
             [
              0.4444444444444444,
              "#bd3786"
             ],
             [
              0.5555555555555556,
              "#d8576b"
             ],
             [
              0.6666666666666666,
              "#ed7953"
             ],
             [
              0.7777777777777778,
              "#fb9f3a"
             ],
             [
              0.8888888888888888,
              "#fdca26"
             ],
             [
              1,
              "#f0f921"
             ]
            ],
            "type": "histogram2dcontour"
           }
          ],
          "mesh3d": [
           {
            "colorbar": {
             "outlinewidth": 0,
             "ticks": ""
            },
            "type": "mesh3d"
           }
          ],
          "parcoords": [
           {
            "line": {
             "colorbar": {
              "outlinewidth": 0,
              "ticks": ""
             }
            },
            "type": "parcoords"
           }
          ],
          "pie": [
           {
            "automargin": true,
            "type": "pie"
           }
          ],
          "scatter": [
           {
            "fillpattern": {
             "fillmode": "overlay",
             "size": 10,
             "solidity": 0.2
            },
            "type": "scatter"
           }
          ],
          "scatter3d": [
           {
            "line": {
             "colorbar": {
              "outlinewidth": 0,
              "ticks": ""
             }
            },
            "marker": {
             "colorbar": {
              "outlinewidth": 0,
              "ticks": ""
             }
            },
            "type": "scatter3d"
           }
          ],
          "scattercarpet": [
           {
            "marker": {
             "colorbar": {
              "outlinewidth": 0,
              "ticks": ""
             }
            },
            "type": "scattercarpet"
           }
          ],
          "scattergeo": [
           {
            "marker": {
             "colorbar": {
              "outlinewidth": 0,
              "ticks": ""
             }
            },
            "type": "scattergeo"
           }
          ],
          "scattergl": [
           {
            "marker": {
             "colorbar": {
              "outlinewidth": 0,
              "ticks": ""
             }
            },
            "type": "scattergl"
           }
          ],
          "scattermapbox": [
           {
            "marker": {
             "colorbar": {
              "outlinewidth": 0,
              "ticks": ""
             }
            },
            "type": "scattermapbox"
           }
          ],
          "scatterpolar": [
           {
            "marker": {
             "colorbar": {
              "outlinewidth": 0,
              "ticks": ""
             }
            },
            "type": "scatterpolar"
           }
          ],
          "scatterpolargl": [
           {
            "marker": {
             "colorbar": {
              "outlinewidth": 0,
              "ticks": ""
             }
            },
            "type": "scatterpolargl"
           }
          ],
          "scatterternary": [
           {
            "marker": {
             "colorbar": {
              "outlinewidth": 0,
              "ticks": ""
             }
            },
            "type": "scatterternary"
           }
          ],
          "surface": [
           {
            "colorbar": {
             "outlinewidth": 0,
             "ticks": ""
            },
            "colorscale": [
             [
              0,
              "#0d0887"
             ],
             [
              0.1111111111111111,
              "#46039f"
             ],
             [
              0.2222222222222222,
              "#7201a8"
             ],
             [
              0.3333333333333333,
              "#9c179e"
             ],
             [
              0.4444444444444444,
              "#bd3786"
             ],
             [
              0.5555555555555556,
              "#d8576b"
             ],
             [
              0.6666666666666666,
              "#ed7953"
             ],
             [
              0.7777777777777778,
              "#fb9f3a"
             ],
             [
              0.8888888888888888,
              "#fdca26"
             ],
             [
              1,
              "#f0f921"
             ]
            ],
            "type": "surface"
           }
          ],
          "table": [
           {
            "cells": {
             "fill": {
              "color": "#EBF0F8"
             },
             "line": {
              "color": "white"
             }
            },
            "header": {
             "fill": {
              "color": "#C8D4E3"
             },
             "line": {
              "color": "white"
             }
            },
            "type": "table"
           }
          ]
         },
         "layout": {
          "annotationdefaults": {
           "arrowcolor": "#2a3f5f",
           "arrowhead": 0,
           "arrowwidth": 1
          },
          "autotypenumbers": "strict",
          "coloraxis": {
           "colorbar": {
            "outlinewidth": 0,
            "ticks": ""
           }
          },
          "colorscale": {
           "diverging": [
            [
             0,
             "#8e0152"
            ],
            [
             0.1,
             "#c51b7d"
            ],
            [
             0.2,
             "#de77ae"
            ],
            [
             0.3,
             "#f1b6da"
            ],
            [
             0.4,
             "#fde0ef"
            ],
            [
             0.5,
             "#f7f7f7"
            ],
            [
             0.6,
             "#e6f5d0"
            ],
            [
             0.7,
             "#b8e186"
            ],
            [
             0.8,
             "#7fbc41"
            ],
            [
             0.9,
             "#4d9221"
            ],
            [
             1,
             "#276419"
            ]
           ],
           "sequential": [
            [
             0,
             "#0d0887"
            ],
            [
             0.1111111111111111,
             "#46039f"
            ],
            [
             0.2222222222222222,
             "#7201a8"
            ],
            [
             0.3333333333333333,
             "#9c179e"
            ],
            [
             0.4444444444444444,
             "#bd3786"
            ],
            [
             0.5555555555555556,
             "#d8576b"
            ],
            [
             0.6666666666666666,
             "#ed7953"
            ],
            [
             0.7777777777777778,
             "#fb9f3a"
            ],
            [
             0.8888888888888888,
             "#fdca26"
            ],
            [
             1,
             "#f0f921"
            ]
           ],
           "sequentialminus": [
            [
             0,
             "#0d0887"
            ],
            [
             0.1111111111111111,
             "#46039f"
            ],
            [
             0.2222222222222222,
             "#7201a8"
            ],
            [
             0.3333333333333333,
             "#9c179e"
            ],
            [
             0.4444444444444444,
             "#bd3786"
            ],
            [
             0.5555555555555556,
             "#d8576b"
            ],
            [
             0.6666666666666666,
             "#ed7953"
            ],
            [
             0.7777777777777778,
             "#fb9f3a"
            ],
            [
             0.8888888888888888,
             "#fdca26"
            ],
            [
             1,
             "#f0f921"
            ]
           ]
          },
          "colorway": [
           "#636efa",
           "#EF553B",
           "#00cc96",
           "#ab63fa",
           "#FFA15A",
           "#19d3f3",
           "#FF6692",
           "#B6E880",
           "#FF97FF",
           "#FECB52"
          ],
          "font": {
           "color": "#2a3f5f"
          },
          "geo": {
           "bgcolor": "white",
           "lakecolor": "white",
           "landcolor": "#E5ECF6",
           "showlakes": true,
           "showland": true,
           "subunitcolor": "white"
          },
          "hoverlabel": {
           "align": "left"
          },
          "hovermode": "closest",
          "mapbox": {
           "style": "light"
          },
          "paper_bgcolor": "white",
          "plot_bgcolor": "#E5ECF6",
          "polar": {
           "angularaxis": {
            "gridcolor": "white",
            "linecolor": "white",
            "ticks": ""
           },
           "bgcolor": "#E5ECF6",
           "radialaxis": {
            "gridcolor": "white",
            "linecolor": "white",
            "ticks": ""
           }
          },
          "scene": {
           "xaxis": {
            "backgroundcolor": "#E5ECF6",
            "gridcolor": "white",
            "gridwidth": 2,
            "linecolor": "white",
            "showbackground": true,
            "ticks": "",
            "zerolinecolor": "white"
           },
           "yaxis": {
            "backgroundcolor": "#E5ECF6",
            "gridcolor": "white",
            "gridwidth": 2,
            "linecolor": "white",
            "showbackground": true,
            "ticks": "",
            "zerolinecolor": "white"
           },
           "zaxis": {
            "backgroundcolor": "#E5ECF6",
            "gridcolor": "white",
            "gridwidth": 2,
            "linecolor": "white",
            "showbackground": true,
            "ticks": "",
            "zerolinecolor": "white"
           }
          },
          "shapedefaults": {
           "line": {
            "color": "#2a3f5f"
           }
          },
          "ternary": {
           "aaxis": {
            "gridcolor": "white",
            "linecolor": "white",
            "ticks": ""
           },
           "baxis": {
            "gridcolor": "white",
            "linecolor": "white",
            "ticks": ""
           },
           "bgcolor": "#E5ECF6",
           "caxis": {
            "gridcolor": "white",
            "linecolor": "white",
            "ticks": ""
           }
          },
          "title": {
           "x": 0.05
          },
          "xaxis": {
           "automargin": true,
           "gridcolor": "white",
           "linecolor": "white",
           "ticks": "",
           "title": {
            "standoff": 15
           },
           "zerolinecolor": "white",
           "zerolinewidth": 2
          },
          "yaxis": {
           "automargin": true,
           "gridcolor": "white",
           "linecolor": "white",
           "ticks": "",
           "title": {
            "standoff": 15
           },
           "zerolinecolor": "white",
           "zerolinewidth": 2
          }
         }
        },
        "width": 750
       }
      }
     },
     "metadata": {},
     "output_type": "display_data"
    }
   ],
   "source": [
    "# Map patterns to icosahedron\n",
    "\n",
    "icosphere_coords, icosphere_faces = icosphere_base()\n",
    "\n",
    "# to make it a list instead of an np array\n",
    "icosphere_coords = [np.array(x) for x in icosphere_coords]\n",
    "\n",
    "triangle_coords_3d = np.pad(triangle_coords, ((0, 0), (0, 1)))\n",
    "\n",
    "edge_points = {}\n",
    "\n",
    "icosphere_edges = []\n",
    "\n",
    "for i, face in enumerate(icosphere_faces):\n",
    "    transformed_coords = apply_transform(triangle_coords_3d, transformation_mats_list[i])\n",
    "    base_to_new = [None] * len(triangle_coords)\n",
    "\n",
    "    # Match corner points\n",
    "    for j in range(3):\n",
    "        base_to_new[triangle_corner_points[j]] = face[j]\n",
    "    \n",
    "    # Match edges or add new ones\n",
    "    for edge, points in triangle_edge_points.items():\n",
    "        new_edge = (base_to_new[edge[0]], base_to_new[edge[1]])\n",
    "        if new_edge in edge_points:\n",
    "            new_points = edge_points[new_edge]\n",
    "            for j in range(len(edge_points[new_edge])):\n",
    "                base_to_new[points[j]] = new_points[j]\n",
    "        elif new_edge[::-1] in edge_points:\n",
    "            new_points = edge_points[new_edge[::-1]][::-1]\n",
    "            for j in range(len(edge_points[new_edge[::-1]])):\n",
    "                base_to_new[points[j]] = new_points[j]\n",
    "        else:\n",
    "            edge_points[new_edge] = []\n",
    "            for point in points:\n",
    "                icosphere_coords.append(transformed_coords[point])\n",
    "                base_to_new[point] = len(icosphere_coords) - 1\n",
    "                edge_points[new_edge].append(base_to_new[point])\n",
    "\n",
    "    # Match rest of points\n",
    "    for j in range(len(triangle_coords)):\n",
    "        if base_to_new[j] == None:\n",
    "            icosphere_coords.append(transformed_coords[j])\n",
    "            base_to_new[j] = len(icosphere_coords) - 1\n",
    "\n",
    "    # Create edges\n",
    "    for edge_list in CHOSEN_EDGES:\n",
    "        new_edges = [base_to_new[point] for point in edge_list]\n",
    "        if new_edges not in icosphere_edges and new_edges[::-1] not in icosphere_edges:\n",
    "            icosphere_edges.append(new_edges)\n",
    "\n",
    "icosphere_edges = combine_edges(icosphere_edges)\n",
    "\n",
    "angle = -30 * np.pi/180\n",
    "rotation_mat = np.array([\n",
    "    [1, 0, 0],\n",
    "    [0, np.cos(angle), -np.sin(angle)], \n",
    "    [0, np.sin(angle), np.cos(angle)]\n",
    "])\n",
    " \n",
    "icosphere_coords = (rotation_mat @ np.array(icosphere_coords).T).T\n",
    "\n",
    "show_3d_points(icosphere_coords, icosphere_edges, False)"
   ]
  },
  {
   "cell_type": "code",
   "execution_count": 57,
   "metadata": {},
   "outputs": [],
   "source": [
    "# Make jipcad code\n",
    "\n",
    "with open(f'nom/icosahedron_{TRIANGLE_LENGTH}.nom', 'w') as file:\n",
    "\n",
    "    for i, point in enumerate(icosphere_coords):\n",
    "        file.write('point pt_{} ({} {} {}) endpoint\\n'.format(i, point[0], point[1], point[2]))\n",
    "    file.write('\\n')\n",
    "\n",
    "    for i, edge in enumerate(icosphere_edges):\n",
    "        file.write('polyline line_{} ('.format(i))\n",
    "        file.write(' '.join(['pt_{}'.format(pt) for pt in edge]))\n",
    "        file.write(') endpolyline\\n')\n",
    "    file.write('\\n')\n",
    "\n",
    "    # CROSS SECTION\n",
    "    file.write('circle ngon ( 0.01 6 ) endcircle\\n')\n",
    "\n",
    "    #instance ngon_insance ngon endinstance # debug\n",
    "\n",
    "    # SWEEP\n",
    "    for i, edge in enumerate(icosphere_edges):\n",
    "        file.write('''sweep sweep_{}\n",
    "        crosssection ngon begincap endcap endcrosssection\n",
    "        path line_{} mintorsion endpath\n",
    "    endsweep\\n'''.format(i, i))\n",
    "        file.write('instance inst_{} sweep_{} endinstance\\n'.format(i, i))\n",
    "    file.write('\\n')\n"
   ]
  },
  {
   "cell_type": "code",
   "execution_count": null,
   "metadata": {},
   "outputs": [],
   "source": []
  },
  {
   "cell_type": "code",
   "execution_count": null,
   "metadata": {},
   "outputs": [],
   "source": []
  }
 ],
 "metadata": {
  "kernelspec": {
   "display_name": "Python 3.9.0 ('venv': venv)",
   "language": "python",
   "name": "python3"
  },
  "language_info": {
   "codemirror_mode": {
    "name": "ipython",
    "version": 3
   },
   "file_extension": ".py",
   "mimetype": "text/x-python",
   "name": "python",
   "nbconvert_exporter": "python",
   "pygments_lexer": "ipython3",
   "version": "3.9.0"
  },
  "orig_nbformat": 4,
  "vscode": {
   "interpreter": {
    "hash": "999e1aaa6bac9923e7d43eebc8e688d986801ed88447660e061a8c126322a0a7"
   }
  }
 },
 "nbformat": 4,
 "nbformat_minor": 2
}
