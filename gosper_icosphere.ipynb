{
 "cells": [
  {
   "cell_type": "code",
   "execution_count": 79,
   "metadata": {},
   "outputs": [],
   "source": [
    "import plotly.express as px\n",
    "import plotly.graph_objs as go\n",
    "\n",
    "import numpy as np\n"
   ]
  },
  {
   "cell_type": "code",
   "execution_count": 80,
   "metadata": {},
   "outputs": [],
   "source": [
    "TRIANGLE_LENGTH = 7"
   ]
  },
  {
   "cell_type": "code",
   "execution_count": 81,
   "metadata": {},
   "outputs": [],
   "source": [
    "# HELPER FUNCTIONS FOR VISUALIZATION\n",
    "def show_2d_points(points, lines = []):\n",
    "    x_points = [p[0] for p in points]\n",
    "    y_points = [p[1] for p in points]\n",
    "    dot_fig = px.scatter(x=x_points, y=y_points, text=range(len(points)))\n",
    "    line_figs = []\n",
    "    for line in lines:\n",
    "        x_lines = [points[i][0] for i in line]\n",
    "        y_lines = [points[i][1] for i in line]\n",
    "        line_figs.append(px.line(x=x_lines, y=y_lines))\n",
    "    fig = go.Figure(data = sum([x.data for x in [dot_fig] + line_figs], ()))\n",
    "    fig.update_yaxes(scaleanchor='x', scaleratio=1)\n",
    "    fig.update_traces(textposition='top center')\n",
    "    fig.update_layout(\n",
    "        width=500,\n",
    "        height=500,\n",
    "    )\n",
    "\n",
    "    fig.show()\n",
    "\n",
    "def show_3d_points(points, lines = [], point_labels = True):\n",
    "    x_points = [p[0] for p in points]\n",
    "    y_points = [p[1] for p in points]\n",
    "    z_points = [p[2] for p in points]\n",
    "    dot_fig = px.scatter_3d(x=x_points, y=y_points, z=z_points)\n",
    "    if point_labels:\n",
    "        dot_fig = px.scatter_3d(x=x_points, y=y_points, z=z_points, text=range(len(points)))\n",
    "        \n",
    "    line_figs = []\n",
    "    for line in lines:\n",
    "        x_lines = [points[i][0] for i in line]\n",
    "        y_lines = [points[i][1] for i in line]\n",
    "        z_lines = [points[i][2] for i in line]\n",
    "        line_figs.append(px.line_3d(x=x_lines, y=y_lines, z=z_lines))\n",
    "    fig = go.Figure(data = sum([x.data for x in [dot_fig] + line_figs], ()))\n",
    "    marker_size = 2 if point_labels else 1\n",
    "    fig.update_traces(marker_size = marker_size)\n",
    "    \n",
    "    fig.update_layout(\n",
    "        width=750,\n",
    "        height=750,\n",
    "    )\n",
    "    fig.show()"
   ]
  },
  {
   "cell_type": "code",
   "execution_count": 82,
   "metadata": {},
   "outputs": [],
   "source": [
    "# Qingsong's Hamiltonian Path Generator\n",
    "\n",
    "# get angle of <ABC\n",
    "def get_angle(p1, base, p2):\n",
    "    p1, base, p2 = np.array(p1), np.array(base), np.array(p2)\n",
    "    a = p1 - base\n",
    "    b = p2 - base\n",
    "    return np.arccos(np.round(np.dot(a, b)/(np.linalg.norm(a)*np.linalg.norm(b)), 5))\n",
    "\n",
    "def three_points_is_straight(p1, base, p2):\n",
    "    return np.round(get_angle(p1, base, p2), 5) == np.round(np.pi, 5)\n",
    "\n",
    "def is_straight(*coords):\n",
    "    assert len(coords) >= 3\n",
    "    for i in range(len(coords) - 2):\n",
    "        if not three_points_is_straight(*coords[i:i + 3]):\n",
    "            return False\n",
    "    return True\n",
    "    \n",
    "\n",
    "class Graph:\n",
    " \n",
    "    def __init__(self, edges, n): \n",
    "        # n is the number of vertices\n",
    "        # edges is an array of tuples, e.g. [(0, 1), (0, 2)] means there is an edge between 0 and 1 and an edge between 0 and 2\n",
    "\n",
    "        \n",
    "        # A 2D array to represent all undirected edges by storing two directed edges for each edge\n",
    "        self.directed_graph = [[] for _ in range(n)]\n",
    "        self.n = n\n",
    "        for (a, b) in edges:\n",
    "            self.directed_graph[a].append(b) # a connected to b\n",
    "            self.directed_graph[b].append(a) # b connected to a\n",
    "\n",
    "path_counter = 0\n",
    "\n",
    "def find_all_hamiltonian_paths(graph, start, end, coords, excluded_points = [], path_count = 5): # undirected_graph\n",
    "    n = graph.n\n",
    "        \n",
    "    # keep track of visted vertices\n",
    "    visited = [False] * n\n",
    "\n",
    "    # path starts from v\n",
    "    path = [start]\n",
    "\n",
    "    # mark v as visited\n",
    "    visited[start] = True\n",
    "    \n",
    "    global path_counter\n",
    "    path_counter = 0\n",
    "\n",
    "    return hamiltonian(graph, start, visited, path, end, coords, excluded_points, path_count)\n",
    "\n",
    "def hamiltonian(graph, v, visited, path, end, coords, excluded_points = [], path_count = 5): # find next vertex to visit, starting from v\n",
    "    n = graph.n\n",
    "    paths = []\n",
    "    global path_counter\n",
    "    if path_counter == path_count:\n",
    "        return paths\n",
    "\n",
    "    # Hamiltonian path exists if all vertices are added to the path\n",
    "    if len(path) == n - 1 - len(excluded_points):\n",
    "        if end in graph.directed_graph[v]:# reaches end\n",
    "            paths.append(path + [end])\n",
    "            print(\"found path\")\n",
    "            path_counter += 1\n",
    "        return paths\n",
    "    \n",
    "    # else\n",
    "    for next_v in graph.directed_graph[v]: # check each edge starting from v\n",
    "        if next_v == end or next_v in excluded_points:\n",
    "            continue\n",
    "        \n",
    "        pre_path_coords = [coords[i] for i in path[-3:]] + [coords[next_v]]\n",
    "\n",
    "        if len(pre_path_coords) >= 3 and is_straight(*pre_path_coords):\n",
    "            continue\n",
    "\n",
    " \n",
    "        # if next_v is a new vertex, add next_v to path and run hamiltonian again\n",
    "        if not visited[next_v]:\n",
    "            path.append(next_v)\n",
    "            visited[next_v] = True\n",
    "            paths += hamiltonian(graph, next_v, visited, path, end, coords, excluded_points)\n",
    "            # If a valid hamiltonian path is found, it will print the path and return\n",
    "            # If there's no valid solution, it will simply return with no printed message\n",
    "            # Then we need to explore other possible solutions using backtracking\n",
    "            # mark next_v as not visited and continue the for loop\n",
    "            visited[next_v] = False\n",
    "            path.pop()\n",
    "    \n",
    "    return paths\n",
    "\n",
    "edges = [(0, 1), (0, 2), (0, 3), (1, 2), (1, 3), (2, 3)]\n",
    "edges = [(0, 1), (1, 2), (2, 3), (0, 2), (1, 3)]\n",
    "\n",
    "n = 4\n",
    " \n",
    "graph = Graph(edges, n)\n",
    " \n",
    "# find_all_hamiltonian_paths(graph, 0, 3, [1])"
   ]
  },
  {
   "cell_type": "code",
   "execution_count": 83,
   "metadata": {},
   "outputs": [],
   "source": [
    "# misc helper functions\n",
    "\n",
    "# Takes lists of integers and combines them if they have matching ends\n",
    "# returns list of combined lists\n",
    "def combine_edges(edges):\n",
    "    merged_this_loop = True\n",
    "    while merged_this_loop:\n",
    "        new_edges = []\n",
    "        merged_this_loop = False\n",
    "        for edge in edges:\n",
    "            found_matching = False\n",
    "            for i, new_edge in enumerate(new_edges):\n",
    "                if new_edge[0] == new_edge[-1]:\n",
    "                    continue\n",
    "                found_matching = True\n",
    "                if edge[0] == new_edge[-1]:\n",
    "                    new_edges[i] = new_edges[i] + edge[1:]\n",
    "                elif edge[-1] == new_edge[0]:\n",
    "                    new_edges[i] = edge[:-1] + new_edges[i]\n",
    "                elif edge[0] == new_edge[0]:\n",
    "                    new_edges[i] = edge[1:][::-1] + new_edges[i]\n",
    "                elif edge[-1] == new_edge[-1]:\n",
    "                    new_edges[i] = new_edges[i] + edge[:-1][::-1]\n",
    "                else:\n",
    "                    found_matching = False\n",
    "                    merged_this_loop = True\n",
    "                if found_matching == True:\n",
    "                    break\n",
    "            if not found_matching:\n",
    "                new_edges.append(edge)\n",
    "        if len(new_edges) == 1:\n",
    "            break\n",
    "        edges = [x.copy() for x in new_edges]\n",
    "    return new_edges"
   ]
  },
  {
   "cell_type": "code",
   "execution_count": 84,
   "metadata": {},
   "outputs": [
    {
     "data": {
      "application/vnd.plotly.v1+json": {
       "config": {
        "plotlyServerURL": "https://plot.ly"
       },
       "data": [
        {
         "hovertemplate": "x=%{x}<br>y=%{y}<br>text=%{text}<extra></extra>",
         "legendgroup": "",
         "marker": {
          "color": "#636efa",
          "symbol": "circle"
         },
         "mode": "markers+text",
         "name": "",
         "orientation": "v",
         "showlegend": false,
         "text": [
          0,
          1,
          2
         ],
         "textposition": "top center",
         "type": "scatter",
         "x": [
          -0.8660254037844386,
          0.8660254037844386,
          0
         ],
         "xaxis": "x",
         "y": [
          0.5,
          0.5,
          -1
         ],
         "yaxis": "y"
        }
       ],
       "layout": {
        "height": 500,
        "template": {
         "data": {
          "bar": [
           {
            "error_x": {
             "color": "#2a3f5f"
            },
            "error_y": {
             "color": "#2a3f5f"
            },
            "marker": {
             "line": {
              "color": "#E5ECF6",
              "width": 0.5
             },
             "pattern": {
              "fillmode": "overlay",
              "size": 10,
              "solidity": 0.2
             }
            },
            "type": "bar"
           }
          ],
          "barpolar": [
           {
            "marker": {
             "line": {
              "color": "#E5ECF6",
              "width": 0.5
             },
             "pattern": {
              "fillmode": "overlay",
              "size": 10,
              "solidity": 0.2
             }
            },
            "type": "barpolar"
           }
          ],
          "carpet": [
           {
            "aaxis": {
             "endlinecolor": "#2a3f5f",
             "gridcolor": "white",
             "linecolor": "white",
             "minorgridcolor": "white",
             "startlinecolor": "#2a3f5f"
            },
            "baxis": {
             "endlinecolor": "#2a3f5f",
             "gridcolor": "white",
             "linecolor": "white",
             "minorgridcolor": "white",
             "startlinecolor": "#2a3f5f"
            },
            "type": "carpet"
           }
          ],
          "choropleth": [
           {
            "colorbar": {
             "outlinewidth": 0,
             "ticks": ""
            },
            "type": "choropleth"
           }
          ],
          "contour": [
           {
            "colorbar": {
             "outlinewidth": 0,
             "ticks": ""
            },
            "colorscale": [
             [
              0,
              "#0d0887"
             ],
             [
              0.1111111111111111,
              "#46039f"
             ],
             [
              0.2222222222222222,
              "#7201a8"
             ],
             [
              0.3333333333333333,
              "#9c179e"
             ],
             [
              0.4444444444444444,
              "#bd3786"
             ],
             [
              0.5555555555555556,
              "#d8576b"
             ],
             [
              0.6666666666666666,
              "#ed7953"
             ],
             [
              0.7777777777777778,
              "#fb9f3a"
             ],
             [
              0.8888888888888888,
              "#fdca26"
             ],
             [
              1,
              "#f0f921"
             ]
            ],
            "type": "contour"
           }
          ],
          "contourcarpet": [
           {
            "colorbar": {
             "outlinewidth": 0,
             "ticks": ""
            },
            "type": "contourcarpet"
           }
          ],
          "heatmap": [
           {
            "colorbar": {
             "outlinewidth": 0,
             "ticks": ""
            },
            "colorscale": [
             [
              0,
              "#0d0887"
             ],
             [
              0.1111111111111111,
              "#46039f"
             ],
             [
              0.2222222222222222,
              "#7201a8"
             ],
             [
              0.3333333333333333,
              "#9c179e"
             ],
             [
              0.4444444444444444,
              "#bd3786"
             ],
             [
              0.5555555555555556,
              "#d8576b"
             ],
             [
              0.6666666666666666,
              "#ed7953"
             ],
             [
              0.7777777777777778,
              "#fb9f3a"
             ],
             [
              0.8888888888888888,
              "#fdca26"
             ],
             [
              1,
              "#f0f921"
             ]
            ],
            "type": "heatmap"
           }
          ],
          "heatmapgl": [
           {
            "colorbar": {
             "outlinewidth": 0,
             "ticks": ""
            },
            "colorscale": [
             [
              0,
              "#0d0887"
             ],
             [
              0.1111111111111111,
              "#46039f"
             ],
             [
              0.2222222222222222,
              "#7201a8"
             ],
             [
              0.3333333333333333,
              "#9c179e"
             ],
             [
              0.4444444444444444,
              "#bd3786"
             ],
             [
              0.5555555555555556,
              "#d8576b"
             ],
             [
              0.6666666666666666,
              "#ed7953"
             ],
             [
              0.7777777777777778,
              "#fb9f3a"
             ],
             [
              0.8888888888888888,
              "#fdca26"
             ],
             [
              1,
              "#f0f921"
             ]
            ],
            "type": "heatmapgl"
           }
          ],
          "histogram": [
           {
            "marker": {
             "pattern": {
              "fillmode": "overlay",
              "size": 10,
              "solidity": 0.2
             }
            },
            "type": "histogram"
           }
          ],
          "histogram2d": [
           {
            "colorbar": {
             "outlinewidth": 0,
             "ticks": ""
            },
            "colorscale": [
             [
              0,
              "#0d0887"
             ],
             [
              0.1111111111111111,
              "#46039f"
             ],
             [
              0.2222222222222222,
              "#7201a8"
             ],
             [
              0.3333333333333333,
              "#9c179e"
             ],
             [
              0.4444444444444444,
              "#bd3786"
             ],
             [
              0.5555555555555556,
              "#d8576b"
             ],
             [
              0.6666666666666666,
              "#ed7953"
             ],
             [
              0.7777777777777778,
              "#fb9f3a"
             ],
             [
              0.8888888888888888,
              "#fdca26"
             ],
             [
              1,
              "#f0f921"
             ]
            ],
            "type": "histogram2d"
           }
          ],
          "histogram2dcontour": [
           {
            "colorbar": {
             "outlinewidth": 0,
             "ticks": ""
            },
            "colorscale": [
             [
              0,
              "#0d0887"
             ],
             [
              0.1111111111111111,
              "#46039f"
             ],
             [
              0.2222222222222222,
              "#7201a8"
             ],
             [
              0.3333333333333333,
              "#9c179e"
             ],
             [
              0.4444444444444444,
              "#bd3786"
             ],
             [
              0.5555555555555556,
              "#d8576b"
             ],
             [
              0.6666666666666666,
              "#ed7953"
             ],
             [
              0.7777777777777778,
              "#fb9f3a"
             ],
             [
              0.8888888888888888,
              "#fdca26"
             ],
             [
              1,
              "#f0f921"
             ]
            ],
            "type": "histogram2dcontour"
           }
          ],
          "mesh3d": [
           {
            "colorbar": {
             "outlinewidth": 0,
             "ticks": ""
            },
            "type": "mesh3d"
           }
          ],
          "parcoords": [
           {
            "line": {
             "colorbar": {
              "outlinewidth": 0,
              "ticks": ""
             }
            },
            "type": "parcoords"
           }
          ],
          "pie": [
           {
            "automargin": true,
            "type": "pie"
           }
          ],
          "scatter": [
           {
            "fillpattern": {
             "fillmode": "overlay",
             "size": 10,
             "solidity": 0.2
            },
            "type": "scatter"
           }
          ],
          "scatter3d": [
           {
            "line": {
             "colorbar": {
              "outlinewidth": 0,
              "ticks": ""
             }
            },
            "marker": {
             "colorbar": {
              "outlinewidth": 0,
              "ticks": ""
             }
            },
            "type": "scatter3d"
           }
          ],
          "scattercarpet": [
           {
            "marker": {
             "colorbar": {
              "outlinewidth": 0,
              "ticks": ""
             }
            },
            "type": "scattercarpet"
           }
          ],
          "scattergeo": [
           {
            "marker": {
             "colorbar": {
              "outlinewidth": 0,
              "ticks": ""
             }
            },
            "type": "scattergeo"
           }
          ],
          "scattergl": [
           {
            "marker": {
             "colorbar": {
              "outlinewidth": 0,
              "ticks": ""
             }
            },
            "type": "scattergl"
           }
          ],
          "scattermapbox": [
           {
            "marker": {
             "colorbar": {
              "outlinewidth": 0,
              "ticks": ""
             }
            },
            "type": "scattermapbox"
           }
          ],
          "scatterpolar": [
           {
            "marker": {
             "colorbar": {
              "outlinewidth": 0,
              "ticks": ""
             }
            },
            "type": "scatterpolar"
           }
          ],
          "scatterpolargl": [
           {
            "marker": {
             "colorbar": {
              "outlinewidth": 0,
              "ticks": ""
             }
            },
            "type": "scatterpolargl"
           }
          ],
          "scatterternary": [
           {
            "marker": {
             "colorbar": {
              "outlinewidth": 0,
              "ticks": ""
             }
            },
            "type": "scatterternary"
           }
          ],
          "surface": [
           {
            "colorbar": {
             "outlinewidth": 0,
             "ticks": ""
            },
            "colorscale": [
             [
              0,
              "#0d0887"
             ],
             [
              0.1111111111111111,
              "#46039f"
             ],
             [
              0.2222222222222222,
              "#7201a8"
             ],
             [
              0.3333333333333333,
              "#9c179e"
             ],
             [
              0.4444444444444444,
              "#bd3786"
             ],
             [
              0.5555555555555556,
              "#d8576b"
             ],
             [
              0.6666666666666666,
              "#ed7953"
             ],
             [
              0.7777777777777778,
              "#fb9f3a"
             ],
             [
              0.8888888888888888,
              "#fdca26"
             ],
             [
              1,
              "#f0f921"
             ]
            ],
            "type": "surface"
           }
          ],
          "table": [
           {
            "cells": {
             "fill": {
              "color": "#EBF0F8"
             },
             "line": {
              "color": "white"
             }
            },
            "header": {
             "fill": {
              "color": "#C8D4E3"
             },
             "line": {
              "color": "white"
             }
            },
            "type": "table"
           }
          ]
         },
         "layout": {
          "annotationdefaults": {
           "arrowcolor": "#2a3f5f",
           "arrowhead": 0,
           "arrowwidth": 1
          },
          "autotypenumbers": "strict",
          "coloraxis": {
           "colorbar": {
            "outlinewidth": 0,
            "ticks": ""
           }
          },
          "colorscale": {
           "diverging": [
            [
             0,
             "#8e0152"
            ],
            [
             0.1,
             "#c51b7d"
            ],
            [
             0.2,
             "#de77ae"
            ],
            [
             0.3,
             "#f1b6da"
            ],
            [
             0.4,
             "#fde0ef"
            ],
            [
             0.5,
             "#f7f7f7"
            ],
            [
             0.6,
             "#e6f5d0"
            ],
            [
             0.7,
             "#b8e186"
            ],
            [
             0.8,
             "#7fbc41"
            ],
            [
             0.9,
             "#4d9221"
            ],
            [
             1,
             "#276419"
            ]
           ],
           "sequential": [
            [
             0,
             "#0d0887"
            ],
            [
             0.1111111111111111,
             "#46039f"
            ],
            [
             0.2222222222222222,
             "#7201a8"
            ],
            [
             0.3333333333333333,
             "#9c179e"
            ],
            [
             0.4444444444444444,
             "#bd3786"
            ],
            [
             0.5555555555555556,
             "#d8576b"
            ],
            [
             0.6666666666666666,
             "#ed7953"
            ],
            [
             0.7777777777777778,
             "#fb9f3a"
            ],
            [
             0.8888888888888888,
             "#fdca26"
            ],
            [
             1,
             "#f0f921"
            ]
           ],
           "sequentialminus": [
            [
             0,
             "#0d0887"
            ],
            [
             0.1111111111111111,
             "#46039f"
            ],
            [
             0.2222222222222222,
             "#7201a8"
            ],
            [
             0.3333333333333333,
             "#9c179e"
            ],
            [
             0.4444444444444444,
             "#bd3786"
            ],
            [
             0.5555555555555556,
             "#d8576b"
            ],
            [
             0.6666666666666666,
             "#ed7953"
            ],
            [
             0.7777777777777778,
             "#fb9f3a"
            ],
            [
             0.8888888888888888,
             "#fdca26"
            ],
            [
             1,
             "#f0f921"
            ]
           ]
          },
          "colorway": [
           "#636efa",
           "#EF553B",
           "#00cc96",
           "#ab63fa",
           "#FFA15A",
           "#19d3f3",
           "#FF6692",
           "#B6E880",
           "#FF97FF",
           "#FECB52"
          ],
          "font": {
           "color": "#2a3f5f"
          },
          "geo": {
           "bgcolor": "white",
           "lakecolor": "white",
           "landcolor": "#E5ECF6",
           "showlakes": true,
           "showland": true,
           "subunitcolor": "white"
          },
          "hoverlabel": {
           "align": "left"
          },
          "hovermode": "closest",
          "mapbox": {
           "style": "light"
          },
          "paper_bgcolor": "white",
          "plot_bgcolor": "#E5ECF6",
          "polar": {
           "angularaxis": {
            "gridcolor": "white",
            "linecolor": "white",
            "ticks": ""
           },
           "bgcolor": "#E5ECF6",
           "radialaxis": {
            "gridcolor": "white",
            "linecolor": "white",
            "ticks": ""
           }
          },
          "scene": {
           "xaxis": {
            "backgroundcolor": "#E5ECF6",
            "gridcolor": "white",
            "gridwidth": 2,
            "linecolor": "white",
            "showbackground": true,
            "ticks": "",
            "zerolinecolor": "white"
           },
           "yaxis": {
            "backgroundcolor": "#E5ECF6",
            "gridcolor": "white",
            "gridwidth": 2,
            "linecolor": "white",
            "showbackground": true,
            "ticks": "",
            "zerolinecolor": "white"
           },
           "zaxis": {
            "backgroundcolor": "#E5ECF6",
            "gridcolor": "white",
            "gridwidth": 2,
            "linecolor": "white",
            "showbackground": true,
            "ticks": "",
            "zerolinecolor": "white"
           }
          },
          "shapedefaults": {
           "line": {
            "color": "#2a3f5f"
           }
          },
          "ternary": {
           "aaxis": {
            "gridcolor": "white",
            "linecolor": "white",
            "ticks": ""
           },
           "baxis": {
            "gridcolor": "white",
            "linecolor": "white",
            "ticks": ""
           },
           "bgcolor": "#E5ECF6",
           "caxis": {
            "gridcolor": "white",
            "linecolor": "white",
            "ticks": ""
           }
          },
          "title": {
           "x": 0.05
          },
          "xaxis": {
           "automargin": true,
           "gridcolor": "white",
           "linecolor": "white",
           "ticks": "",
           "title": {
            "standoff": 15
           },
           "zerolinecolor": "white",
           "zerolinewidth": 2
          },
          "yaxis": {
           "automargin": true,
           "gridcolor": "white",
           "linecolor": "white",
           "ticks": "",
           "title": {
            "standoff": 15
           },
           "zerolinecolor": "white",
           "zerolinewidth": 2
          }
         }
        },
        "width": 500,
        "yaxis": {
         "scaleanchor": "x",
         "scaleratio": 1
        }
       }
      }
     },
     "metadata": {},
     "output_type": "display_data"
    }
   ],
   "source": [
    "# Generate Base Triangle\n",
    "top_left_point = np.array([(3**(1/2))/2, 1/2])\n",
    "top_right_point = np.array([(-3**(1/2))/2, 1/2])\n",
    "bottom_point = np.array([0, -1])\n",
    "\n",
    "base_points = [top_right_point, top_left_point, bottom_point]\n",
    "\n",
    "show_2d_points(base_points)"
   ]
  },
  {
   "cell_type": "code",
   "execution_count": 85,
   "metadata": {},
   "outputs": [
    {
     "name": "stdout",
     "output_type": "stream",
     "text": [
      "[0, 7, 35]\n",
      "{(0, 7): [1, 2, 3, 4, 5, 6], (35, 0): [33, 30, 26, 21, 15, 8], (35, 7): [34, 32, 29, 25, 20, 14]}\n"
     ]
    },
    {
     "data": {
      "application/vnd.plotly.v1+json": {
       "config": {
        "plotlyServerURL": "https://plot.ly"
       },
       "data": [
        {
         "hovertemplate": "x=%{x}<br>y=%{y}<br>text=%{text}<extra></extra>",
         "legendgroup": "",
         "marker": {
          "color": "#636efa",
          "symbol": "circle"
         },
         "mode": "markers+text",
         "name": "",
         "orientation": "v",
         "showlegend": false,
         "text": [
          0,
          1,
          2,
          3,
          4,
          5,
          6,
          7,
          8,
          9,
          10,
          11,
          12,
          13,
          14,
          15,
          16,
          17,
          18,
          19,
          20,
          21,
          22,
          23,
          24,
          25,
          26,
          27,
          28,
          29,
          30,
          31,
          32,
          33,
          34,
          35
         ],
         "textposition": "top center",
         "type": "scatter",
         "x": [
          -0.8660254037844386,
          -0.618589574131742,
          -0.37115374447904514,
          -0.12371791482634842,
          0.12371791482634831,
          0.3711537444790451,
          0.6185895741317419,
          0.8660254037844386,
          -0.7423074889580902,
          -0.49487165930539334,
          -0.24743582965269673,
          0,
          0.24743582965269673,
          0.49487165930539345,
          0.7423074889580902,
          -0.6185895741317419,
          -0.37115374447904514,
          -0.12371791482634842,
          0.12371791482634836,
          0.37115374447904514,
          0.6185895741317419,
          -0.49487165930539345,
          -0.24743582965269673,
          0,
          0.24743582965269673,
          0.49487165930539345,
          -0.3711537444790451,
          -0.12371791482634836,
          0.12371791482634836,
          0.3711537444790451,
          -0.24743582965269673,
          0,
          0.24743582965269673,
          -0.12371791482634831,
          0.12371791482634831,
          0
         ],
         "xaxis": "x",
         "y": [
          0.5,
          0.5,
          0.5,
          0.5,
          0.5,
          0.5,
          0.5,
          0.5,
          0.2857142857142857,
          0.2857142857142857,
          0.2857142857142857,
          0.2857142857142857,
          0.2857142857142857,
          0.2857142857142857,
          0.2857142857142857,
          0.07142857142857145,
          0.07142857142857145,
          0.07142857142857145,
          0.07142857142857145,
          0.07142857142857145,
          0.07142857142857145,
          -0.1428571428571428,
          -0.1428571428571428,
          -0.1428571428571428,
          -0.1428571428571428,
          -0.1428571428571428,
          -0.3571428571428571,
          -0.3571428571428571,
          -0.3571428571428571,
          -0.3571428571428571,
          -0.5714285714285714,
          -0.5714285714285714,
          -0.5714285714285714,
          -0.7857142857142856,
          -0.7857142857142856,
          -1
         ],
         "yaxis": "y"
        }
       ],
       "layout": {
        "height": 500,
        "template": {
         "data": {
          "bar": [
           {
            "error_x": {
             "color": "#2a3f5f"
            },
            "error_y": {
             "color": "#2a3f5f"
            },
            "marker": {
             "line": {
              "color": "#E5ECF6",
              "width": 0.5
             },
             "pattern": {
              "fillmode": "overlay",
              "size": 10,
              "solidity": 0.2
             }
            },
            "type": "bar"
           }
          ],
          "barpolar": [
           {
            "marker": {
             "line": {
              "color": "#E5ECF6",
              "width": 0.5
             },
             "pattern": {
              "fillmode": "overlay",
              "size": 10,
              "solidity": 0.2
             }
            },
            "type": "barpolar"
           }
          ],
          "carpet": [
           {
            "aaxis": {
             "endlinecolor": "#2a3f5f",
             "gridcolor": "white",
             "linecolor": "white",
             "minorgridcolor": "white",
             "startlinecolor": "#2a3f5f"
            },
            "baxis": {
             "endlinecolor": "#2a3f5f",
             "gridcolor": "white",
             "linecolor": "white",
             "minorgridcolor": "white",
             "startlinecolor": "#2a3f5f"
            },
            "type": "carpet"
           }
          ],
          "choropleth": [
           {
            "colorbar": {
             "outlinewidth": 0,
             "ticks": ""
            },
            "type": "choropleth"
           }
          ],
          "contour": [
           {
            "colorbar": {
             "outlinewidth": 0,
             "ticks": ""
            },
            "colorscale": [
             [
              0,
              "#0d0887"
             ],
             [
              0.1111111111111111,
              "#46039f"
             ],
             [
              0.2222222222222222,
              "#7201a8"
             ],
             [
              0.3333333333333333,
              "#9c179e"
             ],
             [
              0.4444444444444444,
              "#bd3786"
             ],
             [
              0.5555555555555556,
              "#d8576b"
             ],
             [
              0.6666666666666666,
              "#ed7953"
             ],
             [
              0.7777777777777778,
              "#fb9f3a"
             ],
             [
              0.8888888888888888,
              "#fdca26"
             ],
             [
              1,
              "#f0f921"
             ]
            ],
            "type": "contour"
           }
          ],
          "contourcarpet": [
           {
            "colorbar": {
             "outlinewidth": 0,
             "ticks": ""
            },
            "type": "contourcarpet"
           }
          ],
          "heatmap": [
           {
            "colorbar": {
             "outlinewidth": 0,
             "ticks": ""
            },
            "colorscale": [
             [
              0,
              "#0d0887"
             ],
             [
              0.1111111111111111,
              "#46039f"
             ],
             [
              0.2222222222222222,
              "#7201a8"
             ],
             [
              0.3333333333333333,
              "#9c179e"
             ],
             [
              0.4444444444444444,
              "#bd3786"
             ],
             [
              0.5555555555555556,
              "#d8576b"
             ],
             [
              0.6666666666666666,
              "#ed7953"
             ],
             [
              0.7777777777777778,
              "#fb9f3a"
             ],
             [
              0.8888888888888888,
              "#fdca26"
             ],
             [
              1,
              "#f0f921"
             ]
            ],
            "type": "heatmap"
           }
          ],
          "heatmapgl": [
           {
            "colorbar": {
             "outlinewidth": 0,
             "ticks": ""
            },
            "colorscale": [
             [
              0,
              "#0d0887"
             ],
             [
              0.1111111111111111,
              "#46039f"
             ],
             [
              0.2222222222222222,
              "#7201a8"
             ],
             [
              0.3333333333333333,
              "#9c179e"
             ],
             [
              0.4444444444444444,
              "#bd3786"
             ],
             [
              0.5555555555555556,
              "#d8576b"
             ],
             [
              0.6666666666666666,
              "#ed7953"
             ],
             [
              0.7777777777777778,
              "#fb9f3a"
             ],
             [
              0.8888888888888888,
              "#fdca26"
             ],
             [
              1,
              "#f0f921"
             ]
            ],
            "type": "heatmapgl"
           }
          ],
          "histogram": [
           {
            "marker": {
             "pattern": {
              "fillmode": "overlay",
              "size": 10,
              "solidity": 0.2
             }
            },
            "type": "histogram"
           }
          ],
          "histogram2d": [
           {
            "colorbar": {
             "outlinewidth": 0,
             "ticks": ""
            },
            "colorscale": [
             [
              0,
              "#0d0887"
             ],
             [
              0.1111111111111111,
              "#46039f"
             ],
             [
              0.2222222222222222,
              "#7201a8"
             ],
             [
              0.3333333333333333,
              "#9c179e"
             ],
             [
              0.4444444444444444,
              "#bd3786"
             ],
             [
              0.5555555555555556,
              "#d8576b"
             ],
             [
              0.6666666666666666,
              "#ed7953"
             ],
             [
              0.7777777777777778,
              "#fb9f3a"
             ],
             [
              0.8888888888888888,
              "#fdca26"
             ],
             [
              1,
              "#f0f921"
             ]
            ],
            "type": "histogram2d"
           }
          ],
          "histogram2dcontour": [
           {
            "colorbar": {
             "outlinewidth": 0,
             "ticks": ""
            },
            "colorscale": [
             [
              0,
              "#0d0887"
             ],
             [
              0.1111111111111111,
              "#46039f"
             ],
             [
              0.2222222222222222,
              "#7201a8"
             ],
             [
              0.3333333333333333,
              "#9c179e"
             ],
             [
              0.4444444444444444,
              "#bd3786"
             ],
             [
              0.5555555555555556,
              "#d8576b"
             ],
             [
              0.6666666666666666,
              "#ed7953"
             ],
             [
              0.7777777777777778,
              "#fb9f3a"
             ],
             [
              0.8888888888888888,
              "#fdca26"
             ],
             [
              1,
              "#f0f921"
             ]
            ],
            "type": "histogram2dcontour"
           }
          ],
          "mesh3d": [
           {
            "colorbar": {
             "outlinewidth": 0,
             "ticks": ""
            },
            "type": "mesh3d"
           }
          ],
          "parcoords": [
           {
            "line": {
             "colorbar": {
              "outlinewidth": 0,
              "ticks": ""
             }
            },
            "type": "parcoords"
           }
          ],
          "pie": [
           {
            "automargin": true,
            "type": "pie"
           }
          ],
          "scatter": [
           {
            "fillpattern": {
             "fillmode": "overlay",
             "size": 10,
             "solidity": 0.2
            },
            "type": "scatter"
           }
          ],
          "scatter3d": [
           {
            "line": {
             "colorbar": {
              "outlinewidth": 0,
              "ticks": ""
             }
            },
            "marker": {
             "colorbar": {
              "outlinewidth": 0,
              "ticks": ""
             }
            },
            "type": "scatter3d"
           }
          ],
          "scattercarpet": [
           {
            "marker": {
             "colorbar": {
              "outlinewidth": 0,
              "ticks": ""
             }
            },
            "type": "scattercarpet"
           }
          ],
          "scattergeo": [
           {
            "marker": {
             "colorbar": {
              "outlinewidth": 0,
              "ticks": ""
             }
            },
            "type": "scattergeo"
           }
          ],
          "scattergl": [
           {
            "marker": {
             "colorbar": {
              "outlinewidth": 0,
              "ticks": ""
             }
            },
            "type": "scattergl"
           }
          ],
          "scattermapbox": [
           {
            "marker": {
             "colorbar": {
              "outlinewidth": 0,
              "ticks": ""
             }
            },
            "type": "scattermapbox"
           }
          ],
          "scatterpolar": [
           {
            "marker": {
             "colorbar": {
              "outlinewidth": 0,
              "ticks": ""
             }
            },
            "type": "scatterpolar"
           }
          ],
          "scatterpolargl": [
           {
            "marker": {
             "colorbar": {
              "outlinewidth": 0,
              "ticks": ""
             }
            },
            "type": "scatterpolargl"
           }
          ],
          "scatterternary": [
           {
            "marker": {
             "colorbar": {
              "outlinewidth": 0,
              "ticks": ""
             }
            },
            "type": "scatterternary"
           }
          ],
          "surface": [
           {
            "colorbar": {
             "outlinewidth": 0,
             "ticks": ""
            },
            "colorscale": [
             [
              0,
              "#0d0887"
             ],
             [
              0.1111111111111111,
              "#46039f"
             ],
             [
              0.2222222222222222,
              "#7201a8"
             ],
             [
              0.3333333333333333,
              "#9c179e"
             ],
             [
              0.4444444444444444,
              "#bd3786"
             ],
             [
              0.5555555555555556,
              "#d8576b"
             ],
             [
              0.6666666666666666,
              "#ed7953"
             ],
             [
              0.7777777777777778,
              "#fb9f3a"
             ],
             [
              0.8888888888888888,
              "#fdca26"
             ],
             [
              1,
              "#f0f921"
             ]
            ],
            "type": "surface"
           }
          ],
          "table": [
           {
            "cells": {
             "fill": {
              "color": "#EBF0F8"
             },
             "line": {
              "color": "white"
             }
            },
            "header": {
             "fill": {
              "color": "#C8D4E3"
             },
             "line": {
              "color": "white"
             }
            },
            "type": "table"
           }
          ]
         },
         "layout": {
          "annotationdefaults": {
           "arrowcolor": "#2a3f5f",
           "arrowhead": 0,
           "arrowwidth": 1
          },
          "autotypenumbers": "strict",
          "coloraxis": {
           "colorbar": {
            "outlinewidth": 0,
            "ticks": ""
           }
          },
          "colorscale": {
           "diverging": [
            [
             0,
             "#8e0152"
            ],
            [
             0.1,
             "#c51b7d"
            ],
            [
             0.2,
             "#de77ae"
            ],
            [
             0.3,
             "#f1b6da"
            ],
            [
             0.4,
             "#fde0ef"
            ],
            [
             0.5,
             "#f7f7f7"
            ],
            [
             0.6,
             "#e6f5d0"
            ],
            [
             0.7,
             "#b8e186"
            ],
            [
             0.8,
             "#7fbc41"
            ],
            [
             0.9,
             "#4d9221"
            ],
            [
             1,
             "#276419"
            ]
           ],
           "sequential": [
            [
             0,
             "#0d0887"
            ],
            [
             0.1111111111111111,
             "#46039f"
            ],
            [
             0.2222222222222222,
             "#7201a8"
            ],
            [
             0.3333333333333333,
             "#9c179e"
            ],
            [
             0.4444444444444444,
             "#bd3786"
            ],
            [
             0.5555555555555556,
             "#d8576b"
            ],
            [
             0.6666666666666666,
             "#ed7953"
            ],
            [
             0.7777777777777778,
             "#fb9f3a"
            ],
            [
             0.8888888888888888,
             "#fdca26"
            ],
            [
             1,
             "#f0f921"
            ]
           ],
           "sequentialminus": [
            [
             0,
             "#0d0887"
            ],
            [
             0.1111111111111111,
             "#46039f"
            ],
            [
             0.2222222222222222,
             "#7201a8"
            ],
            [
             0.3333333333333333,
             "#9c179e"
            ],
            [
             0.4444444444444444,
             "#bd3786"
            ],
            [
             0.5555555555555556,
             "#d8576b"
            ],
            [
             0.6666666666666666,
             "#ed7953"
            ],
            [
             0.7777777777777778,
             "#fb9f3a"
            ],
            [
             0.8888888888888888,
             "#fdca26"
            ],
            [
             1,
             "#f0f921"
            ]
           ]
          },
          "colorway": [
           "#636efa",
           "#EF553B",
           "#00cc96",
           "#ab63fa",
           "#FFA15A",
           "#19d3f3",
           "#FF6692",
           "#B6E880",
           "#FF97FF",
           "#FECB52"
          ],
          "font": {
           "color": "#2a3f5f"
          },
          "geo": {
           "bgcolor": "white",
           "lakecolor": "white",
           "landcolor": "#E5ECF6",
           "showlakes": true,
           "showland": true,
           "subunitcolor": "white"
          },
          "hoverlabel": {
           "align": "left"
          },
          "hovermode": "closest",
          "mapbox": {
           "style": "light"
          },
          "paper_bgcolor": "white",
          "plot_bgcolor": "#E5ECF6",
          "polar": {
           "angularaxis": {
            "gridcolor": "white",
            "linecolor": "white",
            "ticks": ""
           },
           "bgcolor": "#E5ECF6",
           "radialaxis": {
            "gridcolor": "white",
            "linecolor": "white",
            "ticks": ""
           }
          },
          "scene": {
           "xaxis": {
            "backgroundcolor": "#E5ECF6",
            "gridcolor": "white",
            "gridwidth": 2,
            "linecolor": "white",
            "showbackground": true,
            "ticks": "",
            "zerolinecolor": "white"
           },
           "yaxis": {
            "backgroundcolor": "#E5ECF6",
            "gridcolor": "white",
            "gridwidth": 2,
            "linecolor": "white",
            "showbackground": true,
            "ticks": "",
            "zerolinecolor": "white"
           },
           "zaxis": {
            "backgroundcolor": "#E5ECF6",
            "gridcolor": "white",
            "gridwidth": 2,
            "linecolor": "white",
            "showbackground": true,
            "ticks": "",
            "zerolinecolor": "white"
           }
          },
          "shapedefaults": {
           "line": {
            "color": "#2a3f5f"
           }
          },
          "ternary": {
           "aaxis": {
            "gridcolor": "white",
            "linecolor": "white",
            "ticks": ""
           },
           "baxis": {
            "gridcolor": "white",
            "linecolor": "white",
            "ticks": ""
           },
           "bgcolor": "#E5ECF6",
           "caxis": {
            "gridcolor": "white",
            "linecolor": "white",
            "ticks": ""
           }
          },
          "title": {
           "x": 0.05
          },
          "xaxis": {
           "automargin": true,
           "gridcolor": "white",
           "linecolor": "white",
           "ticks": "",
           "title": {
            "standoff": 15
           },
           "zerolinecolor": "white",
           "zerolinewidth": 2
          },
          "yaxis": {
           "automargin": true,
           "gridcolor": "white",
           "linecolor": "white",
           "ticks": "",
           "title": {
            "standoff": 15
           },
           "zerolinecolor": "white",
           "zerolinewidth": 2
          }
         }
        },
        "width": 500,
        "yaxis": {
         "scaleanchor": "x",
         "scaleratio": 1
        }
       }
      }
     },
     "metadata": {},
     "output_type": "display_data"
    },
    {
     "data": {
      "application/vnd.plotly.v1+json": {
       "config": {
        "plotlyServerURL": "https://plot.ly"
       },
       "data": [
        {
         "hovertemplate": "x=%{x}<br>y=%{y}<br>text=%{text}<extra></extra>",
         "legendgroup": "",
         "marker": {
          "color": "#636efa",
          "symbol": "circle"
         },
         "mode": "markers+text",
         "name": "",
         "orientation": "v",
         "showlegend": false,
         "text": [
          0,
          1,
          2,
          3,
          4,
          5,
          6,
          7,
          8,
          9,
          10,
          11,
          12,
          13,
          14,
          15,
          16,
          17,
          18,
          19,
          20,
          21,
          22,
          23,
          24,
          25,
          26,
          27,
          28,
          29,
          30,
          31,
          32,
          33,
          34,
          35
         ],
         "textposition": "top center",
         "type": "scatter",
         "x": [
          -0.8660254037844389,
          -0.5677558469608708,
          -0.32405486449545073,
          -0.10553882041693669,
          0.10553882041693653,
          0.3240548644954506,
          0.5677558469608708,
          0.8660254037844386,
          -0.7168906253726546,
          -0.4642066338938306,
          -0.22226133162159614,
          8.205434359327241e-17,
          0.22226133162159628,
          0.46420663389383,
          0.7168906253726547,
          -0.5950401341399446,
          -0.34323398275771344,
          -0.1128395022829917,
          0.1128395022829917,
          0.34323398275771355,
          0.5950401341399447,
          -0.4857821121006878,
          -0.2321033169469152,
          -2.3934956414276718e-17,
          0.2321033169469151,
          0.4857821121006877,
          -0.38024329168375126,
          -0.12097265113611713,
          0.12097265113611709,
          0.38024329168375076,
          -0.27098526964449443,
          -9.846521231192694e-17,
          0.2709852696444941,
          -0.14913477841178338,
          0.1491347784117831,
          -1.83697019872103e-16
         ],
         "xaxis": "x",
         "y": [
          0.5,
          0.5000000000000003,
          0.5000000000000002,
          0.5000000000000001,
          0.5000000000000001,
          0.5000000000000001,
          0.5000000000000001,
          0.5,
          0.241690986615264,
          0.2680098250382131,
          0.26800982503821297,
          0.2680098250382129,
          0.26800982503821325,
          0.26800982503821286,
          0.24169098661526375,
          0.030639744872984116,
          0.05847904694415321,
          0.06514791701830863,
          0.06514791701830866,
          0.05847904694415338,
          0.03063974487298406,
          -0.158600700433489,
          -0.1340049125191062,
          -0.1302958340366173,
          -0.13400491251910635,
          -0.15860070043348923,
          -0.34139929956651077,
          -0.32648887198236626,
          -0.3264888719823666,
          -0.3413992995665113,
          -0.5306397448729842,
          -0.5360196500764263,
          -0.530639744872984,
          -0.7416909866152642,
          -0.7416909866152642,
          -1.0000000000000002
         ],
         "yaxis": "y"
        }
       ],
       "layout": {
        "height": 500,
        "template": {
         "data": {
          "bar": [
           {
            "error_x": {
             "color": "#2a3f5f"
            },
            "error_y": {
             "color": "#2a3f5f"
            },
            "marker": {
             "line": {
              "color": "#E5ECF6",
              "width": 0.5
             },
             "pattern": {
              "fillmode": "overlay",
              "size": 10,
              "solidity": 0.2
             }
            },
            "type": "bar"
           }
          ],
          "barpolar": [
           {
            "marker": {
             "line": {
              "color": "#E5ECF6",
              "width": 0.5
             },
             "pattern": {
              "fillmode": "overlay",
              "size": 10,
              "solidity": 0.2
             }
            },
            "type": "barpolar"
           }
          ],
          "carpet": [
           {
            "aaxis": {
             "endlinecolor": "#2a3f5f",
             "gridcolor": "white",
             "linecolor": "white",
             "minorgridcolor": "white",
             "startlinecolor": "#2a3f5f"
            },
            "baxis": {
             "endlinecolor": "#2a3f5f",
             "gridcolor": "white",
             "linecolor": "white",
             "minorgridcolor": "white",
             "startlinecolor": "#2a3f5f"
            },
            "type": "carpet"
           }
          ],
          "choropleth": [
           {
            "colorbar": {
             "outlinewidth": 0,
             "ticks": ""
            },
            "type": "choropleth"
           }
          ],
          "contour": [
           {
            "colorbar": {
             "outlinewidth": 0,
             "ticks": ""
            },
            "colorscale": [
             [
              0,
              "#0d0887"
             ],
             [
              0.1111111111111111,
              "#46039f"
             ],
             [
              0.2222222222222222,
              "#7201a8"
             ],
             [
              0.3333333333333333,
              "#9c179e"
             ],
             [
              0.4444444444444444,
              "#bd3786"
             ],
             [
              0.5555555555555556,
              "#d8576b"
             ],
             [
              0.6666666666666666,
              "#ed7953"
             ],
             [
              0.7777777777777778,
              "#fb9f3a"
             ],
             [
              0.8888888888888888,
              "#fdca26"
             ],
             [
              1,
              "#f0f921"
             ]
            ],
            "type": "contour"
           }
          ],
          "contourcarpet": [
           {
            "colorbar": {
             "outlinewidth": 0,
             "ticks": ""
            },
            "type": "contourcarpet"
           }
          ],
          "heatmap": [
           {
            "colorbar": {
             "outlinewidth": 0,
             "ticks": ""
            },
            "colorscale": [
             [
              0,
              "#0d0887"
             ],
             [
              0.1111111111111111,
              "#46039f"
             ],
             [
              0.2222222222222222,
              "#7201a8"
             ],
             [
              0.3333333333333333,
              "#9c179e"
             ],
             [
              0.4444444444444444,
              "#bd3786"
             ],
             [
              0.5555555555555556,
              "#d8576b"
             ],
             [
              0.6666666666666666,
              "#ed7953"
             ],
             [
              0.7777777777777778,
              "#fb9f3a"
             ],
             [
              0.8888888888888888,
              "#fdca26"
             ],
             [
              1,
              "#f0f921"
             ]
            ],
            "type": "heatmap"
           }
          ],
          "heatmapgl": [
           {
            "colorbar": {
             "outlinewidth": 0,
             "ticks": ""
            },
            "colorscale": [
             [
              0,
              "#0d0887"
             ],
             [
              0.1111111111111111,
              "#46039f"
             ],
             [
              0.2222222222222222,
              "#7201a8"
             ],
             [
              0.3333333333333333,
              "#9c179e"
             ],
             [
              0.4444444444444444,
              "#bd3786"
             ],
             [
              0.5555555555555556,
              "#d8576b"
             ],
             [
              0.6666666666666666,
              "#ed7953"
             ],
             [
              0.7777777777777778,
              "#fb9f3a"
             ],
             [
              0.8888888888888888,
              "#fdca26"
             ],
             [
              1,
              "#f0f921"
             ]
            ],
            "type": "heatmapgl"
           }
          ],
          "histogram": [
           {
            "marker": {
             "pattern": {
              "fillmode": "overlay",
              "size": 10,
              "solidity": 0.2
             }
            },
            "type": "histogram"
           }
          ],
          "histogram2d": [
           {
            "colorbar": {
             "outlinewidth": 0,
             "ticks": ""
            },
            "colorscale": [
             [
              0,
              "#0d0887"
             ],
             [
              0.1111111111111111,
              "#46039f"
             ],
             [
              0.2222222222222222,
              "#7201a8"
             ],
             [
              0.3333333333333333,
              "#9c179e"
             ],
             [
              0.4444444444444444,
              "#bd3786"
             ],
             [
              0.5555555555555556,
              "#d8576b"
             ],
             [
              0.6666666666666666,
              "#ed7953"
             ],
             [
              0.7777777777777778,
              "#fb9f3a"
             ],
             [
              0.8888888888888888,
              "#fdca26"
             ],
             [
              1,
              "#f0f921"
             ]
            ],
            "type": "histogram2d"
           }
          ],
          "histogram2dcontour": [
           {
            "colorbar": {
             "outlinewidth": 0,
             "ticks": ""
            },
            "colorscale": [
             [
              0,
              "#0d0887"
             ],
             [
              0.1111111111111111,
              "#46039f"
             ],
             [
              0.2222222222222222,
              "#7201a8"
             ],
             [
              0.3333333333333333,
              "#9c179e"
             ],
             [
              0.4444444444444444,
              "#bd3786"
             ],
             [
              0.5555555555555556,
              "#d8576b"
             ],
             [
              0.6666666666666666,
              "#ed7953"
             ],
             [
              0.7777777777777778,
              "#fb9f3a"
             ],
             [
              0.8888888888888888,
              "#fdca26"
             ],
             [
              1,
              "#f0f921"
             ]
            ],
            "type": "histogram2dcontour"
           }
          ],
          "mesh3d": [
           {
            "colorbar": {
             "outlinewidth": 0,
             "ticks": ""
            },
            "type": "mesh3d"
           }
          ],
          "parcoords": [
           {
            "line": {
             "colorbar": {
              "outlinewidth": 0,
              "ticks": ""
             }
            },
            "type": "parcoords"
           }
          ],
          "pie": [
           {
            "automargin": true,
            "type": "pie"
           }
          ],
          "scatter": [
           {
            "fillpattern": {
             "fillmode": "overlay",
             "size": 10,
             "solidity": 0.2
            },
            "type": "scatter"
           }
          ],
          "scatter3d": [
           {
            "line": {
             "colorbar": {
              "outlinewidth": 0,
              "ticks": ""
             }
            },
            "marker": {
             "colorbar": {
              "outlinewidth": 0,
              "ticks": ""
             }
            },
            "type": "scatter3d"
           }
          ],
          "scattercarpet": [
           {
            "marker": {
             "colorbar": {
              "outlinewidth": 0,
              "ticks": ""
             }
            },
            "type": "scattercarpet"
           }
          ],
          "scattergeo": [
           {
            "marker": {
             "colorbar": {
              "outlinewidth": 0,
              "ticks": ""
             }
            },
            "type": "scattergeo"
           }
          ],
          "scattergl": [
           {
            "marker": {
             "colorbar": {
              "outlinewidth": 0,
              "ticks": ""
             }
            },
            "type": "scattergl"
           }
          ],
          "scattermapbox": [
           {
            "marker": {
             "colorbar": {
              "outlinewidth": 0,
              "ticks": ""
             }
            },
            "type": "scattermapbox"
           }
          ],
          "scatterpolar": [
           {
            "marker": {
             "colorbar": {
              "outlinewidth": 0,
              "ticks": ""
             }
            },
            "type": "scatterpolar"
           }
          ],
          "scatterpolargl": [
           {
            "marker": {
             "colorbar": {
              "outlinewidth": 0,
              "ticks": ""
             }
            },
            "type": "scatterpolargl"
           }
          ],
          "scatterternary": [
           {
            "marker": {
             "colorbar": {
              "outlinewidth": 0,
              "ticks": ""
             }
            },
            "type": "scatterternary"
           }
          ],
          "surface": [
           {
            "colorbar": {
             "outlinewidth": 0,
             "ticks": ""
            },
            "colorscale": [
             [
              0,
              "#0d0887"
             ],
             [
              0.1111111111111111,
              "#46039f"
             ],
             [
              0.2222222222222222,
              "#7201a8"
             ],
             [
              0.3333333333333333,
              "#9c179e"
             ],
             [
              0.4444444444444444,
              "#bd3786"
             ],
             [
              0.5555555555555556,
              "#d8576b"
             ],
             [
              0.6666666666666666,
              "#ed7953"
             ],
             [
              0.7777777777777778,
              "#fb9f3a"
             ],
             [
              0.8888888888888888,
              "#fdca26"
             ],
             [
              1,
              "#f0f921"
             ]
            ],
            "type": "surface"
           }
          ],
          "table": [
           {
            "cells": {
             "fill": {
              "color": "#EBF0F8"
             },
             "line": {
              "color": "white"
             }
            },
            "header": {
             "fill": {
              "color": "#C8D4E3"
             },
             "line": {
              "color": "white"
             }
            },
            "type": "table"
           }
          ]
         },
         "layout": {
          "annotationdefaults": {
           "arrowcolor": "#2a3f5f",
           "arrowhead": 0,
           "arrowwidth": 1
          },
          "autotypenumbers": "strict",
          "coloraxis": {
           "colorbar": {
            "outlinewidth": 0,
            "ticks": ""
           }
          },
          "colorscale": {
           "diverging": [
            [
             0,
             "#8e0152"
            ],
            [
             0.1,
             "#c51b7d"
            ],
            [
             0.2,
             "#de77ae"
            ],
            [
             0.3,
             "#f1b6da"
            ],
            [
             0.4,
             "#fde0ef"
            ],
            [
             0.5,
             "#f7f7f7"
            ],
            [
             0.6,
             "#e6f5d0"
            ],
            [
             0.7,
             "#b8e186"
            ],
            [
             0.8,
             "#7fbc41"
            ],
            [
             0.9,
             "#4d9221"
            ],
            [
             1,
             "#276419"
            ]
           ],
           "sequential": [
            [
             0,
             "#0d0887"
            ],
            [
             0.1111111111111111,
             "#46039f"
            ],
            [
             0.2222222222222222,
             "#7201a8"
            ],
            [
             0.3333333333333333,
             "#9c179e"
            ],
            [
             0.4444444444444444,
             "#bd3786"
            ],
            [
             0.5555555555555556,
             "#d8576b"
            ],
            [
             0.6666666666666666,
             "#ed7953"
            ],
            [
             0.7777777777777778,
             "#fb9f3a"
            ],
            [
             0.8888888888888888,
             "#fdca26"
            ],
            [
             1,
             "#f0f921"
            ]
           ],
           "sequentialminus": [
            [
             0,
             "#0d0887"
            ],
            [
             0.1111111111111111,
             "#46039f"
            ],
            [
             0.2222222222222222,
             "#7201a8"
            ],
            [
             0.3333333333333333,
             "#9c179e"
            ],
            [
             0.4444444444444444,
             "#bd3786"
            ],
            [
             0.5555555555555556,
             "#d8576b"
            ],
            [
             0.6666666666666666,
             "#ed7953"
            ],
            [
             0.7777777777777778,
             "#fb9f3a"
            ],
            [
             0.8888888888888888,
             "#fdca26"
            ],
            [
             1,
             "#f0f921"
            ]
           ]
          },
          "colorway": [
           "#636efa",
           "#EF553B",
           "#00cc96",
           "#ab63fa",
           "#FFA15A",
           "#19d3f3",
           "#FF6692",
           "#B6E880",
           "#FF97FF",
           "#FECB52"
          ],
          "font": {
           "color": "#2a3f5f"
          },
          "geo": {
           "bgcolor": "white",
           "lakecolor": "white",
           "landcolor": "#E5ECF6",
           "showlakes": true,
           "showland": true,
           "subunitcolor": "white"
          },
          "hoverlabel": {
           "align": "left"
          },
          "hovermode": "closest",
          "mapbox": {
           "style": "light"
          },
          "paper_bgcolor": "white",
          "plot_bgcolor": "#E5ECF6",
          "polar": {
           "angularaxis": {
            "gridcolor": "white",
            "linecolor": "white",
            "ticks": ""
           },
           "bgcolor": "#E5ECF6",
           "radialaxis": {
            "gridcolor": "white",
            "linecolor": "white",
            "ticks": ""
           }
          },
          "scene": {
           "xaxis": {
            "backgroundcolor": "#E5ECF6",
            "gridcolor": "white",
            "gridwidth": 2,
            "linecolor": "white",
            "showbackground": true,
            "ticks": "",
            "zerolinecolor": "white"
           },
           "yaxis": {
            "backgroundcolor": "#E5ECF6",
            "gridcolor": "white",
            "gridwidth": 2,
            "linecolor": "white",
            "showbackground": true,
            "ticks": "",
            "zerolinecolor": "white"
           },
           "zaxis": {
            "backgroundcolor": "#E5ECF6",
            "gridcolor": "white",
            "gridwidth": 2,
            "linecolor": "white",
            "showbackground": true,
            "ticks": "",
            "zerolinecolor": "white"
           }
          },
          "shapedefaults": {
           "line": {
            "color": "#2a3f5f"
           }
          },
          "ternary": {
           "aaxis": {
            "gridcolor": "white",
            "linecolor": "white",
            "ticks": ""
           },
           "baxis": {
            "gridcolor": "white",
            "linecolor": "white",
            "ticks": ""
           },
           "bgcolor": "#E5ECF6",
           "caxis": {
            "gridcolor": "white",
            "linecolor": "white",
            "ticks": ""
           }
          },
          "title": {
           "x": 0.05
          },
          "xaxis": {
           "automargin": true,
           "gridcolor": "white",
           "linecolor": "white",
           "ticks": "",
           "title": {
            "standoff": 15
           },
           "zerolinecolor": "white",
           "zerolinewidth": 2
          },
          "yaxis": {
           "automargin": true,
           "gridcolor": "white",
           "linecolor": "white",
           "ticks": "",
           "title": {
            "standoff": 15
           },
           "zerolinecolor": "white",
           "zerolinewidth": 2
          }
         }
        },
        "width": 500,
        "yaxis": {
         "scaleanchor": "x",
         "scaleratio": 1
        }
       }
      }
     },
     "metadata": {},
     "output_type": "display_data"
    }
   ],
   "source": [
    "# Generate Points for triangle\n",
    "triangle_coords = []\n",
    "begin_points = list(zip(\n",
    "    np.linspace(top_left_point[0], bottom_point[0], TRIANGLE_LENGTH + 1),\n",
    "    np.linspace(top_left_point[1], bottom_point[1], TRIANGLE_LENGTH + 1))\n",
    ")\n",
    "end_points = list(zip(\n",
    "    np.linspace(top_right_point[0], bottom_point[0], TRIANGLE_LENGTH + 1),\n",
    "    np.linspace(top_right_point[1], bottom_point[1], TRIANGLE_LENGTH + 1))\n",
    ")\n",
    "for layer in range(TRIANGLE_LENGTH + 1):\n",
    "    begin_point = begin_points[layer]\n",
    "    end_point = end_points[layer]\n",
    "    layer_points = list(zip(\n",
    "        np.linspace(begin_point[0], end_point[0], TRIANGLE_LENGTH + 1 - layer),\n",
    "        np.linspace(begin_point[1], end_point[1], TRIANGLE_LENGTH + 1 - layer))\n",
    "    )\n",
    "    triangle_coords += layer_points[::-1]\n",
    "\n",
    "triangle_corner_points = [0, TRIANGLE_LENGTH, len(triangle_coords) - 1]\n",
    "\n",
    "print(triangle_corner_points)\n",
    "\n",
    "edge_key_1 = (triangle_corner_points[0], triangle_corner_points[1])\n",
    "edge_key_2 = (triangle_corner_points[2], triangle_corner_points[0])\n",
    "edge_key_3 = (triangle_corner_points[2], triangle_corner_points[1])\n",
    "\n",
    "triangle_edge_points = {\n",
    "    edge_key_1: [1],\n",
    "    edge_key_2: [len(triangle_coords) - 3],\n",
    "    edge_key_3: [len(triangle_coords) - 2]\n",
    "}\n",
    "\n",
    "for i in range(2, TRIANGLE_LENGTH):\n",
    "    triangle_edge_points[edge_key_1].append(i)\n",
    "    triangle_edge_points[edge_key_2].append(triangle_edge_points[edge_key_2][-1] - (i + 1))\n",
    "    triangle_edge_points[edge_key_3].append(triangle_edge_points[edge_key_3][-1] - i)\n",
    "\n",
    "print(triangle_edge_points)\n",
    "\n",
    "show_2d_points(triangle_coords)\n",
    "\n",
    "def equalize_triangle_points(coords, side_length):\n",
    "    nu = (15*np.sqrt(3)/(4*np.pi)*(3*np.tan(np.pi/5)**2 - 1))**.5\n",
    "    new_side_length = (9*np.tan(np.pi/5)**2 - 3)**.5\n",
    "    ratio = new_side_length/side_length\n",
    "\n",
    "    new_coords = coords.copy()\n",
    "\n",
    "    # Shrink triangle to fit equal area shifting equation\n",
    "    new_coords = [np.array([x*ratio, y*ratio]) for (x, y) in new_coords]\n",
    "\n",
    "    for i in range(len(new_coords)):\n",
    "        x, y = new_coords[i]\n",
    "\n",
    "        if x == 0 and y == 0:\n",
    "            new_coords[i] = np.array([x, y])\n",
    "            continue\n",
    "        \n",
    "        # Get which section (out of the 6 60 deg sections) the point is on\n",
    "        theta = np.arctan2(y, x)\n",
    "        r = np.sqrt(x**2 + y**2)\n",
    "        if theta < 0:\n",
    "            theta = 2*np.pi+theta\n",
    "        shifted = (theta + np.pi/6) % (2*np.pi)\n",
    "        section = shifted//(np.pi/3)\n",
    "\n",
    "        # Rotate sections onto section 0 and 1\n",
    "        x = r*np.cos(theta - section//2*np.pi*2/3)\n",
    "        y = r*np.sin(theta - section//2*np.pi*2/3)\n",
    "\n",
    "        # Reflect sections onto section 1\n",
    "        m = np.tan(np.pi/6)\n",
    "        if section % 2 == 0:\n",
    "            old_x = x\n",
    "            old_y = y\n",
    "            x = old_x*(1 - m**2)/(m**2 + 1) + old_y*(2*m)/(m**2 + 1)\n",
    "            y = old_x*(2*m)/(m**2 + 1) + old_y*(m**2 - 1)/(m**2 + 1)\n",
    "        \n",
    "        # Perform equal area shifting on seciton one\n",
    "        old_x = x\n",
    "        old_y = y\n",
    "        y = 0.5*np.sqrt(3*((1+np.sqrt(3)*np.tan((np.sqrt(3)*old_y**2)/(2*nu**2)))/(np.sqrt(3)-np.tan((np.sqrt(3)*old_y**2)/(2*nu**2))))**2 - 1)\n",
    "        x = old_x*y*np.sqrt((1+y**2)/(old_y**2*(1+4*y**2)-old_x**2*y**2))\n",
    "\n",
    "        # Undo reflection from section 1\n",
    "        if section % 2 == 0:\n",
    "            old_x = x\n",
    "            old_y = y\n",
    "            x = old_x*(1 - m**2)/(m**2 + 1) + old_y*(2*m)/(m**2 + 1)\n",
    "            y = old_x*(2*m)/(m**2 + 1) + old_y*(m**2 - 1)/(m**2 + 1)\n",
    "\n",
    "        # recalculate angle and radius\n",
    "        theta = np.arctan2(y, x)\n",
    "        r = np.sqrt(y**2 + x**2)\n",
    "        if theta < 0:\n",
    "            theta = 2*np.pi+theta\n",
    "\n",
    "        # Undo rotation from sections 1 and 0\n",
    "        x = r*np.cos(theta + section//2*np.pi*2/3)\n",
    "        y = r*np.sin(theta + section//2*np.pi*2/3)\n",
    "\n",
    "        new_coords[i] = np.array([x, y])\n",
    "\n",
    "    # Return triangle to original size\n",
    "    new_coords = [np.array([x/ratio, y/ratio]) for (x, y) in new_coords]\n",
    "    \n",
    "    return new_coords\n",
    "\n",
    "new_coords = equalize_triangle_points(triangle_coords, abs(triangle_coords[0][0]*2))\n",
    "show_2d_points(new_coords)"
   ]
  },
  {
   "cell_type": "code",
   "execution_count": 88,
   "metadata": {},
   "outputs": [
    {
     "name": "stdout",
     "output_type": "stream",
     "text": [
      "found path\n",
      "found path\n",
      "found path\n",
      "found path\n",
      "found path\n"
     ]
    },
    {
     "data": {
      "application/vnd.plotly.v1+json": {
       "config": {
        "plotlyServerURL": "https://plot.ly"
       },
       "data": [
        {
         "hovertemplate": "x=%{x}<br>y=%{y}<br>text=%{text}<extra></extra>",
         "legendgroup": "",
         "marker": {
          "color": "#636efa",
          "symbol": "circle"
         },
         "mode": "markers+text",
         "name": "",
         "orientation": "v",
         "showlegend": false,
         "text": [
          0,
          1,
          2,
          3,
          4,
          5,
          6,
          7,
          8,
          9,
          10,
          11,
          12,
          13,
          14,
          15,
          16,
          17,
          18,
          19,
          20,
          21,
          22,
          23,
          24,
          25,
          26,
          27,
          28,
          29,
          30,
          31,
          32,
          33,
          34,
          35
         ],
         "textposition": "top center",
         "type": "scatter",
         "x": [
          -0.8660254037844386,
          -0.618589574131742,
          -0.37115374447904514,
          -0.12371791482634842,
          0.12371791482634831,
          0.3711537444790451,
          0.6185895741317419,
          0.8660254037844386,
          -0.7423074889580902,
          -0.49487165930539334,
          -0.24743582965269673,
          0,
          0.24743582965269673,
          0.49487165930539345,
          0.7423074889580902,
          -0.6185895741317419,
          -0.37115374447904514,
          -0.12371791482634842,
          0.12371791482634836,
          0.37115374447904514,
          0.6185895741317419,
          -0.49487165930539345,
          -0.24743582965269673,
          0,
          0.24743582965269673,
          0.49487165930539345,
          -0.3711537444790451,
          -0.12371791482634836,
          0.12371791482634836,
          0.3711537444790451,
          -0.24743582965269673,
          0,
          0.24743582965269673,
          -0.12371791482634831,
          0.12371791482634831,
          0
         ],
         "xaxis": "x",
         "y": [
          0.5,
          0.5,
          0.5,
          0.5,
          0.5,
          0.5,
          0.5,
          0.5,
          0.2857142857142857,
          0.2857142857142857,
          0.2857142857142857,
          0.2857142857142857,
          0.2857142857142857,
          0.2857142857142857,
          0.2857142857142857,
          0.07142857142857145,
          0.07142857142857145,
          0.07142857142857145,
          0.07142857142857145,
          0.07142857142857145,
          0.07142857142857145,
          -0.1428571428571428,
          -0.1428571428571428,
          -0.1428571428571428,
          -0.1428571428571428,
          -0.1428571428571428,
          -0.3571428571428571,
          -0.3571428571428571,
          -0.3571428571428571,
          -0.3571428571428571,
          -0.5714285714285714,
          -0.5714285714285714,
          -0.5714285714285714,
          -0.7857142857142856,
          -0.7857142857142856,
          -1
         ],
         "yaxis": "y"
        },
        {
         "hovertemplate": "x=%{x}<br>y=%{y}<extra></extra>",
         "legendgroup": "",
         "line": {
          "color": "#636efa",
          "dash": "solid"
         },
         "marker": {
          "symbol": "circle"
         },
         "mode": "lines",
         "name": "",
         "orientation": "v",
         "showlegend": false,
         "textposition": "top center",
         "type": "scatter",
         "x": [
          -0.3711537444790451,
          -0.12371791482634836,
          -0.24743582965269673,
          -0.12371791482634831,
          0,
          0.12371791482634836,
          0,
          -0.24743582965269673,
          -0.37115374447904514,
          -0.12371791482634842,
          -0.24743582965269673,
          -0.49487165930539334,
          -0.618589574131742,
          -0.37115374447904514,
          -0.12371791482634842,
          0,
          0.24743582965269673,
          0.12371791482634836,
          0.24743582965269673,
          0.37115374447904514,
          0.49487165930539345,
          0.7423074889580902,
          0.6185895741317419,
          0.49487165930539345
         ],
         "xaxis": "x",
         "y": [
          -0.3571428571428571,
          -0.3571428571428571,
          -0.5714285714285714,
          -0.7857142857142856,
          -0.5714285714285714,
          -0.3571428571428571,
          -0.1428571428571428,
          -0.1428571428571428,
          0.07142857142857145,
          0.07142857142857145,
          0.2857142857142857,
          0.2857142857142857,
          0.5,
          0.5,
          0.5,
          0.2857142857142857,
          0.2857142857142857,
          0.07142857142857145,
          -0.1428571428571428,
          0.07142857142857145,
          0.2857142857142857,
          0.2857142857142857,
          0.07142857142857145,
          -0.1428571428571428
         ],
         "yaxis": "y"
        },
        {
         "hovertemplate": "x=%{x}<br>y=%{y}<extra></extra>",
         "legendgroup": "",
         "line": {
          "color": "#636efa",
          "dash": "solid"
         },
         "marker": {
          "symbol": "circle"
         },
         "mode": "lines",
         "name": "",
         "orientation": "v",
         "showlegend": false,
         "textposition": "top center",
         "type": "scatter",
         "x": [
          -0.3711537444790451,
          -0.49487165930539345
         ],
         "xaxis": "x",
         "y": [
          -0.3571428571428571,
          -0.1428571428571428
         ],
         "yaxis": "y"
        },
        {
         "hovertemplate": "x=%{x}<br>y=%{y}<extra></extra>",
         "legendgroup": "",
         "line": {
          "color": "#636efa",
          "dash": "solid"
         },
         "marker": {
          "symbol": "circle"
         },
         "mode": "lines",
         "name": "",
         "orientation": "v",
         "showlegend": false,
         "textposition": "top center",
         "type": "scatter",
         "x": [
          0.49487165930539345,
          0.3711537444790451
         ],
         "xaxis": "x",
         "y": [
          -0.1428571428571428,
          -0.3571428571428571
         ],
         "yaxis": "y"
        }
       ],
       "layout": {
        "height": 500,
        "template": {
         "data": {
          "bar": [
           {
            "error_x": {
             "color": "#2a3f5f"
            },
            "error_y": {
             "color": "#2a3f5f"
            },
            "marker": {
             "line": {
              "color": "#E5ECF6",
              "width": 0.5
             },
             "pattern": {
              "fillmode": "overlay",
              "size": 10,
              "solidity": 0.2
             }
            },
            "type": "bar"
           }
          ],
          "barpolar": [
           {
            "marker": {
             "line": {
              "color": "#E5ECF6",
              "width": 0.5
             },
             "pattern": {
              "fillmode": "overlay",
              "size": 10,
              "solidity": 0.2
             }
            },
            "type": "barpolar"
           }
          ],
          "carpet": [
           {
            "aaxis": {
             "endlinecolor": "#2a3f5f",
             "gridcolor": "white",
             "linecolor": "white",
             "minorgridcolor": "white",
             "startlinecolor": "#2a3f5f"
            },
            "baxis": {
             "endlinecolor": "#2a3f5f",
             "gridcolor": "white",
             "linecolor": "white",
             "minorgridcolor": "white",
             "startlinecolor": "#2a3f5f"
            },
            "type": "carpet"
           }
          ],
          "choropleth": [
           {
            "colorbar": {
             "outlinewidth": 0,
             "ticks": ""
            },
            "type": "choropleth"
           }
          ],
          "contour": [
           {
            "colorbar": {
             "outlinewidth": 0,
             "ticks": ""
            },
            "colorscale": [
             [
              0,
              "#0d0887"
             ],
             [
              0.1111111111111111,
              "#46039f"
             ],
             [
              0.2222222222222222,
              "#7201a8"
             ],
             [
              0.3333333333333333,
              "#9c179e"
             ],
             [
              0.4444444444444444,
              "#bd3786"
             ],
             [
              0.5555555555555556,
              "#d8576b"
             ],
             [
              0.6666666666666666,
              "#ed7953"
             ],
             [
              0.7777777777777778,
              "#fb9f3a"
             ],
             [
              0.8888888888888888,
              "#fdca26"
             ],
             [
              1,
              "#f0f921"
             ]
            ],
            "type": "contour"
           }
          ],
          "contourcarpet": [
           {
            "colorbar": {
             "outlinewidth": 0,
             "ticks": ""
            },
            "type": "contourcarpet"
           }
          ],
          "heatmap": [
           {
            "colorbar": {
             "outlinewidth": 0,
             "ticks": ""
            },
            "colorscale": [
             [
              0,
              "#0d0887"
             ],
             [
              0.1111111111111111,
              "#46039f"
             ],
             [
              0.2222222222222222,
              "#7201a8"
             ],
             [
              0.3333333333333333,
              "#9c179e"
             ],
             [
              0.4444444444444444,
              "#bd3786"
             ],
             [
              0.5555555555555556,
              "#d8576b"
             ],
             [
              0.6666666666666666,
              "#ed7953"
             ],
             [
              0.7777777777777778,
              "#fb9f3a"
             ],
             [
              0.8888888888888888,
              "#fdca26"
             ],
             [
              1,
              "#f0f921"
             ]
            ],
            "type": "heatmap"
           }
          ],
          "heatmapgl": [
           {
            "colorbar": {
             "outlinewidth": 0,
             "ticks": ""
            },
            "colorscale": [
             [
              0,
              "#0d0887"
             ],
             [
              0.1111111111111111,
              "#46039f"
             ],
             [
              0.2222222222222222,
              "#7201a8"
             ],
             [
              0.3333333333333333,
              "#9c179e"
             ],
             [
              0.4444444444444444,
              "#bd3786"
             ],
             [
              0.5555555555555556,
              "#d8576b"
             ],
             [
              0.6666666666666666,
              "#ed7953"
             ],
             [
              0.7777777777777778,
              "#fb9f3a"
             ],
             [
              0.8888888888888888,
              "#fdca26"
             ],
             [
              1,
              "#f0f921"
             ]
            ],
            "type": "heatmapgl"
           }
          ],
          "histogram": [
           {
            "marker": {
             "pattern": {
              "fillmode": "overlay",
              "size": 10,
              "solidity": 0.2
             }
            },
            "type": "histogram"
           }
          ],
          "histogram2d": [
           {
            "colorbar": {
             "outlinewidth": 0,
             "ticks": ""
            },
            "colorscale": [
             [
              0,
              "#0d0887"
             ],
             [
              0.1111111111111111,
              "#46039f"
             ],
             [
              0.2222222222222222,
              "#7201a8"
             ],
             [
              0.3333333333333333,
              "#9c179e"
             ],
             [
              0.4444444444444444,
              "#bd3786"
             ],
             [
              0.5555555555555556,
              "#d8576b"
             ],
             [
              0.6666666666666666,
              "#ed7953"
             ],
             [
              0.7777777777777778,
              "#fb9f3a"
             ],
             [
              0.8888888888888888,
              "#fdca26"
             ],
             [
              1,
              "#f0f921"
             ]
            ],
            "type": "histogram2d"
           }
          ],
          "histogram2dcontour": [
           {
            "colorbar": {
             "outlinewidth": 0,
             "ticks": ""
            },
            "colorscale": [
             [
              0,
              "#0d0887"
             ],
             [
              0.1111111111111111,
              "#46039f"
             ],
             [
              0.2222222222222222,
              "#7201a8"
             ],
             [
              0.3333333333333333,
              "#9c179e"
             ],
             [
              0.4444444444444444,
              "#bd3786"
             ],
             [
              0.5555555555555556,
              "#d8576b"
             ],
             [
              0.6666666666666666,
              "#ed7953"
             ],
             [
              0.7777777777777778,
              "#fb9f3a"
             ],
             [
              0.8888888888888888,
              "#fdca26"
             ],
             [
              1,
              "#f0f921"
             ]
            ],
            "type": "histogram2dcontour"
           }
          ],
          "mesh3d": [
           {
            "colorbar": {
             "outlinewidth": 0,
             "ticks": ""
            },
            "type": "mesh3d"
           }
          ],
          "parcoords": [
           {
            "line": {
             "colorbar": {
              "outlinewidth": 0,
              "ticks": ""
             }
            },
            "type": "parcoords"
           }
          ],
          "pie": [
           {
            "automargin": true,
            "type": "pie"
           }
          ],
          "scatter": [
           {
            "fillpattern": {
             "fillmode": "overlay",
             "size": 10,
             "solidity": 0.2
            },
            "type": "scatter"
           }
          ],
          "scatter3d": [
           {
            "line": {
             "colorbar": {
              "outlinewidth": 0,
              "ticks": ""
             }
            },
            "marker": {
             "colorbar": {
              "outlinewidth": 0,
              "ticks": ""
             }
            },
            "type": "scatter3d"
           }
          ],
          "scattercarpet": [
           {
            "marker": {
             "colorbar": {
              "outlinewidth": 0,
              "ticks": ""
             }
            },
            "type": "scattercarpet"
           }
          ],
          "scattergeo": [
           {
            "marker": {
             "colorbar": {
              "outlinewidth": 0,
              "ticks": ""
             }
            },
            "type": "scattergeo"
           }
          ],
          "scattergl": [
           {
            "marker": {
             "colorbar": {
              "outlinewidth": 0,
              "ticks": ""
             }
            },
            "type": "scattergl"
           }
          ],
          "scattermapbox": [
           {
            "marker": {
             "colorbar": {
              "outlinewidth": 0,
              "ticks": ""
             }
            },
            "type": "scattermapbox"
           }
          ],
          "scatterpolar": [
           {
            "marker": {
             "colorbar": {
              "outlinewidth": 0,
              "ticks": ""
             }
            },
            "type": "scatterpolar"
           }
          ],
          "scatterpolargl": [
           {
            "marker": {
             "colorbar": {
              "outlinewidth": 0,
              "ticks": ""
             }
            },
            "type": "scatterpolargl"
           }
          ],
          "scatterternary": [
           {
            "marker": {
             "colorbar": {
              "outlinewidth": 0,
              "ticks": ""
             }
            },
            "type": "scatterternary"
           }
          ],
          "surface": [
           {
            "colorbar": {
             "outlinewidth": 0,
             "ticks": ""
            },
            "colorscale": [
             [
              0,
              "#0d0887"
             ],
             [
              0.1111111111111111,
              "#46039f"
             ],
             [
              0.2222222222222222,
              "#7201a8"
             ],
             [
              0.3333333333333333,
              "#9c179e"
             ],
             [
              0.4444444444444444,
              "#bd3786"
             ],
             [
              0.5555555555555556,
              "#d8576b"
             ],
             [
              0.6666666666666666,
              "#ed7953"
             ],
             [
              0.7777777777777778,
              "#fb9f3a"
             ],
             [
              0.8888888888888888,
              "#fdca26"
             ],
             [
              1,
              "#f0f921"
             ]
            ],
            "type": "surface"
           }
          ],
          "table": [
           {
            "cells": {
             "fill": {
              "color": "#EBF0F8"
             },
             "line": {
              "color": "white"
             }
            },
            "header": {
             "fill": {
              "color": "#C8D4E3"
             },
             "line": {
              "color": "white"
             }
            },
            "type": "table"
           }
          ]
         },
         "layout": {
          "annotationdefaults": {
           "arrowcolor": "#2a3f5f",
           "arrowhead": 0,
           "arrowwidth": 1
          },
          "autotypenumbers": "strict",
          "coloraxis": {
           "colorbar": {
            "outlinewidth": 0,
            "ticks": ""
           }
          },
          "colorscale": {
           "diverging": [
            [
             0,
             "#8e0152"
            ],
            [
             0.1,
             "#c51b7d"
            ],
            [
             0.2,
             "#de77ae"
            ],
            [
             0.3,
             "#f1b6da"
            ],
            [
             0.4,
             "#fde0ef"
            ],
            [
             0.5,
             "#f7f7f7"
            ],
            [
             0.6,
             "#e6f5d0"
            ],
            [
             0.7,
             "#b8e186"
            ],
            [
             0.8,
             "#7fbc41"
            ],
            [
             0.9,
             "#4d9221"
            ],
            [
             1,
             "#276419"
            ]
           ],
           "sequential": [
            [
             0,
             "#0d0887"
            ],
            [
             0.1111111111111111,
             "#46039f"
            ],
            [
             0.2222222222222222,
             "#7201a8"
            ],
            [
             0.3333333333333333,
             "#9c179e"
            ],
            [
             0.4444444444444444,
             "#bd3786"
            ],
            [
             0.5555555555555556,
             "#d8576b"
            ],
            [
             0.6666666666666666,
             "#ed7953"
            ],
            [
             0.7777777777777778,
             "#fb9f3a"
            ],
            [
             0.8888888888888888,
             "#fdca26"
            ],
            [
             1,
             "#f0f921"
            ]
           ],
           "sequentialminus": [
            [
             0,
             "#0d0887"
            ],
            [
             0.1111111111111111,
             "#46039f"
            ],
            [
             0.2222222222222222,
             "#7201a8"
            ],
            [
             0.3333333333333333,
             "#9c179e"
            ],
            [
             0.4444444444444444,
             "#bd3786"
            ],
            [
             0.5555555555555556,
             "#d8576b"
            ],
            [
             0.6666666666666666,
             "#ed7953"
            ],
            [
             0.7777777777777778,
             "#fb9f3a"
            ],
            [
             0.8888888888888888,
             "#fdca26"
            ],
            [
             1,
             "#f0f921"
            ]
           ]
          },
          "colorway": [
           "#636efa",
           "#EF553B",
           "#00cc96",
           "#ab63fa",
           "#FFA15A",
           "#19d3f3",
           "#FF6692",
           "#B6E880",
           "#FF97FF",
           "#FECB52"
          ],
          "font": {
           "color": "#2a3f5f"
          },
          "geo": {
           "bgcolor": "white",
           "lakecolor": "white",
           "landcolor": "#E5ECF6",
           "showlakes": true,
           "showland": true,
           "subunitcolor": "white"
          },
          "hoverlabel": {
           "align": "left"
          },
          "hovermode": "closest",
          "mapbox": {
           "style": "light"
          },
          "paper_bgcolor": "white",
          "plot_bgcolor": "#E5ECF6",
          "polar": {
           "angularaxis": {
            "gridcolor": "white",
            "linecolor": "white",
            "ticks": ""
           },
           "bgcolor": "#E5ECF6",
           "radialaxis": {
            "gridcolor": "white",
            "linecolor": "white",
            "ticks": ""
           }
          },
          "scene": {
           "xaxis": {
            "backgroundcolor": "#E5ECF6",
            "gridcolor": "white",
            "gridwidth": 2,
            "linecolor": "white",
            "showbackground": true,
            "ticks": "",
            "zerolinecolor": "white"
           },
           "yaxis": {
            "backgroundcolor": "#E5ECF6",
            "gridcolor": "white",
            "gridwidth": 2,
            "linecolor": "white",
            "showbackground": true,
            "ticks": "",
            "zerolinecolor": "white"
           },
           "zaxis": {
            "backgroundcolor": "#E5ECF6",
            "gridcolor": "white",
            "gridwidth": 2,
            "linecolor": "white",
            "showbackground": true,
            "ticks": "",
            "zerolinecolor": "white"
           }
          },
          "shapedefaults": {
           "line": {
            "color": "#2a3f5f"
           }
          },
          "ternary": {
           "aaxis": {
            "gridcolor": "white",
            "linecolor": "white",
            "ticks": ""
           },
           "baxis": {
            "gridcolor": "white",
            "linecolor": "white",
            "ticks": ""
           },
           "bgcolor": "#E5ECF6",
           "caxis": {
            "gridcolor": "white",
            "linecolor": "white",
            "ticks": ""
           }
          },
          "title": {
           "x": 0.05
          },
          "xaxis": {
           "automargin": true,
           "gridcolor": "white",
           "linecolor": "white",
           "ticks": "",
           "title": {
            "standoff": 15
           },
           "zerolinecolor": "white",
           "zerolinewidth": 2
          },
          "yaxis": {
           "automargin": true,
           "gridcolor": "white",
           "linecolor": "white",
           "ticks": "",
           "title": {
            "standoff": 15
           },
           "zerolinecolor": "white",
           "zerolinewidth": 2
          }
         }
        },
        "width": 500,
        "yaxis": {
         "scaleanchor": "x",
         "scaleratio": 1
        }
       }
      }
     },
     "metadata": {},
     "output_type": "display_data"
    },
    {
     "data": {
      "application/vnd.plotly.v1+json": {
       "config": {
        "plotlyServerURL": "https://plot.ly"
       },
       "data": [
        {
         "hovertemplate": "x=%{x}<br>y=%{y}<br>text=%{text}<extra></extra>",
         "legendgroup": "",
         "marker": {
          "color": "#636efa",
          "symbol": "circle"
         },
         "mode": "markers+text",
         "name": "",
         "orientation": "v",
         "showlegend": false,
         "text": [
          0,
          1,
          2,
          3,
          4,
          5,
          6,
          7,
          8,
          9,
          10,
          11,
          12,
          13,
          14,
          15,
          16,
          17,
          18,
          19,
          20,
          21,
          22,
          23,
          24,
          25,
          26,
          27,
          28,
          29,
          30,
          31,
          32,
          33,
          34,
          35
         ],
         "textposition": "top center",
         "type": "scatter",
         "x": [
          -0.8660254037844386,
          -0.618589574131742,
          -0.37115374447904514,
          -0.12371791482634842,
          0.12371791482634831,
          0.3711537444790451,
          0.6185895741317419,
          0.8660254037844386,
          -0.7423074889580902,
          -0.49487165930539334,
          -0.24743582965269673,
          0,
          0.24743582965269673,
          0.49487165930539345,
          0.7423074889580902,
          -0.6185895741317419,
          -0.37115374447904514,
          -0.12371791482634842,
          0.12371791482634836,
          0.37115374447904514,
          0.6185895741317419,
          -0.49487165930539345,
          -0.24743582965269673,
          0,
          0.24743582965269673,
          0.49487165930539345,
          -0.3711537444790451,
          -0.12371791482634836,
          0.12371791482634836,
          0.3711537444790451,
          -0.24743582965269673,
          0,
          0.24743582965269673,
          -0.12371791482634831,
          0.12371791482634831,
          0
         ],
         "xaxis": "x",
         "y": [
          0.5,
          0.5,
          0.5,
          0.5,
          0.5,
          0.5,
          0.5,
          0.5,
          0.2857142857142857,
          0.2857142857142857,
          0.2857142857142857,
          0.2857142857142857,
          0.2857142857142857,
          0.2857142857142857,
          0.2857142857142857,
          0.07142857142857145,
          0.07142857142857145,
          0.07142857142857145,
          0.07142857142857145,
          0.07142857142857145,
          0.07142857142857145,
          -0.1428571428571428,
          -0.1428571428571428,
          -0.1428571428571428,
          -0.1428571428571428,
          -0.1428571428571428,
          -0.3571428571428571,
          -0.3571428571428571,
          -0.3571428571428571,
          -0.3571428571428571,
          -0.5714285714285714,
          -0.5714285714285714,
          -0.5714285714285714,
          -0.7857142857142856,
          -0.7857142857142856,
          -1
         ],
         "yaxis": "y"
        },
        {
         "hovertemplate": "x=%{x}<br>y=%{y}<extra></extra>",
         "legendgroup": "",
         "line": {
          "color": "#636efa",
          "dash": "solid"
         },
         "marker": {
          "symbol": "circle"
         },
         "mode": "lines",
         "name": "",
         "orientation": "v",
         "showlegend": false,
         "textposition": "top center",
         "type": "scatter",
         "x": [
          -0.3711537444790451,
          -0.12371791482634836,
          -0.24743582965269673,
          -0.12371791482634831,
          0,
          0.12371791482634836,
          0,
          -0.24743582965269673,
          -0.37115374447904514,
          -0.12371791482634842,
          -0.24743582965269673,
          -0.49487165930539334,
          -0.618589574131742,
          -0.37115374447904514,
          -0.12371791482634842,
          0,
          0.12371791482634836,
          0.24743582965269673,
          0.49487165930539345,
          0.7423074889580902,
          0.6185895741317419,
          0.37115374447904514,
          0.24743582965269673,
          0.49487165930539345
         ],
         "xaxis": "x",
         "y": [
          -0.3571428571428571,
          -0.3571428571428571,
          -0.5714285714285714,
          -0.7857142857142856,
          -0.5714285714285714,
          -0.3571428571428571,
          -0.1428571428571428,
          -0.1428571428571428,
          0.07142857142857145,
          0.07142857142857145,
          0.2857142857142857,
          0.2857142857142857,
          0.5,
          0.5,
          0.5,
          0.2857142857142857,
          0.07142857142857145,
          0.2857142857142857,
          0.2857142857142857,
          0.2857142857142857,
          0.07142857142857145,
          0.07142857142857145,
          -0.1428571428571428,
          -0.1428571428571428
         ],
         "yaxis": "y"
        },
        {
         "hovertemplate": "x=%{x}<br>y=%{y}<extra></extra>",
         "legendgroup": "",
         "line": {
          "color": "#636efa",
          "dash": "solid"
         },
         "marker": {
          "symbol": "circle"
         },
         "mode": "lines",
         "name": "",
         "orientation": "v",
         "showlegend": false,
         "textposition": "top center",
         "type": "scatter",
         "x": [
          -0.3711537444790451,
          -0.49487165930539345
         ],
         "xaxis": "x",
         "y": [
          -0.3571428571428571,
          -0.1428571428571428
         ],
         "yaxis": "y"
        },
        {
         "hovertemplate": "x=%{x}<br>y=%{y}<extra></extra>",
         "legendgroup": "",
         "line": {
          "color": "#636efa",
          "dash": "solid"
         },
         "marker": {
          "symbol": "circle"
         },
         "mode": "lines",
         "name": "",
         "orientation": "v",
         "showlegend": false,
         "textposition": "top center",
         "type": "scatter",
         "x": [
          0.49487165930539345,
          0.3711537444790451
         ],
         "xaxis": "x",
         "y": [
          -0.1428571428571428,
          -0.3571428571428571
         ],
         "yaxis": "y"
        }
       ],
       "layout": {
        "height": 500,
        "template": {
         "data": {
          "bar": [
           {
            "error_x": {
             "color": "#2a3f5f"
            },
            "error_y": {
             "color": "#2a3f5f"
            },
            "marker": {
             "line": {
              "color": "#E5ECF6",
              "width": 0.5
             },
             "pattern": {
              "fillmode": "overlay",
              "size": 10,
              "solidity": 0.2
             }
            },
            "type": "bar"
           }
          ],
          "barpolar": [
           {
            "marker": {
             "line": {
              "color": "#E5ECF6",
              "width": 0.5
             },
             "pattern": {
              "fillmode": "overlay",
              "size": 10,
              "solidity": 0.2
             }
            },
            "type": "barpolar"
           }
          ],
          "carpet": [
           {
            "aaxis": {
             "endlinecolor": "#2a3f5f",
             "gridcolor": "white",
             "linecolor": "white",
             "minorgridcolor": "white",
             "startlinecolor": "#2a3f5f"
            },
            "baxis": {
             "endlinecolor": "#2a3f5f",
             "gridcolor": "white",
             "linecolor": "white",
             "minorgridcolor": "white",
             "startlinecolor": "#2a3f5f"
            },
            "type": "carpet"
           }
          ],
          "choropleth": [
           {
            "colorbar": {
             "outlinewidth": 0,
             "ticks": ""
            },
            "type": "choropleth"
           }
          ],
          "contour": [
           {
            "colorbar": {
             "outlinewidth": 0,
             "ticks": ""
            },
            "colorscale": [
             [
              0,
              "#0d0887"
             ],
             [
              0.1111111111111111,
              "#46039f"
             ],
             [
              0.2222222222222222,
              "#7201a8"
             ],
             [
              0.3333333333333333,
              "#9c179e"
             ],
             [
              0.4444444444444444,
              "#bd3786"
             ],
             [
              0.5555555555555556,
              "#d8576b"
             ],
             [
              0.6666666666666666,
              "#ed7953"
             ],
             [
              0.7777777777777778,
              "#fb9f3a"
             ],
             [
              0.8888888888888888,
              "#fdca26"
             ],
             [
              1,
              "#f0f921"
             ]
            ],
            "type": "contour"
           }
          ],
          "contourcarpet": [
           {
            "colorbar": {
             "outlinewidth": 0,
             "ticks": ""
            },
            "type": "contourcarpet"
           }
          ],
          "heatmap": [
           {
            "colorbar": {
             "outlinewidth": 0,
             "ticks": ""
            },
            "colorscale": [
             [
              0,
              "#0d0887"
             ],
             [
              0.1111111111111111,
              "#46039f"
             ],
             [
              0.2222222222222222,
              "#7201a8"
             ],
             [
              0.3333333333333333,
              "#9c179e"
             ],
             [
              0.4444444444444444,
              "#bd3786"
             ],
             [
              0.5555555555555556,
              "#d8576b"
             ],
             [
              0.6666666666666666,
              "#ed7953"
             ],
             [
              0.7777777777777778,
              "#fb9f3a"
             ],
             [
              0.8888888888888888,
              "#fdca26"
             ],
             [
              1,
              "#f0f921"
             ]
            ],
            "type": "heatmap"
           }
          ],
          "heatmapgl": [
           {
            "colorbar": {
             "outlinewidth": 0,
             "ticks": ""
            },
            "colorscale": [
             [
              0,
              "#0d0887"
             ],
             [
              0.1111111111111111,
              "#46039f"
             ],
             [
              0.2222222222222222,
              "#7201a8"
             ],
             [
              0.3333333333333333,
              "#9c179e"
             ],
             [
              0.4444444444444444,
              "#bd3786"
             ],
             [
              0.5555555555555556,
              "#d8576b"
             ],
             [
              0.6666666666666666,
              "#ed7953"
             ],
             [
              0.7777777777777778,
              "#fb9f3a"
             ],
             [
              0.8888888888888888,
              "#fdca26"
             ],
             [
              1,
              "#f0f921"
             ]
            ],
            "type": "heatmapgl"
           }
          ],
          "histogram": [
           {
            "marker": {
             "pattern": {
              "fillmode": "overlay",
              "size": 10,
              "solidity": 0.2
             }
            },
            "type": "histogram"
           }
          ],
          "histogram2d": [
           {
            "colorbar": {
             "outlinewidth": 0,
             "ticks": ""
            },
            "colorscale": [
             [
              0,
              "#0d0887"
             ],
             [
              0.1111111111111111,
              "#46039f"
             ],
             [
              0.2222222222222222,
              "#7201a8"
             ],
             [
              0.3333333333333333,
              "#9c179e"
             ],
             [
              0.4444444444444444,
              "#bd3786"
             ],
             [
              0.5555555555555556,
              "#d8576b"
             ],
             [
              0.6666666666666666,
              "#ed7953"
             ],
             [
              0.7777777777777778,
              "#fb9f3a"
             ],
             [
              0.8888888888888888,
              "#fdca26"
             ],
             [
              1,
              "#f0f921"
             ]
            ],
            "type": "histogram2d"
           }
          ],
          "histogram2dcontour": [
           {
            "colorbar": {
             "outlinewidth": 0,
             "ticks": ""
            },
            "colorscale": [
             [
              0,
              "#0d0887"
             ],
             [
              0.1111111111111111,
              "#46039f"
             ],
             [
              0.2222222222222222,
              "#7201a8"
             ],
             [
              0.3333333333333333,
              "#9c179e"
             ],
             [
              0.4444444444444444,
              "#bd3786"
             ],
             [
              0.5555555555555556,
              "#d8576b"
             ],
             [
              0.6666666666666666,
              "#ed7953"
             ],
             [
              0.7777777777777778,
              "#fb9f3a"
             ],
             [
              0.8888888888888888,
              "#fdca26"
             ],
             [
              1,
              "#f0f921"
             ]
            ],
            "type": "histogram2dcontour"
           }
          ],
          "mesh3d": [
           {
            "colorbar": {
             "outlinewidth": 0,
             "ticks": ""
            },
            "type": "mesh3d"
           }
          ],
          "parcoords": [
           {
            "line": {
             "colorbar": {
              "outlinewidth": 0,
              "ticks": ""
             }
            },
            "type": "parcoords"
           }
          ],
          "pie": [
           {
            "automargin": true,
            "type": "pie"
           }
          ],
          "scatter": [
           {
            "fillpattern": {
             "fillmode": "overlay",
             "size": 10,
             "solidity": 0.2
            },
            "type": "scatter"
           }
          ],
          "scatter3d": [
           {
            "line": {
             "colorbar": {
              "outlinewidth": 0,
              "ticks": ""
             }
            },
            "marker": {
             "colorbar": {
              "outlinewidth": 0,
              "ticks": ""
             }
            },
            "type": "scatter3d"
           }
          ],
          "scattercarpet": [
           {
            "marker": {
             "colorbar": {
              "outlinewidth": 0,
              "ticks": ""
             }
            },
            "type": "scattercarpet"
           }
          ],
          "scattergeo": [
           {
            "marker": {
             "colorbar": {
              "outlinewidth": 0,
              "ticks": ""
             }
            },
            "type": "scattergeo"
           }
          ],
          "scattergl": [
           {
            "marker": {
             "colorbar": {
              "outlinewidth": 0,
              "ticks": ""
             }
            },
            "type": "scattergl"
           }
          ],
          "scattermapbox": [
           {
            "marker": {
             "colorbar": {
              "outlinewidth": 0,
              "ticks": ""
             }
            },
            "type": "scattermapbox"
           }
          ],
          "scatterpolar": [
           {
            "marker": {
             "colorbar": {
              "outlinewidth": 0,
              "ticks": ""
             }
            },
            "type": "scatterpolar"
           }
          ],
          "scatterpolargl": [
           {
            "marker": {
             "colorbar": {
              "outlinewidth": 0,
              "ticks": ""
             }
            },
            "type": "scatterpolargl"
           }
          ],
          "scatterternary": [
           {
            "marker": {
             "colorbar": {
              "outlinewidth": 0,
              "ticks": ""
             }
            },
            "type": "scatterternary"
           }
          ],
          "surface": [
           {
            "colorbar": {
             "outlinewidth": 0,
             "ticks": ""
            },
            "colorscale": [
             [
              0,
              "#0d0887"
             ],
             [
              0.1111111111111111,
              "#46039f"
             ],
             [
              0.2222222222222222,
              "#7201a8"
             ],
             [
              0.3333333333333333,
              "#9c179e"
             ],
             [
              0.4444444444444444,
              "#bd3786"
             ],
             [
              0.5555555555555556,
              "#d8576b"
             ],
             [
              0.6666666666666666,
              "#ed7953"
             ],
             [
              0.7777777777777778,
              "#fb9f3a"
             ],
             [
              0.8888888888888888,
              "#fdca26"
             ],
             [
              1,
              "#f0f921"
             ]
            ],
            "type": "surface"
           }
          ],
          "table": [
           {
            "cells": {
             "fill": {
              "color": "#EBF0F8"
             },
             "line": {
              "color": "white"
             }
            },
            "header": {
             "fill": {
              "color": "#C8D4E3"
             },
             "line": {
              "color": "white"
             }
            },
            "type": "table"
           }
          ]
         },
         "layout": {
          "annotationdefaults": {
           "arrowcolor": "#2a3f5f",
           "arrowhead": 0,
           "arrowwidth": 1
          },
          "autotypenumbers": "strict",
          "coloraxis": {
           "colorbar": {
            "outlinewidth": 0,
            "ticks": ""
           }
          },
          "colorscale": {
           "diverging": [
            [
             0,
             "#8e0152"
            ],
            [
             0.1,
             "#c51b7d"
            ],
            [
             0.2,
             "#de77ae"
            ],
            [
             0.3,
             "#f1b6da"
            ],
            [
             0.4,
             "#fde0ef"
            ],
            [
             0.5,
             "#f7f7f7"
            ],
            [
             0.6,
             "#e6f5d0"
            ],
            [
             0.7,
             "#b8e186"
            ],
            [
             0.8,
             "#7fbc41"
            ],
            [
             0.9,
             "#4d9221"
            ],
            [
             1,
             "#276419"
            ]
           ],
           "sequential": [
            [
             0,
             "#0d0887"
            ],
            [
             0.1111111111111111,
             "#46039f"
            ],
            [
             0.2222222222222222,
             "#7201a8"
            ],
            [
             0.3333333333333333,
             "#9c179e"
            ],
            [
             0.4444444444444444,
             "#bd3786"
            ],
            [
             0.5555555555555556,
             "#d8576b"
            ],
            [
             0.6666666666666666,
             "#ed7953"
            ],
            [
             0.7777777777777778,
             "#fb9f3a"
            ],
            [
             0.8888888888888888,
             "#fdca26"
            ],
            [
             1,
             "#f0f921"
            ]
           ],
           "sequentialminus": [
            [
             0,
             "#0d0887"
            ],
            [
             0.1111111111111111,
             "#46039f"
            ],
            [
             0.2222222222222222,
             "#7201a8"
            ],
            [
             0.3333333333333333,
             "#9c179e"
            ],
            [
             0.4444444444444444,
             "#bd3786"
            ],
            [
             0.5555555555555556,
             "#d8576b"
            ],
            [
             0.6666666666666666,
             "#ed7953"
            ],
            [
             0.7777777777777778,
             "#fb9f3a"
            ],
            [
             0.8888888888888888,
             "#fdca26"
            ],
            [
             1,
             "#f0f921"
            ]
           ]
          },
          "colorway": [
           "#636efa",
           "#EF553B",
           "#00cc96",
           "#ab63fa",
           "#FFA15A",
           "#19d3f3",
           "#FF6692",
           "#B6E880",
           "#FF97FF",
           "#FECB52"
          ],
          "font": {
           "color": "#2a3f5f"
          },
          "geo": {
           "bgcolor": "white",
           "lakecolor": "white",
           "landcolor": "#E5ECF6",
           "showlakes": true,
           "showland": true,
           "subunitcolor": "white"
          },
          "hoverlabel": {
           "align": "left"
          },
          "hovermode": "closest",
          "mapbox": {
           "style": "light"
          },
          "paper_bgcolor": "white",
          "plot_bgcolor": "#E5ECF6",
          "polar": {
           "angularaxis": {
            "gridcolor": "white",
            "linecolor": "white",
            "ticks": ""
           },
           "bgcolor": "#E5ECF6",
           "radialaxis": {
            "gridcolor": "white",
            "linecolor": "white",
            "ticks": ""
           }
          },
          "scene": {
           "xaxis": {
            "backgroundcolor": "#E5ECF6",
            "gridcolor": "white",
            "gridwidth": 2,
            "linecolor": "white",
            "showbackground": true,
            "ticks": "",
            "zerolinecolor": "white"
           },
           "yaxis": {
            "backgroundcolor": "#E5ECF6",
            "gridcolor": "white",
            "gridwidth": 2,
            "linecolor": "white",
            "showbackground": true,
            "ticks": "",
            "zerolinecolor": "white"
           },
           "zaxis": {
            "backgroundcolor": "#E5ECF6",
            "gridcolor": "white",
            "gridwidth": 2,
            "linecolor": "white",
            "showbackground": true,
            "ticks": "",
            "zerolinecolor": "white"
           }
          },
          "shapedefaults": {
           "line": {
            "color": "#2a3f5f"
           }
          },
          "ternary": {
           "aaxis": {
            "gridcolor": "white",
            "linecolor": "white",
            "ticks": ""
           },
           "baxis": {
            "gridcolor": "white",
            "linecolor": "white",
            "ticks": ""
           },
           "bgcolor": "#E5ECF6",
           "caxis": {
            "gridcolor": "white",
            "linecolor": "white",
            "ticks": ""
           }
          },
          "title": {
           "x": 0.05
          },
          "xaxis": {
           "automargin": true,
           "gridcolor": "white",
           "linecolor": "white",
           "ticks": "",
           "title": {
            "standoff": 15
           },
           "zerolinecolor": "white",
           "zerolinewidth": 2
          },
          "yaxis": {
           "automargin": true,
           "gridcolor": "white",
           "linecolor": "white",
           "ticks": "",
           "title": {
            "standoff": 15
           },
           "zerolinecolor": "white",
           "zerolinewidth": 2
          }
         }
        },
        "width": 500,
        "yaxis": {
         "scaleanchor": "x",
         "scaleratio": 1
        }
       }
      }
     },
     "metadata": {},
     "output_type": "display_data"
    },
    {
     "data": {
      "application/vnd.plotly.v1+json": {
       "config": {
        "plotlyServerURL": "https://plot.ly"
       },
       "data": [
        {
         "hovertemplate": "x=%{x}<br>y=%{y}<br>text=%{text}<extra></extra>",
         "legendgroup": "",
         "marker": {
          "color": "#636efa",
          "symbol": "circle"
         },
         "mode": "markers+text",
         "name": "",
         "orientation": "v",
         "showlegend": false,
         "text": [
          0,
          1,
          2,
          3,
          4,
          5,
          6,
          7,
          8,
          9,
          10,
          11,
          12,
          13,
          14,
          15,
          16,
          17,
          18,
          19,
          20,
          21,
          22,
          23,
          24,
          25,
          26,
          27,
          28,
          29,
          30,
          31,
          32,
          33,
          34,
          35
         ],
         "textposition": "top center",
         "type": "scatter",
         "x": [
          -0.8660254037844386,
          -0.618589574131742,
          -0.37115374447904514,
          -0.12371791482634842,
          0.12371791482634831,
          0.3711537444790451,
          0.6185895741317419,
          0.8660254037844386,
          -0.7423074889580902,
          -0.49487165930539334,
          -0.24743582965269673,
          0,
          0.24743582965269673,
          0.49487165930539345,
          0.7423074889580902,
          -0.6185895741317419,
          -0.37115374447904514,
          -0.12371791482634842,
          0.12371791482634836,
          0.37115374447904514,
          0.6185895741317419,
          -0.49487165930539345,
          -0.24743582965269673,
          0,
          0.24743582965269673,
          0.49487165930539345,
          -0.3711537444790451,
          -0.12371791482634836,
          0.12371791482634836,
          0.3711537444790451,
          -0.24743582965269673,
          0,
          0.24743582965269673,
          -0.12371791482634831,
          0.12371791482634831,
          0
         ],
         "xaxis": "x",
         "y": [
          0.5,
          0.5,
          0.5,
          0.5,
          0.5,
          0.5,
          0.5,
          0.5,
          0.2857142857142857,
          0.2857142857142857,
          0.2857142857142857,
          0.2857142857142857,
          0.2857142857142857,
          0.2857142857142857,
          0.2857142857142857,
          0.07142857142857145,
          0.07142857142857145,
          0.07142857142857145,
          0.07142857142857145,
          0.07142857142857145,
          0.07142857142857145,
          -0.1428571428571428,
          -0.1428571428571428,
          -0.1428571428571428,
          -0.1428571428571428,
          -0.1428571428571428,
          -0.3571428571428571,
          -0.3571428571428571,
          -0.3571428571428571,
          -0.3571428571428571,
          -0.5714285714285714,
          -0.5714285714285714,
          -0.5714285714285714,
          -0.7857142857142856,
          -0.7857142857142856,
          -1
         ],
         "yaxis": "y"
        },
        {
         "hovertemplate": "x=%{x}<br>y=%{y}<extra></extra>",
         "legendgroup": "",
         "line": {
          "color": "#636efa",
          "dash": "solid"
         },
         "marker": {
          "symbol": "circle"
         },
         "mode": "lines",
         "name": "",
         "orientation": "v",
         "showlegend": false,
         "textposition": "top center",
         "type": "scatter",
         "x": [
          -0.3711537444790451,
          -0.12371791482634836,
          -0.24743582965269673,
          -0.12371791482634831,
          0,
          0.12371791482634836,
          0,
          -0.24743582965269673,
          -0.37115374447904514,
          -0.24743582965269673,
          -0.49487165930539334,
          -0.618589574131742,
          -0.37115374447904514,
          -0.12371791482634842,
          0,
          -0.12371791482634842,
          0.12371791482634836,
          0.24743582965269673,
          0.37115374447904514,
          0.24743582965269673,
          0.49487165930539345,
          0.7423074889580902,
          0.6185895741317419,
          0.49487165930539345
         ],
         "xaxis": "x",
         "y": [
          -0.3571428571428571,
          -0.3571428571428571,
          -0.5714285714285714,
          -0.7857142857142856,
          -0.5714285714285714,
          -0.3571428571428571,
          -0.1428571428571428,
          -0.1428571428571428,
          0.07142857142857145,
          0.2857142857142857,
          0.2857142857142857,
          0.5,
          0.5,
          0.5,
          0.2857142857142857,
          0.07142857142857145,
          0.07142857142857145,
          -0.1428571428571428,
          0.07142857142857145,
          0.2857142857142857,
          0.2857142857142857,
          0.2857142857142857,
          0.07142857142857145,
          -0.1428571428571428
         ],
         "yaxis": "y"
        },
        {
         "hovertemplate": "x=%{x}<br>y=%{y}<extra></extra>",
         "legendgroup": "",
         "line": {
          "color": "#636efa",
          "dash": "solid"
         },
         "marker": {
          "symbol": "circle"
         },
         "mode": "lines",
         "name": "",
         "orientation": "v",
         "showlegend": false,
         "textposition": "top center",
         "type": "scatter",
         "x": [
          -0.3711537444790451,
          -0.49487165930539345
         ],
         "xaxis": "x",
         "y": [
          -0.3571428571428571,
          -0.1428571428571428
         ],
         "yaxis": "y"
        },
        {
         "hovertemplate": "x=%{x}<br>y=%{y}<extra></extra>",
         "legendgroup": "",
         "line": {
          "color": "#636efa",
          "dash": "solid"
         },
         "marker": {
          "symbol": "circle"
         },
         "mode": "lines",
         "name": "",
         "orientation": "v",
         "showlegend": false,
         "textposition": "top center",
         "type": "scatter",
         "x": [
          0.49487165930539345,
          0.3711537444790451
         ],
         "xaxis": "x",
         "y": [
          -0.1428571428571428,
          -0.3571428571428571
         ],
         "yaxis": "y"
        }
       ],
       "layout": {
        "height": 500,
        "template": {
         "data": {
          "bar": [
           {
            "error_x": {
             "color": "#2a3f5f"
            },
            "error_y": {
             "color": "#2a3f5f"
            },
            "marker": {
             "line": {
              "color": "#E5ECF6",
              "width": 0.5
             },
             "pattern": {
              "fillmode": "overlay",
              "size": 10,
              "solidity": 0.2
             }
            },
            "type": "bar"
           }
          ],
          "barpolar": [
           {
            "marker": {
             "line": {
              "color": "#E5ECF6",
              "width": 0.5
             },
             "pattern": {
              "fillmode": "overlay",
              "size": 10,
              "solidity": 0.2
             }
            },
            "type": "barpolar"
           }
          ],
          "carpet": [
           {
            "aaxis": {
             "endlinecolor": "#2a3f5f",
             "gridcolor": "white",
             "linecolor": "white",
             "minorgridcolor": "white",
             "startlinecolor": "#2a3f5f"
            },
            "baxis": {
             "endlinecolor": "#2a3f5f",
             "gridcolor": "white",
             "linecolor": "white",
             "minorgridcolor": "white",
             "startlinecolor": "#2a3f5f"
            },
            "type": "carpet"
           }
          ],
          "choropleth": [
           {
            "colorbar": {
             "outlinewidth": 0,
             "ticks": ""
            },
            "type": "choropleth"
           }
          ],
          "contour": [
           {
            "colorbar": {
             "outlinewidth": 0,
             "ticks": ""
            },
            "colorscale": [
             [
              0,
              "#0d0887"
             ],
             [
              0.1111111111111111,
              "#46039f"
             ],
             [
              0.2222222222222222,
              "#7201a8"
             ],
             [
              0.3333333333333333,
              "#9c179e"
             ],
             [
              0.4444444444444444,
              "#bd3786"
             ],
             [
              0.5555555555555556,
              "#d8576b"
             ],
             [
              0.6666666666666666,
              "#ed7953"
             ],
             [
              0.7777777777777778,
              "#fb9f3a"
             ],
             [
              0.8888888888888888,
              "#fdca26"
             ],
             [
              1,
              "#f0f921"
             ]
            ],
            "type": "contour"
           }
          ],
          "contourcarpet": [
           {
            "colorbar": {
             "outlinewidth": 0,
             "ticks": ""
            },
            "type": "contourcarpet"
           }
          ],
          "heatmap": [
           {
            "colorbar": {
             "outlinewidth": 0,
             "ticks": ""
            },
            "colorscale": [
             [
              0,
              "#0d0887"
             ],
             [
              0.1111111111111111,
              "#46039f"
             ],
             [
              0.2222222222222222,
              "#7201a8"
             ],
             [
              0.3333333333333333,
              "#9c179e"
             ],
             [
              0.4444444444444444,
              "#bd3786"
             ],
             [
              0.5555555555555556,
              "#d8576b"
             ],
             [
              0.6666666666666666,
              "#ed7953"
             ],
             [
              0.7777777777777778,
              "#fb9f3a"
             ],
             [
              0.8888888888888888,
              "#fdca26"
             ],
             [
              1,
              "#f0f921"
             ]
            ],
            "type": "heatmap"
           }
          ],
          "heatmapgl": [
           {
            "colorbar": {
             "outlinewidth": 0,
             "ticks": ""
            },
            "colorscale": [
             [
              0,
              "#0d0887"
             ],
             [
              0.1111111111111111,
              "#46039f"
             ],
             [
              0.2222222222222222,
              "#7201a8"
             ],
             [
              0.3333333333333333,
              "#9c179e"
             ],
             [
              0.4444444444444444,
              "#bd3786"
             ],
             [
              0.5555555555555556,
              "#d8576b"
             ],
             [
              0.6666666666666666,
              "#ed7953"
             ],
             [
              0.7777777777777778,
              "#fb9f3a"
             ],
             [
              0.8888888888888888,
              "#fdca26"
             ],
             [
              1,
              "#f0f921"
             ]
            ],
            "type": "heatmapgl"
           }
          ],
          "histogram": [
           {
            "marker": {
             "pattern": {
              "fillmode": "overlay",
              "size": 10,
              "solidity": 0.2
             }
            },
            "type": "histogram"
           }
          ],
          "histogram2d": [
           {
            "colorbar": {
             "outlinewidth": 0,
             "ticks": ""
            },
            "colorscale": [
             [
              0,
              "#0d0887"
             ],
             [
              0.1111111111111111,
              "#46039f"
             ],
             [
              0.2222222222222222,
              "#7201a8"
             ],
             [
              0.3333333333333333,
              "#9c179e"
             ],
             [
              0.4444444444444444,
              "#bd3786"
             ],
             [
              0.5555555555555556,
              "#d8576b"
             ],
             [
              0.6666666666666666,
              "#ed7953"
             ],
             [
              0.7777777777777778,
              "#fb9f3a"
             ],
             [
              0.8888888888888888,
              "#fdca26"
             ],
             [
              1,
              "#f0f921"
             ]
            ],
            "type": "histogram2d"
           }
          ],
          "histogram2dcontour": [
           {
            "colorbar": {
             "outlinewidth": 0,
             "ticks": ""
            },
            "colorscale": [
             [
              0,
              "#0d0887"
             ],
             [
              0.1111111111111111,
              "#46039f"
             ],
             [
              0.2222222222222222,
              "#7201a8"
             ],
             [
              0.3333333333333333,
              "#9c179e"
             ],
             [
              0.4444444444444444,
              "#bd3786"
             ],
             [
              0.5555555555555556,
              "#d8576b"
             ],
             [
              0.6666666666666666,
              "#ed7953"
             ],
             [
              0.7777777777777778,
              "#fb9f3a"
             ],
             [
              0.8888888888888888,
              "#fdca26"
             ],
             [
              1,
              "#f0f921"
             ]
            ],
            "type": "histogram2dcontour"
           }
          ],
          "mesh3d": [
           {
            "colorbar": {
             "outlinewidth": 0,
             "ticks": ""
            },
            "type": "mesh3d"
           }
          ],
          "parcoords": [
           {
            "line": {
             "colorbar": {
              "outlinewidth": 0,
              "ticks": ""
             }
            },
            "type": "parcoords"
           }
          ],
          "pie": [
           {
            "automargin": true,
            "type": "pie"
           }
          ],
          "scatter": [
           {
            "fillpattern": {
             "fillmode": "overlay",
             "size": 10,
             "solidity": 0.2
            },
            "type": "scatter"
           }
          ],
          "scatter3d": [
           {
            "line": {
             "colorbar": {
              "outlinewidth": 0,
              "ticks": ""
             }
            },
            "marker": {
             "colorbar": {
              "outlinewidth": 0,
              "ticks": ""
             }
            },
            "type": "scatter3d"
           }
          ],
          "scattercarpet": [
           {
            "marker": {
             "colorbar": {
              "outlinewidth": 0,
              "ticks": ""
             }
            },
            "type": "scattercarpet"
           }
          ],
          "scattergeo": [
           {
            "marker": {
             "colorbar": {
              "outlinewidth": 0,
              "ticks": ""
             }
            },
            "type": "scattergeo"
           }
          ],
          "scattergl": [
           {
            "marker": {
             "colorbar": {
              "outlinewidth": 0,
              "ticks": ""
             }
            },
            "type": "scattergl"
           }
          ],
          "scattermapbox": [
           {
            "marker": {
             "colorbar": {
              "outlinewidth": 0,
              "ticks": ""
             }
            },
            "type": "scattermapbox"
           }
          ],
          "scatterpolar": [
           {
            "marker": {
             "colorbar": {
              "outlinewidth": 0,
              "ticks": ""
             }
            },
            "type": "scatterpolar"
           }
          ],
          "scatterpolargl": [
           {
            "marker": {
             "colorbar": {
              "outlinewidth": 0,
              "ticks": ""
             }
            },
            "type": "scatterpolargl"
           }
          ],
          "scatterternary": [
           {
            "marker": {
             "colorbar": {
              "outlinewidth": 0,
              "ticks": ""
             }
            },
            "type": "scatterternary"
           }
          ],
          "surface": [
           {
            "colorbar": {
             "outlinewidth": 0,
             "ticks": ""
            },
            "colorscale": [
             [
              0,
              "#0d0887"
             ],
             [
              0.1111111111111111,
              "#46039f"
             ],
             [
              0.2222222222222222,
              "#7201a8"
             ],
             [
              0.3333333333333333,
              "#9c179e"
             ],
             [
              0.4444444444444444,
              "#bd3786"
             ],
             [
              0.5555555555555556,
              "#d8576b"
             ],
             [
              0.6666666666666666,
              "#ed7953"
             ],
             [
              0.7777777777777778,
              "#fb9f3a"
             ],
             [
              0.8888888888888888,
              "#fdca26"
             ],
             [
              1,
              "#f0f921"
             ]
            ],
            "type": "surface"
           }
          ],
          "table": [
           {
            "cells": {
             "fill": {
              "color": "#EBF0F8"
             },
             "line": {
              "color": "white"
             }
            },
            "header": {
             "fill": {
              "color": "#C8D4E3"
             },
             "line": {
              "color": "white"
             }
            },
            "type": "table"
           }
          ]
         },
         "layout": {
          "annotationdefaults": {
           "arrowcolor": "#2a3f5f",
           "arrowhead": 0,
           "arrowwidth": 1
          },
          "autotypenumbers": "strict",
          "coloraxis": {
           "colorbar": {
            "outlinewidth": 0,
            "ticks": ""
           }
          },
          "colorscale": {
           "diverging": [
            [
             0,
             "#8e0152"
            ],
            [
             0.1,
             "#c51b7d"
            ],
            [
             0.2,
             "#de77ae"
            ],
            [
             0.3,
             "#f1b6da"
            ],
            [
             0.4,
             "#fde0ef"
            ],
            [
             0.5,
             "#f7f7f7"
            ],
            [
             0.6,
             "#e6f5d0"
            ],
            [
             0.7,
             "#b8e186"
            ],
            [
             0.8,
             "#7fbc41"
            ],
            [
             0.9,
             "#4d9221"
            ],
            [
             1,
             "#276419"
            ]
           ],
           "sequential": [
            [
             0,
             "#0d0887"
            ],
            [
             0.1111111111111111,
             "#46039f"
            ],
            [
             0.2222222222222222,
             "#7201a8"
            ],
            [
             0.3333333333333333,
             "#9c179e"
            ],
            [
             0.4444444444444444,
             "#bd3786"
            ],
            [
             0.5555555555555556,
             "#d8576b"
            ],
            [
             0.6666666666666666,
             "#ed7953"
            ],
            [
             0.7777777777777778,
             "#fb9f3a"
            ],
            [
             0.8888888888888888,
             "#fdca26"
            ],
            [
             1,
             "#f0f921"
            ]
           ],
           "sequentialminus": [
            [
             0,
             "#0d0887"
            ],
            [
             0.1111111111111111,
             "#46039f"
            ],
            [
             0.2222222222222222,
             "#7201a8"
            ],
            [
             0.3333333333333333,
             "#9c179e"
            ],
            [
             0.4444444444444444,
             "#bd3786"
            ],
            [
             0.5555555555555556,
             "#d8576b"
            ],
            [
             0.6666666666666666,
             "#ed7953"
            ],
            [
             0.7777777777777778,
             "#fb9f3a"
            ],
            [
             0.8888888888888888,
             "#fdca26"
            ],
            [
             1,
             "#f0f921"
            ]
           ]
          },
          "colorway": [
           "#636efa",
           "#EF553B",
           "#00cc96",
           "#ab63fa",
           "#FFA15A",
           "#19d3f3",
           "#FF6692",
           "#B6E880",
           "#FF97FF",
           "#FECB52"
          ],
          "font": {
           "color": "#2a3f5f"
          },
          "geo": {
           "bgcolor": "white",
           "lakecolor": "white",
           "landcolor": "#E5ECF6",
           "showlakes": true,
           "showland": true,
           "subunitcolor": "white"
          },
          "hoverlabel": {
           "align": "left"
          },
          "hovermode": "closest",
          "mapbox": {
           "style": "light"
          },
          "paper_bgcolor": "white",
          "plot_bgcolor": "#E5ECF6",
          "polar": {
           "angularaxis": {
            "gridcolor": "white",
            "linecolor": "white",
            "ticks": ""
           },
           "bgcolor": "#E5ECF6",
           "radialaxis": {
            "gridcolor": "white",
            "linecolor": "white",
            "ticks": ""
           }
          },
          "scene": {
           "xaxis": {
            "backgroundcolor": "#E5ECF6",
            "gridcolor": "white",
            "gridwidth": 2,
            "linecolor": "white",
            "showbackground": true,
            "ticks": "",
            "zerolinecolor": "white"
           },
           "yaxis": {
            "backgroundcolor": "#E5ECF6",
            "gridcolor": "white",
            "gridwidth": 2,
            "linecolor": "white",
            "showbackground": true,
            "ticks": "",
            "zerolinecolor": "white"
           },
           "zaxis": {
            "backgroundcolor": "#E5ECF6",
            "gridcolor": "white",
            "gridwidth": 2,
            "linecolor": "white",
            "showbackground": true,
            "ticks": "",
            "zerolinecolor": "white"
           }
          },
          "shapedefaults": {
           "line": {
            "color": "#2a3f5f"
           }
          },
          "ternary": {
           "aaxis": {
            "gridcolor": "white",
            "linecolor": "white",
            "ticks": ""
           },
           "baxis": {
            "gridcolor": "white",
            "linecolor": "white",
            "ticks": ""
           },
           "bgcolor": "#E5ECF6",
           "caxis": {
            "gridcolor": "white",
            "linecolor": "white",
            "ticks": ""
           }
          },
          "title": {
           "x": 0.05
          },
          "xaxis": {
           "automargin": true,
           "gridcolor": "white",
           "linecolor": "white",
           "ticks": "",
           "title": {
            "standoff": 15
           },
           "zerolinecolor": "white",
           "zerolinewidth": 2
          },
          "yaxis": {
           "automargin": true,
           "gridcolor": "white",
           "linecolor": "white",
           "ticks": "",
           "title": {
            "standoff": 15
           },
           "zerolinecolor": "white",
           "zerolinewidth": 2
          }
         }
        },
        "width": 500,
        "yaxis": {
         "scaleanchor": "x",
         "scaleratio": 1
        }
       }
      }
     },
     "metadata": {},
     "output_type": "display_data"
    },
    {
     "name": "stdout",
     "output_type": "stream",
     "text": [
      "CHOSEN: \n"
     ]
    },
    {
     "data": {
      "application/vnd.plotly.v1+json": {
       "config": {
        "plotlyServerURL": "https://plot.ly"
       },
       "data": [
        {
         "hovertemplate": "x=%{x}<br>y=%{y}<br>text=%{text}<extra></extra>",
         "legendgroup": "",
         "marker": {
          "color": "#636efa",
          "symbol": "circle"
         },
         "mode": "markers+text",
         "name": "",
         "orientation": "v",
         "showlegend": false,
         "text": [
          0,
          1,
          2,
          3,
          4,
          5,
          6,
          7,
          8,
          9,
          10,
          11,
          12,
          13,
          14,
          15,
          16,
          17,
          18,
          19,
          20,
          21,
          22,
          23,
          24,
          25,
          26,
          27,
          28,
          29,
          30,
          31,
          32,
          33,
          34,
          35
         ],
         "textposition": "top center",
         "type": "scatter",
         "x": [
          -0.8660254037844386,
          -0.618589574131742,
          -0.37115374447904514,
          -0.12371791482634842,
          0.12371791482634831,
          0.3711537444790451,
          0.6185895741317419,
          0.8660254037844386,
          -0.7423074889580902,
          -0.49487165930539334,
          -0.24743582965269673,
          0,
          0.24743582965269673,
          0.49487165930539345,
          0.7423074889580902,
          -0.6185895741317419,
          -0.37115374447904514,
          -0.12371791482634842,
          0.12371791482634836,
          0.37115374447904514,
          0.6185895741317419,
          -0.49487165930539345,
          -0.24743582965269673,
          0,
          0.24743582965269673,
          0.49487165930539345,
          -0.3711537444790451,
          -0.12371791482634836,
          0.12371791482634836,
          0.3711537444790451,
          -0.24743582965269673,
          0,
          0.24743582965269673,
          -0.12371791482634831,
          0.12371791482634831,
          0
         ],
         "xaxis": "x",
         "y": [
          0.5,
          0.5,
          0.5,
          0.5,
          0.5,
          0.5,
          0.5,
          0.5,
          0.2857142857142857,
          0.2857142857142857,
          0.2857142857142857,
          0.2857142857142857,
          0.2857142857142857,
          0.2857142857142857,
          0.2857142857142857,
          0.07142857142857145,
          0.07142857142857145,
          0.07142857142857145,
          0.07142857142857145,
          0.07142857142857145,
          0.07142857142857145,
          -0.1428571428571428,
          -0.1428571428571428,
          -0.1428571428571428,
          -0.1428571428571428,
          -0.1428571428571428,
          -0.3571428571428571,
          -0.3571428571428571,
          -0.3571428571428571,
          -0.3571428571428571,
          -0.5714285714285714,
          -0.5714285714285714,
          -0.5714285714285714,
          -0.7857142857142856,
          -0.7857142857142856,
          -1
         ],
         "yaxis": "y"
        },
        {
         "hovertemplate": "x=%{x}<br>y=%{y}<extra></extra>",
         "legendgroup": "",
         "line": {
          "color": "#636efa",
          "dash": "solid"
         },
         "marker": {
          "symbol": "circle"
         },
         "mode": "lines",
         "name": "",
         "orientation": "v",
         "showlegend": false,
         "textposition": "top center",
         "type": "scatter",
         "x": [
          -0.3711537444790451,
          -0.12371791482634836,
          -0.24743582965269673,
          -0.12371791482634831,
          0,
          0.12371791482634836,
          0,
          -0.24743582965269673,
          -0.37115374447904514,
          -0.12371791482634842,
          -0.24743582965269673,
          -0.49487165930539334,
          -0.618589574131742,
          -0.37115374447904514,
          -0.12371791482634842,
          0,
          0.12371791482634836,
          0.24743582965269673,
          0.49487165930539345,
          0.7423074889580902,
          0.6185895741317419,
          0.37115374447904514,
          0.24743582965269673,
          0.49487165930539345
         ],
         "xaxis": "x",
         "y": [
          -0.3571428571428571,
          -0.3571428571428571,
          -0.5714285714285714,
          -0.7857142857142856,
          -0.5714285714285714,
          -0.3571428571428571,
          -0.1428571428571428,
          -0.1428571428571428,
          0.07142857142857145,
          0.07142857142857145,
          0.2857142857142857,
          0.2857142857142857,
          0.5,
          0.5,
          0.5,
          0.2857142857142857,
          0.07142857142857145,
          0.2857142857142857,
          0.2857142857142857,
          0.2857142857142857,
          0.07142857142857145,
          0.07142857142857145,
          -0.1428571428571428,
          -0.1428571428571428
         ],
         "yaxis": "y"
        },
        {
         "hovertemplate": "x=%{x}<br>y=%{y}<extra></extra>",
         "legendgroup": "",
         "line": {
          "color": "#636efa",
          "dash": "solid"
         },
         "marker": {
          "symbol": "circle"
         },
         "mode": "lines",
         "name": "",
         "orientation": "v",
         "showlegend": false,
         "textposition": "top center",
         "type": "scatter",
         "x": [
          -0.3711537444790451,
          -0.49487165930539345
         ],
         "xaxis": "x",
         "y": [
          -0.3571428571428571,
          -0.1428571428571428
         ],
         "yaxis": "y"
        },
        {
         "hovertemplate": "x=%{x}<br>y=%{y}<extra></extra>",
         "legendgroup": "",
         "line": {
          "color": "#636efa",
          "dash": "solid"
         },
         "marker": {
          "symbol": "circle"
         },
         "mode": "lines",
         "name": "",
         "orientation": "v",
         "showlegend": false,
         "textposition": "top center",
         "type": "scatter",
         "x": [
          0.49487165930539345,
          0.3711537444790451
         ],
         "xaxis": "x",
         "y": [
          -0.1428571428571428,
          -0.3571428571428571
         ],
         "yaxis": "y"
        }
       ],
       "layout": {
        "height": 500,
        "template": {
         "data": {
          "bar": [
           {
            "error_x": {
             "color": "#2a3f5f"
            },
            "error_y": {
             "color": "#2a3f5f"
            },
            "marker": {
             "line": {
              "color": "#E5ECF6",
              "width": 0.5
             },
             "pattern": {
              "fillmode": "overlay",
              "size": 10,
              "solidity": 0.2
             }
            },
            "type": "bar"
           }
          ],
          "barpolar": [
           {
            "marker": {
             "line": {
              "color": "#E5ECF6",
              "width": 0.5
             },
             "pattern": {
              "fillmode": "overlay",
              "size": 10,
              "solidity": 0.2
             }
            },
            "type": "barpolar"
           }
          ],
          "carpet": [
           {
            "aaxis": {
             "endlinecolor": "#2a3f5f",
             "gridcolor": "white",
             "linecolor": "white",
             "minorgridcolor": "white",
             "startlinecolor": "#2a3f5f"
            },
            "baxis": {
             "endlinecolor": "#2a3f5f",
             "gridcolor": "white",
             "linecolor": "white",
             "minorgridcolor": "white",
             "startlinecolor": "#2a3f5f"
            },
            "type": "carpet"
           }
          ],
          "choropleth": [
           {
            "colorbar": {
             "outlinewidth": 0,
             "ticks": ""
            },
            "type": "choropleth"
           }
          ],
          "contour": [
           {
            "colorbar": {
             "outlinewidth": 0,
             "ticks": ""
            },
            "colorscale": [
             [
              0,
              "#0d0887"
             ],
             [
              0.1111111111111111,
              "#46039f"
             ],
             [
              0.2222222222222222,
              "#7201a8"
             ],
             [
              0.3333333333333333,
              "#9c179e"
             ],
             [
              0.4444444444444444,
              "#bd3786"
             ],
             [
              0.5555555555555556,
              "#d8576b"
             ],
             [
              0.6666666666666666,
              "#ed7953"
             ],
             [
              0.7777777777777778,
              "#fb9f3a"
             ],
             [
              0.8888888888888888,
              "#fdca26"
             ],
             [
              1,
              "#f0f921"
             ]
            ],
            "type": "contour"
           }
          ],
          "contourcarpet": [
           {
            "colorbar": {
             "outlinewidth": 0,
             "ticks": ""
            },
            "type": "contourcarpet"
           }
          ],
          "heatmap": [
           {
            "colorbar": {
             "outlinewidth": 0,
             "ticks": ""
            },
            "colorscale": [
             [
              0,
              "#0d0887"
             ],
             [
              0.1111111111111111,
              "#46039f"
             ],
             [
              0.2222222222222222,
              "#7201a8"
             ],
             [
              0.3333333333333333,
              "#9c179e"
             ],
             [
              0.4444444444444444,
              "#bd3786"
             ],
             [
              0.5555555555555556,
              "#d8576b"
             ],
             [
              0.6666666666666666,
              "#ed7953"
             ],
             [
              0.7777777777777778,
              "#fb9f3a"
             ],
             [
              0.8888888888888888,
              "#fdca26"
             ],
             [
              1,
              "#f0f921"
             ]
            ],
            "type": "heatmap"
           }
          ],
          "heatmapgl": [
           {
            "colorbar": {
             "outlinewidth": 0,
             "ticks": ""
            },
            "colorscale": [
             [
              0,
              "#0d0887"
             ],
             [
              0.1111111111111111,
              "#46039f"
             ],
             [
              0.2222222222222222,
              "#7201a8"
             ],
             [
              0.3333333333333333,
              "#9c179e"
             ],
             [
              0.4444444444444444,
              "#bd3786"
             ],
             [
              0.5555555555555556,
              "#d8576b"
             ],
             [
              0.6666666666666666,
              "#ed7953"
             ],
             [
              0.7777777777777778,
              "#fb9f3a"
             ],
             [
              0.8888888888888888,
              "#fdca26"
             ],
             [
              1,
              "#f0f921"
             ]
            ],
            "type": "heatmapgl"
           }
          ],
          "histogram": [
           {
            "marker": {
             "pattern": {
              "fillmode": "overlay",
              "size": 10,
              "solidity": 0.2
             }
            },
            "type": "histogram"
           }
          ],
          "histogram2d": [
           {
            "colorbar": {
             "outlinewidth": 0,
             "ticks": ""
            },
            "colorscale": [
             [
              0,
              "#0d0887"
             ],
             [
              0.1111111111111111,
              "#46039f"
             ],
             [
              0.2222222222222222,
              "#7201a8"
             ],
             [
              0.3333333333333333,
              "#9c179e"
             ],
             [
              0.4444444444444444,
              "#bd3786"
             ],
             [
              0.5555555555555556,
              "#d8576b"
             ],
             [
              0.6666666666666666,
              "#ed7953"
             ],
             [
              0.7777777777777778,
              "#fb9f3a"
             ],
             [
              0.8888888888888888,
              "#fdca26"
             ],
             [
              1,
              "#f0f921"
             ]
            ],
            "type": "histogram2d"
           }
          ],
          "histogram2dcontour": [
           {
            "colorbar": {
             "outlinewidth": 0,
             "ticks": ""
            },
            "colorscale": [
             [
              0,
              "#0d0887"
             ],
             [
              0.1111111111111111,
              "#46039f"
             ],
             [
              0.2222222222222222,
              "#7201a8"
             ],
             [
              0.3333333333333333,
              "#9c179e"
             ],
             [
              0.4444444444444444,
              "#bd3786"
             ],
             [
              0.5555555555555556,
              "#d8576b"
             ],
             [
              0.6666666666666666,
              "#ed7953"
             ],
             [
              0.7777777777777778,
              "#fb9f3a"
             ],
             [
              0.8888888888888888,
              "#fdca26"
             ],
             [
              1,
              "#f0f921"
             ]
            ],
            "type": "histogram2dcontour"
           }
          ],
          "mesh3d": [
           {
            "colorbar": {
             "outlinewidth": 0,
             "ticks": ""
            },
            "type": "mesh3d"
           }
          ],
          "parcoords": [
           {
            "line": {
             "colorbar": {
              "outlinewidth": 0,
              "ticks": ""
             }
            },
            "type": "parcoords"
           }
          ],
          "pie": [
           {
            "automargin": true,
            "type": "pie"
           }
          ],
          "scatter": [
           {
            "fillpattern": {
             "fillmode": "overlay",
             "size": 10,
             "solidity": 0.2
            },
            "type": "scatter"
           }
          ],
          "scatter3d": [
           {
            "line": {
             "colorbar": {
              "outlinewidth": 0,
              "ticks": ""
             }
            },
            "marker": {
             "colorbar": {
              "outlinewidth": 0,
              "ticks": ""
             }
            },
            "type": "scatter3d"
           }
          ],
          "scattercarpet": [
           {
            "marker": {
             "colorbar": {
              "outlinewidth": 0,
              "ticks": ""
             }
            },
            "type": "scattercarpet"
           }
          ],
          "scattergeo": [
           {
            "marker": {
             "colorbar": {
              "outlinewidth": 0,
              "ticks": ""
             }
            },
            "type": "scattergeo"
           }
          ],
          "scattergl": [
           {
            "marker": {
             "colorbar": {
              "outlinewidth": 0,
              "ticks": ""
             }
            },
            "type": "scattergl"
           }
          ],
          "scattermapbox": [
           {
            "marker": {
             "colorbar": {
              "outlinewidth": 0,
              "ticks": ""
             }
            },
            "type": "scattermapbox"
           }
          ],
          "scatterpolar": [
           {
            "marker": {
             "colorbar": {
              "outlinewidth": 0,
              "ticks": ""
             }
            },
            "type": "scatterpolar"
           }
          ],
          "scatterpolargl": [
           {
            "marker": {
             "colorbar": {
              "outlinewidth": 0,
              "ticks": ""
             }
            },
            "type": "scatterpolargl"
           }
          ],
          "scatterternary": [
           {
            "marker": {
             "colorbar": {
              "outlinewidth": 0,
              "ticks": ""
             }
            },
            "type": "scatterternary"
           }
          ],
          "surface": [
           {
            "colorbar": {
             "outlinewidth": 0,
             "ticks": ""
            },
            "colorscale": [
             [
              0,
              "#0d0887"
             ],
             [
              0.1111111111111111,
              "#46039f"
             ],
             [
              0.2222222222222222,
              "#7201a8"
             ],
             [
              0.3333333333333333,
              "#9c179e"
             ],
             [
              0.4444444444444444,
              "#bd3786"
             ],
             [
              0.5555555555555556,
              "#d8576b"
             ],
             [
              0.6666666666666666,
              "#ed7953"
             ],
             [
              0.7777777777777778,
              "#fb9f3a"
             ],
             [
              0.8888888888888888,
              "#fdca26"
             ],
             [
              1,
              "#f0f921"
             ]
            ],
            "type": "surface"
           }
          ],
          "table": [
           {
            "cells": {
             "fill": {
              "color": "#EBF0F8"
             },
             "line": {
              "color": "white"
             }
            },
            "header": {
             "fill": {
              "color": "#C8D4E3"
             },
             "line": {
              "color": "white"
             }
            },
            "type": "table"
           }
          ]
         },
         "layout": {
          "annotationdefaults": {
           "arrowcolor": "#2a3f5f",
           "arrowhead": 0,
           "arrowwidth": 1
          },
          "autotypenumbers": "strict",
          "coloraxis": {
           "colorbar": {
            "outlinewidth": 0,
            "ticks": ""
           }
          },
          "colorscale": {
           "diverging": [
            [
             0,
             "#8e0152"
            ],
            [
             0.1,
             "#c51b7d"
            ],
            [
             0.2,
             "#de77ae"
            ],
            [
             0.3,
             "#f1b6da"
            ],
            [
             0.4,
             "#fde0ef"
            ],
            [
             0.5,
             "#f7f7f7"
            ],
            [
             0.6,
             "#e6f5d0"
            ],
            [
             0.7,
             "#b8e186"
            ],
            [
             0.8,
             "#7fbc41"
            ],
            [
             0.9,
             "#4d9221"
            ],
            [
             1,
             "#276419"
            ]
           ],
           "sequential": [
            [
             0,
             "#0d0887"
            ],
            [
             0.1111111111111111,
             "#46039f"
            ],
            [
             0.2222222222222222,
             "#7201a8"
            ],
            [
             0.3333333333333333,
             "#9c179e"
            ],
            [
             0.4444444444444444,
             "#bd3786"
            ],
            [
             0.5555555555555556,
             "#d8576b"
            ],
            [
             0.6666666666666666,
             "#ed7953"
            ],
            [
             0.7777777777777778,
             "#fb9f3a"
            ],
            [
             0.8888888888888888,
             "#fdca26"
            ],
            [
             1,
             "#f0f921"
            ]
           ],
           "sequentialminus": [
            [
             0,
             "#0d0887"
            ],
            [
             0.1111111111111111,
             "#46039f"
            ],
            [
             0.2222222222222222,
             "#7201a8"
            ],
            [
             0.3333333333333333,
             "#9c179e"
            ],
            [
             0.4444444444444444,
             "#bd3786"
            ],
            [
             0.5555555555555556,
             "#d8576b"
            ],
            [
             0.6666666666666666,
             "#ed7953"
            ],
            [
             0.7777777777777778,
             "#fb9f3a"
            ],
            [
             0.8888888888888888,
             "#fdca26"
            ],
            [
             1,
             "#f0f921"
            ]
           ]
          },
          "colorway": [
           "#636efa",
           "#EF553B",
           "#00cc96",
           "#ab63fa",
           "#FFA15A",
           "#19d3f3",
           "#FF6692",
           "#B6E880",
           "#FF97FF",
           "#FECB52"
          ],
          "font": {
           "color": "#2a3f5f"
          },
          "geo": {
           "bgcolor": "white",
           "lakecolor": "white",
           "landcolor": "#E5ECF6",
           "showlakes": true,
           "showland": true,
           "subunitcolor": "white"
          },
          "hoverlabel": {
           "align": "left"
          },
          "hovermode": "closest",
          "mapbox": {
           "style": "light"
          },
          "paper_bgcolor": "white",
          "plot_bgcolor": "#E5ECF6",
          "polar": {
           "angularaxis": {
            "gridcolor": "white",
            "linecolor": "white",
            "ticks": ""
           },
           "bgcolor": "#E5ECF6",
           "radialaxis": {
            "gridcolor": "white",
            "linecolor": "white",
            "ticks": ""
           }
          },
          "scene": {
           "xaxis": {
            "backgroundcolor": "#E5ECF6",
            "gridcolor": "white",
            "gridwidth": 2,
            "linecolor": "white",
            "showbackground": true,
            "ticks": "",
            "zerolinecolor": "white"
           },
           "yaxis": {
            "backgroundcolor": "#E5ECF6",
            "gridcolor": "white",
            "gridwidth": 2,
            "linecolor": "white",
            "showbackground": true,
            "ticks": "",
            "zerolinecolor": "white"
           },
           "zaxis": {
            "backgroundcolor": "#E5ECF6",
            "gridcolor": "white",
            "gridwidth": 2,
            "linecolor": "white",
            "showbackground": true,
            "ticks": "",
            "zerolinecolor": "white"
           }
          },
          "shapedefaults": {
           "line": {
            "color": "#2a3f5f"
           }
          },
          "ternary": {
           "aaxis": {
            "gridcolor": "white",
            "linecolor": "white",
            "ticks": ""
           },
           "baxis": {
            "gridcolor": "white",
            "linecolor": "white",
            "ticks": ""
           },
           "bgcolor": "#E5ECF6",
           "caxis": {
            "gridcolor": "white",
            "linecolor": "white",
            "ticks": ""
           }
          },
          "title": {
           "x": 0.05
          },
          "xaxis": {
           "automargin": true,
           "gridcolor": "white",
           "linecolor": "white",
           "ticks": "",
           "title": {
            "standoff": 15
           },
           "zerolinecolor": "white",
           "zerolinewidth": 2
          },
          "yaxis": {
           "automargin": true,
           "gridcolor": "white",
           "linecolor": "white",
           "ticks": "",
           "title": {
            "standoff": 15
           },
           "zerolinecolor": "white",
           "zerolinewidth": 2
          }
         }
        },
        "width": 500,
        "yaxis": {
         "scaleanchor": "x",
         "scaleratio": 1
        }
       }
      }
     },
     "metadata": {},
     "output_type": "display_data"
    },
    {
     "name": "stdout",
     "output_type": "stream",
     "text": [
      "5\n"
     ]
    }
   ],
   "source": [
    "# Generate Edges for triangle\n",
    "\n",
    "import itertools\n",
    "\n",
    "# 5 sided triangle\n",
    "# CHOSEN_EDGES = [[11, 15], [15, 18], [16, 18], [13, 16], [12, 13], [1, 7], [7, 12], [1, 2], [2, 8], [8, 9], [9, 10], [10, 14], [14, 17]]\n",
    "\n",
    "# 9 sided triangle\n",
    "# CHOSEN_EDGES = [[40, 34], [34, 28], [28, 35], [35, 29], [29, 21], [21, 20], [20, 19], [19, 10], [10, 11], [11, 12], [12, 3], [3, 4], [4, 13], [13, 22], [22, 14], [14, 15], [15, 16], [16, 7], [7, 8], [8, 17], [17, 25], [25, 33], [33, 32], [32, 38], [38, 31], [31, 24], [24, 23], [23, 30], [30, 37], [37, 42], [42, 36], [36, 41], [41, 45], [45, 46], [46, 50], [50, 53], [53, 51], [51, 47], [47, 43], [43, 44], [44, 39]]\n",
    "\n",
    "def get_neighbors(coords, side_length):\n",
    "    edges = set()\n",
    "    def distance(a, b):\n",
    "        return ((a[0] - b[0])**2 + (a[1] - b[1])**2)**0.5\n",
    "    neighbor_distance = distance(coords[0], coords[-1])/side_length\n",
    "    for i, coord_1 in enumerate(coords):\n",
    "        for j, coord_2 in enumerate(coords):\n",
    "            if distance(coord_1, coord_2) < neighbor_distance*1.1 and i != j:\n",
    "                edges.add(frozenset([i, j]))\n",
    "    return [list(edge) for edge in edges]\n",
    "\n",
    "def find_gosper_paths(coords, corner_points, edge_points, side_length):\n",
    "\n",
    "    corner_points = sorted(corner_points)\n",
    "    neighbors = get_neighbors(coords, side_length)\n",
    "    graph = Graph(neighbors, len(coords))\n",
    "\n",
    "    edge_point_count = side_length - 1\n",
    "\n",
    "    top_edge = edge_points[corner_points[0], corner_points[1]]\n",
    "    left_edge = edge_points[corner_points[2], corner_points[0]]\n",
    "    right_edge = edge_points[corner_points[2], corner_points[1]][::-1] # reverse to align w/ left edge\n",
    "    \n",
    "    # Create permutations of patterns of edge points to exclude\n",
    "    exclude_patterns = list(itertools.product([False, True], repeat = edge_point_count//2))\n",
    "\n",
    "    # Calculate combinations of points that need to be excluded\n",
    "    exclude_point_groups = []\n",
    "    for top_exclude_pattern in exclude_patterns:\n",
    "        for side_exclude_pattern in exclude_patterns:\n",
    "            exclude_point_group = []\n",
    "            for i, exclude in enumerate(top_exclude_pattern):\n",
    "                point_to_exclude = i if exclude else edge_point_count - 1 - i\n",
    "                exclude_point_group.append(top_edge[point_to_exclude])\n",
    "            for i, exclude in enumerate(side_exclude_pattern):\n",
    "                point_to_exclude = i if exclude else edge_point_count - 1 - i\n",
    "                exclude_point_group.append(left_edge[point_to_exclude])\n",
    "                exclude_point_group.append(right_edge[point_to_exclude])\n",
    "            exclude_point_groups.append(exclude_point_group)\n",
    "\n",
    "    # Calculate edges that triangles will share\n",
    "    begin_shared_edge = left_edge[edge_point_count//2-1: edge_point_count//2+1]\n",
    "    end_shared_edge = right_edge[edge_point_count//2-1: edge_point_count//2+1]\n",
    "    all_paths = []\n",
    "    max_paths = 1\n",
    "    for exclude_point_group in exclude_point_groups:\n",
    "        begin_point = begin_shared_edge[0] if begin_shared_edge[1] in exclude_point_group else begin_shared_edge[1]\n",
    "        end_point = end_shared_edge[0] if end_shared_edge[1] in exclude_point_group else end_shared_edge[1]\n",
    "        paths = find_all_hamiltonian_paths(graph, begin_point, end_point, coords, corner_points + exclude_point_group, max_paths)\n",
    "        full_paths = [[path] + [begin_shared_edge, end_shared_edge] for path in paths]\n",
    "        all_paths += full_paths\n",
    "        if len(all_paths) >= max_paths:\n",
    "            break\n",
    "\n",
    "    for path in all_paths[:3]:\n",
    "        show_2d_points(triangle_coords, path)\n",
    "    return all_paths\n",
    "\n",
    "paths = find_gosper_paths(triangle_coords, triangle_corner_points, triangle_edge_points, TRIANGLE_LENGTH)\n",
    "\n",
    "print(\"CHOSEN: \")\n",
    "CHOSEN_EDGES = paths[1]\n",
    "show_2d_points(triangle_coords, CHOSEN_EDGES)\n",
    "print(len(paths))\n",
    "\n"
   ]
  },
  {
   "cell_type": "code",
   "execution_count": 89,
   "metadata": {},
   "outputs": [],
   "source": [
    "# Get Base icosahedron\n",
    "\n",
    "def icosphere_base():\n",
    "    # verts for icosahedron\n",
    "    r = (1.0 + np.sqrt(5.0)) / 2.0;\n",
    "    verts = np.array([[-1.0, r, 0.0],[ 1.0, r, 0.0],[-1.0, -r, 0.0],\n",
    "                      [1.0, -r, 0.0],[0.0, -1.0, r],[0.0, 1.0, r],\n",
    "                      [0.0, -1.0, -r],[0.0, 1.0, -r],[r, 0.0, -1.0],\n",
    "                      [r, 0.0, 1.0],[ -r, 0.0, -1.0],[-r, 0.0, 1.0]]);\n",
    "    # rescale the size to radius of 0.5\n",
    "    verts /= np.linalg.norm(verts[0])\n",
    "\n",
    "    verts = list(verts)\n",
    "    \n",
    "    faces = [[5, 4, 11], [4, 2, 11], [10, 11, 2], [2, 6, 10], \n",
    "             [7, 10, 6], [6, 8, 7], [1, 7, 8], [9, 1, 8],\n",
    "             [3, 9, 8], [8, 6, 3], [6, 2, 3], [2, 4, 3], \n",
    "             [9, 3, 4], [4, 5, 9], [1, 9, 5], [5, 0, 1], \n",
    "             [7, 1, 0], [10, 7, 0], [11, 10, 0], [0, 5, 11]]\n",
    "                \n",
    "    return np.array(verts), faces"
   ]
  },
  {
   "cell_type": "code",
   "execution_count": 90,
   "metadata": {},
   "outputs": [
    {
     "name": "stdout",
     "output_type": "stream",
     "text": [
      "det(R) < R, reflection detected!, correcting for it ...\n",
      "det(R) < R, reflection detected!, correcting for it ...\n",
      "det(R) < R, reflection detected!, correcting for it ...\n",
      "det(R) < R, reflection detected!, correcting for it ...\n",
      "det(R) < R, reflection detected!, correcting for it ...\n",
      "det(R) < R, reflection detected!, correcting for it ...\n",
      "det(R) < R, reflection detected!, correcting for it ...\n",
      "det(R) < R, reflection detected!, correcting for it ...\n",
      "det(R) < R, reflection detected!, correcting for it ...\n",
      "det(R) < R, reflection detected!, correcting for it ...\n"
     ]
    }
   ],
   "source": [
    "# Find Transformation Matrices\n",
    "\n",
    "# use a scalar to scale \n",
    "# http://nghiaho.com/?page_id=671\n",
    "def rigid_transform_3D(A, B):\n",
    "    assert A.shape == B.shape\n",
    "\n",
    "    num_rows, num_cols = A.shape\n",
    "    if num_rows != 3:\n",
    "        raise Exception(f\"matrix A is not 3xN, it is {num_rows}x{num_cols}\")\n",
    "\n",
    "    num_rows, num_cols = B.shape\n",
    "    if num_rows != 3:\n",
    "        raise Exception(f\"matrix B is not 3xN, it is {num_rows}x{num_cols}\")\n",
    "\n",
    "    # find mean column wise\n",
    "    centroid_B = np.mean(B, axis=1)\n",
    "\n",
    "    # ensure centroids are 3x1\n",
    "    centroid_B = centroid_B.reshape(-1, 1)\n",
    "\n",
    "    # subtract mean\n",
    "    Am = A\n",
    "    Bm = B - centroid_B\n",
    "\n",
    "    H = Am @ np.transpose(Bm)\n",
    "\n",
    "    # find rotation\n",
    "    U, S, Vt = np.linalg.svd(H)\n",
    "    R = Vt.T @ U.T\n",
    "\n",
    "    # special reflection case\n",
    "    if np.linalg.det(R) < 0:\n",
    "        print(\"det(R) < R, reflection detected!, correcting for it ...\")\n",
    "        Vt[2,:] *= -1\n",
    "        R = Vt.T @ U.T\n",
    "\n",
    "    t = centroid_B\n",
    "\n",
    "    return R, t\n",
    "\n",
    "triangle_mat = np.array(base_points)\n",
    "triangle_mat = np.hstack([triangle_mat, np.zeros((3, 1))])\n",
    "\n",
    "icosphere_coords, icosphere_faces = icosphere_base()\n",
    "\n",
    "transformation_mats_list = []\n",
    "\n",
    "for face in icosphere_faces:\n",
    "    icosphere_mat = np.array([icosphere_coords[i] for i in face])\n",
    "    rotation_mat, translation_mat = rigid_transform_3D(triangle_mat.T, icosphere_mat.T)\n",
    "    scale_factor = np.linalg.norm(icosphere_mat[0] - np.mean(icosphere_mat, axis=0))\n",
    "    transformation_mats_list.append({\n",
    "        'rotation_mat': rotation_mat,\n",
    "        'translation_mat': translation_mat,\n",
    "        'scale_factor': scale_factor\n",
    "    })\n",
    "\n",
    "def apply_transform(mat, tf_mats):\n",
    "    rotated = tf_mats['rotation_mat'] @ np.array(mat).T\n",
    "    scaled = rotated * tf_mats['scale_factor']\n",
    "    translated = scaled + np.tile(tf_mats['translation_mat'], (1, mat.shape[0])) \n",
    "    return translated.T"
   ]
  },
  {
   "cell_type": "code",
   "execution_count": 91,
   "metadata": {},
   "outputs": [
    {
     "data": {
      "application/vnd.plotly.v1+json": {
       "config": {
        "plotlyServerURL": "https://plot.ly"
       },
       "data": [
        {
         "hovertemplate": "x=%{x}<br>y=%{y}<br>z=%{z}<extra></extra>",
         "legendgroup": "",
         "marker": {
          "color": "#636efa",
          "size": 1,
          "symbol": "circle"
         },
         "mode": "markers",
         "name": "",
         "scene": "scene",
         "showlegend": false,
         "type": "scatter3d",
         "x": [
          -0.5257311121191336,
          0.5257311121191336,
          -0.5257311121191336,
          0.5257311121191336,
          0,
          0,
          0,
          0,
          0.85065080835204,
          0.85065080835204,
          -0.85065080835204,
          -0.85065080835204,
          1.8144394064905023e-16,
          1.2715853947696653e-16,
          6.507296417384613e-17,
          6.507296417384613e-17,
          6.357926973848326e-17,
          6.048131354968341e-17,
          -0.7672105551778501,
          -0.6694254935981104,
          -0.5593486084198627,
          -0.4378270643695713,
          -0.3048608614472362,
          -0.15960283492639302,
          -0.7672105551778502,
          -0.6694254935981103,
          -0.5593486084198631,
          -0.4378270643695715,
          -0.3048608614472362,
          -0.15960283492639313,
          -0.153211070594409,
          -0.15999543158723276,
          -0.16219383502716186,
          -0.15999543158723253,
          -0.15321107059440922,
          -0.3045014102455522,
          -0.3088036696496912,
          -0.3088036696496912,
          -0.30450141024555205,
          -0.4432588069924612,
          -0.4475951113786317,
          -0.44325880699246123,
          -0.57000018986427,
          -0.5700001898642704,
          -0.6842086298318452,
          -0.09863997668534953,
          -0.18841437421396426,
          -0.2705920069749831,
          -0.34569645156343076,
          -0.4137277079793073,
          -0.47416219962758793,
          -0.8658505318631996,
          -0.8578398678120749,
          -0.8299406153948461,
          -0.7835235159330022,
          -0.7185885694265436,
          -0.633765034553981,
          -0.2479007196745133,
          -0.3481876527412594,
          -0.43614284356123256,
          -0.5122749225172449,
          -0.5760752592264845,
          -0.4033840250111705,
          -0.4996548333438947,
          -0.5854326616799804,
          -0.6567809011755645,
          -0.5435001098049405,
          -0.6384462750728352,
          -0.7172078155265319,
          -0.6688828046298886,
          -0.758192411018297,
          -0.7788982789119495,
          -0.9268133901042431,
          -0.9742863550453466,
          -0.9971756727894342,
          -0.9971756727894342,
          -0.9742863550453467,
          -0.926813390104243,
          -0.6337650345539809,
          -0.7185885694265435,
          -0.7835235159330023,
          -0.829940615394846,
          -0.8578398678120749,
          -0.8658505318631998,
          -0.9321093495063584,
          -0.9733842148754408,
          -0.9867589167974019,
          -0.9733842148754407,
          -0.9321093495063585,
          -0.9181878426055295,
          -0.9472499447225263,
          -0.9472499447225263,
          -0.9181878426055297,
          -0.8794016505536938,
          -0.8942363313296715,
          -0.8794016505536938,
          -0.8167763327627972,
          -0.816776332762797,
          -0.7292863298208935,
          -0.4741621996275879,
          -0.41372770797930725,
          -0.34569645156343076,
          -0.2705920069749832,
          -0.18841437421396431,
          -0.09863997668534959,
          -0.7672105551778504,
          -0.6694254935981104,
          -0.5593486084198631,
          -0.4378270643695715,
          -0.3048608614472362,
          -0.15960283492639307,
          -0.5760752592264846,
          -0.512274922517245,
          -0.4361428435612324,
          -0.3481876527412593,
          -0.24790071967451363,
          -0.6567809011755644,
          -0.5854326616799804,
          -0.4996548333438947,
          -0.4033840250111704,
          -0.7172078155265319,
          -0.6384462750728352,
          -0.5435001098049405,
          -0.7581924110182969,
          -0.6688828046298887,
          -0.7788982789119495,
          -0.1596028349263931,
          -0.3048608614472361,
          -0.43782706436957136,
          -0.5593486084198628,
          -0.6694254935981104,
          -0.7672105551778501,
          -3.628878812981005e-16,
          1.2715853947696653e-16,
          0,
          0,
          -1.2715853947696653e-16,
          -1.2096262709936685e-16,
          -0.15321107059440897,
          -0.30450141024555216,
          -0.4432588069924613,
          -0.5700001898642704,
          -0.6842086298318448,
          -0.15999543158723267,
          -0.3088036696496912,
          -0.44759511137863167,
          -0.5700001898642704,
          -0.1621938350271619,
          -0.3088036696496912,
          -0.4432588069924613,
          -0.1599954315872328,
          -0.30450141024555194,
          -0.15321107059440897,
          0.1596028349263931,
          0.3048608614472362,
          0.4378270643695714,
          0.5593486084198627,
          0.6694254935981104,
          0.7672105551778501,
          0.15960283492639246,
          0.3048608614472362,
          0.4378270643695711,
          0.5593486084198628,
          0.6694254935981104,
          0.76721055517785,
          0.15321107059440897,
          0.3045014102455521,
          0.44325880699246134,
          0.5700001898642704,
          0.6842086298318448,
          0.15999543158723262,
          0.3088036696496912,
          0.4475951113786317,
          0.5700001898642704,
          0.16219383502716186,
          0.30880366964969114,
          0.4432588069924613,
          0.15999543158723278,
          0.30450141024555194,
          0.15321107059440892,
          0.4741621996275878,
          0.41372770797930725,
          0.34569645156343076,
          0.2705920069749832,
          0.18841437421396431,
          0.09863997668534959,
          0.8658505318631997,
          0.8578398678120749,
          0.8299406153948461,
          0.7835235159330022,
          0.7185885694265435,
          0.6337650345539809,
          0.5760752592264846,
          0.512274922517245,
          0.4361428435612324,
          0.3481876527412593,
          0.24790071967451363,
          0.6567809011755645,
          0.5854326616799804,
          0.4996548333438947,
          0.4033840250111704,
          0.7172078155265319,
          0.6384462750728352,
          0.5435001098049405,
          0.7581924110182969,
          0.6688828046298887,
          0.7788982789119494,
          0.8658505318631997,
          0.8578398678120749,
          0.829940615394846,
          0.7835235159330023,
          0.7185885694265436,
          0.633765034553981,
          0.926813390104243,
          0.9742863550453467,
          0.9971756727894342,
          0.9971756727894342,
          0.9742863550453467,
          0.9268133901042431,
          0.9321093495063585,
          0.9181878426055297,
          0.8794016505536938,
          0.816776332762797,
          0.7292863298208939,
          0.9733842148754408,
          0.9472499447225263,
          0.8942363313296715,
          0.816776332762797,
          0.9867589167974019,
          0.9472499447225263,
          0.8794016505536938,
          0.9733842148754408,
          0.9181878426055295,
          0.9321093495063584,
          0.6337650345539809,
          0.7185885694265435,
          0.7835235159330022,
          0.829940615394846,
          0.8578398678120749,
          0.8658505318631998,
          0.8658505318631999,
          0.8578398678120747,
          0.829940615394846,
          0.7835235159330022,
          0.7185885694265435,
          0.6337650345539809,
          0.7292863298208936,
          0.8167763327627973,
          0.8794016505536938,
          0.9181878426055297,
          0.9321093495063585,
          0.8167763327627972,
          0.8942363313296715,
          0.9472499447225263,
          0.9733842148754408,
          0.8794016505536938,
          0.9472499447225263,
          0.9867589167974019,
          0.9181878426055297,
          0.9733842148754407,
          0.9321093495063584,
          0.4741621996275885,
          0.41372770797930736,
          0.34569645156343104,
          0.2705920069749831,
          0.18841437421396426,
          0.09863997668534959,
          0.7788982789119494,
          0.6688828046298886,
          0.5435001098049405,
          0.4033840250111703,
          0.2479007196745136,
          0.758192411018297,
          0.6384462750728352,
          0.4996548333438947,
          0.3481876527412591,
          0.717207815526532,
          0.5854326616799805,
          0.4361428435612324,
          0.6567809011755645,
          0.512274922517245,
          0.5760752592264847,
          0.3755222229422387,
          0.22531333376534293,
          0.07510444458844803,
          -0.07510444458844752,
          -0.22531333376534288,
          -0.375522222942238,
          -2.387508184972496e-17,
          -0.08930960638840829,
          -0.17370770572159142,
          -0.25339687616439405,
          -0.32817453955197085,
          0.08930960638840837,
          -9.777565845670851e-18,
          -0.0857778283360857,
          -0.1640872697759857,
          0.17370770572159122,
          0.0857778283360857,
          -4.058530296748476e-17,
          0.2533968761643939,
          0.16408726977598578,
          0.3281745395519713,
          0.47416219962758777,
          0.4137277079793073,
          0.34569645156343093,
          0.27059200697498315,
          0.18841437421396437,
          0.0986399766853497,
          -0.3281745395519712,
          -0.2533968761643939,
          -0.1737077057215914,
          -0.08930960638840844,
          -1.0377197172221259e-16,
          -0.16408726977598556,
          -0.0857778283360857,
          -2.804993056193322e-17,
          0.0893096063884083,
          -1.6169139567224038e-16,
          0.08577782833608572,
          0.1737077057215913,
          0.16408726977598556,
          0.25339687616439405,
          0.32817453955197123,
          0.15960283492639285,
          0.30486086144723623,
          0.4378270643695716,
          0.559348608419863,
          0.6694254935981104,
          0.7672105551778502,
          0.7788982789119495,
          0.7581924110182968,
          0.7172078155265319,
          0.6567809011755645,
          0.5760752592264845,
          0.6688828046298886,
          0.6384462750728352,
          0.5854326616799804,
          0.5122749225172449,
          0.5435001098049408,
          0.4996548333438947,
          0.43614284356123256,
          0.4033840250111706,
          0.3481876527412593,
          0.24790071967451335,
          0.7672105551778502,
          0.6694254935981103,
          0.5593486084198631,
          0.43782706436957153,
          0.3048608614472362,
          0.15960283492639316,
          0.153211070594409,
          0.15999543158723278,
          0.16219383502716184,
          0.15999543158723253,
          0.1532110705944092,
          0.30450141024555216,
          0.3088036696496912,
          0.3088036696496912,
          0.304501410245552,
          0.4432588069924612,
          0.4475951113786317,
          0.44325880699246123,
          0.5700001898642701,
          0.5700001898642704,
          0.6842086298318452,
          0.09863997668534978,
          0.18841437421396431,
          0.27059200697498315,
          0.34569645156343076,
          0.41372770797930736,
          0.47416219962758793,
          0.5760752592264845,
          0.6567809011755643,
          0.7172078155265319,
          0.758192411018297,
          0.7788982789119494,
          0.5122749225172449,
          0.5854326616799804,
          0.6384462750728352,
          0.6688828046298886,
          0.4361428435612326,
          0.4996548333438947,
          0.5435001098049407,
          0.34818765274125946,
          0.4033840250111704,
          0.2479007196745133,
          -0.09863997668534986,
          -0.18841437421396445,
          -0.27059200697498315,
          -0.34569645156343076,
          -0.4137277079793073,
          -0.474162199627588,
          0.3755222229422387,
          0.22531333376534293,
          0.07510444458844803,
          -0.07510444458844752,
          -0.22531333376534288,
          -0.375522222942238,
          -2.387508184972496e-17,
          -0.08930960638840829,
          -0.17370770572159142,
          -0.25339687616439405,
          -0.32817453955197085,
          0.08930960638840837,
          -9.777565845670851e-18,
          -0.0857778283360857,
          -0.1640872697759857,
          0.17370770572159122,
          0.0857778283360857,
          -4.058530296748476e-17,
          0.2533968761643939,
          0.16408726977598578,
          0.3281745395519713,
          -0.4741621996275878,
          -0.41372770797930736,
          -0.3456964515634307,
          -0.2705920069749831,
          -0.18841437421396431,
          -0.09863997668534955,
          2.387508184972496e-17,
          0.08930960638840832,
          0.17370770572159142,
          0.25339687616439405,
          0.3281745395519709,
          -0.08930960638840837,
          9.777565845670852e-18,
          0.0857778283360857,
          0.1640872697759857,
          -0.17370770572159125,
          -0.0857778283360857,
          4.058530296748475e-17,
          -0.2533968761643939,
          -0.16408726977598578,
          -0.3281745395519713,
          -0.6337650345539807,
          -0.7185885694265438,
          -0.7835235159330024,
          -0.8299406153948461,
          -0.8578398678120749,
          -0.8658505318631997,
          -0.7788982789119494,
          -0.6688828046298886,
          -0.5435001098049405,
          -0.4033840250111703,
          -0.2479007196745136,
          -0.758192411018297,
          -0.6384462750728351,
          -0.4996548333438947,
          -0.3481876527412591,
          -0.717207815526532,
          -0.5854326616799805,
          -0.4361428435612324,
          -0.6567809011755645,
          -0.512274922517245,
          -0.5760752592264846,
          -0.6337650345539809,
          -0.7185885694265435,
          -0.7835235159330023,
          -0.829940615394846,
          -0.8578398678120749,
          -0.8658505318631998,
          -0.9321093495063584,
          -0.9733842148754408,
          -0.9867589167974019,
          -0.9733842148754407,
          -0.9321093495063585,
          -0.9181878426055295,
          -0.9472499447225263,
          -0.9472499447225263,
          -0.9181878426055297,
          -0.8794016505536938,
          -0.8942363313296715,
          -0.8794016505536938,
          -0.8167763327627972,
          -0.816776332762797,
          -0.7292863298208935,
          -0.5760752592264846,
          -0.512274922517245,
          -0.4361428435612324,
          -0.3481876527412593,
          -0.24790071967451363,
          -0.6567809011755644,
          -0.5854326616799804,
          -0.4996548333438947,
          -0.4033840250111704,
          -0.7172078155265319,
          -0.6384462750728352,
          -0.5435001098049405,
          -0.7581924110182969,
          -0.6688828046298887,
          -0.7788982789119495
         ],
         "y": [
          0.7366852097826346,
          0.7366852097826346,
          -0.7366852097826346,
          -0.7366852097826346,
          -0.029971094478994757,
          0.8806219028310347,
          -0.8806219028310347,
          0.029971094478994757,
          -0.26286555605956674,
          0.26286555605956674,
          -0.26286555605956674,
          0.26286555605956674,
          0.7886184798057034,
          0.6822702483748224,
          0.5636301933454335,
          0.43354547944400074,
          0.292016106670524,
          0.1381949102985395,
          0.40230724291520764,
          0.5224659192207128,
          0.6261013100678526,
          0.7143522167494909,
          0.7872186392656273,
          0.8435617763233992,
          0.23145779163877336,
          0.19612265020583086,
          0.15742220586514974,
          0.11558839864535501,
          0.07062122854644727,
          0.022288755539800302,
          0.7502621628804473,
          0.6287958515013543,
          0.49337945839870084,
          0.34458836337408616,
          0.18184718662591137,
          0.6785420533007496,
          0.5479107507817741,
          0.39933919394075224,
          0.23964578930477984,
          0.5901361112648565,
          0.44711816566483575,
          0.2892655392888372,
          0.4857325543157491,
          0.3310437784470479,
          0.36464316491044674,
          -0.16525134236514527,
          -0.28760320919344934,
          -0.3988769650505499,
          -0.4998361243796413,
          -0.5904806871807236,
          -0.6700471390106021,
          0.09886099025152383,
          -0.05715339664326097,
          -0.2063211344266978,
          -0.349114100975584,
          -0.48553229628991856,
          -0.6151038424929061,
          -0.10944666952586679,
          -0.2343475428235314,
          -0.34937013313624976,
          -0.45492187639283255,
          -0.5505953366644685,
          -0.06454689111249062,
          -0.18777641968358616,
          -0.30308327649267564,
          -0.40517567459343745,
          -0.019106874439543845,
          -0.13999744795950264,
          -0.25261348027009434,
          0.02685109802977697,
          -0.09320335188186844,
          0.07334930875866891,
          -0.18776111147111899,
          -0.11265666688267141,
          -0.03755222229422379,
          0.037552222294223836,
          0.11265666688267155,
          0.18776111147111918,
          -0.7137438191782558,
          -0.6739466705038831,
          -0.6197061079505671,
          -0.5520175859901288,
          -0.4708811046225682,
          -0.37530120937606454,
          -0.2967719490517548,
          -0.22060374313199163,
          -0.14046398147074443,
          -0.05651647335600575,
          0.03140259050021606,
          -0.3904043948430324,
          -0.31032073686653305,
          -0.22454290853044737,
          -0.13700751867863822,
          -0.4707272401674505,
          -0.38762873706362033,
          -0.2970195344458591,
          -0.5382894477786153,
          -0.4489798413902073,
          -0.5925420549229212,
          -0.8296499739369952,
          -0.8953415486279597,
          -0.9376631887492127,
          -0.9582255734704127,
          -0.9570287027915597,
          -0.9324618975429951,
          -0.4023072429152079,
          -0.5224659192207126,
          -0.6261013100678524,
          -0.7143522167494907,
          -0.7872186392656273,
          -0.8435617763233992,
          -0.798496056338982,
          -0.8583059014040028,
          -0.8928702429411902,
          -0.90323034745342,
          -0.8883449484378162,
          -0.7533633273346967,
          -0.8027381098365702,
          -0.8262226947564213,
          -0.8227393021307876,
          -0.6887563238313267,
          -0.7254301096394831,
          -0.7363146899660756,
          -0.6054782743991136,
          -0.6299298031457871,
          -0.5027259504678157,
          -0.022288755539800125,
          -0.07062122854644727,
          -0.11558839864535508,
          -0.15742220586514963,
          -0.1961226502058309,
          -0.2314577916387729,
          -0.7886184798057035,
          -0.6822702483748223,
          -0.5636301933454333,
          -0.4335454794440006,
          -0.2920161066705241,
          -0.13819491029853967,
          -0.18184718662591107,
          -0.23964578930478014,
          -0.28926553928883725,
          -0.33104377844704785,
          -0.3646431649104469,
          -0.3445883633740863,
          -0.39933919394075224,
          -0.4471181656648357,
          -0.4857325543157491,
          -0.4933794583987007,
          -0.5479107507817741,
          -0.5901361112648564,
          -0.6287958515013543,
          -0.6785420533007493,
          -0.7502621628804471,
          -0.8435617763233996,
          -0.7872186392656274,
          -0.7143522167494909,
          -0.6261013100678526,
          -0.5224659192207126,
          -0.402307242915208,
          -0.02228875553980067,
          -0.07062122854644746,
          -0.11558839864535508,
          -0.15742220586514954,
          -0.19612265020583086,
          -0.2314577916387728,
          -0.7502621628804471,
          -0.6785420533007493,
          -0.5901361112648564,
          -0.4857325543157492,
          -0.3646431649104469,
          -0.6287958515013544,
          -0.5479107507817741,
          -0.4471181656648357,
          -0.3310437784470479,
          -0.493379458398701,
          -0.39933919394075224,
          -0.28926553928883725,
          -0.3445883633740863,
          -0.23964578930477998,
          -0.18184718662591107,
          0.6700471390106021,
          0.5904806871807238,
          0.49983612437964137,
          0.3988769650505499,
          0.28760320919344934,
          0.16525134236514508,
          -0.09886099025152363,
          0.057153396643261016,
          0.20632113442669836,
          0.3491141009755841,
          0.48553229628991856,
          0.6151038424929062,
          0.5505953366644687,
          0.45492187639283244,
          0.3493701331362497,
          0.23434754282353146,
          0.10944666952586693,
          0.40517567459343745,
          0.30308327649267564,
          0.18777641968358616,
          0.06454689111249062,
          0.25261348027009434,
          0.13999744795950264,
          0.019106874439543772,
          0.09320335188186868,
          -0.026851098029777167,
          -0.0733493087586688,
          0.37530120937606476,
          0.4708811046225682,
          0.552017585990129,
          0.619706107950567,
          0.673946670503883,
          0.7137438191782559,
          -0.18776111147111907,
          -0.11265666688267159,
          -0.0375522222942238,
          0.03755222229422385,
          0.11265666688267151,
          0.18776111147111915,
          0.2967719490517548,
          0.39040439484303224,
          0.47072724016745066,
          0.5382894477786156,
          0.592542054922921,
          0.22060374313199144,
          0.31032073686653305,
          0.38762873706362033,
          0.44897984139020725,
          0.1404639814707446,
          0.22454290853044737,
          0.29701953444585927,
          0.05651647335600602,
          0.13700751867863814,
          -0.031402590500216467,
          -0.6151038424929062,
          -0.4855322962899186,
          -0.34911410097558404,
          -0.20632113442669814,
          -0.057153396643260794,
          0.0988609902515234,
          -0.3753012093760642,
          -0.4708811046225684,
          -0.5520175859901291,
          -0.6197061079505671,
          -0.673946670503883,
          -0.7137438191782558,
          -0.5925420549229212,
          -0.44897984139020714,
          -0.2970195344458591,
          -0.13700751867863828,
          0.031402590500216036,
          -0.5382894477786155,
          -0.3876287370636203,
          -0.22454290853044737,
          -0.056516473356005785,
          -0.47072724016745066,
          -0.31032073686653305,
          -0.1404639814707445,
          -0.39040439484303224,
          -0.22060374313199163,
          -0.29677194905175486,
          -0.8296499739369947,
          -0.8953415486279597,
          -0.9376631887492127,
          -0.9582255734704128,
          -0.9570287027915596,
          -0.9324618975429952,
          -0.5027259504678154,
          -0.6299298031457873,
          -0.7363146899660756,
          -0.8227393021307876,
          -0.8883449484378162,
          -0.6054782743991135,
          -0.7254301096394831,
          -0.8262226947564213,
          -0.90323034745342,
          -0.6887563238313263,
          -0.8027381098365702,
          -0.8928702429411902,
          -0.7533633273346967,
          -0.8583059014040028,
          -0.7984960563389819,
          -0.8026439403978516,
          -0.8437567340298152,
          -0.863579464671489,
          -0.863579464671489,
          -0.8437567340298152,
          -0.8026439403978516,
          -0.9736848031735331,
          -0.9923491483146094,
          -0.9832135730056951,
          -0.9474247022651925,
          -0.8838359110746992,
          -0.9923491483146094,
          -0.9982289356078097,
          -0.9747443506879587,
          -0.9229731735185187,
          -0.9832135730056951,
          -0.9747443506879587,
          -0.9356552068709462,
          -0.9474247022651925,
          -0.9229731735185187,
          -0.8838359110746989,
          -0.6700471390106026,
          -0.5904806871807234,
          -0.49983612437964164,
          -0.3988769650505499,
          -0.2876032091934492,
          -0.1652513423651451,
          -0.7306248404802901,
          -0.6429232920196404,
          -0.5399547660132339,
          -0.42234895845033915,
          -0.28947617334168846,
          -0.7629777419312861,
          -0.6659406810382676,
          -0.5506338242291782,
          -0.42234895845033915,
          -0.7734613718437844,
          -0.6659406810382676,
          -0.5399547660132339,
          -0.762977741931286,
          -0.6429232920196404,
          -0.7306248404802902,
          0.022288755539799827,
          0.07062122854644746,
          0.11558839864535522,
          0.15742220586514963,
          0.19612265020583075,
          0.23145779163877278,
          0.07334930875866895,
          -0.0932033518818686,
          -0.2526134802700942,
          -0.40517567459343745,
          -0.5505953366644685,
          0.026851098029777237,
          -0.13999744795950264,
          -0.3030832764926756,
          -0.45492187639283255,
          -0.019106874439543706,
          -0.18777641968358616,
          -0.34937013313624976,
          -0.06454689111249082,
          -0.23434754282353146,
          -0.10944666952586679,
          0.4023072429152075,
          0.5224659192207126,
          0.6261013100678523,
          0.7143522167494908,
          0.7872186392656274,
          0.8435617763233993,
          0.18184718662591096,
          0.3445883633740862,
          0.4933794583987009,
          0.6287958515013544,
          0.750262162880447,
          0.23964578930477992,
          0.39933919394075224,
          0.5479107507817741,
          0.6785420533007496,
          0.28926553928883714,
          0.4471181656648357,
          0.5901361112648564,
          0.3310437784470479,
          0.485732554315749,
          0.36464316491044657,
          0.9324618975429951,
          0.9570287027915597,
          0.9582255734704127,
          0.9376631887492127,
          0.8953415486279597,
          0.8296499739369952,
          0.7984960563389821,
          0.7533633273346968,
          0.6887563238313266,
          0.6054782743991134,
          0.5027259504678159,
          0.858305901404003,
          0.8027381098365702,
          0.7254301096394831,
          0.6299298031457872,
          0.8928702429411902,
          0.8262226947564213,
          0.7363146899660756,
          0.9032303474534199,
          0.8227393021307876,
          0.8883449484378162,
          0.932461897542995,
          0.9570287027915596,
          0.9582255734704127,
          0.9376631887492128,
          0.8953415486279597,
          0.8296499739369951,
          0.8026439403978516,
          0.8437567340298152,
          0.863579464671489,
          0.863579464671489,
          0.8437567340298152,
          0.8026439403978516,
          0.9736848031735331,
          0.9923491483146094,
          0.9832135730056951,
          0.9474247022651925,
          0.8838359110746992,
          0.9923491483146094,
          0.9982289356078097,
          0.9747443506879587,
          0.9229731735185187,
          0.9832135730056951,
          0.9747443506879587,
          0.9356552068709462,
          0.9474247022651925,
          0.9229731735185187,
          0.8838359110746989,
          0.6700471390106025,
          0.5904806871807234,
          0.4998361243796412,
          0.3988769650505498,
          0.28760320919344934,
          0.16525134236514502,
          0.289476173341688,
          0.42234895845033943,
          0.5399547660132339,
          0.6429232920196404,
          0.7306248404802901,
          0.4223489584503392,
          0.5506338242291782,
          0.6659406810382676,
          0.7629777419312861,
          0.5399547660132338,
          0.6659406810382676,
          0.7734613718437844,
          0.6429232920196404,
          0.7629777419312861,
          0.7306248404802901,
          0.6151038424929064,
          0.4855322962899185,
          0.3491141009755839,
          0.20632113442669803,
          0.05715339664326076,
          -0.09886099025152345,
          -0.07334930875866895,
          -0.0268510980297771,
          0.019106874439543703,
          0.06454689111249062,
          0.10944666952586686,
          0.09320335188186854,
          0.1399974479595026,
          0.18777641968358616,
          0.23434754282353146,
          0.252613480270094,
          0.30308327649267564,
          0.3493701331362497,
          0.40517567459343734,
          0.4549218763928327,
          0.5505953366644688,
          0.7137438191782558,
          0.6739466705038831,
          0.6197061079505671,
          0.5520175859901288,
          0.4708811046225682,
          0.37530120937606454,
          0.2967719490517548,
          0.22060374313199163,
          0.14046398147074443,
          0.05651647335600575,
          -0.03140259050021606,
          0.3904043948430324,
          0.31032073686653305,
          0.22454290853044737,
          0.13700751867863822,
          0.4707272401674505,
          0.38762873706362033,
          0.2970195344458591,
          0.5382894477786153,
          0.4489798413902073,
          0.5925420549229212,
          0.798496056338982,
          0.8583059014040028,
          0.8928702429411902,
          0.90323034745342,
          0.8883449484378162,
          0.7533633273346967,
          0.8027381098365702,
          0.8262226947564213,
          0.8227393021307876,
          0.6887563238313267,
          0.7254301096394831,
          0.7363146899660756,
          0.6054782743991136,
          0.6299298031457871,
          0.5027259504678157
         ],
         "z": [
          -0.42532540417601994,
          -0.42532540417601994,
          0.42532540417601994,
          0.42532540417601994,
          0.9995507658422014,
          0.4738196537230679,
          -0.4738196537230679,
          -0.9995507658422014,
          -0.4552964986550147,
          0.4552964986550147,
          -0.4552964986550147,
          0.4552964986550147,
          0.6148828289267324,
          0.7311000671471437,
          0.8260272423772653,
          0.9011316869657129,
          0.9564134009124867,
          0.9904050518689707,
          0.49953663161139544,
          0.5281087688855223,
          0.5432552657729897,
          0.5459014307827117,
          0.5360472639146879,
          0.5127674566600048,
          0.5981766082967446,
          0.7165231430994867,
          0.8138472727479726,
          0.8915978823461423,
          0.9497749718939953,
          0.9869296562875925,
          0.6431431060015089,
          0.7609318228369095,
          0.8545582893573653,
          0.9250190926128952,
          0.9713176455534801,
          0.6684755590602195,
          0.7774536016950704,
          0.863231430031156,
          0.9218724352246134,
          0.6747303166486689,
          0.7744313799184939,
          0.8484380223702602,
          0.6626942501882703,
          0.7520038565766786,
          0.6315804882576105,
          0.9813063481125714,
          0.9390337681101725,
          0.8761718624295767,
          0.7941396679058365,
          0.6929371845389519,
          0.5711453754938705,
          0.49043792785499635,
          0.5107291360832081,
          0.5182954412368536,
          0.5140138563112827,
          0.4978843813064959,
          0.4690300032271425,
          0.9625833261149677,
          0.9076599515518493,
          0.8292888098139762,
          0.7284370186496394,
          0.6041374603105483,
          0.9127513501570402,
          0.8456270240046131,
          0.7519369163359104,
          0.6359807548729491,
          0.8391916098193364,
          0.7568269738919511,
          0.6494608371052798,
          0.7428827715091054,
          0.6453351091272242,
          0.6228461688190982,
          -0.32521178475358203,
          -0.1951270708521493,
          -0.06504235695071645,
          0.06504235695071628,
          0.19512707085214914,
          0.32521178475358187,
          0.2981805519507078,
          0.17154111229161406,
          0.045334752108579714,
          -0.08046837686728231,
          -0.20586827463597196,
          -0.33083509292860297,
          -0.2076019528300637,
          -0.0621060282700177,
          0.08109691751358096,
          0.22210145985725038,
          0.3608130234244724,
          -0.0671974268752087,
          0.08011605640433467,
          0.22868761324535647,
          0.3716988371207609,
          0.07119411750822084,
          0.22379755568931584,
          0.37206468948424026,
          0.20765570699778443,
          0.3623444828664857,
          0.3421043149159224,
          0.2947051563693293,
          0.16490268327312294,
          0.03580094748900941,
          -0.0926483464965745,
          -0.22044519868362913,
          -0.34754131355859064,
          -0.4995366316113948,
          -0.5281087688855223,
          -0.5432552657729897,
          -0.5459014307827117,
          -0.536047263914688,
          -0.5127674566600047,
          0.17476081860140133,
          0.02975539236865724,
          -0.11208099428744453,
          -0.25087905037628494,
          -0.38650806688848294,
          0.03290204975693919,
          -0.1134906412630753,
          -0.2601943623246328,
          -0.40047642763979535,
          -0.10596072730033923,
          -0.2571721405480564,
          -0.40304876625810376,
          -0.24195108411605387,
          -0.394695118767846,
          -0.3749454491445847,
          -0.9869296562875925,
          -0.9497749718939953,
          -0.8915978823461425,
          -0.8138472727479731,
          -0.7165231430994867,
          -0.598176608296745,
          -0.6148828289267323,
          -0.7311000671471439,
          -0.8260272423772654,
          -0.901131686965713,
          -0.9564134009124867,
          -0.9904050518689708,
          -0.9713176455534801,
          -0.9218724352246134,
          -0.8484380223702601,
          -0.7520038565766786,
          -0.6315804882576109,
          -0.9250190926128952,
          -0.863231430031156,
          -0.774431379918494,
          -0.6626942501882702,
          -0.8545582893573653,
          -0.7774536016950704,
          -0.6747303166486689,
          -0.7609318228369095,
          -0.6684755590602194,
          -0.643143106001509,
          -0.5127674566600045,
          -0.5360472639146878,
          -0.5459014307827117,
          -0.5432552657729898,
          -0.5281087688855224,
          -0.49953663161139517,
          -0.9869296562875928,
          -0.9497749718939953,
          -0.8915978823461427,
          -0.813847272747973,
          -0.7165231430994867,
          -0.5981766082967451,
          -0.643143106001509,
          -0.6684755590602195,
          -0.6747303166486688,
          -0.6626942501882701,
          -0.6315804882576108,
          -0.7609318228369096,
          -0.7774536016950704,
          -0.774431379918494,
          -0.7520038565766786,
          -0.8545582893573652,
          -0.863231430031156,
          -0.8484380223702601,
          -0.9250190926128952,
          -0.9218724352246135,
          -0.9713176455534801,
          -0.5711453754938703,
          -0.6929371845389518,
          -0.7941396679058365,
          -0.8761718624295767,
          -0.9390337681101725,
          -0.9813063481125714,
          -0.4904379278549961,
          -0.5107291360832078,
          -0.5182954412368534,
          -0.5140138563112827,
          -0.49788438130649604,
          -0.46903000322714267,
          -0.604137460310548,
          -0.7284370186496395,
          -0.8292888098139763,
          -0.9076599515518493,
          -0.9625833261149674,
          -0.6359807548729492,
          -0.7519369163359104,
          -0.8456270240046131,
          -0.9127513501570402,
          -0.6494608371052798,
          -0.7568269738919511,
          -0.8391916098193363,
          -0.6453351091272244,
          -0.7428827715091053,
          -0.622846168819098,
          0.3308350929286031,
          0.20586827463597207,
          0.08046837686728224,
          -0.04533475210857974,
          -0.17154111229161423,
          -0.2981805519507073,
          -0.3252117847535824,
          -0.19512707085214898,
          -0.06504235695071622,
          0.06504235695071643,
          0.1951270708521491,
          0.32521178475358187,
          0.2076019528300637,
          0.06719742687520862,
          -0.071194117508221,
          -0.20765570699778443,
          -0.34210431491592236,
          0.06210602827001775,
          -0.08011605640433467,
          -0.22379755568931584,
          -0.36234448286648574,
          -0.08109691751358077,
          -0.22868761324535647,
          -0.37206468948424026,
          -0.2221014598572504,
          -0.37169883712076074,
          -0.3608130234244726,
          0.4690300032271427,
          0.4978843813064961,
          0.5140138563112829,
          0.5182954412368536,
          0.5107291360832081,
          0.49043792785499607,
          -0.33083509292860314,
          -0.20586827463597193,
          -0.08046837686728213,
          0.04533475210857998,
          0.1715411122916143,
          0.2981805519507074,
          0.34210431491592247,
          0.3623444828664857,
          0.3720646894842403,
          0.3716988371207609,
          0.36081302342447247,
          0.20765570699778438,
          0.22379755568931578,
          0.22868761324535647,
          0.22210145985725047,
          0.07119411750822115,
          0.08011605640433465,
          0.08109691751358097,
          -0.06719742687520859,
          -0.062106028270017904,
          -0.2076019528300637,
          0.29470515636932954,
          0.1649026832731229,
          0.03580094748900981,
          -0.09264834649657439,
          -0.22044519868362897,
          -0.34754131355859047,
          -0.3749454491445849,
          -0.3946951187678461,
          -0.4030487662581039,
          -0.40047642763979535,
          -0.3865080668884831,
          -0.24195108411605393,
          -0.2571721405480565,
          -0.2601943623246328,
          -0.25087905037628494,
          -0.10596072730033952,
          -0.11349064126307523,
          -0.11208099428744453,
          0.03290204975693906,
          0.02975539236865761,
          0.17476081860140155,
          0.4634066950521212,
          0.4871431775226733,
          0.49858783639471704,
          0.49858783639471727,
          0.48714317752267344,
          0.46340669505212173,
          -0.2278988900124746,
          -0.08524647820301279,
          0.05582743797019194,
          0.19538796454192947,
          0.3333699954774098,
          -0.0852464782030129,
          0.05948942860121535,
          0.2061931496627729,
          0.34813199919372173,
          0.055827437970191754,
          0.2061931496627729,
          0.35291547692795644,
          0.19538796454192944,
          0.3481319991937216,
          0.3333699954774099,
          0.57114537549387,
          0.6929371845389518,
          0.7941396679058363,
          0.8761718624295767,
          0.9390337681101725,
          0.9813063481125714,
          0.5987393540289483,
          0.7227998780636,
          0.8235742125835017,
          0.9020228109658099,
          0.9571852198333679,
          0.6252522156817188,
          0.7410567950597533,
          0.8347469027284561,
          0.9020228109658099,
          0.6338434398694452,
          0.7410567950597533,
          0.8235742125835017,
          0.6252522156817191,
          0.7227998780636,
          0.5987393540289483,
          0.9869296562875927,
          0.9497749718939952,
          0.8915978823461423,
          0.8138472727479727,
          0.7165231430994866,
          0.598176608296745,
          0.6228461688190982,
          0.6453351091272245,
          0.6494608371052798,
          0.6359807548729492,
          0.6041374603105483,
          0.7428827715091053,
          0.7568269738919511,
          0.7519369163359105,
          0.7284370186496394,
          0.839191609819336,
          0.8456270240046131,
          0.8292888098139762,
          0.9127513501570401,
          0.9076599515518493,
          0.9625833261149677,
          0.49953663161139555,
          0.5281087688855224,
          0.5432552657729898,
          0.5459014307827116,
          0.5360472639146878,
          0.5127674566600047,
          0.9713176455534801,
          0.9250190926128952,
          0.8545582893573652,
          0.7609318228369095,
          0.6431431060015093,
          0.9218724352246133,
          0.863231430031156,
          0.7774536016950704,
          0.6684755590602193,
          0.8484380223702602,
          0.774431379918494,
          0.6747303166486689,
          0.7520038565766787,
          0.6626942501882702,
          0.6315804882576107,
          0.34754131355859086,
          0.22044519868362877,
          0.09264834649657437,
          -0.03580094748900953,
          -0.1649026832731227,
          -0.29470515636932904,
          -0.17476081860140125,
          -0.03290204975693908,
          0.1059607273003395,
          0.24195108411605395,
          0.3749454491445847,
          -0.029755392368657374,
          0.11349064126307536,
          0.2571721405480564,
          0.3946951187678462,
          0.11208099428744443,
          0.2601943623246327,
          0.40304876625810376,
          0.2508790503762849,
          0.40047642763979513,
          0.38650806688848305,
          0.34754131355859075,
          0.22044519868362922,
          0.09264834649657464,
          -0.0358009474890093,
          -0.16490268327312285,
          -0.2947051563693293,
          -0.4634066950521212,
          -0.4871431775226733,
          -0.49858783639471704,
          -0.49858783639471727,
          -0.48714317752267344,
          -0.46340669505212173,
          0.2278988900124746,
          0.08524647820301279,
          -0.05582743797019194,
          -0.19538796454192947,
          -0.3333699954774098,
          0.0852464782030129,
          -0.05948942860121535,
          -0.2061931496627729,
          -0.34813199919372173,
          -0.055827437970191754,
          -0.2061931496627729,
          -0.35291547692795644,
          -0.19538796454192944,
          -0.3481319991937216,
          -0.3333699954774099,
          -0.5711453754938701,
          -0.6929371845389518,
          -0.7941396679058366,
          -0.8761718624295768,
          -0.9390337681101725,
          -0.9813063481125716,
          -0.957185219833368,
          -0.9020228109658099,
          -0.8235742125835017,
          -0.7227998780636,
          -0.5987393540289486,
          -0.9020228109658098,
          -0.8347469027284561,
          -0.7410567950597534,
          -0.6252522156817188,
          -0.8235742125835018,
          -0.7410567950597534,
          -0.6338434398694452,
          -0.7227998780636001,
          -0.625252215681719,
          -0.5987393540289483,
          -0.46903000322714256,
          -0.4978843813064957,
          -0.5140138563112826,
          -0.5182954412368534,
          -0.510729136083208,
          -0.490437927854996,
          -0.622846168819098,
          -0.7428827715091054,
          -0.8391916098193364,
          -0.9127513501570402,
          -0.9625833261149676,
          -0.6453351091272242,
          -0.7568269738919511,
          -0.8456270240046131,
          -0.9076599515518493,
          -0.6494608371052798,
          -0.7519369163359104,
          -0.8292888098139763,
          -0.6359807548729492,
          -0.7284370186496393,
          -0.6041374603105478,
          -0.2981805519507078,
          -0.17154111229161406,
          -0.045334752108579714,
          0.08046837686728231,
          0.20586827463597196,
          0.33083509292860297,
          0.2076019528300637,
          0.0621060282700177,
          -0.08109691751358096,
          -0.22210145985725038,
          -0.3608130234244724,
          0.0671974268752087,
          -0.08011605640433467,
          -0.22868761324535647,
          -0.3716988371207609,
          -0.07119411750822084,
          -0.22379755568931584,
          -0.37206468948424026,
          -0.20765570699778443,
          -0.3623444828664857,
          -0.3421043149159224,
          -0.17476081860140133,
          -0.02975539236865724,
          0.11208099428744453,
          0.25087905037628494,
          0.38650806688848294,
          -0.03290204975693919,
          0.1134906412630753,
          0.2601943623246328,
          0.40047642763979535,
          0.10596072730033923,
          0.2571721405480564,
          0.40304876625810376,
          0.24195108411605387,
          0.394695118767846,
          0.3749454491445847
         ]
        },
        {
         "hovertemplate": "x=%{x}<br>y=%{y}<br>z=%{z}<extra></extra>",
         "legendgroup": "",
         "line": {
          "color": "#636efa",
          "dash": "solid"
         },
         "marker": {
          "size": 1,
          "symbol": "circle"
         },
         "mode": "lines",
         "name": "",
         "scene": "scene",
         "showlegend": false,
         "type": "scatter3d",
         "x": [
          -0.4378270643695713,
          -0.5593486084198627,
          -0.57000018986427,
          -0.6694254935981104,
          -0.7672105551778501,
          -0.6842086298318452,
          -0.5700001898642704,
          -0.4475951113786317,
          -0.4432588069924612,
          -0.3045014102455522,
          -0.3088036696496912,
          -0.15999543158723276,
          -0.153211070594409,
          1.8144394064905023e-16,
          1.2715853947696653e-16,
          6.507296417384613e-17,
          -0.16219383502716186,
          -0.3088036696496912,
          -0.15999543158723253,
          -0.15321107059440922,
          -0.15960283492639313,
          -0.3048608614472362,
          -0.30450141024555205,
          -0.44325880699246123,
          -0.4378270643695715,
          -0.5593486084198631,
          -0.6688828046298886,
          -0.6694254935981103,
          -0.7672105551778502,
          -0.7788982789119495,
          -0.758192411018297,
          -0.6384462750728352,
          -0.5435001098049405,
          -0.4033840250111705,
          -0.4996548333438947,
          -0.3481876527412594,
          -0.2479007196745133,
          -0.09863997668534953,
          -0.18841437421396426,
          -0.2705920069749831,
          -0.43614284356123256,
          -0.5854326616799804,
          -0.5122749225172449,
          -0.5760752592264845,
          -0.633765034553981,
          -0.7185885694265436,
          -0.6567809011755645,
          -0.7172078155265319,
          -0.7835235159330022,
          -0.8299406153948461,
          -0.8794016505536938,
          -0.9181878426055297,
          -0.8578398678120749,
          -0.8658505318631996,
          -0.9321093495063585,
          -0.9733842148754407,
          -0.9472499447225263,
          -0.9867589167974019,
          -0.9971756727894342,
          -0.9742863550453466,
          -0.9268133901042431,
          -0.9321093495063584,
          -0.9733842148754408,
          -0.9472499447225263,
          -0.9181878426055295,
          -0.8794016505536938,
          -0.8942363313296715,
          -0.816776332762797,
          -0.7292863298208935,
          -0.6337650345539809,
          -0.7185885694265435,
          -0.8167763327627972,
          -0.7835235159330023,
          -0.829940615394846,
          -0.7581924110182969,
          -0.8578398678120749,
          -0.8658505318631998,
          -0.7788982789119495,
          -0.6688828046298887,
          -0.6384462750728352,
          -0.7172078155265319,
          -0.6567809011755644,
          -0.5854326616799804,
          -0.512274922517245,
          -0.5760752592264846,
          -0.4741621996275879,
          -0.41372770797930725,
          -0.34569645156343076,
          -0.4361428435612324,
          -0.4996548333438947,
          -0.3481876527412593,
          -0.24790071967451363,
          -0.15960283492639307,
          -0.3048608614472362,
          -0.4033840250111704,
          -0.5435001098049405,
          -0.4378270643695715,
          -0.5593486084198631,
          -0.4432588069924613,
          -0.5700001898642704,
          -0.6694254935981104,
          -0.7672105551778504,
          -0.6842086298318448,
          -0.5700001898642704,
          -0.44759511137863167,
          -0.4432588069924613,
          -0.43782706436957136,
          -0.3048608614472361,
          -0.1596028349263931,
          -0.15321107059440897,
          -0.30450141024555216,
          -0.3088036696496912,
          -0.15999543158723267,
          -0.1621938350271619,
          -0.3088036696496912,
          -0.30450141024555194,
          -0.15321107059440897,
          -3.628878812981005e-16,
          1.2715853947696653e-16,
          -0.1599954315872328,
          0,
          0,
          0.15999543158723278,
          -1.2715853947696653e-16,
          -1.2096262709936685e-16,
          0.15321107059440892,
          0.30450141024555194,
          0.30880366964969114,
          0.16219383502716186,
          0.15999543158723262,
          0.3088036696496912,
          0.3045014102455521,
          0.15321107059440897,
          0.1596028349263931,
          0.3048608614472362,
          0.4378270643695714,
          0.44325880699246134,
          0.4475951113786317,
          0.5700001898642704,
          0.6842086298318448,
          0.76721055517785,
          0.6694254935981104,
          0.5700001898642704,
          0.4432588069924613,
          0.5593486084198628,
          0.4378270643695711,
          0.5435001098049405,
          0.4033840250111704,
          0.3048608614472362,
          0.15960283492639246,
          0.24790071967451363,
          0.3481876527412593,
          0.4996548333438947,
          0.4361428435612324,
          0.34569645156343076,
          0.41372770797930725,
          0.4741621996275878,
          0.5760752592264846,
          0.512274922517245,
          0.5854326616799804,
          0.6567809011755645,
          0.7172078155265319,
          0.6384462750728352,
          0.6688828046298887,
          0.7788982789119494,
          0.8658505318631997,
          0.8578398678120749,
          0.7581924110182969,
          0.8299406153948461,
          0.7835235159330022,
          0.8794016505536938,
          0.816776332762797,
          0.7185885694265435,
          0.6337650345539809,
          0.7292863298208939,
          0.816776332762797,
          0.8942363313296715,
          0.8794016505536938,
          0.829940615394846,
          0.8578398678120749,
          0.8658505318631997,
          0.9321093495063585,
          0.9181878426055297,
          0.9472499447225263,
          0.9733842148754408,
          0.9867589167974019,
          0.9472499447225263,
          0.9181878426055295,
          0.9321093495063584,
          0.926813390104243,
          0.9742863550453467,
          0.9733842148754408,
          0.9971756727894342,
          0.9971756727894342,
          0.9867589167974019,
          0.9733842148754408,
          0.9742863550453467,
          0.9268133901042431,
          0.9321093495063585,
          0.9181878426055297,
          0.9472499447225263,
          0.8794016505536938,
          0.7835235159330022,
          0.7185885694265435,
          0.6337650345539809,
          0.7292863298208936,
          0.8167763327627973,
          0.8942363313296715,
          0.8167763327627972,
          0.8794016505536938,
          0.9472499447225263,
          0.9733842148754407,
          0.9321093495063584,
          0.8658505318631999,
          0.8578398678120747,
          0.9181878426055297,
          0.829940615394846,
          0.7835235159330022,
          0.6567809011755645,
          0.7185885694265435,
          0.6337650345539809,
          0.5760752592264847,
          0.512274922517245,
          0.5854326616799805,
          0.717207815526532,
          0.758192411018297,
          0.6384462750728352,
          0.6688828046298886,
          0.7788982789119494,
          0.7672105551778501,
          0.6694254935981104,
          0.5593486084198627,
          0.5435001098049405,
          0.4996548333438947,
          0.4033840250111703,
          0.2479007196745136,
          0.09863997668534959,
          0.18841437421396426,
          0.3481876527412591,
          0.4361428435612324,
          0.2705920069749831,
          0.34569645156343104,
          0.2533968761643939,
          0.41372770797930736,
          0.4741621996275885,
          0.3281745395519713,
          0.16408726977598578,
          0.0857778283360857,
          0.17370770572159122,
          0.08930960638840837,
          -9.777565845670851e-18,
          -0.08930960638840829,
          -2.387508184972496e-17,
          -0.09863997668534959,
          -0.18841437421396431,
          -0.2705920069749832,
          -0.17370770572159142,
          -0.0857778283360857,
          -0.25339687616439405,
          -0.32817453955197085,
          -0.375522222942238,
          -0.22531333376534288,
          -0.1640872697759857,
          -4.058530296748476e-17,
          -0.07510444458844752,
          0.07510444458844803,
          0.16408726977598556,
          0.22531333376534293,
          0.3755222229422387,
          0.32817453955197123,
          0.25339687616439405,
          0.08577782833608572,
          -1.6169139567224038e-16,
          -0.16408726977598556,
          -0.0857778283360857,
          -0.2533968761643939,
          -0.3281745395519712,
          -0.47416219962758793,
          -0.4137277079793073,
          -0.34569645156343076,
          -0.1737077057215914,
          -2.804993056193322e-17,
          -0.08930960638840844,
          -1.0377197172221259e-16,
          0.0986399766853497,
          0.18841437421396437,
          0.0893096063884083,
          0.1737077057215913,
          0.27059200697498315,
          0.34569645156343093,
          0.43614284356123256,
          0.5122749225172449,
          0.4137277079793073,
          0.47416219962758777,
          0.5760752592264845,
          0.6567809011755645,
          0.5854326616799804,
          0.7172078155265319,
          0.829940615394846,
          0.8578398678120749,
          0.8658505318631998,
          0.7788982789119495,
          0.7581924110182968,
          0.6384462750728352,
          0.6688828046298886,
          0.5435001098049408,
          0.4996548333438947,
          0.3481876527412593,
          0.24790071967451335,
          0.15960283492639285,
          0.30486086144723623,
          0.4033840250111706,
          0.4378270643695716,
          0.559348608419863,
          0.5700001898642701,
          0.6694254935981104,
          0.7672105551778502,
          0.6842086298318452,
          0.5700001898642704,
          0.4475951113786317,
          0.4432588069924612,
          0.30450141024555216,
          0.3088036696496912,
          0.15999543158723278,
          0.153211070594409,
          6.048131354968341e-17,
          6.357926973848326e-17,
          6.507296417384613e-17,
          0.16219383502716184,
          0.3088036696496912,
          0.15999543158723253,
          0.1532110705944092,
          0.15960283492639316,
          0.3048608614472362,
          0.304501410245552,
          0.44325880699246123,
          0.43782706436957153,
          0.5593486084198631,
          0.5435001098049407,
          0.6688828046298886,
          0.6694254935981103,
          0.7672105551778502,
          0.7788982789119494,
          0.758192411018297,
          0.6384462750728352,
          0.7172078155265319,
          0.7835235159330023,
          0.7185885694265436,
          0.633765034553981,
          0.5760752592264845,
          0.6567809011755643,
          0.5854326616799804,
          0.5122749225172449,
          0.4361428435612326,
          0.4996548333438947,
          0.4033840250111704,
          0.2479007196745133,
          0.09863997668534978,
          0.18841437421396431,
          0.34818765274125946,
          0.27059200697498315,
          0.34569645156343076,
          0.2533968761643939,
          0.41372770797930736,
          0.47416219962758793,
          0.3281745395519713,
          0.16408726977598578,
          0.0857778283360857,
          0.17370770572159122,
          0.08930960638840837,
          -9.777565845670851e-18,
          -0.08930960638840829,
          -2.387508184972496e-17,
          -0.09863997668534986,
          -0.18841437421396445,
          -0.27059200697498315,
          -0.17370770572159142,
          -0.0857778283360857,
          -0.25339687616439405,
          -0.32817453955197085,
          -0.375522222942238,
          -0.22531333376534288,
          -0.1640872697759857,
          -4.058530296748476e-17,
          -0.07510444458844752,
          0.07510444458844803,
          4.058530296748475e-17,
          0.1640872697759857,
          0.22531333376534293,
          0.3755222229422387,
          0.3281745395519709,
          0.25339687616439405,
          0.0857778283360857,
          0.17370770572159142,
          0.2705920069749832,
          0.18841437421396431,
          0.09863997668534959,
          2.387508184972496e-17,
          0.08930960638840832,
          9.777565845670852e-18,
          -0.08930960638840837,
          -0.17370770572159125,
          -0.0857778283360857,
          -0.16408726977598578,
          -0.3281745395519713,
          -0.4741621996275878,
          -0.41372770797930736,
          -0.2533968761643939,
          -0.3456964515634307,
          -0.2705920069749831,
          -0.4361428435612324,
          -0.3481876527412591,
          -0.18841437421396431,
          -0.09863997668534955,
          -0.2479007196745136,
          -0.4033840250111703,
          -0.4996548333438947,
          -0.5435001098049405,
          -0.5593486084198628,
          -0.6694254935981104,
          -0.7672105551778501,
          -0.7788982789119494,
          -0.6688828046298886,
          -0.6384462750728351,
          -0.758192411018297,
          -0.717207815526532,
          -0.5854326616799805,
          -0.512274922517245,
          -0.5760752592264846,
          -0.6337650345539807,
          -0.7185885694265438,
          -0.6567809011755645,
          -0.7835235159330024,
          -0.8299406153948461,
          -0.8794016505536938,
          -0.9181878426055297,
          -0.8578398678120749,
          -0.8658505318631997,
          -0.9321093495063585,
          -0.9733842148754407,
          -0.9472499447225263,
          -0.9867589167974019,
          -0.9971756727894342,
          -0.9742863550453467,
          -0.926813390104243,
          -0.9321093495063584,
          -0.9733842148754408,
          -0.9472499447225263,
          -0.9181878426055295,
          -0.8794016505536938,
          -0.8942363313296715,
          -0.816776332762797,
          -0.7292863298208935,
          -0.6337650345539809,
          -0.7185885694265435,
          -0.8167763327627972,
          -0.7835235159330023,
          -0.829940615394846,
          -0.7581924110182969,
          -0.8578398678120749,
          -0.8658505318631998,
          -0.7788982789119495,
          -0.6688828046298887,
          -0.6384462750728352,
          -0.7172078155265319,
          -0.6567809011755644,
          -0.5854326616799804,
          -0.512274922517245,
          -0.5760752592264846,
          -0.474162199627588,
          -0.4137277079793073,
          -0.34569645156343076,
          -0.4361428435612324,
          -0.4996548333438947,
          -0.3481876527412593,
          -0.24790071967451363,
          -0.15960283492639302,
          -0.3048608614472362,
          -0.4033840250111704,
          -0.5435001098049405,
          -0.4378270643695713
         ],
         "y": [
          0.7143522167494909,
          0.6261013100678526,
          0.4857325543157491,
          0.5224659192207128,
          0.40230724291520764,
          0.36464316491044674,
          0.3310437784470479,
          0.44711816566483575,
          0.5901361112648565,
          0.6785420533007496,
          0.5479107507817741,
          0.6287958515013543,
          0.7502621628804473,
          0.7886184798057034,
          0.6822702483748224,
          0.5636301933454335,
          0.49337945839870084,
          0.39933919394075224,
          0.34458836337408616,
          0.18184718662591137,
          0.022288755539800302,
          0.07062122854644727,
          0.23964578930477984,
          0.2892655392888372,
          0.11558839864535501,
          0.15742220586514974,
          0.02685109802977697,
          0.19612265020583086,
          0.23145779163877336,
          0.07334930875866891,
          -0.09320335188186844,
          -0.13999744795950264,
          -0.019106874439543845,
          -0.06454689111249062,
          -0.18777641968358616,
          -0.2343475428235314,
          -0.10944666952586679,
          -0.16525134236514527,
          -0.28760320919344934,
          -0.3988769650505499,
          -0.34937013313624976,
          -0.30308327649267564,
          -0.45492187639283255,
          -0.5505953366644685,
          -0.6151038424929061,
          -0.48553229628991856,
          -0.40517567459343745,
          -0.25261348027009434,
          -0.349114100975584,
          -0.2063211344266978,
          -0.2970195344458591,
          -0.13700751867863822,
          -0.05715339664326097,
          0.09886099025152383,
          0.03140259050021606,
          -0.05651647335600575,
          -0.22454290853044737,
          -0.14046398147074443,
          -0.03755222229422379,
          -0.11265666688267141,
          -0.18776111147111899,
          -0.2967719490517548,
          -0.22060374313199163,
          -0.31032073686653305,
          -0.3904043948430324,
          -0.4707272401674505,
          -0.38762873706362033,
          -0.4489798413902073,
          -0.5925420549229212,
          -0.7137438191782558,
          -0.6739466705038831,
          -0.5382894477786153,
          -0.6197061079505671,
          -0.5520175859901288,
          -0.6054782743991136,
          -0.4708811046225682,
          -0.37530120937606454,
          -0.5027259504678157,
          -0.6299298031457871,
          -0.7254301096394831,
          -0.6887563238313267,
          -0.7533633273346967,
          -0.8027381098365702,
          -0.8583059014040028,
          -0.798496056338982,
          -0.8296499739369952,
          -0.8953415486279597,
          -0.9376631887492127,
          -0.8928702429411902,
          -0.8262226947564213,
          -0.90323034745342,
          -0.8883449484378162,
          -0.8435617763233992,
          -0.7872186392656273,
          -0.8227393021307876,
          -0.7363146899660756,
          -0.7143522167494907,
          -0.6261013100678524,
          -0.5901361112648564,
          -0.4857325543157491,
          -0.5224659192207126,
          -0.4023072429152079,
          -0.3646431649104469,
          -0.33104377844704785,
          -0.4471181656648357,
          -0.28926553928883725,
          -0.11558839864535508,
          -0.07062122854644727,
          -0.022288755539800125,
          -0.18184718662591107,
          -0.23964578930478014,
          -0.39933919394075224,
          -0.3445883633740863,
          -0.4933794583987007,
          -0.5479107507817741,
          -0.6785420533007493,
          -0.7502621628804471,
          -0.7886184798057035,
          -0.6822702483748223,
          -0.6287958515013543,
          -0.5636301933454333,
          -0.4335454794440006,
          -0.3445883633740863,
          -0.2920161066705241,
          -0.13819491029853967,
          -0.18184718662591107,
          -0.23964578930477998,
          -0.39933919394075224,
          -0.493379458398701,
          -0.6287958515013544,
          -0.5479107507817741,
          -0.6785420533007493,
          -0.7502621628804471,
          -0.8435617763233996,
          -0.7872186392656274,
          -0.7143522167494909,
          -0.5901361112648564,
          -0.4471181656648357,
          -0.4857325543157492,
          -0.3646431649104469,
          -0.2314577916387728,
          -0.19612265020583086,
          -0.3310437784470479,
          -0.28926553928883725,
          -0.15742220586514954,
          -0.11558839864535508,
          0.019106874439543772,
          0.06454689111249062,
          -0.07062122854644746,
          -0.02228875553980067,
          0.10944666952586693,
          0.23434754282353146,
          0.18777641968358616,
          0.3493701331362497,
          0.49983612437964137,
          0.5904806871807238,
          0.6700471390106021,
          0.5505953366644687,
          0.45492187639283244,
          0.30308327649267564,
          0.40517567459343745,
          0.25261348027009434,
          0.13999744795950264,
          -0.026851098029777167,
          -0.0733493087586688,
          -0.09886099025152363,
          0.057153396643261016,
          0.09320335188186868,
          0.20632113442669836,
          0.3491141009755841,
          0.29701953444585927,
          0.44897984139020725,
          0.48553229628991856,
          0.6151038424929062,
          0.592542054922921,
          0.5382894477786156,
          0.38762873706362033,
          0.47072724016745066,
          0.552017585990129,
          0.4708811046225682,
          0.37530120937606476,
          0.2967719490517548,
          0.39040439484303224,
          0.31032073686653305,
          0.22060374313199144,
          0.1404639814707446,
          0.22454290853044737,
          0.13700751867863814,
          -0.031402590500216467,
          -0.18776111147111907,
          -0.11265666688267159,
          0.05651647335600602,
          -0.0375522222942238,
          0.03755222229422385,
          -0.1404639814707445,
          -0.056516473356005785,
          0.11265666688267151,
          0.18776111147111915,
          0.031402590500216036,
          -0.13700751867863828,
          -0.22454290853044737,
          -0.2970195344458591,
          -0.34911410097558404,
          -0.4855322962899186,
          -0.6151038424929062,
          -0.5925420549229212,
          -0.44897984139020714,
          -0.3876287370636203,
          -0.5382894477786155,
          -0.47072724016745066,
          -0.31032073686653305,
          -0.22060374313199163,
          -0.29677194905175486,
          -0.3753012093760642,
          -0.4708811046225684,
          -0.39040439484303224,
          -0.5520175859901291,
          -0.6197061079505671,
          -0.7533633273346967,
          -0.673946670503883,
          -0.7137438191782558,
          -0.7984960563389819,
          -0.8583059014040028,
          -0.8027381098365702,
          -0.6887563238313263,
          -0.6054782743991135,
          -0.7254301096394831,
          -0.6299298031457873,
          -0.5027259504678154,
          -0.402307242915208,
          -0.5224659192207126,
          -0.6261013100678526,
          -0.7363146899660756,
          -0.8262226947564213,
          -0.8227393021307876,
          -0.8883449484378162,
          -0.9324618975429952,
          -0.9570287027915596,
          -0.90323034745342,
          -0.8928702429411902,
          -0.9582255734704128,
          -0.9376631887492127,
          -0.9474247022651925,
          -0.8953415486279597,
          -0.8296499739369947,
          -0.8838359110746989,
          -0.9229731735185187,
          -0.9747443506879587,
          -0.9832135730056951,
          -0.9923491483146094,
          -0.9982289356078097,
          -0.9923491483146094,
          -0.9736848031735331,
          -0.9324618975429951,
          -0.9570287027915597,
          -0.9582255734704127,
          -0.9832135730056951,
          -0.9747443506879587,
          -0.9474247022651925,
          -0.8838359110746992,
          -0.8026439403978516,
          -0.8437567340298152,
          -0.9229731735185187,
          -0.9356552068709462,
          -0.863579464671489,
          -0.863579464671489,
          -0.762977741931286,
          -0.8437567340298152,
          -0.8026439403978516,
          -0.7306248404802902,
          -0.6429232920196404,
          -0.6659406810382676,
          -0.7734613718437844,
          -0.7629777419312861,
          -0.6659406810382676,
          -0.6429232920196404,
          -0.7306248404802901,
          -0.6700471390106021,
          -0.5904806871807236,
          -0.4998361243796413,
          -0.5399547660132339,
          -0.5506338242291782,
          -0.42234895845033915,
          -0.28947617334168846,
          -0.1652513423651451,
          -0.2876032091934492,
          -0.42234895845033915,
          -0.5399547660132339,
          -0.3988769650505499,
          -0.49983612437964164,
          -0.34937013313624976,
          -0.45492187639283255,
          -0.5904806871807234,
          -0.6700471390106026,
          -0.5505953366644685,
          -0.40517567459343745,
          -0.3030832764926756,
          -0.2526134802700942,
          -0.20632113442669814,
          -0.057153396643260794,
          0.0988609902515234,
          0.07334930875866895,
          -0.0932033518818686,
          -0.13999744795950264,
          0.026851098029777237,
          -0.019106874439543706,
          -0.18777641968358616,
          -0.23434754282353146,
          -0.10944666952586679,
          0.022288755539799827,
          0.07062122854644746,
          -0.06454689111249082,
          0.11558839864535522,
          0.15742220586514963,
          0.3310437784470479,
          0.19612265020583075,
          0.23145779163877278,
          0.36464316491044657,
          0.485732554315749,
          0.4471181656648357,
          0.28926553928883714,
          0.23964578930477992,
          0.39933919394075224,
          0.3445883633740862,
          0.18184718662591096,
          0.1381949102985395,
          0.292016106670524,
          0.43354547944400074,
          0.4933794583987009,
          0.5479107507817741,
          0.6287958515013544,
          0.750262162880447,
          0.8435617763233993,
          0.7872186392656274,
          0.6785420533007496,
          0.5901361112648564,
          0.7143522167494908,
          0.6261013100678523,
          0.7363146899660756,
          0.6299298031457872,
          0.5224659192207126,
          0.4023072429152075,
          0.5027259504678159,
          0.6054782743991134,
          0.7254301096394831,
          0.6887563238313266,
          0.619706107950567,
          0.673946670503883,
          0.7137438191782559,
          0.7984960563389821,
          0.7533633273346968,
          0.8027381098365702,
          0.858305901404003,
          0.8928702429411902,
          0.8262226947564213,
          0.8227393021307876,
          0.8883449484378162,
          0.9324618975429951,
          0.9570287027915597,
          0.9032303474534199,
          0.9582255734704127,
          0.9376631887492127,
          0.9474247022651925,
          0.8953415486279597,
          0.8296499739369952,
          0.8838359110746989,
          0.9229731735185187,
          0.9747443506879587,
          0.9832135730056951,
          0.9923491483146094,
          0.9982289356078097,
          0.9923491483146094,
          0.9736848031735331,
          0.932461897542995,
          0.9570287027915596,
          0.9582255734704127,
          0.9832135730056951,
          0.9747443506879587,
          0.9474247022651925,
          0.8838359110746992,
          0.8026439403978516,
          0.8437567340298152,
          0.9229731735185187,
          0.9356552068709462,
          0.863579464671489,
          0.863579464671489,
          0.7734613718437844,
          0.7629777419312861,
          0.8437567340298152,
          0.8026439403978516,
          0.7306248404802901,
          0.6429232920196404,
          0.6659406810382676,
          0.5399547660132339,
          0.3988769650505499,
          0.28760320919344934,
          0.16525134236514508,
          0.289476173341688,
          0.42234895845033943,
          0.5506338242291782,
          0.4223489584503392,
          0.5399547660132338,
          0.6659406810382676,
          0.7629777419312861,
          0.7306248404802901,
          0.6700471390106025,
          0.5904806871807234,
          0.6429232920196404,
          0.4998361243796412,
          0.3988769650505498,
          0.3493701331362497,
          0.23434754282353146,
          0.28760320919344934,
          0.16525134236514502,
          0.10944666952586686,
          0.06454689111249062,
          0.18777641968358616,
          0.019106874439543703,
          -0.15742220586514963,
          -0.1961226502058309,
          -0.2314577916387729,
          -0.07334930875866895,
          -0.0268510980297771,
          0.1399974479595026,
          0.09320335188186854,
          0.252613480270094,
          0.30308327649267564,
          0.4549218763928327,
          0.5505953366644688,
          0.6151038424929064,
          0.4855322962899185,
          0.40517567459343734,
          0.3491141009755839,
          0.20632113442669803,
          0.2970195344458591,
          0.13700751867863822,
          0.05715339664326076,
          -0.09886099025152345,
          -0.03140259050021606,
          0.05651647335600575,
          0.22454290853044737,
          0.14046398147074443,
          0.037552222294223836,
          0.11265666688267155,
          0.18776111147111918,
          0.2967719490517548,
          0.22060374313199163,
          0.31032073686653305,
          0.3904043948430324,
          0.4707272401674505,
          0.38762873706362033,
          0.4489798413902073,
          0.5925420549229212,
          0.7137438191782558,
          0.6739466705038831,
          0.5382894477786153,
          0.6197061079505671,
          0.5520175859901288,
          0.6054782743991136,
          0.4708811046225682,
          0.37530120937606454,
          0.5027259504678157,
          0.6299298031457871,
          0.7254301096394831,
          0.6887563238313267,
          0.7533633273346967,
          0.8027381098365702,
          0.8583059014040028,
          0.798496056338982,
          0.8296499739369951,
          0.8953415486279597,
          0.9376631887492128,
          0.8928702429411902,
          0.8262226947564213,
          0.90323034745342,
          0.8883449484378162,
          0.8435617763233992,
          0.7872186392656273,
          0.8227393021307876,
          0.7363146899660756,
          0.7143522167494909
         ],
         "z": [
          0.5459014307827117,
          0.5432552657729897,
          0.6626942501882703,
          0.5281087688855223,
          0.49953663161139544,
          0.6315804882576105,
          0.7520038565766786,
          0.7744313799184939,
          0.6747303166486689,
          0.6684755590602195,
          0.7774536016950704,
          0.7609318228369095,
          0.6431431060015089,
          0.6148828289267324,
          0.7311000671471437,
          0.8260272423772653,
          0.8545582893573653,
          0.863231430031156,
          0.9250190926128952,
          0.9713176455534801,
          0.9869296562875925,
          0.9497749718939953,
          0.9218724352246134,
          0.8484380223702602,
          0.8915978823461423,
          0.8138472727479726,
          0.7428827715091054,
          0.7165231430994867,
          0.5981766082967446,
          0.6228461688190982,
          0.6453351091272242,
          0.7568269738919511,
          0.8391916098193364,
          0.9127513501570402,
          0.8456270240046131,
          0.9076599515518493,
          0.9625833261149677,
          0.9813063481125714,
          0.9390337681101725,
          0.8761718624295767,
          0.8292888098139762,
          0.7519369163359104,
          0.7284370186496394,
          0.6041374603105483,
          0.4690300032271425,
          0.4978843813064959,
          0.6359807548729491,
          0.6494608371052798,
          0.5140138563112827,
          0.5182954412368536,
          0.37206468948424026,
          0.3716988371207609,
          0.5107291360832081,
          0.49043792785499635,
          0.3608130234244724,
          0.22210145985725038,
          0.22868761324535647,
          0.08109691751358096,
          -0.06504235695071645,
          -0.1951270708521493,
          -0.32521178475358203,
          -0.2076019528300637,
          -0.0621060282700177,
          0.08011605640433467,
          -0.0671974268752087,
          0.07119411750822084,
          0.22379755568931584,
          0.3623444828664857,
          0.3421043149159224,
          0.2981805519507078,
          0.17154111229161406,
          0.20765570699778443,
          0.045334752108579714,
          -0.08046837686728231,
          -0.24195108411605387,
          -0.20586827463597196,
          -0.33083509292860297,
          -0.3749454491445847,
          -0.394695118767846,
          -0.2571721405480564,
          -0.10596072730033923,
          0.03290204975693919,
          -0.1134906412630753,
          0.02975539236865724,
          0.17476081860140133,
          0.2947051563693293,
          0.16490268327312294,
          0.03580094748900941,
          -0.11208099428744453,
          -0.2601943623246328,
          -0.25087905037628494,
          -0.38650806688848294,
          -0.5127674566600047,
          -0.536047263914688,
          -0.40047642763979535,
          -0.40304876625810376,
          -0.5459014307827117,
          -0.5432552657729897,
          -0.6747303166486689,
          -0.6626942501882702,
          -0.5281087688855223,
          -0.4995366316113948,
          -0.6315804882576109,
          -0.7520038565766786,
          -0.774431379918494,
          -0.8484380223702601,
          -0.8915978823461425,
          -0.9497749718939953,
          -0.9869296562875925,
          -0.9713176455534801,
          -0.9218724352246134,
          -0.863231430031156,
          -0.9250190926128952,
          -0.8545582893573653,
          -0.7774536016950704,
          -0.6684755590602194,
          -0.643143106001509,
          -0.6148828289267323,
          -0.7311000671471439,
          -0.7609318228369095,
          -0.8260272423772654,
          -0.901131686965713,
          -0.9250190926128952,
          -0.9564134009124867,
          -0.9904050518689708,
          -0.9713176455534801,
          -0.9218724352246135,
          -0.863231430031156,
          -0.8545582893573652,
          -0.7609318228369096,
          -0.7774536016950704,
          -0.6684755590602195,
          -0.643143106001509,
          -0.5127674566600045,
          -0.5360472639146878,
          -0.5459014307827117,
          -0.6747303166486688,
          -0.774431379918494,
          -0.6626942501882701,
          -0.6315804882576108,
          -0.5981766082967451,
          -0.7165231430994867,
          -0.7520038565766786,
          -0.8484380223702601,
          -0.813847272747973,
          -0.8915978823461427,
          -0.8391916098193363,
          -0.9127513501570402,
          -0.9497749718939953,
          -0.9869296562875928,
          -0.9625833261149674,
          -0.9076599515518493,
          -0.8456270240046131,
          -0.8292888098139763,
          -0.7941396679058365,
          -0.6929371845389518,
          -0.5711453754938703,
          -0.604137460310548,
          -0.7284370186496395,
          -0.7519369163359104,
          -0.6359807548729492,
          -0.6494608371052798,
          -0.7568269738919511,
          -0.7428827715091053,
          -0.622846168819098,
          -0.4904379278549961,
          -0.5107291360832078,
          -0.6453351091272244,
          -0.5182954412368534,
          -0.5140138563112827,
          -0.37206468948424026,
          -0.36234448286648574,
          -0.49788438130649604,
          -0.46903000322714267,
          -0.34210431491592236,
          -0.20765570699778443,
          -0.22379755568931584,
          -0.071194117508221,
          0.08046837686728224,
          0.20586827463597207,
          0.3308350929286031,
          0.2076019528300637,
          0.06719742687520862,
          -0.08011605640433467,
          0.06210602827001775,
          -0.08109691751358077,
          -0.22868761324535647,
          -0.37169883712076074,
          -0.3608130234244726,
          -0.3252117847535824,
          -0.19512707085214898,
          -0.2221014598572504,
          -0.06504235695071622,
          0.06504235695071643,
          0.08109691751358097,
          0.22210145985725047,
          0.1951270708521491,
          0.32521178475358187,
          0.36081302342447247,
          0.3716988371207609,
          0.22868761324535647,
          0.3720646894842403,
          0.5140138563112829,
          0.4978843813064961,
          0.4690300032271427,
          0.34210431491592247,
          0.3623444828664857,
          0.22379755568931578,
          0.20765570699778438,
          0.07119411750822115,
          0.08011605640433465,
          -0.062106028270017904,
          -0.2076019528300637,
          -0.33083509292860314,
          -0.20586827463597193,
          -0.06719742687520859,
          -0.08046837686728213,
          0.04533475210857998,
          0.03290204975693906,
          0.1715411122916143,
          0.2981805519507074,
          0.17476081860140155,
          0.02975539236865761,
          -0.11349064126307523,
          -0.10596072730033952,
          -0.24195108411605393,
          -0.2571721405480565,
          -0.3946951187678461,
          -0.3749454491445849,
          -0.49953663161139517,
          -0.5281087688855224,
          -0.5432552657729898,
          -0.4030487662581039,
          -0.2601943623246328,
          -0.40047642763979535,
          -0.3865080668884831,
          -0.34754131355859047,
          -0.22044519868362897,
          -0.25087905037628494,
          -0.11208099428744453,
          -0.09264834649657439,
          0.03580094748900981,
          0.19538796454192944,
          0.1649026832731229,
          0.29470515636932954,
          0.3333699954774099,
          0.3481319991937216,
          0.2061931496627729,
          0.055827437970191754,
          -0.0852464782030129,
          0.05948942860121535,
          -0.08524647820301279,
          -0.2278988900124746,
          -0.34754131355859064,
          -0.22044519868362913,
          -0.0926483464965745,
          0.05582743797019194,
          0.2061931496627729,
          0.19538796454192947,
          0.3333699954774098,
          0.46340669505212173,
          0.48714317752267344,
          0.34813199919372173,
          0.35291547692795644,
          0.49858783639471727,
          0.49858783639471704,
          0.6252522156817191,
          0.4871431775226733,
          0.4634066950521212,
          0.5987393540289483,
          0.7227998780636,
          0.7410567950597533,
          0.6338434398694452,
          0.6252522156817188,
          0.7410567950597533,
          0.7227998780636,
          0.5987393540289483,
          0.5711453754938705,
          0.6929371845389519,
          0.7941396679058365,
          0.8235742125835017,
          0.8347469027284561,
          0.9020228109658099,
          0.9571852198333679,
          0.9813063481125714,
          0.9390337681101725,
          0.9020228109658099,
          0.8235742125835017,
          0.8761718624295767,
          0.7941396679058363,
          0.8292888098139762,
          0.7284370186496394,
          0.6929371845389518,
          0.57114537549387,
          0.6041374603105483,
          0.6359807548729492,
          0.7519369163359105,
          0.6494608371052798,
          0.5182954412368536,
          0.5107291360832081,
          0.49043792785499607,
          0.6228461688190982,
          0.6453351091272245,
          0.7568269738919511,
          0.7428827715091053,
          0.839191609819336,
          0.8456270240046131,
          0.9076599515518493,
          0.9625833261149677,
          0.9869296562875927,
          0.9497749718939952,
          0.9127513501570401,
          0.8915978823461423,
          0.8138472727479727,
          0.7520038565766787,
          0.7165231430994866,
          0.598176608296745,
          0.6315804882576107,
          0.6626942501882702,
          0.774431379918494,
          0.8484380223702602,
          0.9218724352246133,
          0.863231430031156,
          0.9250190926128952,
          0.9713176455534801,
          0.9904050518689707,
          0.9564134009124867,
          0.9011316869657129,
          0.8545582893573652,
          0.7774536016950704,
          0.7609318228369095,
          0.6431431060015093,
          0.5127674566600047,
          0.5360472639146878,
          0.6684755590602193,
          0.6747303166486689,
          0.5459014307827116,
          0.5432552657729898,
          0.40304876625810376,
          0.3946951187678462,
          0.5281087688855224,
          0.49953663161139555,
          0.3749454491445847,
          0.24195108411605395,
          0.2571721405480564,
          0.1059607273003395,
          -0.04533475210857974,
          -0.17154111229161423,
          -0.2981805519507073,
          -0.17476081860140125,
          -0.03290204975693908,
          0.11349064126307536,
          -0.029755392368657374,
          0.11208099428744443,
          0.2601943623246327,
          0.40047642763979513,
          0.38650806688848305,
          0.34754131355859086,
          0.22044519868362877,
          0.2508790503762849,
          0.09264834649657437,
          -0.03580094748900953,
          -0.19538796454192944,
          -0.1649026832731227,
          -0.29470515636932904,
          -0.3333699954774099,
          -0.3481319991937216,
          -0.2061931496627729,
          -0.055827437970191754,
          0.0852464782030129,
          -0.05948942860121535,
          0.08524647820301279,
          0.2278988900124746,
          0.34754131355859075,
          0.22044519868362922,
          0.09264834649657464,
          -0.05582743797019194,
          -0.2061931496627729,
          -0.19538796454192947,
          -0.3333699954774098,
          -0.46340669505212173,
          -0.48714317752267344,
          -0.34813199919372173,
          -0.35291547692795644,
          -0.49858783639471727,
          -0.49858783639471704,
          -0.6338434398694452,
          -0.6252522156817188,
          -0.4871431775226733,
          -0.4634066950521212,
          -0.5987393540289486,
          -0.7227998780636,
          -0.7410567950597534,
          -0.8235742125835017,
          -0.8761718624295767,
          -0.9390337681101725,
          -0.9813063481125714,
          -0.957185219833368,
          -0.9020228109658099,
          -0.8347469027284561,
          -0.9020228109658098,
          -0.8235742125835018,
          -0.7410567950597534,
          -0.625252215681719,
          -0.5987393540289483,
          -0.5711453754938701,
          -0.6929371845389518,
          -0.7227998780636001,
          -0.7941396679058366,
          -0.8761718624295768,
          -0.8292888098139763,
          -0.9076599515518493,
          -0.9390337681101725,
          -0.9813063481125716,
          -0.9625833261149676,
          -0.9127513501570402,
          -0.8456270240046131,
          -0.8391916098193364,
          -0.8138472727479731,
          -0.7165231430994867,
          -0.598176608296745,
          -0.622846168819098,
          -0.7428827715091054,
          -0.7568269738919511,
          -0.6453351091272242,
          -0.6494608371052798,
          -0.7519369163359104,
          -0.7284370186496393,
          -0.6041374603105478,
          -0.46903000322714256,
          -0.4978843813064957,
          -0.6359807548729492,
          -0.5140138563112826,
          -0.5182954412368534,
          -0.37206468948424026,
          -0.3716988371207609,
          -0.510729136083208,
          -0.490437927854996,
          -0.3608130234244724,
          -0.22210145985725038,
          -0.22868761324535647,
          -0.08109691751358096,
          0.06504235695071628,
          0.19512707085214914,
          0.32521178475358187,
          0.2076019528300637,
          0.0621060282700177,
          -0.08011605640433467,
          0.0671974268752087,
          -0.07119411750822084,
          -0.22379755568931584,
          -0.3623444828664857,
          -0.3421043149159224,
          -0.2981805519507078,
          -0.17154111229161406,
          -0.20765570699778443,
          -0.045334752108579714,
          0.08046837686728231,
          0.24195108411605387,
          0.20586827463597196,
          0.33083509292860297,
          0.3749454491445847,
          0.394695118767846,
          0.2571721405480564,
          0.10596072730033923,
          -0.03290204975693919,
          0.1134906412630753,
          -0.02975539236865724,
          -0.17476081860140133,
          -0.2947051563693293,
          -0.16490268327312285,
          -0.0358009474890093,
          0.11208099428744453,
          0.2601943623246328,
          0.25087905037628494,
          0.38650806688848294,
          0.5127674566600048,
          0.5360472639146879,
          0.40047642763979535,
          0.40304876625810376,
          0.5459014307827117
         ]
        }
       ],
       "layout": {
        "height": 750,
        "template": {
         "data": {
          "bar": [
           {
            "error_x": {
             "color": "#2a3f5f"
            },
            "error_y": {
             "color": "#2a3f5f"
            },
            "marker": {
             "line": {
              "color": "#E5ECF6",
              "width": 0.5
             },
             "pattern": {
              "fillmode": "overlay",
              "size": 10,
              "solidity": 0.2
             }
            },
            "type": "bar"
           }
          ],
          "barpolar": [
           {
            "marker": {
             "line": {
              "color": "#E5ECF6",
              "width": 0.5
             },
             "pattern": {
              "fillmode": "overlay",
              "size": 10,
              "solidity": 0.2
             }
            },
            "type": "barpolar"
           }
          ],
          "carpet": [
           {
            "aaxis": {
             "endlinecolor": "#2a3f5f",
             "gridcolor": "white",
             "linecolor": "white",
             "minorgridcolor": "white",
             "startlinecolor": "#2a3f5f"
            },
            "baxis": {
             "endlinecolor": "#2a3f5f",
             "gridcolor": "white",
             "linecolor": "white",
             "minorgridcolor": "white",
             "startlinecolor": "#2a3f5f"
            },
            "type": "carpet"
           }
          ],
          "choropleth": [
           {
            "colorbar": {
             "outlinewidth": 0,
             "ticks": ""
            },
            "type": "choropleth"
           }
          ],
          "contour": [
           {
            "colorbar": {
             "outlinewidth": 0,
             "ticks": ""
            },
            "colorscale": [
             [
              0,
              "#0d0887"
             ],
             [
              0.1111111111111111,
              "#46039f"
             ],
             [
              0.2222222222222222,
              "#7201a8"
             ],
             [
              0.3333333333333333,
              "#9c179e"
             ],
             [
              0.4444444444444444,
              "#bd3786"
             ],
             [
              0.5555555555555556,
              "#d8576b"
             ],
             [
              0.6666666666666666,
              "#ed7953"
             ],
             [
              0.7777777777777778,
              "#fb9f3a"
             ],
             [
              0.8888888888888888,
              "#fdca26"
             ],
             [
              1,
              "#f0f921"
             ]
            ],
            "type": "contour"
           }
          ],
          "contourcarpet": [
           {
            "colorbar": {
             "outlinewidth": 0,
             "ticks": ""
            },
            "type": "contourcarpet"
           }
          ],
          "heatmap": [
           {
            "colorbar": {
             "outlinewidth": 0,
             "ticks": ""
            },
            "colorscale": [
             [
              0,
              "#0d0887"
             ],
             [
              0.1111111111111111,
              "#46039f"
             ],
             [
              0.2222222222222222,
              "#7201a8"
             ],
             [
              0.3333333333333333,
              "#9c179e"
             ],
             [
              0.4444444444444444,
              "#bd3786"
             ],
             [
              0.5555555555555556,
              "#d8576b"
             ],
             [
              0.6666666666666666,
              "#ed7953"
             ],
             [
              0.7777777777777778,
              "#fb9f3a"
             ],
             [
              0.8888888888888888,
              "#fdca26"
             ],
             [
              1,
              "#f0f921"
             ]
            ],
            "type": "heatmap"
           }
          ],
          "heatmapgl": [
           {
            "colorbar": {
             "outlinewidth": 0,
             "ticks": ""
            },
            "colorscale": [
             [
              0,
              "#0d0887"
             ],
             [
              0.1111111111111111,
              "#46039f"
             ],
             [
              0.2222222222222222,
              "#7201a8"
             ],
             [
              0.3333333333333333,
              "#9c179e"
             ],
             [
              0.4444444444444444,
              "#bd3786"
             ],
             [
              0.5555555555555556,
              "#d8576b"
             ],
             [
              0.6666666666666666,
              "#ed7953"
             ],
             [
              0.7777777777777778,
              "#fb9f3a"
             ],
             [
              0.8888888888888888,
              "#fdca26"
             ],
             [
              1,
              "#f0f921"
             ]
            ],
            "type": "heatmapgl"
           }
          ],
          "histogram": [
           {
            "marker": {
             "pattern": {
              "fillmode": "overlay",
              "size": 10,
              "solidity": 0.2
             }
            },
            "type": "histogram"
           }
          ],
          "histogram2d": [
           {
            "colorbar": {
             "outlinewidth": 0,
             "ticks": ""
            },
            "colorscale": [
             [
              0,
              "#0d0887"
             ],
             [
              0.1111111111111111,
              "#46039f"
             ],
             [
              0.2222222222222222,
              "#7201a8"
             ],
             [
              0.3333333333333333,
              "#9c179e"
             ],
             [
              0.4444444444444444,
              "#bd3786"
             ],
             [
              0.5555555555555556,
              "#d8576b"
             ],
             [
              0.6666666666666666,
              "#ed7953"
             ],
             [
              0.7777777777777778,
              "#fb9f3a"
             ],
             [
              0.8888888888888888,
              "#fdca26"
             ],
             [
              1,
              "#f0f921"
             ]
            ],
            "type": "histogram2d"
           }
          ],
          "histogram2dcontour": [
           {
            "colorbar": {
             "outlinewidth": 0,
             "ticks": ""
            },
            "colorscale": [
             [
              0,
              "#0d0887"
             ],
             [
              0.1111111111111111,
              "#46039f"
             ],
             [
              0.2222222222222222,
              "#7201a8"
             ],
             [
              0.3333333333333333,
              "#9c179e"
             ],
             [
              0.4444444444444444,
              "#bd3786"
             ],
             [
              0.5555555555555556,
              "#d8576b"
             ],
             [
              0.6666666666666666,
              "#ed7953"
             ],
             [
              0.7777777777777778,
              "#fb9f3a"
             ],
             [
              0.8888888888888888,
              "#fdca26"
             ],
             [
              1,
              "#f0f921"
             ]
            ],
            "type": "histogram2dcontour"
           }
          ],
          "mesh3d": [
           {
            "colorbar": {
             "outlinewidth": 0,
             "ticks": ""
            },
            "type": "mesh3d"
           }
          ],
          "parcoords": [
           {
            "line": {
             "colorbar": {
              "outlinewidth": 0,
              "ticks": ""
             }
            },
            "type": "parcoords"
           }
          ],
          "pie": [
           {
            "automargin": true,
            "type": "pie"
           }
          ],
          "scatter": [
           {
            "fillpattern": {
             "fillmode": "overlay",
             "size": 10,
             "solidity": 0.2
            },
            "type": "scatter"
           }
          ],
          "scatter3d": [
           {
            "line": {
             "colorbar": {
              "outlinewidth": 0,
              "ticks": ""
             }
            },
            "marker": {
             "colorbar": {
              "outlinewidth": 0,
              "ticks": ""
             }
            },
            "type": "scatter3d"
           }
          ],
          "scattercarpet": [
           {
            "marker": {
             "colorbar": {
              "outlinewidth": 0,
              "ticks": ""
             }
            },
            "type": "scattercarpet"
           }
          ],
          "scattergeo": [
           {
            "marker": {
             "colorbar": {
              "outlinewidth": 0,
              "ticks": ""
             }
            },
            "type": "scattergeo"
           }
          ],
          "scattergl": [
           {
            "marker": {
             "colorbar": {
              "outlinewidth": 0,
              "ticks": ""
             }
            },
            "type": "scattergl"
           }
          ],
          "scattermapbox": [
           {
            "marker": {
             "colorbar": {
              "outlinewidth": 0,
              "ticks": ""
             }
            },
            "type": "scattermapbox"
           }
          ],
          "scatterpolar": [
           {
            "marker": {
             "colorbar": {
              "outlinewidth": 0,
              "ticks": ""
             }
            },
            "type": "scatterpolar"
           }
          ],
          "scatterpolargl": [
           {
            "marker": {
             "colorbar": {
              "outlinewidth": 0,
              "ticks": ""
             }
            },
            "type": "scatterpolargl"
           }
          ],
          "scatterternary": [
           {
            "marker": {
             "colorbar": {
              "outlinewidth": 0,
              "ticks": ""
             }
            },
            "type": "scatterternary"
           }
          ],
          "surface": [
           {
            "colorbar": {
             "outlinewidth": 0,
             "ticks": ""
            },
            "colorscale": [
             [
              0,
              "#0d0887"
             ],
             [
              0.1111111111111111,
              "#46039f"
             ],
             [
              0.2222222222222222,
              "#7201a8"
             ],
             [
              0.3333333333333333,
              "#9c179e"
             ],
             [
              0.4444444444444444,
              "#bd3786"
             ],
             [
              0.5555555555555556,
              "#d8576b"
             ],
             [
              0.6666666666666666,
              "#ed7953"
             ],
             [
              0.7777777777777778,
              "#fb9f3a"
             ],
             [
              0.8888888888888888,
              "#fdca26"
             ],
             [
              1,
              "#f0f921"
             ]
            ],
            "type": "surface"
           }
          ],
          "table": [
           {
            "cells": {
             "fill": {
              "color": "#EBF0F8"
             },
             "line": {
              "color": "white"
             }
            },
            "header": {
             "fill": {
              "color": "#C8D4E3"
             },
             "line": {
              "color": "white"
             }
            },
            "type": "table"
           }
          ]
         },
         "layout": {
          "annotationdefaults": {
           "arrowcolor": "#2a3f5f",
           "arrowhead": 0,
           "arrowwidth": 1
          },
          "autotypenumbers": "strict",
          "coloraxis": {
           "colorbar": {
            "outlinewidth": 0,
            "ticks": ""
           }
          },
          "colorscale": {
           "diverging": [
            [
             0,
             "#8e0152"
            ],
            [
             0.1,
             "#c51b7d"
            ],
            [
             0.2,
             "#de77ae"
            ],
            [
             0.3,
             "#f1b6da"
            ],
            [
             0.4,
             "#fde0ef"
            ],
            [
             0.5,
             "#f7f7f7"
            ],
            [
             0.6,
             "#e6f5d0"
            ],
            [
             0.7,
             "#b8e186"
            ],
            [
             0.8,
             "#7fbc41"
            ],
            [
             0.9,
             "#4d9221"
            ],
            [
             1,
             "#276419"
            ]
           ],
           "sequential": [
            [
             0,
             "#0d0887"
            ],
            [
             0.1111111111111111,
             "#46039f"
            ],
            [
             0.2222222222222222,
             "#7201a8"
            ],
            [
             0.3333333333333333,
             "#9c179e"
            ],
            [
             0.4444444444444444,
             "#bd3786"
            ],
            [
             0.5555555555555556,
             "#d8576b"
            ],
            [
             0.6666666666666666,
             "#ed7953"
            ],
            [
             0.7777777777777778,
             "#fb9f3a"
            ],
            [
             0.8888888888888888,
             "#fdca26"
            ],
            [
             1,
             "#f0f921"
            ]
           ],
           "sequentialminus": [
            [
             0,
             "#0d0887"
            ],
            [
             0.1111111111111111,
             "#46039f"
            ],
            [
             0.2222222222222222,
             "#7201a8"
            ],
            [
             0.3333333333333333,
             "#9c179e"
            ],
            [
             0.4444444444444444,
             "#bd3786"
            ],
            [
             0.5555555555555556,
             "#d8576b"
            ],
            [
             0.6666666666666666,
             "#ed7953"
            ],
            [
             0.7777777777777778,
             "#fb9f3a"
            ],
            [
             0.8888888888888888,
             "#fdca26"
            ],
            [
             1,
             "#f0f921"
            ]
           ]
          },
          "colorway": [
           "#636efa",
           "#EF553B",
           "#00cc96",
           "#ab63fa",
           "#FFA15A",
           "#19d3f3",
           "#FF6692",
           "#B6E880",
           "#FF97FF",
           "#FECB52"
          ],
          "font": {
           "color": "#2a3f5f"
          },
          "geo": {
           "bgcolor": "white",
           "lakecolor": "white",
           "landcolor": "#E5ECF6",
           "showlakes": true,
           "showland": true,
           "subunitcolor": "white"
          },
          "hoverlabel": {
           "align": "left"
          },
          "hovermode": "closest",
          "mapbox": {
           "style": "light"
          },
          "paper_bgcolor": "white",
          "plot_bgcolor": "#E5ECF6",
          "polar": {
           "angularaxis": {
            "gridcolor": "white",
            "linecolor": "white",
            "ticks": ""
           },
           "bgcolor": "#E5ECF6",
           "radialaxis": {
            "gridcolor": "white",
            "linecolor": "white",
            "ticks": ""
           }
          },
          "scene": {
           "xaxis": {
            "backgroundcolor": "#E5ECF6",
            "gridcolor": "white",
            "gridwidth": 2,
            "linecolor": "white",
            "showbackground": true,
            "ticks": "",
            "zerolinecolor": "white"
           },
           "yaxis": {
            "backgroundcolor": "#E5ECF6",
            "gridcolor": "white",
            "gridwidth": 2,
            "linecolor": "white",
            "showbackground": true,
            "ticks": "",
            "zerolinecolor": "white"
           },
           "zaxis": {
            "backgroundcolor": "#E5ECF6",
            "gridcolor": "white",
            "gridwidth": 2,
            "linecolor": "white",
            "showbackground": true,
            "ticks": "",
            "zerolinecolor": "white"
           }
          },
          "shapedefaults": {
           "line": {
            "color": "#2a3f5f"
           }
          },
          "ternary": {
           "aaxis": {
            "gridcolor": "white",
            "linecolor": "white",
            "ticks": ""
           },
           "baxis": {
            "gridcolor": "white",
            "linecolor": "white",
            "ticks": ""
           },
           "bgcolor": "#E5ECF6",
           "caxis": {
            "gridcolor": "white",
            "linecolor": "white",
            "ticks": ""
           }
          },
          "title": {
           "x": 0.05
          },
          "xaxis": {
           "automargin": true,
           "gridcolor": "white",
           "linecolor": "white",
           "ticks": "",
           "title": {
            "standoff": 15
           },
           "zerolinecolor": "white",
           "zerolinewidth": 2
          },
          "yaxis": {
           "automargin": true,
           "gridcolor": "white",
           "linecolor": "white",
           "ticks": "",
           "title": {
            "standoff": 15
           },
           "zerolinecolor": "white",
           "zerolinewidth": 2
          }
         }
        },
        "width": 750
       }
      }
     },
     "metadata": {},
     "output_type": "display_data"
    }
   ],
   "source": [
    "# Map patterns to icosahedron\n",
    "\n",
    "icosphere_coords, icosphere_faces = icosphere_base()\n",
    "\n",
    "# to make it a list instead of an np array\n",
    "icosphere_coords = [np.array(x) for x in icosphere_coords]\n",
    "\n",
    "# gets triangle coords from equal area-shifted coods\n",
    "triangle_coords_3d = np.pad(new_coords, ((0, 0), (0, 1)))\n",
    "\n",
    "edge_points = {}\n",
    "\n",
    "icosphere_edges = []\n",
    "\n",
    "for i, face in enumerate(icosphere_faces):\n",
    "    transformed_coords = apply_transform(triangle_coords_3d, transformation_mats_list[i])\n",
    "    base_to_new = [None] * len(triangle_coords)\n",
    "\n",
    "    # Match corner points\n",
    "    for j in range(3):\n",
    "        base_to_new[triangle_corner_points[j]] = face[j]\n",
    "    \n",
    "    # Match edges or add new ones\n",
    "    for edge, points in triangle_edge_points.items():\n",
    "        new_edge = (base_to_new[edge[0]], base_to_new[edge[1]])\n",
    "        if new_edge in edge_points:\n",
    "            new_points = edge_points[new_edge]\n",
    "            for j in range(len(edge_points[new_edge])):\n",
    "                base_to_new[points[j]] = new_points[j]\n",
    "        elif new_edge[::-1] in edge_points:\n",
    "            new_points = edge_points[new_edge[::-1]][::-1]\n",
    "            for j in range(len(edge_points[new_edge[::-1]])):\n",
    "                base_to_new[points[j]] = new_points[j]\n",
    "        else:\n",
    "            edge_points[new_edge] = []\n",
    "            for point in points:\n",
    "                icosphere_coords.append(transformed_coords[point])\n",
    "                base_to_new[point] = len(icosphere_coords) - 1\n",
    "                edge_points[new_edge].append(base_to_new[point])\n",
    "\n",
    "    # Match rest of points\n",
    "    for j in range(len(triangle_coords)):\n",
    "        if base_to_new[j] == None:\n",
    "            icosphere_coords.append(transformed_coords[j])\n",
    "            base_to_new[j] = len(icosphere_coords) - 1\n",
    "\n",
    "    # Create edges\n",
    "    for edge_list in CHOSEN_EDGES:\n",
    "        new_edges = [base_to_new[point] for point in edge_list]\n",
    "        if new_edges not in icosphere_edges and new_edges[::-1] not in icosphere_edges:\n",
    "            icosphere_edges.append(new_edges)\n",
    "\n",
    "icosphere_edges = combine_edges(icosphere_edges)\n",
    "\n",
    "angle = -30 * np.pi/180\n",
    "rotation_mat = np.array([\n",
    "    [1, 0, 0],\n",
    "    [0, np.cos(angle), -np.sin(angle)], \n",
    "    [0, np.sin(angle), np.cos(angle)]\n",
    "])\n",
    " \n",
    "icosphere_coords = (rotation_mat @ np.array(icosphere_coords).T).T\n",
    "\n",
    "spherical_coords = icosphere_coords.copy()\n",
    "for i, coord in enumerate(spherical_coords):\n",
    "    coord_length = (coord[0]**2 + coord[1]**2 + coord[2]**2)**0.5\n",
    "    spherical_coords[i] = coord/coord_length\n",
    "icosphere_coords = spherical_coords\n",
    "\n",
    "show_3d_points(icosphere_coords, icosphere_edges, False)"
   ]
  },
  {
   "cell_type": "code",
   "execution_count": null,
   "metadata": {},
   "outputs": [],
   "source": []
  },
  {
   "cell_type": "code",
   "execution_count": 92,
   "metadata": {},
   "outputs": [],
   "source": [
    "# Make jipcad code\n",
    "\n",
    "with open('icosphere.nom', 'w') as file:\n",
    "\n",
    "    file.write('''\n",
    "bank b\n",
    "    set sphere_radius 1 0.1 3 0.1\n",
    "    set sweep_radius 0.05 0.01 0.5 0.01\n",
    "    set sweep_twist 0 0 360 1\n",
    "    set sweep_azimuth 0 0 360 1\n",
    "    list (sphere_radius sweep_radius sweep_twist sweep_azimuth)\n",
    "endbank\n",
    "''')\n",
    "\n",
    "    for i, point in enumerate(icosphere_coords):\n",
    "        file.write('point pt_{} ({{expr {}*$b.sphere_radius}} {{expr {}*$b.sphere_radius}} {{expr {}*$b.sphere_radius}}) endpoint\\n'.format(i, point[0], point[1], point[2]))\n",
    "    file.write('\\n')\n",
    "\n",
    "    for i, edge in enumerate(icosphere_edges):\n",
    "        file.write('polyline line_{} ('.format(i))\n",
    "        file.write(' '.join(['pt_{}'.format(pt) for pt in edge[:-1]]))\n",
    "        if edge[-1] == edge[0]:\n",
    "            file.write(') closed')\n",
    "        else:\n",
    "            file.write(' pt_{})'.format(edge[-1]))\n",
    "        file.write(' endpolyline\\n')\n",
    "    file.write('\\n')\n",
    "\n",
    "    # CROSS SECTION\n",
    "    file.write('circle ngon ( $b.sweep_radius 6 ) endcircle\\n')\n",
    "\n",
    "    #instance ngon_insance ngon endinstance # debug\n",
    "\n",
    "    # SWEEP\n",
    "    for i, edge in enumerate(icosphere_edges):\n",
    "        file.write('''sweep sweep_{}\n",
    "        crosssection ngon begincap endcap endcrosssection\n",
    "        path line_{} twist $b.sweep_twist azimuth $b.sweep_azimuth mintorsion endpath\n",
    "    endsweep\\n'''.format(i, i))\n",
    "        file.write('instance inst_{} sweep_{} endinstance\\n'.format(i, i))\n",
    "    file.write('\\n')\n"
   ]
  },
  {
   "cell_type": "code",
   "execution_count": null,
   "metadata": {},
   "outputs": [],
   "source": []
  },
  {
   "cell_type": "code",
   "execution_count": null,
   "metadata": {},
   "outputs": [],
   "source": []
  }
 ],
 "metadata": {
  "kernelspec": {
   "display_name": "Python 3.9.0 64-bit",
   "language": "python",
   "name": "python3"
  },
  "language_info": {
   "codemirror_mode": {
    "name": "ipython",
    "version": 3
   },
   "file_extension": ".py",
   "mimetype": "text/x-python",
   "name": "python",
   "nbconvert_exporter": "python",
   "pygments_lexer": "ipython3",
   "version": "3.9.0"
  },
  "orig_nbformat": 4,
  "vscode": {
   "interpreter": {
    "hash": "43c73d4842d5ae8798f4ca5b92dc622f8287e589ef85280143567424aae83768"
   }
  }
 },
 "nbformat": 4,
 "nbformat_minor": 2
}
